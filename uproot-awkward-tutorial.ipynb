{
 "cells": [
  {
   "cell_type": "code",
   "execution_count": 1,
   "id": "69584fef-686a-4292-b574-b83d04300043",
   "metadata": {},
   "outputs": [
    {
     "name": "stdout",
     "output_type": "stream",
     "text": [
      "Welcome to JupyROOT 6.24/00\n"
     ]
    }
   ],
   "source": [
    "import time\n",
    "import numpy as np\n",
    "import ROOT\n",
    "\n",
    "canvas = ROOT.TCanvas()"
   ]
  },
  {
   "cell_type": "code",
   "execution_count": 2,
   "id": "fcc5a088-2488-4dc0-a505-94a58e5c50ab",
   "metadata": {},
   "outputs": [],
   "source": [
    "rootfile = ROOT.TFile.Open(\"data/HiggsZZ4mu.root\")\n",
    "roottree = rootfile.Get(\"Events\")"
   ]
  },
  {
   "cell_type": "code",
   "execution_count": null,
   "id": "bf54100c-9299-4055-a3e9-f904dad177bd",
   "metadata": {},
   "outputs": [],
   "source": [
    "starttime = time.time()\n",
    "\n",
    "roothist = ROOT.TH1D(\"roothist\", \"mass\", 120, 0, 120)\n",
    "\n",
    "for index, event in enumerate(roottree):\n",
    "    # Applying cuts means if-statements.\n",
    "    if event.nMuon >= 2 and event.Muon_charge[0] + event.Muon_charge[1] == 0:\n",
    "        mu1_pt = event.Muon_pt[0]\n",
    "        mu2_pt = event.Muon_pt[1]\n",
    "        mu1_eta = event.Muon_eta[0]\n",
    "        mu2_eta = event.Muon_eta[1]\n",
    "        mu1_phi = event.Muon_phi[0]\n",
    "        mu2_phi = event.Muon_phi[1]\n",
    "        roothist.Fill(\n",
    "            np.sqrt(2*mu1_pt*mu2_pt*(np.cosh(mu1_eta - mu2_eta) - np.cos(mu1_phi - mu2_phi)))\n",
    "        )\n",
    "\n",
    "pyroot_time = time.time() - starttime\n",
    "print(f\"total time: {pyroot_time} sec\")"
   ]
  },
  {
   "cell_type": "code",
   "execution_count": null,
   "id": "70f7ff13-cc46-479b-9941-d92a7d6f17f8",
   "metadata": {},
   "outputs": [],
   "source": [
    "roothist.Draw()\n",
    "canvas.Draw()"
   ]
  },
  {
   "cell_type": "code",
   "execution_count": null,
   "id": "db10d15c-3040-46d7-b364-a1d29de01829",
   "metadata": {},
   "outputs": [],
   "source": [
    "ROOT.gInterpreter.Declare('''\n",
    "void compute(TH1D& roothist, TTree& roottree) {\n",
    "    UInt_t nMuon;\n",
    "    float Muon_pt[50];\n",
    "    float Muon_eta[50];\n",
    "    float Muon_phi[50];\n",
    "    int32_t Muon_charge[50];\n",
    "\n",
    "    roottree.SetBranchStatus(\"*\", 0);\n",
    "    roottree.SetBranchStatus(\"nMuon\", 1);\n",
    "    roottree.SetBranchStatus(\"Muon_pt\", 1);\n",
    "    roottree.SetBranchStatus(\"Muon_eta\", 1);\n",
    "    roottree.SetBranchStatus(\"Muon_phi\", 1);\n",
    "    roottree.SetBranchStatus(\"Muon_charge\", 1);\n",
    "\n",
    "    roottree.SetBranchAddress(\"nMuon\", &nMuon);\n",
    "    roottree.SetBranchAddress(\"Muon_pt\", Muon_pt);\n",
    "    roottree.SetBranchAddress(\"Muon_eta\", Muon_eta);\n",
    "    roottree.SetBranchAddress(\"Muon_phi\", Muon_phi);\n",
    "    roottree.SetBranchAddress(\"Muon_charge\", Muon_charge);\n",
    "\n",
    "    for (int index = 0; index < 100000; index++) {\n",
    "        roottree.GetEntry(index);\n",
    "        if (nMuon >= 2 && Muon_charge[0] + Muon_charge[1] == 0) {\n",
    "            float mu1_pt = Muon_pt[0];\n",
    "            float mu2_pt = Muon_pt[1];\n",
    "            float mu1_eta = Muon_eta[0];\n",
    "            float mu2_eta = Muon_eta[1];\n",
    "            float mu1_phi = Muon_phi[0];\n",
    "            float mu2_phi = Muon_phi[1];\n",
    "            roothist.Fill(\n",
    "                sqrt(2*mu1_pt*mu2_pt*(cosh(mu1_eta - mu2_eta) - cos(mu1_phi - mu2_phi)))\n",
    "            );\n",
    "        }\n",
    "    }\n",
    "}\n",
    "''')"
   ]
  },
  {
   "cell_type": "code",
   "execution_count": null,
   "id": "43265ef2-14c4-4979-81d1-563ab6d7d8f4",
   "metadata": {},
   "outputs": [],
   "source": [
    "starttime = time.time()\n",
    "\n",
    "roothist2 = ROOT.TH1D(\"roothist2\", \"mass\", 120, 0, 120)\n",
    "\n",
    "ROOT.compute(roothist2, roottree)\n",
    "\n",
    "cpproot_time = time.time() - starttime\n",
    "print(f\"total time: {cpproot_time} sec\")"
   ]
  },
  {
   "cell_type": "code",
   "execution_count": null,
   "id": "d5a20bdf-3a3c-4767-85b6-26bc37ebcdea",
   "metadata": {},
   "outputs": [],
   "source": [
    "pyroot_time / cpproot_time"
   ]
  },
  {
   "cell_type": "code",
   "execution_count": null,
   "id": "2de975f3-9e2c-4f82-adfb-d2b530ae8e4a",
   "metadata": {},
   "outputs": [],
   "source": [
    "roothist2.Draw()\n",
    "canvas.Draw()"
   ]
  },
  {
   "cell_type": "markdown",
   "id": "da2f4e44-9061-49c8-9fac-70a7722cf5dd",
   "metadata": {},
   "source": [
    "<img src=\"img/rdataframe-flow.svg\" style=\"width: 800px\">"
   ]
  },
  {
   "cell_type": "code",
   "execution_count": null,
   "id": "c66bd859-ce83-43c3-b05a-551e1d3836c3",
   "metadata": {},
   "outputs": [],
   "source": [
    "df = ROOT.RDataFrame(\"Events\", \"data/HiggsZZ4mu.root\")\n",
    "\n",
    "# Each node is connected to the previous, in a chain (which can split and recombine).\n",
    "df_2mu = df.Filter(\"nMuon >= 2\")\n",
    "df_os = df_2mu.Filter(\"Muon_charge[0] + Muon_charge[1] == 0\")\n",
    "\n",
    "# This node is a big C++ block.\n",
    "df_mass = df_os.Define(\"Dimuon_mass\", '''\n",
    "float mu1_pt = Muon_pt[0];\n",
    "float mu2_pt = Muon_pt[1];\n",
    "float mu1_eta = Muon_eta[0];\n",
    "float mu2_eta = Muon_eta[1];\n",
    "float mu1_phi = Muon_phi[0];\n",
    "float mu2_phi = Muon_phi[1];\n",
    "return sqrt(2*mu1_pt*mu2_pt*(cosh(mu1_eta - mu2_eta) - cos(mu1_phi - mu2_phi)));\n",
    "''')"
   ]
  },
  {
   "cell_type": "code",
   "execution_count": null,
   "id": "ce89cea2-50c7-425c-ab60-75a94e027404",
   "metadata": {},
   "outputs": [],
   "source": [
    "starttime = time.time()\n",
    "\n",
    "# This one is an endpoint (action).\n",
    "roothist3 = df_mass.Histo1D((\"h3\", \"mass\", 120, 0, 120), \"Dimuon_mass\")\n",
    "\n",
    "rdfroot_time = time.time() - starttime\n",
    "print(f\"total time: {rdfroot_time} sec\")"
   ]
  },
  {
   "cell_type": "code",
   "execution_count": null,
   "id": "2fe35303-5881-44c8-8b5e-77b1816e38e3",
   "metadata": {},
   "outputs": [],
   "source": [
    "pyroot_time / rdfroot_time"
   ]
  },
  {
   "cell_type": "code",
   "execution_count": null,
   "id": "8791d881-bcb0-4282-aae2-1155decc07eb",
   "metadata": {},
   "outputs": [],
   "source": [
    "roothist3.Draw()\n",
    "canvas.Draw()"
   ]
  },
  {
   "cell_type": "code",
   "execution_count": 3,
   "id": "ec394a10-cdf5-4cd7-81c1-d39841b267fb",
   "metadata": {},
   "outputs": [],
   "source": [
    "import awkward as ak\n",
    "import uproot\n",
    "import hist"
   ]
  },
  {
   "cell_type": "code",
   "execution_count": null,
   "id": "1075396f-916b-45a7-9b88-4a453407b16f",
   "metadata": {},
   "outputs": [],
   "source": [
    "events = uproot.open(\"data/HiggsZZ4mu.root:Events\")\n",
    "events.show()"
   ]
  },
  {
   "cell_type": "code",
   "execution_count": null,
   "id": "8c643a83-5f16-4541-8894-ca85fa07d0e4",
   "metadata": {},
   "outputs": [],
   "source": [
    "muons = events.arrays(\n",
    "    [\"pt\", \"eta\", \"phi\", \"charge\"],\n",
    "    aliases={\"pt\": \"Muon_pt\", \"eta\": \"Muon_eta\", \"phi\": \"Muon_phi\", \"charge\": \"Muon_charge\"}\n",
    ")\n",
    "muons"
   ]
  },
  {
   "cell_type": "code",
   "execution_count": null,
   "id": "4d6249f5-9814-4f38-9f74-6fb7b1b9f9c7",
   "metadata": {},
   "outputs": [],
   "source": [
    "cut = (ak.num(muons.charge) >= 2) & (ak.sum(muons.charge[:, :2], axis=1) == 0)\n",
    "cut"
   ]
  },
  {
   "cell_type": "code",
   "execution_count": null,
   "id": "446bd12e-56ed-4e58-8c4a-fd349f6797d4",
   "metadata": {},
   "outputs": [],
   "source": [
    "mu1 = muons[cut, 0]\n",
    "mu2 = muons[cut, 1]\n",
    "mu1, mu2"
   ]
  },
  {
   "cell_type": "code",
   "execution_count": null,
   "id": "119f78f7-ccfb-49bf-a221-021b9ab88eb9",
   "metadata": {},
   "outputs": [],
   "source": [
    "h = hist.Hist.new.Reg(120, 0, 120, name=\"mass\").Double()\n",
    "h"
   ]
  },
  {
   "cell_type": "code",
   "execution_count": null,
   "id": "3ab6f7ab-7286-4f56-948f-44a2e8cfec8b",
   "metadata": {},
   "outputs": [],
   "source": [
    "h.fill(np.sqrt(2*mu1.pt*mu2.pt*(np.cosh(mu1.eta - mu2.eta) - np.cos(mu1.phi - mu2.phi))))"
   ]
  },
  {
   "cell_type": "code",
   "execution_count": 4,
   "id": "b6844c2f-8fc0-4e51-bf42-842b49be43b5",
   "metadata": {},
   "outputs": [],
   "source": [
    "import matplotlib.pyplot as plt"
   ]
  },
  {
   "cell_type": "code",
   "execution_count": null,
   "id": "03238db7-e4ba-4494-961d-f072b71507ca",
   "metadata": {},
   "outputs": [],
   "source": [
    "h.plot();"
   ]
  },
  {
   "cell_type": "code",
   "execution_count": null,
   "id": "2701fca4-602b-4a97-9f74-2dcd7ecc9f24",
   "metadata": {},
   "outputs": [],
   "source": [
    "starttime = time.time()\n",
    "\n",
    "# read data\n",
    "muons = events.arrays(\n",
    "    [\"pt\", \"eta\", \"phi\", \"charge\"],\n",
    "    aliases={\"pt\": \"Muon_pt\", \"eta\": \"Muon_eta\", \"phi\": \"Muon_phi\", \"charge\": \"Muon_charge\"},\n",
    "    array_cache=None,   # no cheating!\n",
    ")\n",
    "\n",
    "# compute\n",
    "cut = (ak.num(muons.charge) >= 2) & (ak.sum(muons.charge[:, :2], axis=1) == 0)\n",
    "mu1 = muons[cut, 0]\n",
    "mu2 = muons[cut, 1]\n",
    "h = hist.Hist.new.Reg(120, 0, 120, name=\"mass\").Double()\n",
    "h.fill(np.sqrt(2*mu1.pt*mu2.pt*(np.cosh(mu1.eta - mu2.eta) - np.cos(mu1.phi - mu2.phi))))\n",
    "\n",
    "uproot_time = time.time() - starttime\n",
    "print(f\"total time: {uproot_time} sec\")"
   ]
  },
  {
   "cell_type": "code",
   "execution_count": null,
   "id": "dbd4249f-637e-4f91-80d4-6f5696ea7964",
   "metadata": {},
   "outputs": [],
   "source": [
    "pyroot_time / uproot_time"
   ]
  },
  {
   "cell_type": "markdown",
   "id": "55dc1c65-a3cf-4e8d-8f4c-eef4eb6c37d6",
   "metadata": {},
   "source": [
    "<img src=\"img/terminology.svg\" style=\"width: 800px\">"
   ]
  },
  {
   "cell_type": "code",
   "execution_count": null,
   "id": "3896e3fd-62e4-46f2-92e3-e74936fff83a",
   "metadata": {},
   "outputs": [],
   "source": [
    "histograms = uproot.open(\"data/HiggsZZ4mu_histograms.root\")"
   ]
  },
  {
   "cell_type": "code",
   "execution_count": null,
   "id": "9d8138f3-283a-43cb-9353-a11991d1ef9e",
   "metadata": {},
   "outputs": [],
   "source": [
    "histograms.keys()"
   ]
  },
  {
   "cell_type": "code",
   "execution_count": null,
   "id": "431706f9-61dc-4bb6-ae1e-9a12c6c3f609",
   "metadata": {},
   "outputs": [],
   "source": [
    "histograms[\"Z/all/massZto2muon\"].to_hist().plot()"
   ]
  },
  {
   "cell_type": "code",
   "execution_count": null,
   "id": "15ff6879-8241-4d37-b2c6-14849b31d069",
   "metadata": {},
   "outputs": [],
   "source": [
    "# find the 2D histogram and plot it"
   ]
  },
  {
   "cell_type": "code",
   "execution_count": null,
   "id": "61cf7763-2915-49b3-bd6d-c01fa1d68b25",
   "metadata": {},
   "outputs": [],
   "source": [
    "icecube = uproot.open(\"data/icecube-supernovae.root\")\n",
    "icecube.keys()"
   ]
  },
  {
   "cell_type": "code",
   "execution_count": null,
   "id": "1be6bf8d-c4e5-4cee-ad97-467589775a91",
   "metadata": {},
   "outputs": [],
   "source": [
    "icecube.classname_of(\"config/detector\")"
   ]
  },
  {
   "cell_type": "code",
   "execution_count": null,
   "id": "fe251213-5296-4823-bbc4-ed32bfa7cc2b",
   "metadata": {},
   "outputs": [],
   "source": [
    "icecube.file.show_streamers(\"I3Eval_t\")"
   ]
  },
  {
   "cell_type": "code",
   "execution_count": null,
   "id": "59081442-001a-4661-b995-d338709c792c",
   "metadata": {},
   "outputs": [],
   "source": [
    "icecube[\"config/detector\"]"
   ]
  },
  {
   "cell_type": "code",
   "execution_count": null,
   "id": "3304566b-4f6f-4564-ab72-d9d90487545f",
   "metadata": {},
   "outputs": [],
   "source": [
    "icecube[\"config/detector\"].all_members"
   ]
  },
  {
   "cell_type": "code",
   "execution_count": null,
   "id": "53b7327b-7d84-461d-9e4d-07df009f9b5e",
   "metadata": {},
   "outputs": [],
   "source": [
    "icecube[\"config/detector\"].member(\"ChannelIDMap\")"
   ]
  },
  {
   "cell_type": "code",
   "execution_count": null,
   "id": "c5fee4df-e1e5-4c6e-9db5-13973f071762",
   "metadata": {},
   "outputs": [],
   "source": [
    "zmumu_file = uproot.open(\"data/Zmumu.root\")\n",
    "zmumu_file.keys()"
   ]
  },
  {
   "cell_type": "code",
   "execution_count": null,
   "id": "a8d0d736-f63d-4ef0-957b-c1d950ea7424",
   "metadata": {},
   "outputs": [],
   "source": [
    "zmumu = zmumu_file[\"events\"]\n",
    "zmumu.show()"
   ]
  },
  {
   "cell_type": "code",
   "execution_count": null,
   "id": "6cd887be-e622-425f-96f6-43e60c32a893",
   "metadata": {},
   "outputs": [],
   "source": [
    "zmumu.keys()"
   ]
  },
  {
   "cell_type": "code",
   "execution_count": null,
   "id": "7522b7ec-2bcb-46f3-ad8e-98b3ca430537",
   "metadata": {},
   "outputs": [],
   "source": [
    "zmumu.keys(filter_typename=\"/int.*/\")"
   ]
  },
  {
   "cell_type": "code",
   "execution_count": null,
   "id": "8be42444-d5fb-41ba-a128-fe336343424c",
   "metadata": {},
   "outputs": [],
   "source": [
    "zmumu.typenames()"
   ]
  },
  {
   "cell_type": "code",
   "execution_count": null,
   "id": "a4bfcef4-94f0-433c-aea6-d405f94636b6",
   "metadata": {},
   "outputs": [],
   "source": [
    "{name: branch.interpretation for name, branch in zmumu.items()}"
   ]
  },
  {
   "cell_type": "code",
   "execution_count": null,
   "id": "d7d915ad-6a25-4585-87a5-7afe9a49a100",
   "metadata": {},
   "outputs": [],
   "source": [
    "zmumu[\"M\"].array()"
   ]
  },
  {
   "cell_type": "markdown",
   "id": "325cbb3e-c108-4d8e-b2c6-0211160e68d3",
   "metadata": {},
   "source": [
    "Some important parameters:\n",
    "\n",
    "   * `entry_start`, `entry_stop` to limit how much you read (if it's big)\n",
    "   * `library=\"np\"` for NumPy arrays, `library=\"ak\"` for Awkward Arrays, and `library=\"pd\"` for Pandas (Series or DataFrame)"
   ]
  },
  {
   "cell_type": "code",
   "execution_count": null,
   "id": "ccd6ef30-d431-4a45-be43-2b3698a7a86e",
   "metadata": {},
   "outputs": [],
   "source": [
    "zmumu[\"M\"].array(entry_stop=5)"
   ]
  },
  {
   "cell_type": "code",
   "execution_count": null,
   "id": "59f56180-6477-43d6-8216-69fa396d2312",
   "metadata": {},
   "outputs": [],
   "source": [
    "zmumu[\"M\"].array(library=\"np\")"
   ]
  },
  {
   "cell_type": "code",
   "execution_count": null,
   "id": "a2c5533b-f9df-491b-abe6-2a538bd5611e",
   "metadata": {},
   "outputs": [],
   "source": [
    "zmumu[\"M\"].array(library=\"ak\")   # default"
   ]
  },
  {
   "cell_type": "code",
   "execution_count": null,
   "id": "31c8a24c-e187-4ef9-836e-714afa3c457d",
   "metadata": {},
   "outputs": [],
   "source": [
    "zmumu[\"M\"].array(library=\"pd\")"
   ]
  },
  {
   "cell_type": "code",
   "execution_count": null,
   "id": "e4a46344-1940-4ab9-8fcc-ad2c5120a319",
   "metadata": {},
   "outputs": [],
   "source": [
    "zmumu.arrays()"
   ]
  },
  {
   "cell_type": "code",
   "execution_count": null,
   "id": "0fc308b4-ba85-47e3-acb3-eadbf0e76892",
   "metadata": {},
   "outputs": [],
   "source": [
    "zmumu.arrays(library=\"np\")"
   ]
  },
  {
   "cell_type": "code",
   "execution_count": null,
   "id": "c482b7a0-0de4-48b5-9e29-7a3667020df8",
   "metadata": {},
   "outputs": [],
   "source": [
    "zmumu.arrays(library=\"pd\")"
   ]
  },
  {
   "cell_type": "code",
   "execution_count": null,
   "id": "b7e404bb-2b24-4981-9935-9af2d7c2fc5d",
   "metadata": {},
   "outputs": [],
   "source": [
    "zmumu.arrays([\"px1\", \"py1\", \"px2\", \"py2\"], library=\"pd\")"
   ]
  },
  {
   "cell_type": "markdown",
   "id": "1f9fa768-c6a2-46e0-b942-dc07f1434e23",
   "metadata": {},
   "source": [
    "Or it can be computed expressions."
   ]
  },
  {
   "cell_type": "code",
   "execution_count": null,
   "id": "2cb82ff5-8321-4419-8045-0e4dd373818c",
   "metadata": {},
   "outputs": [],
   "source": [
    "zmumu.arrays([\"sqrt(px1**2 + py1**2)\", \"sqrt(px2**2 + py2**2)\"], library=\"pd\")"
   ]
  },
  {
   "cell_type": "markdown",
   "id": "1a0a7926-e289-4c3e-b930-653513745411",
   "metadata": {},
   "source": [
    "This is to support any [aliases](https://uproot.readthedocs.io/en/latest/uproot.behaviors.TTree.TTree.html#aliases) that might be in the [TTree](https://uproot.readthedocs.io/en/latest/uproot.behaviors.TTree.TTree.html), but you can make up your own `aliases` on the spot."
   ]
  },
  {
   "cell_type": "code",
   "execution_count": null,
   "id": "db41b97d-4e2c-4c06-9466-6002a4dec852",
   "metadata": {},
   "outputs": [],
   "source": [
    "zmumu.arrays([\"pt1\", \"pt2\"], {\"pt1\": \"sqrt(px1**2 + py1**2)\", \"pt2\": \"sqrt(px2**2 + py2**2)\"}, library=\"pd\")"
   ]
  },
  {
   "cell_type": "markdown",
   "id": "d7991201-316c-42ea-a8ca-a2f402b35cf4",
   "metadata": {},
   "source": [
    "The `expressions` parameter is not a good way to select branches by name.\n",
    "\n",
    "   * nested branches, paths with \"`/`\", _would be interpreted as division!_\n",
    "   * wildcards, paths with \"`*`\", _would be interpreted as multiplication!_\n",
    "\n",
    "To select branches by name, use `filter_name`, `filter_typename`, `filter_branch` (all in the [arrays](https://uproot.readthedocs.io/en/latest/uproot.behaviors.TBranch.HasBranches.html#arrays) documentation)."
   ]
  },
  {
   "cell_type": "code",
   "execution_count": null,
   "id": "d7b358b3-e145-4f2d-b2af-469dc99fcaf4",
   "metadata": {},
   "outputs": [],
   "source": [
    "zmumu.arrays(filter_name=\"p[xyz]*\", library=\"pd\")"
   ]
  },
  {
   "cell_type": "markdown",
   "id": "fc07273c-d8ee-4623-86b5-79a8413353ec",
   "metadata": {},
   "source": [
    "(These filters have the same meaning as in [keys](https://uproot.readthedocs.io/en/latest/uproot.behaviors.TBranch.HasBranches.html#keys) and [typenames](https://uproot.readthedocs.io/en/latest/uproot.behaviors.TBranch.HasBranches.html#typenames), but those methods do not read potentially large datasets.)"
   ]
  },
  {
   "cell_type": "code",
   "execution_count": null,
   "id": "f2f451f2-0820-4271-a4d4-46ce8ada0f47",
   "metadata": {},
   "outputs": [],
   "source": [
    "zmumu.keys(filter_name=\"p[xyz]*\")"
   ]
  },
  {
   "cell_type": "code",
   "execution_count": null,
   "id": "95c299dc-9b50-4547-9d17-c1b5151c1393",
   "metadata": {},
   "outputs": [],
   "source": [
    "zmumu.typenames(filter_name=\"p[xyz]*\")"
   ]
  },
  {
   "cell_type": "markdown",
   "id": "da6e82bc-bc61-4382-8e0f-7131166545f4",
   "metadata": {},
   "source": [
    "<br><br><br>\n",
    "\n",
    "### Get arrays in manageable chunks\n",
    "\n",
    "The [iterate](https://uproot.readthedocs.io/en/latest/uproot.behaviors.TBranch.HasBranches.html#iterate) method is like [arrays](https://uproot.readthedocs.io/en/latest/uproot.behaviors.TBranch.HasBranches.html#arrays), but it can be used in a loop over chunks of the array.\n",
    "\n",
    "How large are the chunks? You should set that with `step_size`."
   ]
  },
  {
   "cell_type": "code",
   "execution_count": null,
   "id": "e7d1a3e3-f486-484b-a9ea-70864367228a",
   "metadata": {},
   "outputs": [],
   "source": [
    "for arrays in zmumu.iterate(step_size=300):\n",
    "    print(repr(arrays))"
   ]
  },
  {
   "cell_type": "code",
   "execution_count": null,
   "id": "0cf2e7a6-f49f-4b5c-ae1f-b69d80cdc1d7",
   "metadata": {},
   "outputs": [],
   "source": [
    "for arrays in zmumu.iterate(step_size=\"50 kB\"):   # 50 kB is very small! for illustrative purposes only!\n",
    "    print(repr(arrays))"
   ]
  },
  {
   "cell_type": "markdown",
   "id": "a6c0a371-8862-40f2-9e99-3e2630681f86",
   "metadata": {},
   "source": [
    "<br><br><br>\n",
    "\n",
    "### Collections of files (like TChain)\n",
    "\n",
    "If you want to read a bunch of files in one call, it has to be a function, rather than a method of [TTree](https://uproot.readthedocs.io/en/latest/uproot.behaviors.TTree.TTree.html).\n",
    "\n",
    "   * The equivalent of [TTree](https://uproot.readthedocs.io/en/latest/uproot.behaviors.TTree.TTree.html) [arrays](https://uproot.readthedocs.io/en/latest/uproot.behaviors.TTree.TTree.html#arrays) is [uproot.concatenate](https://uproot.readthedocs.io/en/latest/uproot.behaviors.TBranch.concatenate.html). _(Reads everything at once: use this as a convenience on datasets you know are small!)_\n",
    "   * The equivalent of [TTree](https://uproot.readthedocs.io/en/latest/uproot.behaviors.TTree.TTree.html) [iterate](https://uproot.readthedocs.io/en/latest/uproot.behaviors.TTree.TTree.html#iterate) is [uproot.iterate](https://uproot.readthedocs.io/en/latest/uproot.behaviors.TBranch.iterate.html). _(This is the most useful one.)_\n",
    "   * There's also an [uproot.lazy](https://uproot.readthedocs.io/en/latest/uproot.behaviors.TBranch.lazy.html) _(More on this below.)_"
   ]
  },
  {
   "cell_type": "code",
   "execution_count": 5,
   "id": "dc4d9b14-fc1b-4128-869b-a3ccfd58e03f",
   "metadata": {},
   "outputs": [],
   "source": [
    "import IPython\n",
    "import matplotlib.pyplot as plt\n",
    "import matplotlib.pylab"
   ]
  },
  {
   "cell_type": "code",
   "execution_count": null,
   "id": "59daf877-4522-4eb3-aae3-d44d99bb1982",
   "metadata": {},
   "outputs": [],
   "source": [
    "h = hist.Hist.new.Reg(100, 0, 500, name=\"mass\").Double()\n",
    "\n",
    "for muons in uproot.iterate(\n",
    "    # filename(s)\n",
    "    [\"root://eospublic.cern.ch//eos/opendata/cms/derived-data/AOD2NanoAODOutreachTool/Run2012BC_DoubleMuParked_Muons.root:Events\"],\n",
    "\n",
    "    # expressions\n",
    "    [\"pt\", \"eta\", \"phi\", \"charge\"],\n",
    "    aliases={\"pt\": \"Muon_pt\", \"eta\": \"Muon_eta\", \"phi\": \"Muon_phi\", \"charge\": \"Muon_charge\"},    \n",
    "\n",
    "    # the all-important step_size!\n",
    "    step_size=\"1 MB\",\n",
    "):\n",
    "    # do everything you're going to do to this array\n",
    "    cut = (ak.num(muons.charge) >= 2) & (ak.sum(muons.charge[:, :2], axis=1) == 0)\n",
    "    mu1 = muons[cut, 0]\n",
    "    mu2 = muons[cut, 1]\n",
    "\n",
    "    # such as filling a histogram\n",
    "    h.fill(np.sqrt(2*mu1.pt*mu2.pt*(np.cosh(mu1.eta - mu2.eta) - np.cos(mu1.phi - mu2.phi))))\n",
    "\n",
    "    h.plot()\n",
    "    plt.yscale(\"log\")\n",
    "    IPython.display.display(matplotlib.pylab.gcf())\n",
    "    IPython.display.clear_output(wait=True)\n",
    "\n",
    "    if h.counts().sum() > 300000:\n",
    "        break"
   ]
  },
  {
   "cell_type": "code",
   "execution_count": null,
   "id": "02204f0c-ca82-4ae9-b1a1-3bb3f10ddaf2",
   "metadata": {},
   "outputs": [],
   "source": [
    "lazy = uproot.lazy(\n",
    "    # filename(s)\n",
    "    [\"root://eospublic.cern.ch//eos/opendata/cms/derived-data/AOD2NanoAODOutreachTool/Run2012BC_DoubleMuParked_Muons.root:Events\"],\n",
    "    # step_size is still important\n",
    "    step_size=\"1 MB\",\n",
    ")\n",
    "lazy"
   ]
  },
  {
   "cell_type": "code",
   "execution_count": null,
   "id": "73727a59-ae09-4295-97d8-dd7c45b1a57a",
   "metadata": {},
   "outputs": [],
   "source": [
    "lazy.Muon_pt"
   ]
  },
  {
   "cell_type": "code",
   "execution_count": null,
   "id": "3d0feb4a-cd24-43f1-ab42-b76d1c4b585a",
   "metadata": {},
   "outputs": [],
   "source": [
    "lazy.Muon_eta"
   ]
  },
  {
   "cell_type": "code",
   "execution_count": 6,
   "id": "6b59920c-aa73-4cdb-9136-d2d4db31fa5f",
   "metadata": {},
   "outputs": [],
   "source": [
    "events = uproot.open(\"data/HiggsZZ4mu.root:Events\")"
   ]
  },
  {
   "cell_type": "code",
   "execution_count": null,
   "id": "d10fad35-704b-4600-818e-e87a3ccf3f27",
   "metadata": {},
   "outputs": [],
   "source": [
    "nonjagged = events[\"MET_pt\"].array(entry_stop=20, library=\"np\")\n",
    "nonjagged"
   ]
  },
  {
   "cell_type": "code",
   "execution_count": null,
   "id": "16c5b01a-11b1-405a-89e9-259982271cab",
   "metadata": {},
   "outputs": [],
   "source": [
    "nonjagged[:5]"
   ]
  },
  {
   "cell_type": "code",
   "execution_count": null,
   "id": "440f27b4-5e69-426b-8ea7-8971bdf05eec",
   "metadata": {},
   "outputs": [],
   "source": [
    "jagged_awkward = events[\"Muon_pt\"].array(entry_stop=20)\n",
    "jagged_awkward"
   ]
  },
  {
   "cell_type": "code",
   "execution_count": null,
   "id": "63f973de-01f6-4913-9c5e-2ff20d513a60",
   "metadata": {},
   "outputs": [],
   "source": [
    "jagged_awkward.tolist()"
   ]
  },
  {
   "cell_type": "code",
   "execution_count": null,
   "id": "e435a3f0-3a0a-4d60-9080-e8e6fe53a8cf",
   "metadata": {},
   "outputs": [],
   "source": [
    "jagged_numpy = events[\"Muon_pt\"].array(entry_stop=20, library=\"np\")\n",
    "jagged_numpy"
   ]
  },
  {
   "cell_type": "code",
   "execution_count": null,
   "id": "f04f28e2-f987-489f-bbc8-071167ec88e6",
   "metadata": {},
   "outputs": [],
   "source": [
    "jagged_awkward[:, :1]"
   ]
  },
  {
   "cell_type": "code",
   "execution_count": null,
   "id": "daeac4b6-a189-4e2c-b809-3e7249c2b1c7",
   "metadata": {},
   "outputs": [],
   "source": [
    "jagged_numpy[:, :1]"
   ]
  },
  {
   "cell_type": "code",
   "execution_count": null,
   "id": "49163b25-4bf9-4a90-a15b-617a76e7e1db",
   "metadata": {},
   "outputs": [],
   "source": [
    "np.array([x[:1] for x in jagged_numpy])"
   ]
  },
  {
   "cell_type": "code",
   "execution_count": null,
   "id": "79c9af08-fa93-4285-8ae5-db1a30537a7c",
   "metadata": {},
   "outputs": [],
   "source": [
    "events.arrays(filter_name=[\"Muon_*\"], library=\"pd\")"
   ]
  },
  {
   "cell_type": "code",
   "execution_count": 7,
   "id": "fe6ce5de-bf56-4f36-b352-1be4bd15e3c4",
   "metadata": {},
   "outputs": [
    {
     "data": {
      "text/plain": [
       "<Array [{run: 1, luminosityBlock: 13, ... ] type='299683 * {\"run\": int32, \"lumin...'>"
      ]
     },
     "execution_count": 7,
     "metadata": {},
     "output_type": "execute_result"
    }
   ],
   "source": [
    "array = ak.from_parquet(\"data/HiggsZZ4mu.parquet\")\n",
    "array"
   ]
  },
  {
   "cell_type": "code",
   "execution_count": 8,
   "id": "76798c8a-b854-4d81-a0a4-d699dffa3324",
   "metadata": {},
   "outputs": [
    {
     "data": {
      "text/plain": [
       "['run', 'luminosityBlock', 'event', 'MET', 'muons', 'gen']"
      ]
     },
     "execution_count": 8,
     "metadata": {},
     "output_type": "execute_result"
    }
   ],
   "source": [
    "array.fields"
   ]
  },
  {
   "cell_type": "code",
   "execution_count": 9,
   "id": "a9f75ce9-ec37-48a7-bbab-63ab4977e7ba",
   "metadata": {},
   "outputs": [
    {
     "data": {
      "text/plain": [
       "{'run': 1,\n",
       " 'luminosityBlock': 13,\n",
       " 'event': 1201,\n",
       " 'MET': {'pt': 19.49629020690918, 'phi': 3.096665859222412},\n",
       " 'muons': [],\n",
       " 'gen': [{'pt': 60.43461608886719,\n",
       "   'eta': -0.7820958495140076,\n",
       "   'phi': -2.21305251121521,\n",
       "   'pdgId': 11},\n",
       "  {'pt': 27.03217887878418,\n",
       "   'eta': -2.3512237071990967,\n",
       "   'phi': -0.6086280941963196,\n",
       "   'pdgId': -11},\n",
       "  {'pt': 60.43461608886719,\n",
       "   'eta': -0.7820958495140076,\n",
       "   'phi': -2.21305251121521,\n",
       "   'pdgId': 11},\n",
       "  {'pt': 8.345659255981445,\n",
       "   'eta': -2.0826632976531982,\n",
       "   'phi': 0.020737886428833008,\n",
       "   'pdgId': -15},\n",
       "  {'pt': 27.03217887878418,\n",
       "   'eta': -2.3512237071990967,\n",
       "   'phi': -0.6086280941963196,\n",
       "   'pdgId': -11},\n",
       "  {'pt': 8.345659255981445,\n",
       "   'eta': -2.0826632976531982,\n",
       "   'phi': 0.020737886428833008,\n",
       "   'pdgId': -15}]}"
      ]
     },
     "execution_count": 9,
     "metadata": {},
     "output_type": "execute_result"
    }
   ],
   "source": [
    "array[0].tolist()"
   ]
  },
  {
   "cell_type": "code",
   "execution_count": 10,
   "id": "d0ec043f-2c74-4aa3-8b62-2fcf9593c39e",
   "metadata": {},
   "outputs": [
    {
     "data": {
      "text/plain": [
       "<Array [[], [18.6, 23.6, ... 36.4, 19.6, 22.6]] type='299683 * var * float32'>"
      ]
     },
     "execution_count": 10,
     "metadata": {},
     "output_type": "execute_result"
    }
   ],
   "source": [
    "array.muons.pt"
   ]
  },
  {
   "cell_type": "code",
   "execution_count": 11,
   "id": "2401365f-8144-447d-917c-7644685d8c8a",
   "metadata": {},
   "outputs": [
    {
     "data": {
      "text/plain": [
       "299683 * {\"Muon_pt\": var * float32, \"Muon_eta\": var * float32, \"Muon_phi\": var * float32, \"Muon_mass\": var * float32, \"Muon_charge\": var * int32}"
      ]
     },
     "execution_count": 11,
     "metadata": {},
     "output_type": "execute_result"
    }
   ],
   "source": [
    "nanoaod_style = events.arrays(filter_name=\"Muon_*\")\n",
    "nanoaod_style.type"
   ]
  },
  {
   "cell_type": "code",
   "execution_count": 12,
   "id": "76fbc056-82c0-4afc-b256-6ac1ec327f24",
   "metadata": {},
   "outputs": [
    {
     "data": {
      "text/plain": [
       "299683 * var * {\"pt\": float32, \"eta\": float32, \"phi\": float32, \"mass\": float32, \"charge\": int32}"
      ]
     },
     "execution_count": 12,
     "metadata": {},
     "output_type": "execute_result"
    }
   ],
   "source": [
    "array.muons.type"
   ]
  },
  {
   "cell_type": "code",
   "execution_count": 13,
   "id": "4fbc1b2d-92b6-4ef1-8e83-aa9d7e8be577",
   "metadata": {},
   "outputs": [
    {
     "data": {
      "text/plain": [
       "299683 * var * {\"pt\": float32, \"eta\": float32, \"phi\": float32, \"mass\": float32, \"charge\": int32}"
      ]
     },
     "execution_count": 13,
     "metadata": {},
     "output_type": "execute_result"
    }
   ],
   "source": [
    "nanoevents_style = ak.zip({\n",
    "    \"pt\": nanoaod_style.Muon_pt,\n",
    "    \"eta\": nanoaod_style.Muon_eta,\n",
    "    \"phi\": nanoaod_style.Muon_phi,\n",
    "    \"mass\": nanoaod_style.Muon_mass,\n",
    "    \"charge\": nanoaod_style.Muon_charge,\n",
    "})\n",
    "nanoevents_style.type"
   ]
  },
  {
   "cell_type": "code",
   "execution_count": 14,
   "id": "56a4ff8c-5bfa-4da5-be0f-2538c3de79e7",
   "metadata": {},
   "outputs": [
    {
     "data": {
      "text/plain": [
       "<Array [13, 13, 13, 13, ... 2801, 2801, 2801] type='299683 * int64'>"
      ]
     },
     "execution_count": 14,
     "metadata": {},
     "output_type": "execute_result"
    }
   ],
   "source": [
    "array.luminosityBlock"
   ]
  },
  {
   "cell_type": "code",
   "execution_count": 15,
   "id": "ff3e9861-5b1d-4390-b46e-5181ffe8f64d",
   "metadata": {},
   "outputs": [
    {
     "data": {
      "text/plain": [
       "<Array [100, 100, 100, 100, ... 100, 100, 100] type='2997 * int64'>"
      ]
     },
     "execution_count": 15,
     "metadata": {},
     "output_type": "execute_result"
    }
   ],
   "source": [
    "lumilengths = ak.run_lengths(array.luminosityBlock)\n",
    "lumilengths"
   ]
  },
  {
   "cell_type": "code",
   "execution_count": 16,
   "id": "413b261a-564a-408f-a5e4-a6ec661c64f6",
   "metadata": {},
   "outputs": [
    {
     "data": {
      "text/plain": [
       "<Array [[{run: 1, luminosityBlock: 13, ... ] type='2997 * var * {\"run\": int32, \"...'>"
      ]
     },
     "execution_count": 16,
     "metadata": {},
     "output_type": "execute_result"
    }
   ],
   "source": [
    "array_by_lumi = ak.unflatten(array, lumilengths, axis=0)\n",
    "array_by_lumi"
   ]
  },
  {
   "cell_type": "code",
   "execution_count": 17,
   "id": "25b5a42e-dbdf-480e-a092-0818464193e7",
   "metadata": {},
   "outputs": [
    {
     "data": {
      "text/plain": [
       "<Array [13, 13, 13, 13, 13, ... 13, 13, 13, 13] type='100 * int64'>"
      ]
     },
     "execution_count": 17,
     "metadata": {},
     "output_type": "execute_result"
    }
   ],
   "source": [
    "array_by_lumi.luminosityBlock[0]"
   ]
  },
  {
   "cell_type": "code",
   "execution_count": 18,
   "id": "e60e1eb8-3477-4729-9138-80c1ce8e3f1f",
   "metadata": {},
   "outputs": [
    {
     "data": {
      "text/plain": [
       "299683 * {\"run\": int32, \"luminosityBlock\": int64, \"event\": uint64, \"MET\": {\"pt\": float32, \"phi\": float32}, \"muons\": var * {\"pt\": float32, \"eta\": float32, \"phi\": float32, \"mass\": float32, \"charge\": int32}, \"gen\": var * {\"pt\": float32, \"eta\": float32, \"phi\": float32, \"pdgId\": int32}}"
      ]
     },
     "execution_count": 18,
     "metadata": {},
     "output_type": "execute_result"
    }
   ],
   "source": [
    "array.type"
   ]
  },
  {
   "cell_type": "code",
   "execution_count": 19,
   "id": "3d1b5696-bb29-470c-8b56-d638ee3dfdb5",
   "metadata": {},
   "outputs": [
    {
     "data": {
      "text/plain": [
       "2997 * var * {\"run\": int32, \"luminosityBlock\": int64, \"event\": uint64, \"MET\": {\"pt\": float32, \"phi\": float32}, \"muons\": var * {\"pt\": float32, \"eta\": float32, \"phi\": float32, \"mass\": float32, \"charge\": int32}, \"gen\": var * {\"pt\": float32, \"eta\": float32, \"phi\": float32, \"pdgId\": int32}}"
      ]
     },
     "execution_count": 19,
     "metadata": {},
     "output_type": "execute_result"
    }
   ],
   "source": [
    "array_by_lumi.type"
   ]
  },
  {
   "cell_type": "code",
   "execution_count": 22,
   "id": "b307152d-4180-4131-b823-54e1b8ec917a",
   "metadata": {},
   "outputs": [
    {
     "data": {
      "text/plain": [
       "<Array [[0, 42.2, 0, ... 26.5, 91.5, 109]] type='2997 * var * float32'>"
      ]
     },
     "execution_count": 22,
     "metadata": {},
     "output_type": "execute_result"
    }
   ],
   "source": [
    "ak.sum(array_by_lumi.muons.pt, axis=-1)"
   ]
  },
  {
   "cell_type": "markdown",
   "id": "3de6d30b-c76d-44ca-88b6-42a38308730b",
   "metadata": {},
   "source": [
    "<img src=\"img/example-reduction.svg\" style=\"width: 800px\">"
   ]
  },
  {
   "cell_type": "code",
   "execution_count": 23,
   "id": "271826a6-6715-47d1-ae38-b5e52e16c34f",
   "metadata": {},
   "outputs": [
    {
     "data": {
      "text/plain": [
       "<Array [[], [{pt: 18.6, ... charge: -1}]] type='299683 * var * {\"pt\": float32, \"...'>"
      ]
     },
     "execution_count": 23,
     "metadata": {},
     "output_type": "execute_result"
    }
   ],
   "source": [
    "array.muons"
   ]
  },
  {
   "cell_type": "code",
   "execution_count": 24,
   "id": "1de4c90a-963a-4780-8ab7-0fbaa5ed21e1",
   "metadata": {},
   "outputs": [
    {
     "data": {
      "text/plain": [
       "<Array [False, True, False, ... True, True] type='299683 * bool'>"
      ]
     },
     "execution_count": 24,
     "metadata": {},
     "output_type": "execute_result"
    }
   ],
   "source": [
    "cut = ak.num(array.muons) >= 2\n",
    "cut"
   ]
  },
  {
   "cell_type": "code",
   "execution_count": 25,
   "id": "fae3a41b-ddd3-4275-bba0-3ada12f439d0",
   "metadata": {},
   "outputs": [
    {
     "data": {
      "text/plain": [
       "<Array [[{pt: 18.6, ... charge: -1}]] type='144474 * var * {\"pt\": float32, \"eta\"...'>"
      ]
     },
     "execution_count": 25,
     "metadata": {},
     "output_type": "execute_result"
    }
   ],
   "source": [
    "array.muons[cut]"
   ]
  },
  {
   "cell_type": "code",
   "execution_count": 26,
   "id": "897d9ba9-b99d-41b3-b483-d78cc86ca359",
   "metadata": {},
   "outputs": [
    {
     "data": {
      "text/plain": [
       "<Array [None, [{pt: 18.6, ... charge: -1}]] type='299683 * option[var * {\"pt\": f...'>"
      ]
     },
     "execution_count": 26,
     "metadata": {},
     "output_type": "execute_result"
    }
   ],
   "source": [
    "array.muons.mask[cut]"
   ]
  },
  {
   "cell_type": "code",
   "execution_count": 27,
   "id": "ab9900a8-fe4f-4ad7-80f5-80ab5845f748",
   "metadata": {},
   "outputs": [
    {
     "data": {
      "text/plain": [
       "<Array [True, True, True, ... True, True, True] type='144474 * bool'>"
      ]
     },
     "execution_count": 27,
     "metadata": {},
     "output_type": "execute_result"
    }
   ],
   "source": [
    "selected_muons = array.muons[cut]\n",
    "\n",
    "selected_muons.charge[:, 0] + selected_muons.charge[:, 1] == 0"
   ]
  },
  {
   "cell_type": "markdown",
   "id": "2689c73a-a078-48c1-99d5-e3423c81ad5c",
   "metadata": {},
   "source": [
    "<table style=\"margin-left: 0px\">\n",
    "    <tr style=\"background: white\"><td style=\"font-size: 1.75em; font-weight: bold; text-align: center\"><a href=\"https://awkward-array.readthedocs.io/en/latest/_auto/ak.cartesian.html\">ak.cartesian</a></td><td style=\"font-size: 1.75em; font-weight: bold; text-align: center\"><a href=\"https://awkward-array.readthedocs.io/en/latest/_auto/ak.combinations.html\">ak.combinations</a></td></tr>\n",
    "    <tr style=\"background: white\"><td><img src=\"img/cartoon-cartesian.svg\"></td><td><img src=\"img/cartoon-combinations.svg\"></td></tr>\n",
    "</table>"
   ]
  },
  {
   "cell_type": "code",
   "execution_count": 28,
   "id": "5a4fa1c7-03a5-46c2-89f4-e23d22049030",
   "metadata": {},
   "outputs": [
    {
     "data": {
      "text/plain": [
       "299683 * var * ({\"pt\": float32, \"eta\": float32, \"phi\": float32, \"mass\": float32, \"charge\": int32}, {\"pt\": float32, \"eta\": float32, \"phi\": float32, \"mass\": float32, \"charge\": int32})"
      ]
     },
     "execution_count": 28,
     "metadata": {},
     "output_type": "execute_result"
    }
   ],
   "source": [
    "ak.combinations(array.muons, 2).type"
   ]
  },
  {
   "cell_type": "code",
   "execution_count": 29,
   "id": "47f2e1b8-c4df-43f3-99f4-cc29302d6908",
   "metadata": {},
   "outputs": [
    {
     "data": {
      "text/plain": [
       "(<Array [[], [{pt: 18.6, ... charge: 1}]] type='299683 * var * {\"pt\": float32, \"e...'>,\n",
       " <Array [[], [{pt: 23.6, ... charge: -1}]] type='299683 * var * {\"pt\": float32, \"...'>)"
      ]
     },
     "execution_count": 29,
     "metadata": {},
     "output_type": "execute_result"
    }
   ],
   "source": [
    "mu1, mu2 = ak.unzip(ak.combinations(array.muons, 2))\n",
    "mu1, mu2"
   ]
  },
  {
   "cell_type": "code",
   "execution_count": 30,
   "id": "717459e9-bc1a-4e1e-9099-e0e8b42f3b65",
   "metadata": {},
   "outputs": [
    {
     "data": {
      "text/html": [
       "<html>\n",
       "<div style=\"display:flex; align-items:center;\">\n",
       "<div style=\"width:290px;\">\n",
       "<svg xmlns=\"http://www.w3.org/2000/svg\" viewBox=\"-10 -105 270 120\">\n",
       "<line x1=\"-5\" y1=\"0\" x2=\"255\" y2=\"0\" style=\"fill:none;stroke-width:2;stroke:currentColor\"/>\n",
       "<text text-anchor=\"middle\" x=\"0\" y=\"15\" style=\"fill:currentColor;\">\n",
       "0\n",
       "</text>\n",
       "<text text-anchor=\"middle\" x=\"250\" y=\"15\" style=\"fill:currentColor;\">\n",
       "120\n",
       "</text>\n",
       "<text text-anchor=\"middle\" x=\"125.0\" y=\"15\" style=\"fill:currentColor;\">\n",
       "mass\n",
       "</text>\n",
       "<polyline points=\"  0,0   0,-77.5 2.08333,-77.5 2.08333,-28.9 4.16667,-28.9 4.16667,-23.7 6.25,-23.7 6.25,-25.3 8.33333,-25.3 8.33333,-29.7 10.4167,-29.7 10.4167,-35.6 12.5,-35.6 12.5,-38.1 14.5833,-38.1 14.5833,-38.2 16.6667,-38.2 16.6667,-39.8 18.75,-39.8 18.75,-41.2 20.8333,-41.2 20.8333,-43.7 22.9167,-43.7 22.9167,-45.2  25,-45.2  25,-47.9 27.0833,-47.9 27.0833,-48.4 29.1667,-48.4 29.1667,-51.9 31.25,-51.9 31.25,-53.1 33.3333,-53.1 33.3333,-55.9 35.4167,-55.9 35.4167,-58.5 37.5,-58.5 37.5,-60 39.5833,-60 39.5833,-63.1 41.6667,-63.1 41.6667,-64.6 43.75,-64.6 43.75,-66.7 45.8333,-66.7 45.8333,-68.6 47.9167,-68.6 47.9167,-72.1  50,-72.1  50,-74.1 52.0833,-74.1 52.0833,-73.9 54.1667,-73.9 54.1667,-74.9 56.25,-74.9 56.25,-75.6 58.3333,-75.6 58.3333,-76 60.4167,-76 60.4167,-75.2 62.5,-75.2 62.5,-72.9 64.5833,-72.9 64.5833,-68.7 66.6667,-68.7 66.6667,-65 68.75,-65 68.75,-57 70.8333,-57 70.8333,-52.8 72.9167,-52.8 72.9167,-50.2  75,-50.2  75,-46.9 77.0833,-46.9 77.0833,-46.7 79.1667,-46.7 79.1667,-43 81.25,-43 81.25,-43.4 83.3333,-43.4 83.3333,-43.9 85.4167,-43.9 85.4167,-40.6 87.5,-40.6 87.5,-39.7 89.5833,-39.7 89.5833,-40.5 91.6667,-40.5 91.6667,-39.3 93.75,-39.3 93.75,-36.7 95.8333,-36.7 95.8333,-36.8 97.9167,-36.8 97.9167,-36.1 100,-36.1 100,-34 102.083,-34 102.083,-33.7 104.167,-33.7 104.167,-32.5 106.25,-32.5 106.25,-30.7 108.333,-30.7 108.333,-30.3 110.417,-30.3 110.417,-30.2 112.5,-30.2 112.5,-27.3 114.583,-27.3 114.583,-26.9 116.667,-26.9 116.667,-26 118.75,-26 118.75,-25.8 120.833,-25.8 120.833,-24.3 122.917,-24.3 122.917,-22.9 125,-22.9 125,-22.6 127.083,-22.6 127.083,-21.2 129.167,-21.2 129.167,-20 131.25,-20 131.25,-18.3 133.333,-18.3 133.333,-18.1 135.417,-18.1 135.417,-17.8 137.5,-17.8 137.5,-16.2 139.583,-16.2 139.583,-15.9 141.667,-15.9 141.667,-15.3 143.75,-15.3 143.75,-14.8 145.833,-14.8 145.833,-13.9 147.917,-13.9 147.917,-13.5 150,-13.5 150,-12.5 152.083,-12.5 152.083,-13 154.167,-13 154.167,-12.5 156.25,-12.5 156.25,-12.5 158.333,-12.5 158.333,-11.8 160.417,-11.8 160.417,-12 162.5,-12 162.5,-13 164.583,-13 164.583,-12.2 166.667,-12.2 166.667,-14.3 168.75,-14.3 168.75,-14.6 170.833,-14.6 170.833,-15.2 172.917,-15.2 172.917,-17.3 175,-17.3 175,-19.7 177.083,-19.7 177.083,-24.1 179.167,-24.1 179.167,-29 181.25,-29 181.25,-40.1 183.333,-40.1 183.333,-57.8 185.417,-57.8 185.417,-79.8 187.5,-79.8 187.5,-100 189.583,-100 189.583,-91 191.667,-91 191.667,-61.1 193.75,-61.1 193.75,-33.3 195.833,-33.3 195.833,-17.8 197.917,-17.8 197.917,-9.47 200,-9.47 200,-5.78 202.083,-5.78 202.083,-3.81 204.167,-3.81 204.167,-2.77 206.25,-2.77 206.25,-1.71 208.333,-1.71 208.333,-1.19 210.417,-1.19 210.417,-0.937 212.5,-0.937 212.5,-0.596 214.583,-0.596 214.583,-0.639 216.667,-0.639 216.667,-0.436 218.75,-0.436 218.75,-0.479 220.833,-0.479 220.833,-0.447 222.917,-0.447 222.917,-0.33 225,-0.33 225,-0.223 227.083,-0.223 227.083,-0.245 229.167,-0.245 229.167,-0.309 231.25,-0.309 231.25,-0.245 233.333,-0.245 233.333,-0.266 235.417,-0.266 235.417,-0.234 237.5,-0.234 237.5,-0.17 239.583,-0.17 239.583,-0.213 241.667,-0.213 241.667,-0.181 243.75,-0.181 243.75,-0.192 245.833,-0.192 245.833,-0.0745 247.917,-0.0745 247.917,-0.245 250,-0.245 250,0\" style=\"fill:none; stroke:currentColor;\"/>\n",
       "</svg>\n",
       "</div>\n",
       "<div style=\"flex=grow:1;\">\n",
       "Regular(120, 0, 120, name='mass', label='mass')<br/>\n",
       "<hr style=\"margin-top:.2em; margin-bottom:.2em;\"/>\n",
       "Double() Σ=355686.0 <em>(356468.0 with flow)</em>\n",
       "\n",
       "</div>\n",
       "</div>\n",
       "</html>"
      ],
      "text/plain": [
       "Hist(Regular(120, 0, 120, name='mass', label='mass'), storage=Double()) # Sum: 355686.0 (356468.0 with flow)"
      ]
     },
     "execution_count": 30,
     "metadata": {},
     "output_type": "execute_result"
    }
   ],
   "source": [
    "h = hist.Hist.new.Reg(120, 0, 120, name=\"mass\").Double()\n",
    "h.fill(ak.flatten(\n",
    "    np.sqrt(2*mu1.pt*mu2.pt*(np.cosh(mu1.eta - mu2.eta) - np.cos(mu1.phi - mu2.phi)))\n",
    "))"
   ]
  },
  {
   "cell_type": "code",
   "execution_count": 31,
   "id": "8db256d6-5c28-4eaf-8214-d4ece3f33aea",
   "metadata": {},
   "outputs": [],
   "source": [
    "import vector\n",
    "vector.register_awkward()"
   ]
  },
  {
   "cell_type": "code",
   "execution_count": 32,
   "id": "2cfd36ac-a40f-4eaa-97c7-3a48542a8538",
   "metadata": {},
   "outputs": [
    {
     "data": {
      "text/plain": [
       "<MomentumArray4D [[], [{pt: 18.6, ... charge: -1}]] type='299683 * var * Momentu...'>"
      ]
     },
     "execution_count": 32,
     "metadata": {},
     "output_type": "execute_result"
    }
   ],
   "source": [
    "muons = ak.with_name(array.muons, \"Momentum4D\")\n",
    "muons"
   ]
  },
  {
   "cell_type": "code",
   "execution_count": 33,
   "id": "ca8ae3e1-f16a-480d-97a7-5e7801611773",
   "metadata": {},
   "outputs": [
    {
     "data": {
      "text/plain": [
       "(<MomentumArray4D [[], [{pt: 18.6, ... charge: 1}]] type='299683 * var * Momentum...'>,\n",
       " <MomentumArray4D [[], [{pt: 23.6, ... charge: -1}]] type='299683 * var * Momentu...'>)"
      ]
     },
     "execution_count": 33,
     "metadata": {},
     "output_type": "execute_result"
    }
   ],
   "source": [
    "mu1, mu2 = ak.unzip(ak.combinations(muons, 2))\n",
    "mu1, mu2"
   ]
  },
  {
   "cell_type": "code",
   "execution_count": 34,
   "id": "26013028-1ba8-42e8-9a4d-602f8d5ce45c",
   "metadata": {},
   "outputs": [
    {
     "data": {
      "text/plain": [
       "<Array [[], [36.9], ... 68, 48.8, 36.5, 46.9]] type='299683 * var * float32'>"
      ]
     },
     "execution_count": 34,
     "metadata": {},
     "output_type": "execute_result"
    }
   ],
   "source": [
    "(mu1 + mu2).mass"
   ]
  },
  {
   "cell_type": "code",
   "execution_count": 35,
   "id": "88c5ebf1-f777-4228-b2bf-3bd67275f069",
   "metadata": {},
   "outputs": [
    {
     "data": {
      "text/html": [
       "<html>\n",
       "<div style=\"display:flex; align-items:center;\">\n",
       "<div style=\"width:290px;\">\n",
       "<svg xmlns=\"http://www.w3.org/2000/svg\" viewBox=\"-10 -105 270 120\">\n",
       "<line x1=\"-5\" y1=\"0\" x2=\"255\" y2=\"0\" style=\"fill:none;stroke-width:2;stroke:currentColor\"/>\n",
       "<text text-anchor=\"middle\" x=\"0\" y=\"15\" style=\"fill:currentColor;\">\n",
       "0\n",
       "</text>\n",
       "<text text-anchor=\"middle\" x=\"250\" y=\"15\" style=\"fill:currentColor;\">\n",
       "120\n",
       "</text>\n",
       "<text text-anchor=\"middle\" x=\"125.0\" y=\"15\" style=\"fill:currentColor;\">\n",
       "mass\n",
       "</text>\n",
       "<polyline points=\"  0,0   0,-76 2.08333,-76 2.08333,-29.7 4.16667,-29.7 4.16667,-23.8 6.25,-23.8 6.25,-25.4 8.33333,-25.4 8.33333,-29.8 10.4167,-29.8 10.4167,-35.6 12.5,-35.6 12.5,-38.1 14.5833,-38.1 14.5833,-38.2 16.6667,-38.2 16.6667,-40 18.75,-40 18.75,-41.2 20.8333,-41.2 20.8333,-43.7 22.9167,-43.7 22.9167,-45.3  25,-45.3  25,-47.9 27.0833,-47.9 27.0833,-48.4 29.1667,-48.4 29.1667,-51.9 31.25,-51.9 31.25,-53.2 33.3333,-53.2 33.3333,-55.9 35.4167,-55.9 35.4167,-58.5 37.5,-58.5 37.5,-60.1 39.5833,-60.1 39.5833,-63.1 41.6667,-63.1 41.6667,-64.6 43.75,-64.6 43.75,-66.8 45.8333,-66.8 45.8333,-68.5 47.9167,-68.5 47.9167,-72.2  50,-72.2  50,-74.1 52.0833,-74.1 52.0833,-74 54.1667,-74 54.1667,-75 56.25,-75 56.25,-75.7 58.3333,-75.7 58.3333,-76 60.4167,-76 60.4167,-75.2 62.5,-75.2 62.5,-72.8 64.5833,-72.8 64.5833,-68.7 66.6667,-68.7 66.6667,-65.1 68.75,-65.1 68.75,-56.9 70.8333,-56.9 70.8333,-52.8 72.9167,-52.8 72.9167,-50.2  75,-50.2  75,-46.9 77.0833,-46.9 77.0833,-46.7 79.1667,-46.7 79.1667,-43 81.25,-43 81.25,-43.4 83.3333,-43.4 83.3333,-44 85.4167,-44 85.4167,-40.7 87.5,-40.7 87.5,-39.7 89.5833,-39.7 89.5833,-40.5 91.6667,-40.5 91.6667,-39.3 93.75,-39.3 93.75,-36.7 95.8333,-36.7 95.8333,-36.8 97.9167,-36.8 97.9167,-36.1 100,-36.1 100,-34 102.083,-34 102.083,-33.7 104.167,-33.7 104.167,-32.5 106.25,-32.5 106.25,-30.7 108.333,-30.7 108.333,-30.3 110.417,-30.3 110.417,-30.2 112.5,-30.2 112.5,-27.3 114.583,-27.3 114.583,-27 116.667,-27 116.667,-26 118.75,-26 118.75,-25.7 120.833,-25.7 120.833,-24.4 122.917,-24.4 122.917,-22.9 125,-22.9 125,-22.5 127.083,-22.5 127.083,-21.2 129.167,-21.2 129.167,-20 131.25,-20 131.25,-18.3 133.333,-18.3 133.333,-18.1 135.417,-18.1 135.417,-17.8 137.5,-17.8 137.5,-16.2 139.583,-16.2 139.583,-15.9 141.667,-15.9 141.667,-15.3 143.75,-15.3 143.75,-14.8 145.833,-14.8 145.833,-13.9 147.917,-13.9 147.917,-13.5 150,-13.5 150,-12.5 152.083,-12.5 152.083,-13.1 154.167,-13.1 154.167,-12.5 156.25,-12.5 156.25,-12.4 158.333,-12.4 158.333,-11.8 160.417,-11.8 160.417,-12 162.5,-12 162.5,-13 164.583,-13 164.583,-12.3 166.667,-12.3 166.667,-14.3 168.75,-14.3 168.75,-14.6 170.833,-14.6 170.833,-15.2 172.917,-15.2 172.917,-17.3 175,-17.3 175,-19.7 177.083,-19.7 177.083,-24.1 179.167,-24.1 179.167,-29 181.25,-29 181.25,-40.1 183.333,-40.1 183.333,-57.8 185.417,-57.8 185.417,-79.8 187.5,-79.8 187.5,-100 189.583,-100 189.583,-91.1 191.667,-91.1 191.667,-61.1 193.75,-61.1 193.75,-33.4 195.833,-33.4 195.833,-17.8 197.917,-17.8 197.917,-9.51 200,-9.51 200,-5.77 202.083,-5.77 202.083,-3.82 204.167,-3.82 204.167,-2.76 206.25,-2.76 206.25,-1.71 208.333,-1.71 208.333,-1.19 210.417,-1.19 210.417,-0.937 212.5,-0.937 212.5,-0.596 214.583,-0.596 214.583,-0.639 216.667,-0.639 216.667,-0.437 218.75,-0.437 218.75,-0.479 220.833,-0.479 220.833,-0.447 222.917,-0.447 222.917,-0.33 225,-0.33 225,-0.224 227.083,-0.224 227.083,-0.245 229.167,-0.245 229.167,-0.309 231.25,-0.309 231.25,-0.245 233.333,-0.245 233.333,-0.277 235.417,-0.277 235.417,-0.224 237.5,-0.224 237.5,-0.17 239.583,-0.17 239.583,-0.213 241.667,-0.213 241.667,-0.181 243.75,-0.181 243.75,-0.192 245.833,-0.192 245.833,-0.0639 247.917,-0.0639 247.917,-0.256 250,-0.256 250,0\" style=\"fill:none; stroke:currentColor;\"/>\n",
       "</svg>\n",
       "</div>\n",
       "<div style=\"flex=grow:1;\">\n",
       "Regular(120, 0, 120, name='mass', label='mass')<br/>\n",
       "<hr style=\"margin-top:.2em; margin-bottom:.2em;\"/>\n",
       "Double() Σ=355651.0 <em>(356468.0 with flow)</em>\n",
       "\n",
       "</div>\n",
       "</div>\n",
       "</html>"
      ],
      "text/plain": [
       "Hist(Regular(120, 0, 120, name='mass', label='mass'), storage=Double()) # Sum: 355651.0 (356468.0 with flow)"
      ]
     },
     "execution_count": 35,
     "metadata": {},
     "output_type": "execute_result"
    }
   ],
   "source": [
    "h = hist.Hist.new.Reg(120, 0, 120, name=\"mass\").Double()\n",
    "h.fill(ak.flatten((mu1 + mu2).mass))"
   ]
  },
  {
   "cell_type": "code",
   "execution_count": 36,
   "id": "1bb1b131-8d47-4500-9167-351d3113ad47",
   "metadata": {},
   "outputs": [
    {
     "data": {
      "text/plain": [
       "<MomentumArray3D [[{pt: 60.4, ... pdgId: 13}]] type='299683 * var * Momentum3D[\"...'>"
      ]
     },
     "execution_count": 36,
     "metadata": {},
     "output_type": "execute_result"
    }
   ],
   "source": [
    "gen = ak.with_name(array.gen, \"Momentum3D\")\n",
    "gen"
   ]
  },
  {
   "cell_type": "code",
   "execution_count": 37,
   "id": "7f68806f-faa2-4c84-b082-11e71a7b23db",
   "metadata": {},
   "outputs": [
    {
     "data": {
      "text/plain": [
       "['pt', 'eta', 'phi', 'pdgId']"
      ]
     },
     "execution_count": 37,
     "metadata": {},
     "output_type": "execute_result"
    }
   ],
   "source": [
    "gen.fields"
   ]
  },
  {
   "cell_type": "code",
   "execution_count": 38,
   "id": "8b06cd25-143f-4a11-a507-67ed8d47ef07",
   "metadata": {},
   "outputs": [
    {
     "data": {
      "text/plain": [
       "<Array [[], [[{muon: {, ... pdgId: 13}}]]] type='299683 * var * var * {\"muon\": M...'>"
      ]
     },
     "execution_count": 38,
     "metadata": {},
     "output_type": "execute_result"
    }
   ],
   "source": [
    "reco_gen = ak.cartesian({\"muon\": muons, \"gen\": gen}, nested=True)\n",
    "reco_gen"
   ]
  },
  {
   "cell_type": "code",
   "execution_count": 39,
   "id": "9977f21d-c979-4733-9394-63c54f7fcefe",
   "metadata": {},
   "outputs": [
    {
     "data": {
      "text/plain": [
       "(<MomentumArray4D [[], [[{pt: 18.6, ... charge: -1}]]] type='299683 * var * var *...'>,\n",
       " <MomentumArray3D [[], [[{pt: 18.7, ... pdgId: 13}]]] type='299683 * var * var * ...'>)"
      ]
     },
     "execution_count": 39,
     "metadata": {},
     "output_type": "execute_result"
    }
   ],
   "source": [
    "mu, g = ak.unzip(reco_gen)\n",
    "mu, g"
   ]
  },
  {
   "cell_type": "code",
   "execution_count": 40,
   "id": "f59738f5-6413-4ff4-8f51-b5cf8c17e7c0",
   "metadata": {},
   "outputs": [
    {
     "data": {
      "text/plain": [
       "<Array [[], [[0.000383, ... 3.21, 1.25]]] type='299683 * var * var * float32'>"
      ]
     },
     "execution_count": 40,
     "metadata": {},
     "output_type": "execute_result"
    }
   ],
   "source": [
    "mu.deltaR(g)"
   ]
  },
  {
   "cell_type": "code",
   "execution_count": 41,
   "id": "38be2a07-0bb8-42bc-8173-de0c91a8b699",
   "metadata": {},
   "outputs": [
    {
     "data": {
      "text/html": [
       "<html>\n",
       "<div style=\"display:flex; align-items:center;\">\n",
       "<div style=\"width:290px;\">\n",
       "<svg xmlns=\"http://www.w3.org/2000/svg\" viewBox=\"-10 -105 270 120\">\n",
       "<line x1=\"-5\" y1=\"0\" x2=\"255\" y2=\"0\" style=\"fill:none;stroke-width:2;stroke:currentColor\"/>\n",
       "<text text-anchor=\"middle\" x=\"0\" y=\"15\" style=\"fill:currentColor;\">\n",
       "0\n",
       "</text>\n",
       "<text text-anchor=\"middle\" x=\"250\" y=\"15\" style=\"fill:currentColor;\">\n",
       "5\n",
       "</text>\n",
       "<text text-anchor=\"middle\" x=\"125.0\" y=\"15\" style=\"fill:currentColor;\">\n",
       "Axis 0\n",
       "</text>\n",
       "<polyline points=\"  0,0   0,-100 2.5,-100 2.5,-2   5,-2   5,-1.2 7.5,-1.2 7.5,-0.983  10,-0.983  10,-1.06 12.5,-1.06 12.5,-1.15  15,-1.15  15,-1.37 17.5,-1.37 17.5,-1.47  20,-1.47  20,-1.6 22.5,-1.6 22.5,-1.82  25,-1.82  25,-2.12 27.5,-2.12 27.5,-2.21  30,-2.21  30,-2.4 32.5,-2.4 32.5,-2.48  35,-2.48  35,-2.59 37.5,-2.59 37.5,-2.72  40,-2.72  40,-2.8 42.5,-2.8 42.5,-2.93  45,-2.93  45,-2.97 47.5,-2.97 47.5,-3.12  50,-3.12  50,-3.16 52.5,-3.16 52.5,-3.23  55,-3.23  55,-3.36 57.5,-3.36 57.5,-3.36  60,-3.36  60,-3.42 62.5,-3.42 62.5,-3.59  65,-3.59  65,-3.62 67.5,-3.62 67.5,-3.75  70,-3.75  70,-3.7 72.5,-3.7 72.5,-3.81  75,-3.81  75,-3.84 77.5,-3.84 77.5,-3.9  80,-3.9  80,-4.07 82.5,-4.07 82.5,-4.06  85,-4.06  85,-4.16 87.5,-4.16 87.5,-4.24  90,-4.24  90,-4.31 92.5,-4.31 92.5,-4.3  95,-4.3  95,-4.35 97.5,-4.35 97.5,-4.52 100,-4.52 100,-4.59 102.5,-4.59 102.5,-4.63 105,-4.63 105,-4.68 107.5,-4.68 107.5,-4.8 110,-4.8 110,-4.84 112.5,-4.84 112.5,-5.02 115,-5.02 115,-5.04 117.5,-5.04 117.5,-5.23 120,-5.23 120,-5.29 122.5,-5.29 122.5,-5.47 125,-5.47 125,-5.66 127.5,-5.66 127.5,-5.76 130,-5.76 130,-5.98 132.5,-5.98 132.5,-6.11 135,-6.11 135,-6.32 137.5,-6.32 137.5,-6.42 140,-6.42 140,-6.69 142.5,-6.69 142.5,-6.77 145,-6.77 145,-6.86 147.5,-6.86 147.5,-6.98 150,-6.98 150,-7.25 152.5,-7.25 152.5,-7.22 155,-7.22 155,-7.19 157.5,-7.19 157.5,-5.23 160,-5.23 160,-4.05 162.5,-4.05 162.5,-3.26 165,-3.26 165,-2.78 167.5,-2.78 167.5,-2.38 170,-2.38 170,-2.03 172.5,-2.03 172.5,-1.78 175,-1.78 175,-1.53 177.5,-1.53 177.5,-1.36 180,-1.36 180,-1.2 182.5,-1.2 182.5,-1.08 185,-1.08 185,-0.954 187.5,-0.954 187.5,-0.85 190,-0.85 190,-0.76 192.5,-0.76 192.5,-0.665 195,-0.665 195,-0.621 197.5,-0.621 197.5,-0.552 200,-0.552 200,-0.492 202.5,-0.492 202.5,-0.469 205,-0.469 205,-0.427 207.5,-0.427 207.5,-0.399 210,-0.399 210,-0.327 212.5,-0.327 212.5,-0.316 215,-0.316 215,-0.291 217.5,-0.291 217.5,-0.276 220,-0.276 220,-0.25 222.5,-0.25 222.5,-0.225 225,-0.225 225,-0.198 227.5,-0.198 227.5,-0.209 230,-0.209 230,-0.188 232.5,-0.188 232.5,-0.167 235,-0.167 235,-0.163 237.5,-0.163 237.5,-0.155 240,-0.155 240,-0.145 242.5,-0.145 242.5,-0.14 245,-0.14 245,-0.126 247.5,-0.126 247.5,-0.119 250,-0.119 250,0\" style=\"fill:none; stroke:currentColor;\"/>\n",
       "</svg>\n",
       "</div>\n",
       "<div style=\"flex=grow:1;\">\n",
       "Regular(100, 0, 5, label='Axis 0')<br/>\n",
       "<hr style=\"margin-top:.2em; margin-bottom:.2em;\"/>\n",
       "Double() Σ=2962875.0 <em>(2981136.0 with flow)</em>\n",
       "\n",
       "</div>\n",
       "</div>\n",
       "</html>"
      ],
      "text/plain": [
       "Hist(Regular(100, 0, 5, label='Axis 0'), storage=Double()) # Sum: 2962875.0 (2981136.0 with flow)"
      ]
     },
     "execution_count": 41,
     "metadata": {},
     "output_type": "execute_result"
    }
   ],
   "source": [
    "hist.Hist.new.Reg(100, 0, 5).Double().fill(\n",
    "    ak.flatten(mu.deltaR(g), axis=None)\n",
    ")"
   ]
  },
  {
   "cell_type": "code",
   "execution_count": 45,
   "id": "96b7ed87-1bfa-4846-a246-59c5c8e04b4e",
   "metadata": {},
   "outputs": [
    {
     "data": {
      "text/html": [
       "<html>\n",
       "<div style=\"display:flex; align-items:center;\">\n",
       "<div style=\"width:290px;\">\n",
       "<svg xmlns=\"http://www.w3.org/2000/svg\" viewBox=\"-10 -105 270 120\">\n",
       "<line x1=\"-5\" y1=\"0\" x2=\"255\" y2=\"0\" style=\"fill:none;stroke-width:2;stroke:currentColor\"/>\n",
       "<text text-anchor=\"middle\" x=\"0\" y=\"15\" style=\"fill:currentColor;\">\n",
       "0\n",
       "</text>\n",
       "<text text-anchor=\"middle\" x=\"250\" y=\"15\" style=\"fill:currentColor;\">\n",
       "5\n",
       "</text>\n",
       "<text text-anchor=\"middle\" x=\"125.0\" y=\"15\" style=\"fill:currentColor;\">\n",
       "Axis 0\n",
       "</text>\n",
       "<polyline points=\"  0,0   0,-100 2.5,-100 2.5,-0.305   5,-0.305   5,-0.356 7.5,-0.356 7.5,-0.472  10,-0.472  10,-0.601 12.5,-0.601 12.5,-0.68  15,-0.68  15,-0.824 17.5,-0.824 17.5,-0.883  20,-0.883  20,-0.921 22.5,-0.921 22.5,-1.07  25,-1.07  25,-1.26 27.5,-1.26 27.5,-1.31  30,-1.31  30,-1.37 32.5,-1.37 32.5,-1.43  35,-1.43  35,-1.49 37.5,-1.49 37.5,-1.54  40,-1.54  40,-1.62 42.5,-1.62 42.5,-1.68  45,-1.68  45,-1.68 47.5,-1.68 47.5,-1.79  50,-1.79  50,-1.81 52.5,-1.81 52.5,-1.82  55,-1.82  55,-1.9 57.5,-1.9 57.5,-1.86  60,-1.86  60,-1.92 62.5,-1.92 62.5,-2.04  65,-2.04  65,-2.03 67.5,-2.03 67.5,-2.11  70,-2.11  70,-2.08 72.5,-2.08 72.5,-2.18  75,-2.18  75,-2.2 77.5,-2.2 77.5,-2.19  80,-2.19  80,-2.34 82.5,-2.34 82.5,-2.34  85,-2.34  85,-2.35 87.5,-2.35 87.5,-2.45  90,-2.45  90,-2.49 92.5,-2.49 92.5,-2.5  95,-2.5  95,-2.55 97.5,-2.55 97.5,-2.69 100,-2.69 100,-2.73 102.5,-2.73 102.5,-2.72 105,-2.72 105,-2.76 107.5,-2.76 107.5,-2.87 110,-2.87 110,-2.93 112.5,-2.93 112.5,-3.07 115,-3.07 115,-3.07 117.5,-3.07 117.5,-3.25 120,-3.25 120,-3.34 122.5,-3.34 122.5,-3.44 125,-3.44 125,-3.59 127.5,-3.59 127.5,-3.72 130,-3.72 130,-3.86 132.5,-3.86 132.5,-3.99 135,-3.99 135,-4.17 137.5,-4.17 137.5,-4.31 140,-4.31 140,-4.46 142.5,-4.46 142.5,-4.6 145,-4.6 145,-4.66 147.5,-4.66 147.5,-4.75 150,-4.75 150,-5 152.5,-5 152.5,-5 155,-5 155,-4.99 157.5,-4.99 157.5,-3.6 160,-3.6 160,-2.77 162.5,-2.77 162.5,-2.15 165,-2.15 165,-1.81 167.5,-1.81 167.5,-1.54 170,-1.54 170,-1.29 172.5,-1.29 172.5,-1.14 175,-1.14 175,-0.949 177.5,-0.949 177.5,-0.829 180,-0.829 180,-0.709 182.5,-0.709 182.5,-0.647 185,-0.647 185,-0.535 187.5,-0.535 187.5,-0.487 190,-0.487 190,-0.425 192.5,-0.425 192.5,-0.336 195,-0.336 195,-0.316 197.5,-0.316 197.5,-0.276 200,-0.276 200,-0.224 202.5,-0.224 202.5,-0.22 205,-0.22 205,-0.204 207.5,-0.204 207.5,-0.173 210,-0.173 210,-0.132 212.5,-0.132 212.5,-0.121 215,-0.121 215,-0.112 217.5,-0.112 217.5,-0.107 220,-0.107 220,-0.0889 222.5,-0.0889 222.5,-0.066 225,-0.066 225,-0.0648 227.5,-0.0648 227.5,-0.0575 230,-0.0575 230,-0.0506 232.5,-0.0506 232.5,-0.0397 235,-0.0397 235,-0.0443 237.5,-0.0443 237.5,-0.0365 240,-0.0365 240,-0.0314 242.5,-0.0314 242.5,-0.0247 245,-0.0247 245,-0.0255 247.5,-0.0255 247.5,-0.0206 250,-0.0206 250,0\" style=\"fill:none; stroke:currentColor;\"/>\n",
       "</svg>\n",
       "</div>\n",
       "<div style=\"flex=grow:1;\">\n",
       "Regular(100, 0, 5, label='Axis 0')<br/>\n",
       "<hr style=\"margin-top:.2em; margin-bottom:.2em;\"/>\n",
       "Double() Σ=2021989.0 <em>(2023850.0 with flow)</em>\n",
       "\n",
       "</div>\n",
       "</div>\n",
       "</html>"
      ],
      "text/plain": [
       "Hist(Regular(100, 0, 5, label='Axis 0'), storage=Double()) # Sum: 2021989.0 (2023850.0 with flow)"
      ]
     },
     "execution_count": 45,
     "metadata": {},
     "output_type": "execute_result"
    }
   ],
   "source": [
    "hist.Hist.new.Reg(100, 0, 5).Double().fill(\n",
    "    ak.flatten(mu.deltaR(g)[abs(g.pdgId) == 13], axis=None)\n",
    ")"
   ]
  },
  {
   "cell_type": "code",
   "execution_count": 46,
   "id": "f2a3b3b6-6f11-4164-9b95-78f513b70b83",
   "metadata": {},
   "outputs": [
    {
     "data": {
      "text/html": [
       "<html>\n",
       "<div style=\"display:flex; align-items:center;\">\n",
       "<div style=\"width:290px;\">\n",
       "<svg xmlns=\"http://www.w3.org/2000/svg\" viewBox=\"-10 -105 270 120\">\n",
       "<line x1=\"-5\" y1=\"0\" x2=\"255\" y2=\"0\" style=\"fill:none;stroke-width:2;stroke:currentColor\"/>\n",
       "<text text-anchor=\"middle\" x=\"0\" y=\"15\" style=\"fill:currentColor;\">\n",
       "0\n",
       "</text>\n",
       "<text text-anchor=\"middle\" x=\"250\" y=\"15\" style=\"fill:currentColor;\">\n",
       "5\n",
       "</text>\n",
       "<text text-anchor=\"middle\" x=\"125.0\" y=\"15\" style=\"fill:currentColor;\">\n",
       "Axis 0\n",
       "</text>\n",
       "<polyline points=\"  0,0   0,-100 2.5,-100 2.5,-1.97   5,-1.97   5,-0.841 7.5,-0.841 7.5,-0.377  10,-0.377  10,-0.2 12.5,-0.2 12.5,-0.157  15,-0.157  15,-0.157 17.5,-0.157 17.5,-0.172  20,-0.172  20,-0.167 22.5,-0.167 22.5,-0.169  25,-0.169  25,-0.181 27.5,-0.181 27.5,-0.171  30,-0.171  30,-0.179 32.5,-0.179 32.5,-0.161  35,-0.161  35,-0.159 37.5,-0.159 37.5,-0.154  40,-0.154  40,-0.148 42.5,-0.148 42.5,-0.133  45,-0.133  45,-0.139 47.5,-0.139 47.5,-0.125  50,-0.125  50,-0.12 52.5,-0.12 52.5,-0.115  55,-0.115  55,-0.0962 57.5,-0.0962 57.5,-0.106  60,-0.106  60,-0.0877 62.5,-0.0877 62.5,-0.0936  65,-0.0936  65,-0.0893 67.5,-0.0893 67.5,-0.0916  70,-0.0916  70,-0.0749 72.5,-0.0749 72.5,-0.0716  75,-0.0716  75,-0.0757 77.5,-0.0757 77.5,-0.0767  80,-0.0767  80,-0.0711 82.5,-0.0711 82.5,-0.0711  85,-0.0711  85,-0.0675 87.5,-0.0675 87.5,-0.0721  90,-0.0721  90,-0.0632 92.5,-0.0632 92.5,-0.0696  95,-0.0696  95,-0.0532 97.5,-0.0532 97.5,-0.055 100,-0.055 100,-0.0583 102.5,-0.0583 102.5,-0.0527 105,-0.0527 105,-0.0522 107.5,-0.0522 107.5,-0.0524 110,-0.0524 110,-0.0506 112.5,-0.0506 112.5,-0.0448 115,-0.0448 115,-0.0417 117.5,-0.0417 117.5,-0.0422 120,-0.0422 120,-0.0402 122.5,-0.0402 122.5,-0.0448 125,-0.0448 125,-0.0345 127.5,-0.0345 127.5,-0.034 130,-0.034 130,-0.0312 132.5,-0.0312 132.5,-0.0312 135,-0.0312 135,-0.0348 137.5,-0.0348 137.5,-0.033 140,-0.033 140,-0.0307 142.5,-0.0307 142.5,-0.0202 145,-0.0202 145,-0.0248 147.5,-0.0248 147.5,-0.0248 150,-0.0248 150,-0.0251 152.5,-0.0251 152.5,-0.021 155,-0.021 155,-0.0171 157.5,-0.0171 157.5,-0.0182 160,-0.0182 160,-0.0141 162.5,-0.0141 162.5,-0.0141 165,-0.0141 165,-0.0156 167.5,-0.0156 167.5,-0.011 170,-0.011 170,-0.00742 172.5,-0.00742 172.5,-0.00997 175,-0.00997 175,-0.00793 177.5,-0.00793 177.5,-0.0107 180,-0.0107 180,-0.00895 182.5,-0.00895 182.5,-0.00665 185,-0.00665 185,-0.00307 187.5,-0.00307 187.5,-0.00384 190,-0.00384 190,-0.00307 192.5,-0.00307 192.5,-0.00205 195,-0.00205 195,-0.00307 197.5,-0.00307 197.5,-0.00102 200,-0.00102 200,-0.00409 202.5,-0.00409 202.5,-0.00256 205,-0.00256 205,-0.00102 207.5,-0.00102 207.5,-0.00256 210,-0.00256 210,-0.000767 212.5,-0.000767 212.5,-0.00205 215,-0.00205 215,-0.00128 217.5,-0.00128 217.5,-0.00153 220,-0.00153 220,-0.000767 222.5,-0.000767 222.5,-0.000767 225,-0.000767 225,-0 227.5,-0 227.5,-0.000767 230,-0.000767 230,-0.000256 232.5,-0.000256 232.5,-0.000512 235,-0.000512 235,-0 237.5,-0 237.5,-0.000512 240,-0.000512 240,-0.000767 242.5,-0.000767 242.5,-0.000256 245,-0.000256 245,-0.000512 247.5,-0.000512 247.5,-0 250,-0 250,0\" style=\"fill:none; stroke:currentColor;\"/>\n",
       "</svg>\n",
       "</div>\n",
       "<div style=\"flex=grow:1;\">\n",
       "Regular(100, 0, 5, label='Axis 0')<br/>\n",
       "<hr style=\"margin-top:.2em; margin-bottom:.2em;\"/>\n",
       "Double() Σ=423736.0 <em>(423743.0 with flow)</em>\n",
       "\n",
       "</div>\n",
       "</div>\n",
       "</html>"
      ],
      "text/plain": [
       "Hist(Regular(100, 0, 5, label='Axis 0'), storage=Double()) # Sum: 423736.0 (423743.0 with flow)"
      ]
     },
     "execution_count": 46,
     "metadata": {},
     "output_type": "execute_result"
    }
   ],
   "source": [
    "hist.Hist.new.Reg(100, 0, 5).Double().fill(\n",
    "    ak.flatten(ak.min(mu.deltaR(g), axis=-1), axis=None)\n",
    ")"
   ]
  },
  {
   "cell_type": "code",
   "execution_count": 47,
   "id": "7d472fd1-e69b-4b52-ac15-cb07deb615c1",
   "metadata": {},
   "outputs": [
    {
     "data": {
      "text/plain": [
       "<Array [[], [[0], [1]], ... [1], [2], [3]]] type='299683 * var * var * ?int64'>"
      ]
     },
     "execution_count": 47,
     "metadata": {},
     "output_type": "execute_result"
    }
   ],
   "source": [
    "best = ak.argmin(mu.deltaR(g), axis=-1, keepdims=True)\n",
    "best"
   ]
  },
  {
   "cell_type": "code",
   "execution_count": 48,
   "id": "f644c1db-2e12-4228-a3f5-5729b8bdb2ca",
   "metadata": {},
   "outputs": [
    {
     "data": {
      "text/plain": [
       "<Array [[], [[{muon: {, ... pdgId: 13}}]]] type='299683 * var * var * ?{\"muon\": ...'>"
      ]
     },
     "execution_count": 48,
     "metadata": {},
     "output_type": "execute_result"
    }
   ],
   "source": [
    "reco_gen[best]"
   ]
  },
  {
   "cell_type": "code",
   "execution_count": 49,
   "id": "caef1c5a-6f84-45cd-98e9-7a59f456eaf4",
   "metadata": {},
   "outputs": [
    {
     "data": {
      "text/plain": [
       "[[],\n",
       " [{'muon': {'pt': 18.583789825439453,\n",
       "    'eta': -0.17873963713645935,\n",
       "    'phi': 2.1292223930358887,\n",
       "    'mass': 0.10565836727619171,\n",
       "    'charge': 1},\n",
       "   'gen': {'pt': 18.733409881591797,\n",
       "    'eta': -0.17861033976078033,\n",
       "    'phi': 2.1295831203460693,\n",
       "    'pdgId': -13}},\n",
       "  {'muon': {'pt': 23.630338668823242,\n",
       "    'eta': 0.22412824630737305,\n",
       "    'phi': -2.0946476459503174,\n",
       "    'mass': 0.10565836727619171,\n",
       "    'charge': -1},\n",
       "   'gen': {'pt': 23.816869735717773,\n",
       "    'eta': 0.22458051145076752,\n",
       "    'phi': -2.0947155952453613,\n",
       "    'pdgId': 13}}],\n",
       " [],\n",
       " [{'muon': {'pt': 26.678863525390625,\n",
       "    'eta': -1.2300245761871338,\n",
       "    'phi': -1.3949246406555176,\n",
       "    'mass': 0.10565836727619171,\n",
       "    'charge': -1},\n",
       "   'gen': {'pt': 26.755929946899414,\n",
       "    'eta': -1.2301405668258667,\n",
       "    'phi': -1.3949953317642212,\n",
       "    'pdgId': 13}},\n",
       "  {'muon': {'pt': 21.356121063232422,\n",
       "    'eta': 1.2668139934539795,\n",
       "    'phi': 1.0259664058685303,\n",
       "    'mass': 0.10565836727619171,\n",
       "    'charge': 1},\n",
       "   'gen': {'pt': 22.26161003112793,\n",
       "    'eta': 1.266518235206604,\n",
       "    'phi': 1.0261328220367432,\n",
       "    'pdgId': -13}},\n",
       "  {'muon': {'pt': 5.6486287117004395,\n",
       "    'eta': 0.8799014091491699,\n",
       "    'phi': 0.07848669588565826,\n",
       "    'mass': 0.10565836727619171,\n",
       "    'charge': 1},\n",
       "   'gen': {'pt': 22.26161003112793,\n",
       "    'eta': 1.266518235206604,\n",
       "    'phi': 1.0261328220367432,\n",
       "    'pdgId': -13}}]]"
      ]
     },
     "execution_count": 49,
     "metadata": {},
     "output_type": "execute_result"
    }
   ],
   "source": [
    "ak.flatten(reco_gen[best], axis=-1)[:4].tolist()"
   ]
  },
  {
   "cell_type": "code",
   "execution_count": 50,
   "id": "3d32daa1-416a-421a-8a14-b6aa6a5e4225",
   "metadata": {},
   "outputs": [],
   "source": [
    "import numba as nb"
   ]
  },
  {
   "cell_type": "code",
   "execution_count": 51,
   "id": "97e82859-8c1a-41f8-b3df-2bde39de6a0c",
   "metadata": {},
   "outputs": [
    {
     "name": "stdout",
     "output_type": "stream",
     "text": [
      "total time: 37.60730266571045 sec\n"
     ]
    }
   ],
   "source": [
    "starttime = time.time()\n",
    "\n",
    "sumpt = np.zeros(len(array), np.float64)\n",
    "for i, event in enumerate(array):\n",
    "    for muon in event.muons:\n",
    "        sumpt[i] += muon.pt\n",
    "\n",
    "python_time = time.time() - starttime\n",
    "print(f\"total time: {python_time} sec\")"
   ]
  },
  {
   "cell_type": "code",
   "execution_count": 52,
   "id": "c31b3d78-ac2e-4ad3-89af-7e0b7154039d",
   "metadata": {},
   "outputs": [],
   "source": [
    "@nb.jit\n",
    "def calculate_sumpt(array):\n",
    "    out = np.zeros(len(array), np.float64)\n",
    "    for i, event in enumerate(array):\n",
    "        for muon in event.muons:\n",
    "            out[i] += muon.pt\n",
    "    return out"
   ]
  },
  {
   "cell_type": "code",
   "execution_count": 53,
   "id": "7f881e35-6854-4156-ba34-828e420ac09d",
   "metadata": {},
   "outputs": [
    {
     "data": {
      "text/plain": [
       "array([  0.        ,  42.21412849,   0.        , ...,  26.54553461,\n",
       "        91.49959946, 108.89332008])"
      ]
     },
     "execution_count": 53,
     "metadata": {},
     "output_type": "execute_result"
    }
   ],
   "source": [
    "calculate_sumpt(array)"
   ]
  },
  {
   "cell_type": "code",
   "execution_count": 54,
   "id": "3298e66a-766f-4f62-b1d3-66150bead7fc",
   "metadata": {},
   "outputs": [
    {
     "name": "stdout",
     "output_type": "stream",
     "text": [
      "total time: 0.0028619766235351562 sec\n"
     ]
    }
   ],
   "source": [
    "starttime = time.time()\n",
    "\n",
    "sumpt = calculate_sumpt(array)\n",
    "\n",
    "numba_time = time.time() - starttime\n",
    "print(f\"total time: {numba_time} sec\")"
   ]
  },
  {
   "cell_type": "code",
   "execution_count": 55,
   "id": "55c1719a-115e-4ffb-92ce-1418846aa374",
   "metadata": {},
   "outputs": [
    {
     "data": {
      "text/plain": [
       "13140.324891702765"
      ]
     },
     "execution_count": 55,
     "metadata": {},
     "output_type": "execute_result"
    }
   ],
   "source": [
    "python_time / numba_time"
   ]
  },
  {
   "cell_type": "code",
   "execution_count": 58,
   "id": "320b94b1-612c-4eb3-8526-1abfb39160d3",
   "metadata": {},
   "outputs": [
    {
     "name": "stdout",
     "output_type": "stream",
     "text": [
      "total time: 0.08374428749084473 sec\n"
     ]
    }
   ],
   "source": [
    "starttime = time.time()\n",
    "\n",
    "sumpt = ak.sum(array, axis=-1)\n",
    "\n",
    "awkward_time = time.time() - starttime\n",
    "print(f\"total time: {awkward_time} sec\")"
   ]
  },
  {
   "cell_type": "code",
   "execution_count": 59,
   "id": "a5dd08ef-2ff9-494a-9c32-93e2af901225",
   "metadata": {},
   "outputs": [
    {
     "data": {
      "text/plain": [
       "449.07305074178146"
      ]
     },
     "execution_count": 59,
     "metadata": {},
     "output_type": "execute_result"
    }
   ],
   "source": [
    "python_time / awkward_time"
   ]
  },
  {
   "cell_type": "code",
   "execution_count": 60,
   "id": "c1bcb528-adf2-4e39-8b8c-2d48ad4958e5",
   "metadata": {},
   "outputs": [
    {
     "data": {
      "text/plain": [
       "<Array [[], [18.6, 23.6, ... 36.4, 19.6, 22.6]] type='299683 * var * float64'>"
      ]
     },
     "execution_count": 60,
     "metadata": {},
     "output_type": "execute_result"
    }
   ],
   "source": [
    "@nb.jit\n",
    "def build_nested(array, builder):\n",
    "    for event in array:\n",
    "        builder.begin_list()\n",
    "        \n",
    "        for muon in event.muons:\n",
    "            builder.append(muon.pt)\n",
    "        \n",
    "        builder.end_list()\n",
    "    \n",
    "    return builder\n",
    "\n",
    "build_nested(array, ak.ArrayBuilder()).snapshot()"
   ]
  },
  {
   "cell_type": "code",
   "execution_count": 61,
   "id": "461934cb-d86d-4c2f-ae78-6b70c4e2999b",
   "metadata": {},
   "outputs": [
    {
     "data": {
      "text/plain": [
       "<Array [[], [18.6, 23.6, ... 36.4, 19.6, 22.6]] type='299683 * var * float32'>"
      ]
     },
     "execution_count": 61,
     "metadata": {},
     "output_type": "execute_result"
    }
   ],
   "source": [
    "array.muons.pt"
   ]
  },
  {
   "cell_type": "code",
   "execution_count": 74,
   "id": "939db3f2-105a-4c9f-b915-d4360189879f",
   "metadata": {},
   "outputs": [
    {
     "data": {
      "text/plain": [
       "<Array [[], [0, 1], [], ... 2], [0, 1, 2, 3]] type='299683 * var * int64'>"
      ]
     },
     "execution_count": 74,
     "metadata": {},
     "output_type": "execute_result"
    }
   ],
   "source": [
    "@nb.jit\n",
    "def matching(array_muons, array_gen, builder):\n",
    "    for muons_event, gen_event in zip(array_muons, array_gen):\n",
    "        builder.begin_list()\n",
    "\n",
    "        for muon in muons_event:\n",
    "            best_i = -1\n",
    "            best_dr = -1.0\n",
    "            for i, gen in enumerate(gen_event):\n",
    "                dr = muon.deltaR(gen)\n",
    "                if best_i < 0 or dr < best_dr:\n",
    "                    best_i = i\n",
    "                    best_dr = dr\n",
    "\n",
    "            if best_i < 0:\n",
    "                builder.append(None)\n",
    "            else:\n",
    "                builder.append(best_i)\n",
    "\n",
    "        builder.end_list()\n",
    "\n",
    "    return builder\n",
    "\n",
    "index_of_best = matching(muons, gen, ak.ArrayBuilder()).snapshot()\n",
    "index_of_best"
   ]
  },
  {
   "cell_type": "code",
   "execution_count": 78,
   "id": "99772fba-3fa2-4029-acc5-869326199f6f",
   "metadata": {},
   "outputs": [
    {
     "data": {
      "text/plain": [
       "<MomentumArray3D [[], [{pt: 18.7, ... pdgId: 13}]] type='299683 * var * Momentum...'>"
      ]
     },
     "execution_count": 78,
     "metadata": {},
     "output_type": "execute_result"
    }
   ],
   "source": [
    "gen_match = gen[index_of_best]\n",
    "gen_match"
   ]
  },
  {
   "cell_type": "code",
   "execution_count": 79,
   "id": "770db62e-0b0c-44ed-affa-46d40fabeebd",
   "metadata": {},
   "outputs": [
    {
     "data": {
      "text/plain": [
       "(<Array [6, 6, 1, 5, 10, 2, ... 3, 7, 7, 6, 8] type='299683 * int64'>,\n",
       " <Array [0, 2, 0, 3, 1, 1, ... 5, 2, 0, 2, 3, 4] type='299683 * int64'>,\n",
       " <Array [0, 2, 0, 3, 1, 1, ... 5, 2, 0, 2, 3, 4] type='299683 * int64'>)"
      ]
     },
     "execution_count": 79,
     "metadata": {},
     "output_type": "execute_result"
    }
   ],
   "source": [
    "ak.num(gen), ak.num(muons), ak.num(gen_match)"
   ]
  },
  {
   "cell_type": "code",
   "execution_count": 81,
   "id": "5728452e-9555-4f9a-9bc7-43715c5ba47a",
   "metadata": {},
   "outputs": [
    {
     "data": {
      "text/plain": [
       "<Array [[], [{muons: {, ... pdgId: 13}}]] type='299683 * var * {\"muons\": Momentu...'>"
      ]
     },
     "execution_count": 81,
     "metadata": {},
     "output_type": "execute_result"
    }
   ],
   "source": [
    "ak.zip({\"muons\": muons, \"gen\": gen_match})"
   ]
  },
  {
   "cell_type": "code",
   "execution_count": null,
   "id": "17ad82aa-b12a-4fdd-b77a-cc5f761b3f81",
   "metadata": {},
   "outputs": [],
   "source": []
  }
 ],
 "metadata": {
  "kernelspec": {
   "display_name": "Python 3",
   "language": "python",
   "name": "python3"
  },
  "language_info": {
   "codemirror_mode": {
    "name": "ipython",
    "version": 3
   },
   "file_extension": ".py",
   "mimetype": "text/x-python",
   "name": "python",
   "nbconvert_exporter": "python",
   "pygments_lexer": "ipython3",
   "version": "3.8.10"
  }
 },
 "nbformat": 4,
 "nbformat_minor": 5
}
