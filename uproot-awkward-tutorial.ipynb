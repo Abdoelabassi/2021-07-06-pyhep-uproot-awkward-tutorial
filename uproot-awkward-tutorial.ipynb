{
 "cells": [
  {
   "cell_type": "markdown",
   "id": "4bcae8d3-559c-438d-bffe-75f7e9ce5a58",
   "metadata": {},
   "source": [
    "# Uproot and Awkward Array tutorial\n",
    "\n",
    "**July 6, 2021 at PyHEP**"
   ]
  },
  {
   "cell_type": "markdown",
   "id": "2d043e3b-6cfc-407c-ad20-c887928270f7",
   "metadata": {},
   "source": [
    "<br><br><br><br><br>\n",
    "\n",
    "## Z peak in PyROOT\n",
    "\n",
    "Let's start with the most straightforward way to analyze HEP data in Python: \"for\" loops in PyROOT."
   ]
  },
  {
   "cell_type": "code",
   "execution_count": 1,
   "id": "69584fef-686a-4292-b574-b83d04300043",
   "metadata": {},
   "outputs": [
    {
     "name": "stdout",
     "output_type": "stream",
     "text": [
      "Welcome to JupyROOT 6.24/00\n"
     ]
    }
   ],
   "source": [
    "import time\n",
    "import numpy as np\n",
    "import ROOT\n",
    "\n",
    "canvas = ROOT.TCanvas()"
   ]
  },
  {
   "cell_type": "code",
   "execution_count": 2,
   "id": "fcc5a088-2488-4dc0-a505-94a58e5c50ab",
   "metadata": {},
   "outputs": [],
   "source": [
    "rootfile = ROOT.TFile.Open(\"data/HiggsZZ4mu.root\")\n",
    "roottree = rootfile.Get(\"Events\")"
   ]
  },
  {
   "cell_type": "code",
   "execution_count": 3,
   "id": "bf54100c-9299-4055-a3e9-f904dad177bd",
   "metadata": {},
   "outputs": [
    {
     "name": "stdout",
     "output_type": "stream",
     "text": [
      "total time: 19.789664268493652 sec\n"
     ]
    }
   ],
   "source": [
    "starttime = time.time()\n",
    "\n",
    "roothist = ROOT.TH1D(\"roothist\", \"mass\", 120, 0, 120)\n",
    "\n",
    "for index, event in enumerate(roottree):\n",
    "    # cuts are \"if\" statements\n",
    "    if event.nMuon >= 2 and event.Muon_charge[0] + event.Muon_charge[1] == 0:\n",
    "        mu1_pt = event.Muon_pt[0]\n",
    "        mu2_pt = event.Muon_pt[1]\n",
    "        mu1_eta = event.Muon_eta[0]\n",
    "        mu2_eta = event.Muon_eta[1]\n",
    "        mu1_phi = event.Muon_phi[0]\n",
    "        mu2_phi = event.Muon_phi[1]\n",
    "\n",
    "        # histograms are filled in the loop\n",
    "        roothist.Fill(\n",
    "            np.sqrt(2*mu1_pt*mu2_pt*(np.cosh(mu1_eta - mu2_eta) - np.cos(mu1_phi - mu2_phi)))\n",
    "        )\n",
    "\n",
    "pyroot_time = time.time() - starttime\n",
    "print(f\"total time: {pyroot_time} sec\")"
   ]
  },
  {
   "cell_type": "code",
   "execution_count": 4,
   "id": "70f7ff13-cc46-479b-9941-d92a7d6f17f8",
   "metadata": {},
   "outputs": [
    {
     "data": {
      "image/png": "[encoded data removed]",
      "text/plain": [
       "<IPython.core.display.Image object>"
      ]
     },
     "metadata": {},
     "output_type": "display_data"
    }
   ],
   "source": [
    "roothist.Draw()\n",
    "canvas.Draw()"
   ]
  },
  {
   "cell_type": "markdown",
   "id": "899e5555-3bc5-411b-bef7-53d71fff74e7",
   "metadata": {},
   "source": [
    "<br><br><br><br><br>\n",
    "\n",
    "## Z peak in C++ ROOT\n",
    "\n",
    "It works, but 20 seconds is a long time to wait for 1/8 million dimuons.\n",
    "\n",
    "The traditional way to speed things up is to translate it into C++."
   ]
  },
  {
   "cell_type": "code",
   "execution_count": 5,
   "id": "db10d15c-3040-46d7-b364-a1d29de01829",
   "metadata": {},
   "outputs": [
    {
     "data": {
      "text/plain": [
       "True"
      ]
     },
     "execution_count": 5,
     "metadata": {},
     "output_type": "execute_result"
    }
   ],
   "source": [
    "ROOT.gInterpreter.Declare('''\n",
    "void compute(TH1D& roothist, TTree& roottree) {\n",
    "    UInt_t nMuon;\n",
    "    float Muon_pt[50];\n",
    "    float Muon_eta[50];\n",
    "    float Muon_phi[50];\n",
    "    int32_t Muon_charge[50];\n",
    "\n",
    "    roottree.SetBranchStatus(\"*\", 0);\n",
    "    roottree.SetBranchStatus(\"nMuon\", 1);\n",
    "    roottree.SetBranchStatus(\"Muon_pt\", 1);\n",
    "    roottree.SetBranchStatus(\"Muon_eta\", 1);\n",
    "    roottree.SetBranchStatus(\"Muon_phi\", 1);\n",
    "    roottree.SetBranchStatus(\"Muon_charge\", 1);\n",
    "\n",
    "    roottree.SetBranchAddress(\"nMuon\", &nMuon);\n",
    "    roottree.SetBranchAddress(\"Muon_pt\", Muon_pt);\n",
    "    roottree.SetBranchAddress(\"Muon_eta\", Muon_eta);\n",
    "    roottree.SetBranchAddress(\"Muon_phi\", Muon_phi);\n",
    "    roottree.SetBranchAddress(\"Muon_charge\", Muon_charge);\n",
    "\n",
    "    for (int index = 0; index < 100000; index++) {\n",
    "        roottree.GetEntry(index);\n",
    "        if (nMuon >= 2 && Muon_charge[0] + Muon_charge[1] == 0) {\n",
    "            float mu1_pt = Muon_pt[0];\n",
    "            float mu2_pt = Muon_pt[1];\n",
    "            float mu1_eta = Muon_eta[0];\n",
    "            float mu2_eta = Muon_eta[1];\n",
    "            float mu1_phi = Muon_phi[0];\n",
    "            float mu2_phi = Muon_phi[1];\n",
    "            roothist.Fill(\n",
    "                sqrt(2*mu1_pt*mu2_pt*(cosh(mu1_eta - mu2_eta) - cos(mu1_phi - mu2_phi)))\n",
    "            );\n",
    "        }\n",
    "    }\n",
    "}\n",
    "''')"
   ]
  },
  {
   "cell_type": "markdown",
   "id": "39ff14c0-aabc-4b9b-908b-bfb09b2e1a65",
   "metadata": {},
   "source": [
    "ROOT lets you compile a C++ function and run it through PyROOT.\n",
    "\n",
    "The important thing here is that the _loop over events_ is in the compiled code."
   ]
  },
  {
   "cell_type": "code",
   "execution_count": 6,
   "id": "43265ef2-14c4-4979-81d1-563ab6d7d8f4",
   "metadata": {},
   "outputs": [
    {
     "name": "stdout",
     "output_type": "stream",
     "text": [
      "total time: 0.03395485877990723 sec\n"
     ]
    }
   ],
   "source": [
    "starttime = time.time()\n",
    "\n",
    "roothist2 = ROOT.TH1D(\"roothist2\", \"mass\", 120, 0, 120)\n",
    "\n",
    "ROOT.compute(roothist2, roottree)\n",
    "\n",
    "cpproot_time = time.time() - starttime\n",
    "print(f\"total time: {cpproot_time} sec\")"
   ]
  },
  {
   "cell_type": "code",
   "execution_count": 7,
   "id": "d5a20bdf-3a3c-4767-85b6-26bc37ebcdea",
   "metadata": {},
   "outputs": [
    {
     "data": {
      "text/plain": [
       "582.8227529016901"
      ]
     },
     "execution_count": 7,
     "metadata": {},
     "output_type": "execute_result"
    }
   ],
   "source": [
    "pyroot_time / cpproot_time"
   ]
  },
  {
   "cell_type": "code",
   "execution_count": 8,
   "id": "2de975f3-9e2c-4f82-adfb-d2b530ae8e4a",
   "metadata": {},
   "outputs": [
    {
     "data": {
      "image/png": "[encoded data removed]",
      "text/plain": [
       "<IPython.core.display.Image object>"
      ]
     },
     "metadata": {},
     "output_type": "display_data"
    }
   ],
   "source": [
    "roothist2.Draw()\n",
    "canvas.Draw()"
   ]
  },
  {
   "cell_type": "markdown",
   "id": "da2f4e44-9061-49c8-9fac-70a7722cf5dd",
   "metadata": {},
   "source": [
    "<br><br><br><br><br>\n",
    "\n",
    "## Z peak in RDataFrame\n",
    "\n",
    "RDataFrame is the modern way to build workflows over HEP data in ROOT.\n",
    "\n",
    "Each node in this pipeline is compiled in C++. The pipeline itself can be built in Python.\n",
    "\n",
    "<img src=\"img/rdataframe-flow.svg\" style=\"width: 800px\">"
   ]
  },
  {
   "cell_type": "code",
   "execution_count": 9,
   "id": "c66bd859-ce83-43c3-b05a-551e1d3836c3",
   "metadata": {},
   "outputs": [],
   "source": [
    "df = ROOT.RDataFrame(\"Events\", \"data/HiggsZZ4mu.root\")\n",
    "\n",
    "# Each node is connected to the previous, in a chain (which can split and recombine).\n",
    "df_2mu = df.Filter(\"nMuon >= 2\")\n",
    "df_os = df_2mu.Filter(\"Muon_charge[0] + Muon_charge[1] == 0\")\n",
    "\n",
    "# This node is a big C++ block.\n",
    "df_mass = df_os.Define(\"Dimuon_mass\", '''\n",
    "float mu1_pt = Muon_pt[0];\n",
    "float mu2_pt = Muon_pt[1];\n",
    "float mu1_eta = Muon_eta[0];\n",
    "float mu2_eta = Muon_eta[1];\n",
    "float mu1_phi = Muon_phi[0];\n",
    "float mu2_phi = Muon_phi[1];\n",
    "return sqrt(2*mu1_pt*mu2_pt*(cosh(mu1_eta - mu2_eta) - cos(mu1_phi - mu2_phi)));\n",
    "''')\n",
    "\n",
    "roothist3 = df_mass.Histo1D((\"h3\", \"mass\", 120, 0, 120), \"Dimuon_mass\")"
   ]
  },
  {
   "cell_type": "markdown",
   "id": "55a5d8e8-499b-4c06-b06b-2baddec502a5",
   "metadata": {},
   "source": [
    "The calculation doesn't actually start until you attempt to look at a result (convert to NumPy or draw a plot)."
   ]
  },
  {
   "cell_type": "code",
   "execution_count": 10,
   "id": "ce89cea2-50c7-425c-ab60-75a94e027404",
   "metadata": {},
   "outputs": [
    {
     "name": "stdout",
     "output_type": "stream",
     "text": [
      "total time: 1.8850862979888916 sec\n"
     ]
    }
   ],
   "source": [
    "starttime = time.time()\n",
    "\n",
    "# This one is an endpoint (action).\n",
    "array = df_mass.AsNumpy([\"Dimuon_mass\"])\n",
    "\n",
    "rdfroot_time = time.time() - starttime\n",
    "print(f\"total time: {rdfroot_time} sec\")"
   ]
  },
  {
   "cell_type": "code",
   "execution_count": 11,
   "id": "2fe35303-5881-44c8-8b5e-77b1816e38e3",
   "metadata": {},
   "outputs": [
    {
     "data": {
      "text/plain": [
       "10.498015019050479"
      ]
     },
     "execution_count": 11,
     "metadata": {},
     "output_type": "execute_result"
    }
   ],
   "source": [
    "pyroot_time / rdfroot_time"
   ]
  },
  {
   "cell_type": "code",
   "execution_count": 12,
   "id": "8791d881-bcb0-4282-aae2-1155decc07eb",
   "metadata": {},
   "outputs": [
    {
     "data": {
      "text/plain": [
       "{'Dimuon_mass': ndarray([36.91503 , 88.4434  , 22.870972, ..., 26.973433, 68.36317 ,\n",
       "          68.305984], dtype=float32)}"
      ]
     },
     "execution_count": 12,
     "metadata": {},
     "output_type": "execute_result"
    }
   ],
   "source": [
    "array"
   ]
  },
  {
   "cell_type": "code",
   "execution_count": 13,
   "id": "cec12ccb-f2c6-4c5a-b0b3-56158ce140f0",
   "metadata": {},
   "outputs": [
    {
     "data": {
      "image/png": "[encoded data removed]",
      "text/plain": [
       "<IPython.core.display.Image object>"
      ]
     },
     "metadata": {},
     "output_type": "display_data"
    }
   ],
   "source": [
    "roothist3.Draw()\n",
    "canvas.Draw()"
   ]
  },
  {
   "cell_type": "markdown",
   "id": "eb39a093-8878-44ca-b3ef-442ac3b7294f",
   "metadata": {},
   "source": [
    "<br><br><br><br><br>\n",
    "\n",
    "## Uproot and Awkward Array\n",
    "\n",
    "Uproot's approach is different: each Python command operates on a whole array at a time (like NumPy).\n",
    "\n",
    "Loops over all events happen in compiled code, but you don't write that code—you combine primitives to build a workflow."
   ]
  },
  {
   "cell_type": "code",
   "execution_count": 14,
   "id": "ec394a10-cdf5-4cd7-81c1-d39841b267fb",
   "metadata": {},
   "outputs": [],
   "source": [
    "import awkward as ak\n",
    "import uproot\n",
    "import hist"
   ]
  },
  {
   "cell_type": "markdown",
   "id": "457128a9-8817-42fb-ab08-02571707a6ba",
   "metadata": {},
   "source": [
    "Open a file and look at its contents."
   ]
  },
  {
   "cell_type": "code",
   "execution_count": 15,
   "id": "1075396f-916b-45a7-9b88-4a453407b16f",
   "metadata": {},
   "outputs": [
    {
     "name": "stdout",
     "output_type": "stream",
     "text": [
      "name                 | typename                 | interpretation                \n",
      "---------------------+--------------------------+-------------------------------\n",
      "run                  | int32_t                  | AsDtype('>i4')\n",
      "luminosityBlock      | uint32_t                 | AsDtype('>u4')\n",
      "event                | uint64_t                 | AsDtype('>u8')\n",
      "nMuon                | uint32_t                 | AsDtype('>u4')\n",
      "Muon_pt              | float[]                  | AsJagged(AsDtype('>f4'))\n",
      "Muon_eta             | float[]                  | AsJagged(AsDtype('>f4'))\n",
      "Muon_phi             | float[]                  | AsJagged(AsDtype('>f4'))\n",
      "Muon_mass            | float[]                  | AsJagged(AsDtype('>f4'))\n",
      "Muon_charge          | int32_t[]                | AsJagged(AsDtype('>i4'))\n",
      "MET_pt               | float                    | AsDtype('>f4')\n",
      "MET_phi              | float                    | AsDtype('>f4')\n",
      "nGenPart             | uint32_t                 | AsDtype('>u4')\n",
      "GenPart_pt           | float[]                  | AsJagged(AsDtype('>f4'))\n",
      "GenPart_eta          | float[]                  | AsJagged(AsDtype('>f4'))\n",
      "GenPart_phi          | float[]                  | AsJagged(AsDtype('>f4'))\n",
      "GenPart_pdgId        | int32_t[]                | AsJagged(AsDtype('>i4'))\n"
     ]
    }
   ],
   "source": [
    "events = uproot.open(\"data/HiggsZZ4mu.root:Events\")\n",
    "events.show()"
   ]
  },
  {
   "cell_type": "markdown",
   "id": "c8fdfbd6-f635-4f94-826b-96ddcf0767d2",
   "metadata": {},
   "source": [
    "Extract some branches as an \"array of records\" (renaming the fields)."
   ]
  },
  {
   "cell_type": "code",
   "execution_count": 16,
   "id": "8c643a83-5f16-4541-8894-ca85fa07d0e4",
   "metadata": {},
   "outputs": [
    {
     "data": {
      "text/plain": [
       "<Array [{pt: [], eta: [], ... -1, 1, -1]}] type='299683 * {\"pt\": var * float32, ...'>"
      ]
     },
     "execution_count": 16,
     "metadata": {},
     "output_type": "execute_result"
    }
   ],
   "source": [
    "muons = events.arrays(\n",
    "    [\"pt\", \"eta\", \"phi\", \"charge\"],\n",
    "    aliases={\"pt\": \"Muon_pt\", \"eta\": \"Muon_eta\", \"phi\": \"Muon_phi\", \"charge\": \"Muon_charge\"}\n",
    ")\n",
    "muons"
   ]
  },
  {
   "cell_type": "code",
   "execution_count": 17,
   "id": "c4291101-d745-4668-98dd-47c931891516",
   "metadata": {},
   "outputs": [
    {
     "data": {
      "text/plain": [
       "['pt', 'eta', 'phi', 'charge']"
      ]
     },
     "execution_count": 17,
     "metadata": {},
     "output_type": "execute_result"
    }
   ],
   "source": [
    "muons.fields"
   ]
  },
  {
   "cell_type": "markdown",
   "id": "f6691e77-00c9-4462-9787-7ac8ad8ea8b4",
   "metadata": {},
   "source": [
    "A cut is an array of booleans, which we can construct as a formula."
   ]
  },
  {
   "cell_type": "code",
   "execution_count": 18,
   "id": "4d6249f5-9814-4f38-9f74-6fb7b1b9f9c7",
   "metadata": {},
   "outputs": [
    {
     "data": {
      "text/plain": [
       "<Array [False, True, False, ... True, True] type='299683 * bool'>"
      ]
     },
     "execution_count": 18,
     "metadata": {},
     "output_type": "execute_result"
    }
   ],
   "source": [
    "cut = (ak.num(muons.charge) >= 2) & (ak.sum(muons.charge[:, :2], axis=1) == 0)\n",
    "cut"
   ]
  },
  {
   "cell_type": "markdown",
   "id": "d6c9a03c-7541-4cf0-bc10-885e24158048",
   "metadata": {},
   "source": [
    "Applying a cut is a slice. In the same slice, we can pick the first (`0`) and second (`1`) muon in each event."
   ]
  },
  {
   "cell_type": "code",
   "execution_count": 19,
   "id": "446bd12e-56ed-4e58-8c4a-fd349f6797d4",
   "metadata": {},
   "outputs": [
    {
     "data": {
      "text/plain": [
       "(<Array [{pt: 18.6, eta: -0.179, ... charge: 1}] type='123800 * {\"pt\": float32, \"...'>,\n",
       " <Array [{pt: 23.6, eta: 0.224, ... charge: -1}] type='123800 * {\"pt\": float32, \"...'>)"
      ]
     },
     "execution_count": 19,
     "metadata": {},
     "output_type": "execute_result"
    }
   ],
   "source": [
    "mu1 = muons[cut, 0]\n",
    "mu2 = muons[cut, 1]\n",
    "mu1, mu2"
   ]
  },
  {
   "cell_type": "markdown",
   "id": "5332e882-64bb-4570-92ab-8a8fb035d52f",
   "metadata": {},
   "source": [
    "Let's use the [hist](https://github.com/scikit-hep/hist#readme) library for histograms."
   ]
  },
  {
   "cell_type": "code",
   "execution_count": 20,
   "id": "119f78f7-ccfb-49bf-a221-021b9ab88eb9",
   "metadata": {},
   "outputs": [
    {
     "data": {
      "text/html": [
       "<html>\n",
       "<div style=\"display:flex; align-items:center;\">\n",
       "<div style=\"width:290px;\">\n",
       "<svg xmlns=\"http://www.w3.org/2000/svg\" viewBox=\"-10 -105 270 120\">\n",
       "<line x1=\"-5\" y1=\"0\" x2=\"255\" y2=\"0\" style=\"fill:none;stroke-width:2;stroke:currentColor\"/>\n",
       "<text text-anchor=\"middle\" x=\"0\" y=\"15\" style=\"fill:currentColor;\">\n",
       "0\n",
       "</text>\n",
       "<text text-anchor=\"middle\" x=\"250\" y=\"15\" style=\"fill:currentColor;\">\n",
       "120\n",
       "</text>\n",
       "<text text-anchor=\"middle\" x=\"125.0\" y=\"15\" style=\"fill:currentColor;\">\n",
       "mass\n",
       "</text>\n",
       "<polyline points=\"  0,0   0,-0 2.08333,-0 2.08333,-0 4.16667,-0 4.16667,-0 6.25,-0 6.25,-0 8.33333,-0 8.33333,-0 10.4167,-0 10.4167,-0 12.5,-0 12.5,-0 14.5833,-0 14.5833,-0 16.6667,-0 16.6667,-0 18.75,-0 18.75,-0 20.8333,-0 20.8333,-0 22.9167,-0 22.9167,-0  25,-0  25,-0 27.0833,-0 27.0833,-0 29.1667,-0 29.1667,-0 31.25,-0 31.25,-0 33.3333,-0 33.3333,-0 35.4167,-0 35.4167,-0 37.5,-0 37.5,-0 39.5833,-0 39.5833,-0 41.6667,-0 41.6667,-0 43.75,-0 43.75,-0 45.8333,-0 45.8333,-0 47.9167,-0 47.9167,-0  50,-0  50,-0 52.0833,-0 52.0833,-0 54.1667,-0 54.1667,-0 56.25,-0 56.25,-0 58.3333,-0 58.3333,-0 60.4167,-0 60.4167,-0 62.5,-0 62.5,-0 64.5833,-0 64.5833,-0 66.6667,-0 66.6667,-0 68.75,-0 68.75,-0 70.8333,-0 70.8333,-0 72.9167,-0 72.9167,-0  75,-0  75,-0 77.0833,-0 77.0833,-0 79.1667,-0 79.1667,-0 81.25,-0 81.25,-0 83.3333,-0 83.3333,-0 85.4167,-0 85.4167,-0 87.5,-0 87.5,-0 89.5833,-0 89.5833,-0 91.6667,-0 91.6667,-0 93.75,-0 93.75,-0 95.8333,-0 95.8333,-0 97.9167,-0 97.9167,-0 100,-0 100,-0 102.083,-0 102.083,-0 104.167,-0 104.167,-0 106.25,-0 106.25,-0 108.333,-0 108.333,-0 110.417,-0 110.417,-0 112.5,-0 112.5,-0 114.583,-0 114.583,-0 116.667,-0 116.667,-0 118.75,-0 118.75,-0 120.833,-0 120.833,-0 122.917,-0 122.917,-0 125,-0 125,-0 127.083,-0 127.083,-0 129.167,-0 129.167,-0 131.25,-0 131.25,-0 133.333,-0 133.333,-0 135.417,-0 135.417,-0 137.5,-0 137.5,-0 139.583,-0 139.583,-0 141.667,-0 141.667,-0 143.75,-0 143.75,-0 145.833,-0 145.833,-0 147.917,-0 147.917,-0 150,-0 150,-0 152.083,-0 152.083,-0 154.167,-0 154.167,-0 156.25,-0 156.25,-0 158.333,-0 158.333,-0 160.417,-0 160.417,-0 162.5,-0 162.5,-0 164.583,-0 164.583,-0 166.667,-0 166.667,-0 168.75,-0 168.75,-0 170.833,-0 170.833,-0 172.917,-0 172.917,-0 175,-0 175,-0 177.083,-0 177.083,-0 179.167,-0 179.167,-0 181.25,-0 181.25,-0 183.333,-0 183.333,-0 185.417,-0 185.417,-0 187.5,-0 187.5,-0 189.583,-0 189.583,-0 191.667,-0 191.667,-0 193.75,-0 193.75,-0 195.833,-0 195.833,-0 197.917,-0 197.917,-0 200,-0 200,-0 202.083,-0 202.083,-0 204.167,-0 204.167,-0 206.25,-0 206.25,-0 208.333,-0 208.333,-0 210.417,-0 210.417,-0 212.5,-0 212.5,-0 214.583,-0 214.583,-0 216.667,-0 216.667,-0 218.75,-0 218.75,-0 220.833,-0 220.833,-0 222.917,-0 222.917,-0 225,-0 225,-0 227.083,-0 227.083,-0 229.167,-0 229.167,-0 231.25,-0 231.25,-0 233.333,-0 233.333,-0 235.417,-0 235.417,-0 237.5,-0 237.5,-0 239.583,-0 239.583,-0 241.667,-0 241.667,-0 243.75,-0 243.75,-0 245.833,-0 245.833,-0 247.917,-0 247.917,-0 250,-0 250,0\" style=\"fill:none; stroke:currentColor;\"/>\n",
       "</svg>\n",
       "</div>\n",
       "<div style=\"flex=grow:1;\">\n",
       "Regular(120, 0, 120, name='mass', label='mass')<br/>\n",
       "<hr style=\"margin-top:.2em; margin-bottom:.2em;\"/>\n",
       "Double() Σ=0.0\n",
       "\n",
       "</div>\n",
       "</div>\n",
       "</html>"
      ],
      "text/plain": [
       "Hist(Regular(120, 0, 120, name='mass', label='mass'), storage=Double())"
      ]
     },
     "execution_count": 20,
     "metadata": {},
     "output_type": "execute_result"
    }
   ],
   "source": [
    "h = hist.Hist.new.Reg(120, 0, 120, name=\"mass\").Double()\n",
    "h"
   ]
  },
  {
   "cell_type": "code",
   "execution_count": 21,
   "id": "3ab6f7ab-7286-4f56-948f-44a2e8cfec8b",
   "metadata": {},
   "outputs": [
    {
     "data": {
      "text/html": [
       "<html>\n",
       "<div style=\"display:flex; align-items:center;\">\n",
       "<div style=\"width:290px;\">\n",
       "<svg xmlns=\"http://www.w3.org/2000/svg\" viewBox=\"-10 -105 270 120\">\n",
       "<line x1=\"-5\" y1=\"0\" x2=\"255\" y2=\"0\" style=\"fill:none;stroke-width:2;stroke:currentColor\"/>\n",
       "<text text-anchor=\"middle\" x=\"0\" y=\"15\" style=\"fill:currentColor;\">\n",
       "0\n",
       "</text>\n",
       "<text text-anchor=\"middle\" x=\"250\" y=\"15\" style=\"fill:currentColor;\">\n",
       "120\n",
       "</text>\n",
       "<text text-anchor=\"middle\" x=\"125.0\" y=\"15\" style=\"fill:currentColor;\">\n",
       "mass\n",
       "</text>\n",
       "<polyline points=\"  0,0   0,-1.98 2.08333,-1.98 2.08333,-3.43 4.16667,-3.43 4.16667,-5.82 6.25,-5.82 6.25,-7.17 8.33333,-7.17 8.33333,-9.58 10.4167,-9.58 10.4167,-11.5 12.5,-11.5 12.5,-12.5 14.5833,-12.5 14.5833,-13.6 16.6667,-13.6 16.6667,-14.8 18.75,-14.8 18.75,-16 20.8333,-16 20.8333,-18.5 22.9167,-18.5 22.9167,-19.1  25,-19.1  25,-21.9 27.0833,-21.9 27.0833,-22.3 29.1667,-22.3 29.1667,-24.5 31.25,-24.5 31.25,-25.9 33.3333,-25.9 33.3333,-28.2 35.4167,-28.2 35.4167,-29 37.5,-29 37.5,-30.3 39.5833,-30.3 39.5833,-33.4 41.6667,-33.4 41.6667,-34.3 43.75,-34.3 43.75,-35.8 45.8333,-35.8 45.8333,-37.7 47.9167,-37.7 47.9167,-39.2  50,-39.2  50,-41.5 52.0833,-41.5 52.0833,-41.7 54.1667,-41.7 54.1667,-42 56.25,-42 56.25,-40.7 58.3333,-40.7 58.3333,-41.7 60.4167,-41.7 60.4167,-40.6 62.5,-40.6 62.5,-39.1 64.5833,-39.1 64.5833,-34.8 66.6667,-34.8 66.6667,-31.9 68.75,-31.9 68.75,-25.4 70.8333,-25.4 70.8333,-20.9 72.9167,-20.9 72.9167,-17.8  75,-17.8  75,-16.6 77.0833,-16.6 77.0833,-15.1 79.1667,-15.1 79.1667,-13.2 81.25,-13.2 81.25,-13.2 83.3333,-13.2 83.3333,-13.1 85.4167,-13.1 85.4167,-11.7 87.5,-11.7 87.5,-11.5 89.5833,-11.5 89.5833,-12.6 91.6667,-12.6 91.6667,-11.2 93.75,-11.2 93.75,-11.3 95.8333,-11.3 95.8333,-11.1 97.9167,-11.1 97.9167,-10.3 100,-10.3 100,-9.34 102.083,-9.34 102.083,-9.71 104.167,-9.71 104.167,-9.88 106.25,-9.88 106.25,-9.45 108.333,-9.45 108.333,-9.09 110.417,-9.09 110.417,-9.55 112.5,-9.55 112.5,-9.15 114.583,-9.15 114.583,-8.42 116.667,-8.42 116.667,-8.82 118.75,-8.82 118.75,-8.66 120.833,-8.66 120.833,-8.87 122.917,-8.87 122.917,-8.64 125,-8.64 125,-7.95 127.083,-7.95 127.083,-7.61 129.167,-7.61 129.167,-7.84 131.25,-7.84 131.25,-7.42 133.333,-7.42 133.333,-7.58 135.417,-7.58 135.417,-7.14 137.5,-7.14 137.5,-6.9 139.583,-6.9 139.583,-7.42 141.667,-7.42 141.667,-7.33 143.75,-7.33 143.75,-7.25 145.833,-7.25 145.833,-8.06 147.917,-8.06 147.917,-7.63 150,-7.63 150,-7.33 152.083,-7.33 152.083,-8.14 154.167,-8.14 154.167,-8.06 156.25,-8.06 156.25,-8.28 158.333,-8.28 158.333,-8.23 160.417,-8.23 160.417,-8.88 162.5,-8.88 162.5,-10.1 164.583,-10.1 164.583,-9.18 166.667,-9.18 166.667,-11.4 168.75,-11.4 168.75,-12 170.833,-12 170.833,-13 172.917,-13 172.917,-15.6 175,-15.6 175,-18.4 177.083,-18.4 177.083,-22.5 179.167,-22.5 179.167,-27.1 181.25,-27.1 181.25,-39.3 183.333,-39.3 183.333,-57.6 185.417,-57.6 185.417,-80.8 187.5,-80.8 187.5,-100 189.583,-100 189.583,-92.4 191.667,-92.4 191.667,-62.6 193.75,-62.6 193.75,-33.5 195.833,-33.5 195.833,-17.8 197.917,-17.8 197.917,-9.1 200,-9.1 200,-5.68 202.083,-5.68 202.083,-3.39 204.167,-3.39 204.167,-2.32 206.25,-2.32 206.25,-1.44 208.333,-1.44 208.333,-0.952 210.417,-0.952 210.417,-0.682 212.5,-0.682 212.5,-0.397 214.583,-0.397 214.583,-0.381 216.667,-0.381 216.667,-0.206 218.75,-0.206 218.75,-0.159 220.833,-0.159 220.833,-0.159 222.917,-0.159 222.917,-0.0952 225,-0.0952 225,-0.0476 227.083,-0.0476 227.083,-0.0634 229.167,-0.0634 229.167,-0.127 231.25,-0.127 231.25,-0.0317 233.333,-0.0317 233.333,-0.0634 235.417,-0.0634 235.417,-0.0476 237.5,-0.0476 237.5,-0.0317 239.583,-0.0317 239.583,-0.0159 241.667,-0.0159 241.667,-0.0159 243.75,-0.0159 243.75,-0 245.833,-0 245.833,-0.0159 247.917,-0.0159 247.917,-0.0159 250,-0.0159 250,0\" style=\"fill:none; stroke:currentColor;\"/>\n",
       "</svg>\n",
       "</div>\n",
       "<div style=\"flex=grow:1;\">\n",
       "Regular(120, 0, 120, name='mass', label='mass')<br/>\n",
       "<hr style=\"margin-top:.2em; margin-bottom:.2em;\"/>\n",
       "Double() Σ=123753.0 <em>(123800.0 with flow)</em>\n",
       "\n",
       "</div>\n",
       "</div>\n",
       "</html>"
      ],
      "text/plain": [
       "Hist(Regular(120, 0, 120, name='mass', label='mass'), storage=Double()) # Sum: 123753.0 (123800.0 with flow)"
      ]
     },
     "execution_count": 21,
     "metadata": {},
     "output_type": "execute_result"
    }
   ],
   "source": [
    "h.fill(np.sqrt(2*mu1.pt*mu2.pt*(np.cosh(mu1.eta - mu2.eta) - np.cos(mu1.phi - mu2.phi))))"
   ]
  },
  {
   "cell_type": "markdown",
   "id": "6e76b5d8-46a0-4aa8-b3be-80b2a3d655f1",
   "metadata": {},
   "source": [
    "And Matplotlib for plots."
   ]
  },
  {
   "cell_type": "code",
   "execution_count": 22,
   "id": "b6844c2f-8fc0-4e51-bf42-842b49be43b5",
   "metadata": {},
   "outputs": [],
   "source": [
    "import matplotlib.pyplot as plt"
   ]
  },
  {
   "cell_type": "code",
   "execution_count": 23,
   "id": "03238db7-e4ba-4494-961d-f072b71507ca",
   "metadata": {},
   "outputs": [
    {
     "data": {
      "image/png": "[encoded data removed]",
      "text/plain": [
       "<Figure size 432x288 with 1 Axes>"
      ]
     },
     "metadata": {
      "needs_background": "light"
     },
     "output_type": "display_data"
    }
   ],
   "source": [
    "h.plot();"
   ]
  },
  {
   "cell_type": "markdown",
   "id": "0c38143b-b3df-4476-922e-d4e5304d46fa",
   "metadata": {},
   "source": [
    "<br><br><br><br><br>\n",
    "\n",
    "Now let's do the whole thing in one cell and time it."
   ]
  },
  {
   "cell_type": "code",
   "execution_count": 24,
   "id": "2701fca4-602b-4a97-9f74-2dcd7ecc9f24",
   "metadata": {},
   "outputs": [
    {
     "name": "stdout",
     "output_type": "stream",
     "text": [
      "total time: 0.06754660606384277 sec\n"
     ]
    }
   ],
   "source": [
    "starttime = time.time()\n",
    "\n",
    "# read data\n",
    "muons = events.arrays(\n",
    "    [\"pt\", \"eta\", \"phi\", \"charge\"],\n",
    "    aliases={\"pt\": \"Muon_pt\", \"eta\": \"Muon_eta\", \"phi\": \"Muon_phi\", \"charge\": \"Muon_charge\"},\n",
    "    array_cache=None,   # no cheating!\n",
    ")\n",
    "\n",
    "# compute\n",
    "cut = (ak.num(muons.charge) >= 2) & (ak.sum(muons.charge[:, :2], axis=1) == 0)\n",
    "mu1 = muons[cut, 0]\n",
    "mu2 = muons[cut, 1]\n",
    "h = hist.Hist.new.Reg(120, 0, 120, name=\"mass\").Double()\n",
    "h.fill(np.sqrt(2*mu1.pt*mu2.pt*(np.cosh(mu1.eta - mu2.eta) - np.cos(mu1.phi - mu2.phi))))\n",
    "\n",
    "uproot_time = time.time() - starttime\n",
    "print(f\"total time: {uproot_time} sec\")"
   ]
  },
  {
   "cell_type": "code",
   "execution_count": 25,
   "id": "dbd4249f-637e-4f91-80d4-6f5696ea7964",
   "metadata": {},
   "outputs": [
    {
     "data": {
      "text/plain": [
       "292.97792178912925"
      ]
     },
     "execution_count": 25,
     "metadata": {},
     "output_type": "execute_result"
    }
   ],
   "source": [
    "pyroot_time / uproot_time"
   ]
  },
  {
   "cell_type": "markdown",
   "id": "4bae101b-3e8e-43df-8c0d-fe3c4b796b7a",
   "metadata": {},
   "source": [
    "It's in the same ballpark as C++. It can be 1.5× to 2× slower, but it's much closer to C++ on a log plot than it is to Python \"for\" loops."
   ]
  },
  {
   "cell_type": "markdown",
   "id": "816289f5-b975-42cf-8bbf-02c0f226e6d9",
   "metadata": {},
   "source": [
    "<br><br><br><br><br>\n",
    "\n",
    "## The Pythonic HEP ecosystem\n",
    "\n",
    "Uproot is not a framework, it _only_ does ROOT I/O. Awkward Array handles array manipulation, hist does histograms, etc.\n",
    "\n",
    "It is part of this complete breakfast:\n",
    "\n",
    "<img src=\"img/logo-parade.svg\" width=\"800px\">"
   ]
  },
  {
   "cell_type": "markdown",
   "id": "bbc147a6-04ac-4eaa-848b-c8d59cac46e0",
   "metadata": {},
   "source": [
    "<br><br><br><br><br>\n",
    "\n",
    "## Uproot\n",
    "\n",
    "Uproot is an independent implementation of ROOT I/O that leverages standard Python libraries.\n",
    "\n",
    "<img src=\"img/abstraction-layers.svg\" width=\"800px\">"
   ]
  },
  {
   "cell_type": "markdown",
   "id": "62e90fb9-b612-4ba7-8a79-f747b8682024",
   "metadata": {},
   "source": [
    "<br><br><br><br><br>\n",
    "\n",
    "The documentation is on [https://uproot.readthedocs.io/](https://uproot.readthedocs.io/).\n",
    "\n",
    "<img src=\"img/uproot-documentation.png\" width=\"800px\"/>"
   ]
  },
  {
   "cell_type": "markdown",
   "id": "55dc1c65-a3cf-4e8d-8f4c-eef4eb6c37d6",
   "metadata": {},
   "source": [
    "<br><br><br><br><br>\n",
    "\n",
    "## Navigating a ROOT file\n",
    "\n",
    "<img src=\"img/terminology.svg\" style=\"width: 800px\">"
   ]
  },
  {
   "cell_type": "code",
   "execution_count": 27,
   "id": "3896e3fd-62e4-46f2-92e3-e74936fff83a",
   "metadata": {},
   "outputs": [
    {
     "data": {
      "text/plain": [
       "<ReadOnlyDirectory '/' at 0x7f76cda01c10>"
      ]
     },
     "execution_count": 27,
     "metadata": {},
     "output_type": "execute_result"
    }
   ],
   "source": [
    "histograms = uproot.open(\"data/HiggsZZ4mu_histograms.root\")\n",
    "histograms"
   ]
  },
  {
   "cell_type": "code",
   "execution_count": 28,
   "id": "505a5c1f-971a-454a-b7fd-05a87cec494f",
   "metadata": {},
   "outputs": [
    {
     "data": {
      "text/plain": [
       "<ReadOnlyFile 'data/HiggsZZ4mu_histograms.root' at 0x7f76cc0bfd90>"
      ]
     },
     "execution_count": 28,
     "metadata": {},
     "output_type": "execute_result"
    }
   ],
   "source": [
    "histograms.file"
   ]
  },
  {
   "cell_type": "markdown",
   "id": "27871d30-483d-478b-a541-9b0422e3b7f2",
   "metadata": {},
   "source": [
    "In Uproot, a directory is a dict-like object with subscripting (square brackets), [keys](https://uproot.readthedocs.io/en/latest/uproot.reading.ReadOnlyDirectory.html#keys), [values](https://uproot.readthedocs.io/en/latest/uproot.reading.ReadOnlyDirectory.html#values), [items](https://uproot.readthedocs.io/en/latest/uproot.reading.ReadOnlyDirectory.html#items), and [classnames](https://uproot.readthedocs.io/en/latest/uproot.reading.ReadOnlyDirectory.html#classnames) methods."
   ]
  },
  {
   "cell_type": "code",
   "execution_count": 30,
   "id": "78630af0-ce2d-401b-99d9-143c5c574860",
   "metadata": {},
   "outputs": [
    {
     "data": {
      "text/plain": [
       "<ReadOnlyDirectory '/Z' at 0x7f76cc0859a0>"
      ]
     },
     "execution_count": 30,
     "metadata": {},
     "output_type": "execute_result"
    }
   ],
   "source": [
    "histograms[\"Z\"]"
   ]
  },
  {
   "cell_type": "code",
   "execution_count": 31,
   "id": "e7f95796-13c2-4248-949b-91479359eabb",
   "metadata": {},
   "outputs": [
    {
     "data": {
      "text/plain": [
       "<ReadOnlyDirectory '/Z/4mu' at 0x7f76cda01a90>"
      ]
     },
     "execution_count": 31,
     "metadata": {},
     "output_type": "execute_result"
    }
   ],
   "source": [
    "histograms[\"Z\"][\"4mu\"]"
   ]
  },
  {
   "cell_type": "markdown",
   "id": "e1a8a9d4-1c79-49cf-88ce-e8d9a35f26a6",
   "metadata": {},
   "source": [
    "Try `recursive`, `filter_name`, and `filter_classname` arguments."
   ]
  },
  {
   "cell_type": "code",
   "execution_count": 29,
   "id": "9d8138f3-283a-43cb-9353-a11991d1ef9e",
   "metadata": {},
   "outputs": [
    {
     "data": {
      "text/plain": [
       "['num;1',\n",
       " 'num/NGMuons;1',\n",
       " 'num/NMuons;1',\n",
       " 'num/Nelectrons;1',\n",
       " 'num/NGoodGMuons;1',\n",
       " 'num/NGoodRecMuons;1',\n",
       " 'num/NGoodElectron;1',\n",
       " 'Z;1',\n",
       " 'Z/all;1',\n",
       " 'Z/all/GMmass;1',\n",
       " 'Z/all/GMmass_extended;1',\n",
       " 'Z/all/GMmass_extended_600;1',\n",
       " 'Z/all/massZto2muon;1',\n",
       " 'Z/all/massZto2e;1',\n",
       " 'Z/4mu;1',\n",
       " 'Z/4mu/by_pt;1',\n",
       " 'Z/4mu/by_pt/mZ12_4mu;1',\n",
       " 'Z/4mu/by_pt/mZ34_4mu;1',\n",
       " 'Z/4mu/by_pt/mZ13_4mu;1',\n",
       " 'Z/4mu/by_pt/mZ24_4mu;1',\n",
       " 'Z/4mu/by_pt/mZ14_4mu;1',\n",
       " 'Z/4mu/by_pt/mZ23_4mu;1',\n",
       " 'Z/4mu/by_mass;1',\n",
       " 'Z/4mu/by_mass/mZa_4mu;1',\n",
       " 'Z/4mu/by_mass/mZb_4mu;1',\n",
       " 'Z/4e;1',\n",
       " 'Z/4e/by_pt;1',\n",
       " 'Z/4e/by_pt/mZ12_4e;1',\n",
       " 'Z/4e/by_pt/mZ34_4e;1',\n",
       " 'Z/4e/by_pt/mZ13_4e;1',\n",
       " 'Z/4e/by_pt/mZ24_4e;1',\n",
       " 'Z/4e/by_pt/mZ14_4e;1',\n",
       " 'Z/4e/by_pt/mZ23_4e;1',\n",
       " 'Z/4e/by_mass;1',\n",
       " 'Z/4e/by_mass/mZa_4e;1',\n",
       " 'Z/4e/by_mass/mZb_4e;1',\n",
       " 'Z/2mu2e;1',\n",
       " 'Z/2mu2e/massZmu_2mu2e;1',\n",
       " 'Z/2mu2e/massZe_2mu2e;1',\n",
       " 'H;1',\n",
       " 'H/4mu;1',\n",
       " 'H/4mu/mass4mu_7TeV;1',\n",
       " 'H/4mu/mass4mu_8TeV;1',\n",
       " 'H/4mu/mass4mu_8TeV_low;1',\n",
       " 'H/4mu/mass4mu_full;1',\n",
       " 'H/4e;1',\n",
       " 'H/4e/mass4e_7TeV;1',\n",
       " 'H/4e/mass4e_8TeV;1',\n",
       " 'H/4e/mass4e_8TeV_low;1',\n",
       " 'H/4e/mass4e_full;1',\n",
       " 'H/2mu2e;1',\n",
       " 'H/2mu2e/mZa_2mu2e;1',\n",
       " 'H/2mu2e/mZb_2mu2e;1',\n",
       " 'H/2mu2e/mass2mu2e_7TeV;1',\n",
       " 'H/2mu2e/mass2mu2e_8TeV;1',\n",
       " 'H/2mu2e/mass2mu2e_8TeV_low;1',\n",
       " 'H/2mu2e/mass2mu2e_full;1',\n",
       " 'muon;1',\n",
       " 'muon/GM_momentum;1',\n",
       " 'muon/b4_GM_pT;1',\n",
       " 'muon/b4_GM_eta;1',\n",
       " 'muon/GM_phi;1',\n",
       " 'muon/GM_chi2;1',\n",
       " 'muon/GM_ndof;1',\n",
       " 'muon/GM_normchi2;1',\n",
       " 'muon/GM_validhits;1',\n",
       " 'muon/GM_pixelhits;1',\n",
       " 'muon/after_GM_pT;1',\n",
       " 'muon/after_GM_eta;1',\n",
       " 'muon/RM_momentum;1',\n",
       " 'muon/b4_RM_pt;1',\n",
       " 'muon/b4_RM_eta;1',\n",
       " 'muon/RM_phi;1',\n",
       " 'muon/RM_chi2;1',\n",
       " 'muon/RM_Ndof;1',\n",
       " 'muon/RM_NormChi2;1',\n",
       " 'muon/RM_goodMuonChamberHit;1',\n",
       " 'muon/RM_dxy;1',\n",
       " 'muon/RM_RelPFIso;1',\n",
       " 'muon/after_RM_RelPFIso;1',\n",
       " 'muon/RM_validhits;1',\n",
       " 'muon/RM_pixelhits;1',\n",
       " 'muon/after_RM_pt_Z2mu;1',\n",
       " 'muon/after_RM_eta_Z2mu;1',\n",
       " 'muon/after_RM_pt;1',\n",
       " 'muon/after_RM_eta;1',\n",
       " 'muon/after_relPFIso_2mu;1',\n",
       " 'muon/after_relPFIso_2e;1',\n",
       " 'muon/after_pt_2mu2e;1',\n",
       " 'muon/after_eta_2mu2e;1',\n",
       " 'electron;1',\n",
       " 'electron/e_momentum;1',\n",
       " 'electron/e_eT;1',\n",
       " 'electron/b4_e_pT;1',\n",
       " 'electron/b4_e_eta;1',\n",
       " 'electron/e_phi;1',\n",
       " 'electron/e_SC_eta;1',\n",
       " 'electron/e_SC_rawE;1',\n",
       " 'electron/e_RelPFIso;1',\n",
       " 'electron/after_e_RelPFIso;1',\n",
       " 'electron/e_RelPFIso_pT;1',\n",
       " 'electron/e_dxy;1',\n",
       " 'electron/after_e_pT_Zto2e;1',\n",
       " 'electron/after_e_eta_Zto2e;1',\n",
       " 'electron/after_e_pT;1',\n",
       " 'electron/after_e_eta;1',\n",
       " 'electron/after_e_pT_2mu2e;1',\n",
       " 'electron/after_e_eta_2mu2e;1',\n",
       " 'electron/SIP3d_mu;1',\n",
       " 'electron/SIP3d_e;1',\n",
       " 'electron/e_misshit;1']"
      ]
     },
     "execution_count": 29,
     "metadata": {},
     "output_type": "execute_result"
    }
   ],
   "source": [
    "histograms.keys()"
   ]
  },
  {
   "cell_type": "markdown",
   "id": "0b83c8f5-9e9f-4678-a1a0-90687794e4b2",
   "metadata": {},
   "source": [
    "Most histograms and graphs can be converted to types in other Python libraries.\n",
    "\n",
    "Try the `to_hist()` method on this one."
   ]
  },
  {
   "cell_type": "code",
   "execution_count": 33,
   "id": "431706f9-61dc-4bb6-ae1e-9a12c6c3f609",
   "metadata": {},
   "outputs": [
    {
     "data": {
      "text/plain": [
       "<TH1D (version 3) at 0x7f76b926de20>"
      ]
     },
     "execution_count": 33,
     "metadata": {},
     "output_type": "execute_result"
    }
   ],
   "source": [
    "histograms[\"Z/all/massZto2muon\"]"
   ]
  },
  {
   "cell_type": "markdown",
   "id": "87876faa-7998-4395-b4d1-65192bac08cd",
   "metadata": {},
   "source": [
    "<br><br><br>\n",
    "\n",
    "**Three-minute exercise:** find the 2D histogram and plot it."
   ]
  },
  {
   "cell_type": "code",
   "execution_count": 34,
   "id": "7d94135d-c1d4-47e6-9206-89c7300d17fb",
   "metadata": {},
   "outputs": [
    {
     "data": {
      "text/plain": [
       "<ReadOnlyDirectory '/' at 0x7f76cda01c10>"
      ]
     },
     "execution_count": 34,
     "metadata": {},
     "output_type": "execute_result"
    }
   ],
   "source": [
    "histograms"
   ]
  },
  {
   "cell_type": "markdown",
   "id": "743d3385-58e7-4f41-a7f7-5618ac027ea3",
   "metadata": {},
   "source": [
    "<br><br><br><br><br>\n",
    "\n",
    "## Can Uproot read my data?"
   ]
  },
  {
   "cell_type": "code",
   "execution_count": null,
   "id": "61cf7763-2915-49b3-bd6d-c01fa1d68b25",
   "metadata": {},
   "outputs": [],
   "source": [
    "icecube = uproot.open(\"data/icecube-supernovae.root\")\n",
    "icecube.keys()"
   ]
  },
  {
   "cell_type": "code",
   "execution_count": null,
   "id": "1be6bf8d-c4e5-4cee-ad97-467589775a91",
   "metadata": {},
   "outputs": [],
   "source": [
    "icecube.classname_of(\"config/detector\")"
   ]
  },
  {
   "cell_type": "code",
   "execution_count": null,
   "id": "fe251213-5296-4823-bbc4-ed32bfa7cc2b",
   "metadata": {},
   "outputs": [],
   "source": [
    "icecube.file.show_streamers(\"I3Eval_t\")"
   ]
  },
  {
   "cell_type": "code",
   "execution_count": null,
   "id": "59081442-001a-4661-b995-d338709c792c",
   "metadata": {},
   "outputs": [],
   "source": [
    "icecube[\"config/detector\"]"
   ]
  },
  {
   "cell_type": "code",
   "execution_count": null,
   "id": "3304566b-4f6f-4564-ab72-d9d90487545f",
   "metadata": {},
   "outputs": [],
   "source": [
    "icecube[\"config/detector\"].all_members"
   ]
  },
  {
   "cell_type": "code",
   "execution_count": null,
   "id": "53b7327b-7d84-461d-9e4d-07df009f9b5e",
   "metadata": {},
   "outputs": [],
   "source": [
    "icecube[\"config/detector\"].member(\"ChannelIDMap\")"
   ]
  },
  {
   "cell_type": "code",
   "execution_count": null,
   "id": "c5fee4df-e1e5-4c6e-9db5-13973f071762",
   "metadata": {},
   "outputs": [],
   "source": [
    "zmumu_file = uproot.open(\"data/Zmumu.root\")\n",
    "zmumu_file.keys()"
   ]
  },
  {
   "cell_type": "code",
   "execution_count": null,
   "id": "a8d0d736-f63d-4ef0-957b-c1d950ea7424",
   "metadata": {},
   "outputs": [],
   "source": [
    "zmumu = zmumu_file[\"events\"]\n",
    "zmumu.show()"
   ]
  },
  {
   "cell_type": "code",
   "execution_count": null,
   "id": "6cd887be-e622-425f-96f6-43e60c32a893",
   "metadata": {},
   "outputs": [],
   "source": [
    "zmumu.keys()"
   ]
  },
  {
   "cell_type": "code",
   "execution_count": null,
   "id": "7522b7ec-2bcb-46f3-ad8e-98b3ca430537",
   "metadata": {},
   "outputs": [],
   "source": [
    "zmumu.keys(filter_typename=\"/int.*/\")"
   ]
  },
  {
   "cell_type": "code",
   "execution_count": null,
   "id": "8be42444-d5fb-41ba-a128-fe336343424c",
   "metadata": {},
   "outputs": [],
   "source": [
    "zmumu.typenames()"
   ]
  },
  {
   "cell_type": "code",
   "execution_count": null,
   "id": "a4bfcef4-94f0-433c-aea6-d405f94636b6",
   "metadata": {},
   "outputs": [],
   "source": [
    "{name: branch.interpretation for name, branch in zmumu.items()}"
   ]
  },
  {
   "cell_type": "code",
   "execution_count": null,
   "id": "d7d915ad-6a25-4585-87a5-7afe9a49a100",
   "metadata": {},
   "outputs": [],
   "source": [
    "zmumu[\"M\"].array()"
   ]
  },
  {
   "cell_type": "markdown",
   "id": "325cbb3e-c108-4d8e-b2c6-0211160e68d3",
   "metadata": {},
   "source": [
    "Some important parameters:\n",
    "\n",
    "   * `entry_start`, `entry_stop` to limit how much you read (if it's big)\n",
    "   * `library=\"np\"` for NumPy arrays, `library=\"ak\"` for Awkward Arrays, and `library=\"pd\"` for Pandas (Series or DataFrame)"
   ]
  },
  {
   "cell_type": "code",
   "execution_count": null,
   "id": "ccd6ef30-d431-4a45-be43-2b3698a7a86e",
   "metadata": {},
   "outputs": [],
   "source": [
    "zmumu[\"M\"].array(entry_stop=5)"
   ]
  },
  {
   "cell_type": "code",
   "execution_count": null,
   "id": "59f56180-6477-43d6-8216-69fa396d2312",
   "metadata": {},
   "outputs": [],
   "source": [
    "zmumu[\"M\"].array(library=\"np\")"
   ]
  },
  {
   "cell_type": "code",
   "execution_count": null,
   "id": "a2c5533b-f9df-491b-abe6-2a538bd5611e",
   "metadata": {},
   "outputs": [],
   "source": [
    "zmumu[\"M\"].array(library=\"ak\")   # default"
   ]
  },
  {
   "cell_type": "code",
   "execution_count": null,
   "id": "31c8a24c-e187-4ef9-836e-714afa3c457d",
   "metadata": {},
   "outputs": [],
   "source": [
    "zmumu[\"M\"].array(library=\"pd\")"
   ]
  },
  {
   "cell_type": "code",
   "execution_count": null,
   "id": "e4a46344-1940-4ab9-8fcc-ad2c5120a319",
   "metadata": {},
   "outputs": [],
   "source": [
    "zmumu.arrays()"
   ]
  },
  {
   "cell_type": "code",
   "execution_count": null,
   "id": "0fc308b4-ba85-47e3-acb3-eadbf0e76892",
   "metadata": {},
   "outputs": [],
   "source": [
    "zmumu.arrays(library=\"np\")"
   ]
  },
  {
   "cell_type": "code",
   "execution_count": null,
   "id": "c482b7a0-0de4-48b5-9e29-7a3667020df8",
   "metadata": {},
   "outputs": [],
   "source": [
    "zmumu.arrays(library=\"pd\")"
   ]
  },
  {
   "cell_type": "code",
   "execution_count": null,
   "id": "b7e404bb-2b24-4981-9935-9af2d7c2fc5d",
   "metadata": {},
   "outputs": [],
   "source": [
    "zmumu.arrays([\"px1\", \"py1\", \"px2\", \"py2\"], library=\"pd\")"
   ]
  },
  {
   "cell_type": "markdown",
   "id": "1f9fa768-c6a2-46e0-b942-dc07f1434e23",
   "metadata": {},
   "source": [
    "Or it can be computed expressions."
   ]
  },
  {
   "cell_type": "code",
   "execution_count": null,
   "id": "2cb82ff5-8321-4419-8045-0e4dd373818c",
   "metadata": {},
   "outputs": [],
   "source": [
    "zmumu.arrays([\"sqrt(px1**2 + py1**2)\", \"sqrt(px2**2 + py2**2)\"], library=\"pd\")"
   ]
  },
  {
   "cell_type": "markdown",
   "id": "1a0a7926-e289-4c3e-b930-653513745411",
   "metadata": {},
   "source": [
    "This is to support any [aliases](https://uproot.readthedocs.io/en/latest/uproot.behaviors.TTree.TTree.html#aliases) that might be in the [TTree](https://uproot.readthedocs.io/en/latest/uproot.behaviors.TTree.TTree.html), but you can make up your own `aliases` on the spot."
   ]
  },
  {
   "cell_type": "code",
   "execution_count": null,
   "id": "db41b97d-4e2c-4c06-9466-6002a4dec852",
   "metadata": {},
   "outputs": [],
   "source": [
    "zmumu.arrays([\"pt1\", \"pt2\"], {\"pt1\": \"sqrt(px1**2 + py1**2)\", \"pt2\": \"sqrt(px2**2 + py2**2)\"}, library=\"pd\")"
   ]
  },
  {
   "cell_type": "markdown",
   "id": "d7991201-316c-42ea-a8ca-a2f402b35cf4",
   "metadata": {},
   "source": [
    "The `expressions` parameter is not a good way to select branches by name.\n",
    "\n",
    "   * nested branches, paths with \"`/`\", _would be interpreted as division!_\n",
    "   * wildcards, paths with \"`*`\", _would be interpreted as multiplication!_\n",
    "\n",
    "To select branches by name, use `filter_name`, `filter_typename`, `filter_branch` (all in the [arrays](https://uproot.readthedocs.io/en/latest/uproot.behaviors.TBranch.HasBranches.html#arrays) documentation)."
   ]
  },
  {
   "cell_type": "code",
   "execution_count": null,
   "id": "d7b358b3-e145-4f2d-b2af-469dc99fcaf4",
   "metadata": {},
   "outputs": [],
   "source": [
    "zmumu.arrays(filter_name=\"p[xyz]*\", library=\"pd\")"
   ]
  },
  {
   "cell_type": "markdown",
   "id": "fc07273c-d8ee-4623-86b5-79a8413353ec",
   "metadata": {},
   "source": [
    "(These filters have the same meaning as in [keys](https://uproot.readthedocs.io/en/latest/uproot.behaviors.TBranch.HasBranches.html#keys) and [typenames](https://uproot.readthedocs.io/en/latest/uproot.behaviors.TBranch.HasBranches.html#typenames), but those methods do not read potentially large datasets.)"
   ]
  },
  {
   "cell_type": "code",
   "execution_count": null,
   "id": "f2f451f2-0820-4271-a4d4-46ce8ada0f47",
   "metadata": {},
   "outputs": [],
   "source": [
    "zmumu.keys(filter_name=\"p[xyz]*\")"
   ]
  },
  {
   "cell_type": "code",
   "execution_count": null,
   "id": "95c299dc-9b50-4547-9d17-c1b5151c1393",
   "metadata": {},
   "outputs": [],
   "source": [
    "zmumu.typenames(filter_name=\"p[xyz]*\")"
   ]
  },
  {
   "cell_type": "markdown",
   "id": "da6e82bc-bc61-4382-8e0f-7131166545f4",
   "metadata": {},
   "source": [
    "<br><br><br>\n",
    "\n",
    "### Get arrays in manageable chunks\n",
    "\n",
    "The [iterate](https://uproot.readthedocs.io/en/latest/uproot.behaviors.TBranch.HasBranches.html#iterate) method is like [arrays](https://uproot.readthedocs.io/en/latest/uproot.behaviors.TBranch.HasBranches.html#arrays), but it can be used in a loop over chunks of the array.\n",
    "\n",
    "How large are the chunks? You should set that with `step_size`."
   ]
  },
  {
   "cell_type": "code",
   "execution_count": null,
   "id": "e7d1a3e3-f486-484b-a9ea-70864367228a",
   "metadata": {},
   "outputs": [],
   "source": [
    "for arrays in zmumu.iterate(step_size=300):\n",
    "    print(repr(arrays))"
   ]
  },
  {
   "cell_type": "code",
   "execution_count": null,
   "id": "0cf2e7a6-f49f-4b5c-ae1f-b69d80cdc1d7",
   "metadata": {},
   "outputs": [],
   "source": [
    "for arrays in zmumu.iterate(step_size=\"50 kB\"):   # 50 kB is very small! for illustrative purposes only!\n",
    "    print(repr(arrays))"
   ]
  },
  {
   "cell_type": "markdown",
   "id": "a6c0a371-8862-40f2-9e99-3e2630681f86",
   "metadata": {},
   "source": [
    "<br><br><br>\n",
    "\n",
    "### Collections of files (like TChain)\n",
    "\n",
    "If you want to read a bunch of files in one call, it has to be a function, rather than a method of [TTree](https://uproot.readthedocs.io/en/latest/uproot.behaviors.TTree.TTree.html).\n",
    "\n",
    "   * The equivalent of [TTree](https://uproot.readthedocs.io/en/latest/uproot.behaviors.TTree.TTree.html) [arrays](https://uproot.readthedocs.io/en/latest/uproot.behaviors.TTree.TTree.html#arrays) is [uproot.concatenate](https://uproot.readthedocs.io/en/latest/uproot.behaviors.TBranch.concatenate.html). _(Reads everything at once: use this as a convenience on datasets you know are small!)_\n",
    "   * The equivalent of [TTree](https://uproot.readthedocs.io/en/latest/uproot.behaviors.TTree.TTree.html) [iterate](https://uproot.readthedocs.io/en/latest/uproot.behaviors.TTree.TTree.html#iterate) is [uproot.iterate](https://uproot.readthedocs.io/en/latest/uproot.behaviors.TBranch.iterate.html). _(This is the most useful one.)_\n",
    "   * There's also an [uproot.lazy](https://uproot.readthedocs.io/en/latest/uproot.behaviors.TBranch.lazy.html) _(More on this below.)_"
   ]
  },
  {
   "cell_type": "code",
   "execution_count": null,
   "id": "dc4d9b14-fc1b-4128-869b-a3ccfd58e03f",
   "metadata": {},
   "outputs": [],
   "source": [
    "import IPython\n",
    "import matplotlib.pyplot as plt\n",
    "import matplotlib.pylab"
   ]
  },
  {
   "cell_type": "code",
   "execution_count": null,
   "id": "59daf877-4522-4eb3-aae3-d44d99bb1982",
   "metadata": {},
   "outputs": [],
   "source": [
    "h = hist.Hist.new.Reg(100, 0, 500, name=\"mass\").Double()\n",
    "\n",
    "for muons in uproot.iterate(\n",
    "    # filename(s)\n",
    "    [\"root://eospublic.cern.ch//eos/opendata/cms/derived-data/AOD2NanoAODOutreachTool/Run2012BC_DoubleMuParked_Muons.root:Events\"],\n",
    "\n",
    "    # expressions\n",
    "    [\"pt\", \"eta\", \"phi\", \"charge\"],\n",
    "    aliases={\"pt\": \"Muon_pt\", \"eta\": \"Muon_eta\", \"phi\": \"Muon_phi\", \"charge\": \"Muon_charge\"},    \n",
    "\n",
    "    # the all-important step_size!\n",
    "    step_size=\"1 MB\",\n",
    "):\n",
    "    # do everything you're going to do to this array\n",
    "    cut = (ak.num(muons.charge) >= 2) & (ak.sum(muons.charge[:, :2], axis=1) == 0)\n",
    "    mu1 = muons[cut, 0]\n",
    "    mu2 = muons[cut, 1]\n",
    "\n",
    "    # such as filling a histogram\n",
    "    h.fill(np.sqrt(2*mu1.pt*mu2.pt*(np.cosh(mu1.eta - mu2.eta) - np.cos(mu1.phi - mu2.phi))))\n",
    "\n",
    "    h.plot()\n",
    "    plt.yscale(\"log\")\n",
    "    IPython.display.display(matplotlib.pylab.gcf())\n",
    "    IPython.display.clear_output(wait=True)\n",
    "\n",
    "    if h.counts().sum() > 300000:\n",
    "        break"
   ]
  },
  {
   "cell_type": "code",
   "execution_count": null,
   "id": "02204f0c-ca82-4ae9-b1a1-3bb3f10ddaf2",
   "metadata": {},
   "outputs": [],
   "source": [
    "lazy = uproot.lazy(\n",
    "    # filename(s)\n",
    "    [\"root://eospublic.cern.ch//eos/opendata/cms/derived-data/AOD2NanoAODOutreachTool/Run2012BC_DoubleMuParked_Muons.root:Events\"],\n",
    "    # step_size is still important\n",
    "    step_size=\"1 MB\",\n",
    ")\n",
    "lazy"
   ]
  },
  {
   "cell_type": "code",
   "execution_count": null,
   "id": "73727a59-ae09-4295-97d8-dd7c45b1a57a",
   "metadata": {},
   "outputs": [],
   "source": [
    "lazy.Muon_pt"
   ]
  },
  {
   "cell_type": "code",
   "execution_count": null,
   "id": "3d0feb4a-cd24-43f1-ab42-b76d1c4b585a",
   "metadata": {},
   "outputs": [],
   "source": [
    "lazy.Muon_eta"
   ]
  },
  {
   "cell_type": "code",
   "execution_count": null,
   "id": "6b59920c-aa73-4cdb-9136-d2d4db31fa5f",
   "metadata": {},
   "outputs": [],
   "source": [
    "events = uproot.open(\"data/HiggsZZ4mu.root:Events\")"
   ]
  },
  {
   "cell_type": "code",
   "execution_count": null,
   "id": "d10fad35-704b-4600-818e-e87a3ccf3f27",
   "metadata": {},
   "outputs": [],
   "source": [
    "nonjagged = events[\"MET_pt\"].array(entry_stop=20, library=\"np\")\n",
    "nonjagged"
   ]
  },
  {
   "cell_type": "code",
   "execution_count": null,
   "id": "16c5b01a-11b1-405a-89e9-259982271cab",
   "metadata": {},
   "outputs": [],
   "source": [
    "nonjagged[:5]"
   ]
  },
  {
   "cell_type": "code",
   "execution_count": null,
   "id": "440f27b4-5e69-426b-8ea7-8971bdf05eec",
   "metadata": {},
   "outputs": [],
   "source": [
    "jagged_awkward = events[\"Muon_pt\"].array(entry_stop=20)\n",
    "jagged_awkward"
   ]
  },
  {
   "cell_type": "code",
   "execution_count": null,
   "id": "63f973de-01f6-4913-9c5e-2ff20d513a60",
   "metadata": {},
   "outputs": [],
   "source": [
    "jagged_awkward.tolist()"
   ]
  },
  {
   "cell_type": "code",
   "execution_count": null,
   "id": "e435a3f0-3a0a-4d60-9080-e8e6fe53a8cf",
   "metadata": {},
   "outputs": [],
   "source": [
    "jagged_numpy = events[\"Muon_pt\"].array(entry_stop=20, library=\"np\")\n",
    "jagged_numpy"
   ]
  },
  {
   "cell_type": "code",
   "execution_count": null,
   "id": "f04f28e2-f987-489f-bbc8-071167ec88e6",
   "metadata": {},
   "outputs": [],
   "source": [
    "jagged_awkward[:, :1]"
   ]
  },
  {
   "cell_type": "code",
   "execution_count": null,
   "id": "daeac4b6-a189-4e2c-b809-3e7249c2b1c7",
   "metadata": {},
   "outputs": [],
   "source": [
    "jagged_numpy[:, :1]"
   ]
  },
  {
   "cell_type": "code",
   "execution_count": null,
   "id": "49163b25-4bf9-4a90-a15b-617a76e7e1db",
   "metadata": {},
   "outputs": [],
   "source": [
    "np.array([x[:1] for x in jagged_numpy])"
   ]
  },
  {
   "cell_type": "code",
   "execution_count": null,
   "id": "79c9af08-fa93-4285-8ae5-db1a30537a7c",
   "metadata": {},
   "outputs": [],
   "source": [
    "events.arrays(filter_name=[\"Muon_*\"], library=\"pd\")"
   ]
  },
  {
   "cell_type": "code",
   "execution_count": null,
   "id": "fe6ce5de-bf56-4f36-b352-1be4bd15e3c4",
   "metadata": {},
   "outputs": [],
   "source": [
    "array = ak.from_parquet(\"data/HiggsZZ4mu.parquet\")\n",
    "array"
   ]
  },
  {
   "cell_type": "code",
   "execution_count": null,
   "id": "76798c8a-b854-4d81-a0a4-d699dffa3324",
   "metadata": {},
   "outputs": [],
   "source": [
    "array.fields"
   ]
  },
  {
   "cell_type": "code",
   "execution_count": null,
   "id": "a9f75ce9-ec37-48a7-bbab-63ab4977e7ba",
   "metadata": {},
   "outputs": [],
   "source": [
    "array[0].tolist()"
   ]
  },
  {
   "cell_type": "code",
   "execution_count": null,
   "id": "d0ec043f-2c74-4aa3-8b62-2fcf9593c39e",
   "metadata": {},
   "outputs": [],
   "source": [
    "array.muons.pt"
   ]
  },
  {
   "cell_type": "code",
   "execution_count": null,
   "id": "2401365f-8144-447d-917c-7644685d8c8a",
   "metadata": {},
   "outputs": [],
   "source": [
    "nanoaod_style = events.arrays(filter_name=\"Muon_*\")\n",
    "nanoaod_style.type"
   ]
  },
  {
   "cell_type": "code",
   "execution_count": null,
   "id": "76fbc056-82c0-4afc-b256-6ac1ec327f24",
   "metadata": {},
   "outputs": [],
   "source": [
    "array.muons.type"
   ]
  },
  {
   "cell_type": "code",
   "execution_count": null,
   "id": "4fbc1b2d-92b6-4ef1-8e83-aa9d7e8be577",
   "metadata": {},
   "outputs": [],
   "source": [
    "nanoevents_style = ak.zip({\n",
    "    \"pt\": nanoaod_style.Muon_pt,\n",
    "    \"eta\": nanoaod_style.Muon_eta,\n",
    "    \"phi\": nanoaod_style.Muon_phi,\n",
    "    \"mass\": nanoaod_style.Muon_mass,\n",
    "    \"charge\": nanoaod_style.Muon_charge,\n",
    "})\n",
    "nanoevents_style.type"
   ]
  },
  {
   "cell_type": "code",
   "execution_count": null,
   "id": "56a4ff8c-5bfa-4da5-be0f-2538c3de79e7",
   "metadata": {},
   "outputs": [],
   "source": [
    "array.luminosityBlock"
   ]
  },
  {
   "cell_type": "code",
   "execution_count": null,
   "id": "ff3e9861-5b1d-4390-b46e-5181ffe8f64d",
   "metadata": {},
   "outputs": [],
   "source": [
    "lumilengths = ak.run_lengths(array.luminosityBlock)\n",
    "lumilengths"
   ]
  },
  {
   "cell_type": "code",
   "execution_count": null,
   "id": "413b261a-564a-408f-a5e4-a6ec661c64f6",
   "metadata": {},
   "outputs": [],
   "source": [
    "array_by_lumi = ak.unflatten(array, lumilengths, axis=0)\n",
    "array_by_lumi"
   ]
  },
  {
   "cell_type": "code",
   "execution_count": null,
   "id": "25b5a42e-dbdf-480e-a092-0818464193e7",
   "metadata": {},
   "outputs": [],
   "source": [
    "array_by_lumi.luminosityBlock[0]"
   ]
  },
  {
   "cell_type": "code",
   "execution_count": null,
   "id": "e60e1eb8-3477-4729-9138-80c1ce8e3f1f",
   "metadata": {},
   "outputs": [],
   "source": [
    "array.type"
   ]
  },
  {
   "cell_type": "code",
   "execution_count": null,
   "id": "3d1b5696-bb29-470c-8b56-d638ee3dfdb5",
   "metadata": {},
   "outputs": [],
   "source": [
    "array_by_lumi.type"
   ]
  },
  {
   "cell_type": "code",
   "execution_count": null,
   "id": "b307152d-4180-4131-b823-54e1b8ec917a",
   "metadata": {},
   "outputs": [],
   "source": [
    "ak.sum(array_by_lumi.muons.pt, axis=-1)"
   ]
  },
  {
   "cell_type": "markdown",
   "id": "3de6d30b-c76d-44ca-88b6-42a38308730b",
   "metadata": {},
   "source": [
    "<img src=\"img/example-reduction.svg\" style=\"width: 800px\">"
   ]
  },
  {
   "cell_type": "code",
   "execution_count": null,
   "id": "271826a6-6715-47d1-ae38-b5e52e16c34f",
   "metadata": {},
   "outputs": [],
   "source": [
    "array.muons"
   ]
  },
  {
   "cell_type": "code",
   "execution_count": null,
   "id": "1de4c90a-963a-4780-8ab7-0fbaa5ed21e1",
   "metadata": {},
   "outputs": [],
   "source": [
    "cut = ak.num(array.muons) >= 2\n",
    "cut"
   ]
  },
  {
   "cell_type": "code",
   "execution_count": null,
   "id": "fae3a41b-ddd3-4275-bba0-3ada12f439d0",
   "metadata": {},
   "outputs": [],
   "source": [
    "array.muons[cut]"
   ]
  },
  {
   "cell_type": "code",
   "execution_count": null,
   "id": "897d9ba9-b99d-41b3-b483-d78cc86ca359",
   "metadata": {},
   "outputs": [],
   "source": [
    "array.muons.mask[cut]"
   ]
  },
  {
   "cell_type": "code",
   "execution_count": null,
   "id": "ab9900a8-fe4f-4ad7-80f5-80ab5845f748",
   "metadata": {},
   "outputs": [],
   "source": [
    "selected_muons = array.muons[cut]\n",
    "\n",
    "selected_muons.charge[:, 0] + selected_muons.charge[:, 1] == 0"
   ]
  },
  {
   "cell_type": "markdown",
   "id": "2689c73a-a078-48c1-99d5-e3423c81ad5c",
   "metadata": {},
   "source": [
    "<table style=\"margin-left: 0px\">\n",
    "    <tr style=\"background: white\"><td style=\"font-size: 1.75em; font-weight: bold; text-align: center\"><a href=\"https://awkward-array.readthedocs.io/en/latest/_auto/ak.cartesian.html\">ak.cartesian</a></td><td style=\"font-size: 1.75em; font-weight: bold; text-align: center\"><a href=\"https://awkward-array.readthedocs.io/en/latest/_auto/ak.combinations.html\">ak.combinations</a></td></tr>\n",
    "    <tr style=\"background: white\"><td><img src=\"img/cartoon-cartesian.svg\"></td><td><img src=\"img/cartoon-combinations.svg\"></td></tr>\n",
    "</table>"
   ]
  },
  {
   "cell_type": "code",
   "execution_count": null,
   "id": "5a4fa1c7-03a5-46c2-89f4-e23d22049030",
   "metadata": {},
   "outputs": [],
   "source": [
    "ak.combinations(array.muons, 2).type"
   ]
  },
  {
   "cell_type": "code",
   "execution_count": null,
   "id": "47f2e1b8-c4df-43f3-99f4-cc29302d6908",
   "metadata": {},
   "outputs": [],
   "source": [
    "mu1, mu2 = ak.unzip(ak.combinations(array.muons, 2))\n",
    "mu1, mu2"
   ]
  },
  {
   "cell_type": "code",
   "execution_count": null,
   "id": "717459e9-bc1a-4e1e-9099-e0e8b42f3b65",
   "metadata": {},
   "outputs": [],
   "source": [
    "h = hist.Hist.new.Reg(120, 0, 120, name=\"mass\").Double()\n",
    "h.fill(ak.flatten(\n",
    "    np.sqrt(2*mu1.pt*mu2.pt*(np.cosh(mu1.eta - mu2.eta) - np.cos(mu1.phi - mu2.phi)))\n",
    "))"
   ]
  },
  {
   "cell_type": "code",
   "execution_count": null,
   "id": "8db256d6-5c28-4eaf-8214-d4ece3f33aea",
   "metadata": {},
   "outputs": [],
   "source": [
    "import vector\n",
    "vector.register_awkward()"
   ]
  },
  {
   "cell_type": "code",
   "execution_count": null,
   "id": "2cfd36ac-a40f-4eaa-97c7-3a48542a8538",
   "metadata": {},
   "outputs": [],
   "source": [
    "muons = ak.with_name(array.muons, \"Momentum4D\")\n",
    "muons"
   ]
  },
  {
   "cell_type": "code",
   "execution_count": null,
   "id": "ca8ae3e1-f16a-480d-97a7-5e7801611773",
   "metadata": {},
   "outputs": [],
   "source": [
    "mu1, mu2 = ak.unzip(ak.combinations(muons, 2))\n",
    "mu1, mu2"
   ]
  },
  {
   "cell_type": "code",
   "execution_count": null,
   "id": "26013028-1ba8-42e8-9a4d-602f8d5ce45c",
   "metadata": {},
   "outputs": [],
   "source": [
    "(mu1 + mu2).mass"
   ]
  },
  {
   "cell_type": "code",
   "execution_count": null,
   "id": "88c5ebf1-f777-4228-b2bf-3bd67275f069",
   "metadata": {},
   "outputs": [],
   "source": [
    "h = hist.Hist.new.Reg(120, 0, 120, name=\"mass\").Double()\n",
    "h.fill(ak.flatten((mu1 + mu2).mass))"
   ]
  },
  {
   "cell_type": "code",
   "execution_count": null,
   "id": "1bb1b131-8d47-4500-9167-351d3113ad47",
   "metadata": {},
   "outputs": [],
   "source": [
    "gen = ak.with_name(array.gen, \"Momentum3D\")\n",
    "gen"
   ]
  },
  {
   "cell_type": "code",
   "execution_count": null,
   "id": "7f68806f-faa2-4c84-b082-11e71a7b23db",
   "metadata": {},
   "outputs": [],
   "source": [
    "gen.fields"
   ]
  },
  {
   "cell_type": "code",
   "execution_count": null,
   "id": "8b06cd25-143f-4a11-a507-67ed8d47ef07",
   "metadata": {},
   "outputs": [],
   "source": [
    "reco_gen = ak.cartesian({\"muon\": muons, \"gen\": gen}, nested=True)\n",
    "reco_gen"
   ]
  },
  {
   "cell_type": "code",
   "execution_count": null,
   "id": "9977f21d-c979-4733-9394-63c54f7fcefe",
   "metadata": {},
   "outputs": [],
   "source": [
    "mu, g = ak.unzip(reco_gen)\n",
    "mu, g"
   ]
  },
  {
   "cell_type": "code",
   "execution_count": null,
   "id": "f59738f5-6413-4ff4-8f51-b5cf8c17e7c0",
   "metadata": {},
   "outputs": [],
   "source": [
    "mu.deltaR(g)"
   ]
  },
  {
   "cell_type": "code",
   "execution_count": null,
   "id": "38be2a07-0bb8-42bc-8173-de0c91a8b699",
   "metadata": {},
   "outputs": [],
   "source": [
    "hist.Hist.new.Reg(100, 0, 5).Double().fill(\n",
    "    ak.flatten(mu.deltaR(g), axis=None)\n",
    ")"
   ]
  },
  {
   "cell_type": "code",
   "execution_count": null,
   "id": "96b7ed87-1bfa-4846-a246-59c5c8e04b4e",
   "metadata": {},
   "outputs": [],
   "source": [
    "hist.Hist.new.Reg(100, 0, 5).Double().fill(\n",
    "    ak.flatten(mu.deltaR(g)[abs(g.pdgId) == 13], axis=None)\n",
    ")"
   ]
  },
  {
   "cell_type": "code",
   "execution_count": null,
   "id": "f2a3b3b6-6f11-4164-9b95-78f513b70b83",
   "metadata": {},
   "outputs": [],
   "source": [
    "hist.Hist.new.Reg(100, 0, 5).Double().fill(\n",
    "    ak.flatten(ak.min(mu.deltaR(g), axis=-1), axis=None)\n",
    ")"
   ]
  },
  {
   "cell_type": "code",
   "execution_count": null,
   "id": "7d472fd1-e69b-4b52-ac15-cb07deb615c1",
   "metadata": {},
   "outputs": [],
   "source": [
    "best = ak.argmin(mu.deltaR(g), axis=-1, keepdims=True)\n",
    "best"
   ]
  },
  {
   "cell_type": "code",
   "execution_count": null,
   "id": "f644c1db-2e12-4228-a3f5-5729b8bdb2ca",
   "metadata": {},
   "outputs": [],
   "source": [
    "reco_gen[best]"
   ]
  },
  {
   "cell_type": "code",
   "execution_count": null,
   "id": "caef1c5a-6f84-45cd-98e9-7a59f456eaf4",
   "metadata": {},
   "outputs": [],
   "source": [
    "ak.flatten(reco_gen[best], axis=-1)[:4].tolist()"
   ]
  },
  {
   "cell_type": "code",
   "execution_count": null,
   "id": "3d32daa1-416a-421a-8a14-b6aa6a5e4225",
   "metadata": {},
   "outputs": [],
   "source": [
    "import numba as nb"
   ]
  },
  {
   "cell_type": "code",
   "execution_count": null,
   "id": "97e82859-8c1a-41f8-b3df-2bde39de6a0c",
   "metadata": {},
   "outputs": [],
   "source": [
    "starttime = time.time()\n",
    "\n",
    "sumpt = np.zeros(len(array), np.float64)\n",
    "for i, event in enumerate(array):\n",
    "    for muon in event.muons:\n",
    "        sumpt[i] += muon.pt\n",
    "\n",
    "python_time = time.time() - starttime\n",
    "print(f\"total time: {python_time} sec\")"
   ]
  },
  {
   "cell_type": "code",
   "execution_count": null,
   "id": "c31b3d78-ac2e-4ad3-89af-7e0b7154039d",
   "metadata": {},
   "outputs": [],
   "source": [
    "@nb.jit\n",
    "def calculate_sumpt(array):\n",
    "    out = np.zeros(len(array), np.float64)\n",
    "    for i, event in enumerate(array):\n",
    "        for muon in event.muons:\n",
    "            out[i] += muon.pt\n",
    "    return out"
   ]
  },
  {
   "cell_type": "code",
   "execution_count": null,
   "id": "7f881e35-6854-4156-ba34-828e420ac09d",
   "metadata": {},
   "outputs": [],
   "source": [
    "calculate_sumpt(array)"
   ]
  },
  {
   "cell_type": "code",
   "execution_count": null,
   "id": "3298e66a-766f-4f62-b1d3-66150bead7fc",
   "metadata": {},
   "outputs": [],
   "source": [
    "starttime = time.time()\n",
    "\n",
    "sumpt = calculate_sumpt(array)\n",
    "\n",
    "numba_time = time.time() - starttime\n",
    "print(f\"total time: {numba_time} sec\")"
   ]
  },
  {
   "cell_type": "code",
   "execution_count": null,
   "id": "55c1719a-115e-4ffb-92ce-1418846aa374",
   "metadata": {},
   "outputs": [],
   "source": [
    "python_time / numba_time"
   ]
  },
  {
   "cell_type": "code",
   "execution_count": null,
   "id": "320b94b1-612c-4eb3-8526-1abfb39160d3",
   "metadata": {},
   "outputs": [],
   "source": [
    "starttime = time.time()\n",
    "\n",
    "sumpt = ak.sum(array, axis=-1)\n",
    "\n",
    "awkward_time = time.time() - starttime\n",
    "print(f\"total time: {awkward_time} sec\")"
   ]
  },
  {
   "cell_type": "code",
   "execution_count": null,
   "id": "a5dd08ef-2ff9-494a-9c32-93e2af901225",
   "metadata": {},
   "outputs": [],
   "source": [
    "python_time / awkward_time"
   ]
  },
  {
   "cell_type": "code",
   "execution_count": null,
   "id": "c1bcb528-adf2-4e39-8b8c-2d48ad4958e5",
   "metadata": {},
   "outputs": [],
   "source": [
    "@nb.jit\n",
    "def build_nested(array, builder):\n",
    "    for event in array:\n",
    "        builder.begin_list()\n",
    "        \n",
    "        for muon in event.muons:\n",
    "            builder.append(muon.pt)\n",
    "        \n",
    "        builder.end_list()\n",
    "    \n",
    "    return builder\n",
    "\n",
    "build_nested(array, ak.ArrayBuilder()).snapshot()"
   ]
  },
  {
   "cell_type": "code",
   "execution_count": null,
   "id": "461934cb-d86d-4c2f-ae78-6b70c4e2999b",
   "metadata": {},
   "outputs": [],
   "source": [
    "array.muons.pt"
   ]
  },
  {
   "cell_type": "code",
   "execution_count": null,
   "id": "939db3f2-105a-4c9f-b915-d4360189879f",
   "metadata": {},
   "outputs": [],
   "source": [
    "@nb.jit\n",
    "def matching(array_muons, array_gen, builder):\n",
    "    for muons_event, gen_event in zip(array_muons, array_gen):\n",
    "        builder.begin_list()\n",
    "\n",
    "        for muon in muons_event:\n",
    "            best_i = -1\n",
    "            best_dr = -1.0\n",
    "            for i, gen in enumerate(gen_event):\n",
    "                dr = muon.deltaR(gen)\n",
    "                if best_i < 0 or dr < best_dr:\n",
    "                    best_i = i\n",
    "                    best_dr = dr\n",
    "\n",
    "            if best_i < 0:\n",
    "                builder.append(None)\n",
    "            else:\n",
    "                builder.append(best_i)\n",
    "\n",
    "        builder.end_list()\n",
    "\n",
    "    return builder\n",
    "\n",
    "index_of_best = matching(muons, gen, ak.ArrayBuilder()).snapshot()\n",
    "index_of_best"
   ]
  },
  {
   "cell_type": "code",
   "execution_count": null,
   "id": "99772fba-3fa2-4029-acc5-869326199f6f",
   "metadata": {},
   "outputs": [],
   "source": [
    "gen_match = gen[index_of_best]\n",
    "gen_match"
   ]
  },
  {
   "cell_type": "code",
   "execution_count": null,
   "id": "770db62e-0b0c-44ed-affa-46d40fabeebd",
   "metadata": {},
   "outputs": [],
   "source": [
    "ak.num(gen), ak.num(muons), ak.num(gen_match)"
   ]
  },
  {
   "cell_type": "code",
   "execution_count": null,
   "id": "5728452e-9555-4f9a-9bc7-43715c5ba47a",
   "metadata": {},
   "outputs": [],
   "source": [
    "ak.zip({\"muons\": muons, \"gen\": gen_match})"
   ]
  },
  {
   "cell_type": "code",
   "execution_count": null,
   "id": "86475e92-a4af-4de1-946a-453810b9e7f1",
   "metadata": {},
   "outputs": [],
   "source": [
    "four_muons = muons[(ak.num(muons) == 4) & (ak.sum(muons.charge, axis=-1) == 0)]\n",
    "four_muons"
   ]
  },
  {
   "cell_type": "code",
   "execution_count": null,
   "id": "17ad82aa-b12a-4fdd-b77a-cc5f761b3f81",
   "metadata": {},
   "outputs": [],
   "source": [
    "mu_plus = four_muons[four_muons.charge > 0]\n",
    "mu_minus = four_muons[four_muons.charge < 0]\n",
    "mu_plus, mu_minus"
   ]
  },
  {
   "cell_type": "code",
   "execution_count": null,
   "id": "270dc924-b436-4e69-84e3-d14181dd5198",
   "metadata": {},
   "outputs": [],
   "source": [
    "ak.num(mu_plus), ak.num(mu_minus)"
   ]
  },
  {
   "cell_type": "code",
   "execution_count": null,
   "id": "cc48c9f6-92a9-4265-8625-bce1a5f87b66",
   "metadata": {},
   "outputs": [],
   "source": [
    "mu_plus_0 = mu_plus[:, 0]\n",
    "mu_plus_1 = mu_plus[:, 1]\n",
    "mu_minus_0 = mu_minus[:, 0]\n",
    "mu_minus_1 = mu_minus[:, 1]\n",
    "\n",
    "mu_plus_0, mu_plus_1, mu_minus_0, mu_minus_1"
   ]
  },
  {
   "cell_type": "code",
   "execution_count": null,
   "id": "f475b411-9799-452c-bedf-26bc5da7ad67",
   "metadata": {},
   "outputs": [],
   "source": [
    "z00 = mu_plus_0 + mu_minus_0\n",
    "z11 = mu_plus_1 + mu_minus_1\n",
    "\n",
    "z01 = mu_plus_0 + mu_minus_1\n",
    "z10 = mu_plus_1 + mu_minus_0"
   ]
  },
  {
   "cell_type": "code",
   "execution_count": null,
   "id": "80eb37cd-3b2e-4ce4-8722-c6bb23e92fa9",
   "metadata": {},
   "outputs": [],
   "source": [
    "import particle"
   ]
  },
  {
   "cell_type": "code",
   "execution_count": null,
   "id": "24960429-8269-4c7e-a555-86dcfc737271",
   "metadata": {},
   "outputs": [],
   "source": [
    "particle.Particle.from_string(\"Z0\")"
   ]
  },
  {
   "cell_type": "code",
   "execution_count": null,
   "id": "806012f6-a219-4981-8b69-375ac80f88d2",
   "metadata": {},
   "outputs": [],
   "source": [
    "particle.Particle.from_string(\"Z0\").mass"
   ]
  },
  {
   "cell_type": "code",
   "execution_count": null,
   "id": "be0dd083-729c-4a28-9b25-047300c7899e",
   "metadata": {},
   "outputs": [],
   "source": [
    "zGeV = particle.Particle.from_string(\"Z0\").mass / 1000"
   ]
  },
  {
   "cell_type": "code",
   "execution_count": null,
   "id": "94ecb901-3826-4bf2-b668-7e53cfc0a104",
   "metadata": {},
   "outputs": [],
   "source": [
    "np.minimum(np.array([1, 2, 3]), np.array([3, 2, 1]))"
   ]
  },
  {
   "cell_type": "code",
   "execution_count": null,
   "id": "8a22b15d-bae2-427c-9318-124206cfef00",
   "metadata": {},
   "outputs": [],
   "source": [
    "zdist_0011 = np.minimum(abs(z00.mass - zGeV), abs(z11.mass - zGeV))\n",
    "zdist_0110 = np.minimum(abs(z01.mass - zGeV), abs(z10.mass - zGeV))\n",
    "zdist_0011, zdist_0110"
   ]
  },
  {
   "cell_type": "code",
   "execution_count": null,
   "id": "09d64155-4cc5-49ff-b7e3-ff8669defcd4",
   "metadata": {},
   "outputs": [],
   "source": [
    "is_0011 = zdist_0011 < zdist_0110\n",
    "is_0011"
   ]
  },
  {
   "cell_type": "code",
   "execution_count": null,
   "id": "518b06fb-a6a0-4b23-a7bf-efac255a9cea",
   "metadata": {},
   "outputs": [],
   "source": [
    "z0011_pair = ak.concatenate((z00[:, np.newaxis], z11[:, np.newaxis]), axis=1)\n",
    "z0110_pair = ak.concatenate((z01[:, np.newaxis], z10[:, np.newaxis]), axis=1)\n",
    "z0011_pair, z0110_pair"
   ]
  },
  {
   "cell_type": "code",
   "execution_count": null,
   "id": "a66cb985-d5bf-49ad-ac64-3fe89610ed75",
   "metadata": {},
   "outputs": [],
   "source": [
    "ak.num(z0011_pair), ak.num(z0110_pair)"
   ]
  },
  {
   "cell_type": "code",
   "execution_count": null,
   "id": "6bf808c4-4991-43c2-9661-bcfb13b93576",
   "metadata": {},
   "outputs": [],
   "source": [
    "correct_pair = ak.where(is_0011, z0011_pair, z0110_pair)\n",
    "correct_pair"
   ]
  },
  {
   "cell_type": "code",
   "execution_count": null,
   "id": "83447231-d050-47c4-8cbf-584d2db61c91",
   "metadata": {},
   "outputs": [],
   "source": [
    "ak.num(correct_pair)"
   ]
  },
  {
   "cell_type": "code",
   "execution_count": null,
   "id": "7b686cb3-8bdf-4897-b2e2-1f4f9c2c2e09",
   "metadata": {},
   "outputs": [],
   "source": [
    "hist.Hist.new.Reg(120, 0, 120, name=\"mass\").Double().fill(\n",
    "    correct_pair[:, 0].mass\n",
    ")"
   ]
  },
  {
   "cell_type": "code",
   "execution_count": null,
   "id": "6cac4c44-a0ff-41e4-be1c-f06487a2f413",
   "metadata": {},
   "outputs": [],
   "source": [
    "sort_index = ak.argsort(correct_pair.mass)\n",
    "sort_index"
   ]
  },
  {
   "cell_type": "code",
   "execution_count": null,
   "id": "203f65a1-a6ea-4b45-be91-e5e3270109d7",
   "metadata": {},
   "outputs": [],
   "source": [
    "sorted_pair = correct_pair[sort_index]\n",
    "sorted_pair"
   ]
  },
  {
   "cell_type": "code",
   "execution_count": null,
   "id": "97e82e43-2d83-4f6a-a04a-2dc4d4b7b203",
   "metadata": {},
   "outputs": [],
   "source": [
    "hist.Hist.new.Reg(120, 0, 120, name=\"mass\").Double().fill(\n",
    "    sorted_pair[:, 0].mass\n",
    ")"
   ]
  },
  {
   "cell_type": "code",
   "execution_count": null,
   "id": "82a5bb9e-642e-4baa-9a75-9629bd272838",
   "metadata": {},
   "outputs": [],
   "source": [
    "hist.Hist.new.Reg(150, 0, 150, name=\"mass\").Double().fill(\n",
    "    (sorted_pair[:, 0] + sorted_pair[:, 1]).mass\n",
    ")"
   ]
  }
 ],
 "metadata": {
  "kernelspec": {
   "display_name": "Python 3",
   "language": "python",
   "name": "python3"
  },
  "language_info": {
   "codemirror_mode": {
    "name": "ipython",
    "version": 3
   },
   "file_extension": ".py",
   "mimetype": "text/x-python",
   "name": "python",
   "nbconvert_exporter": "python",
   "pygments_lexer": "ipython3",
   "version": "3.8.10"
  }
 },
 "nbformat": 4,
 "nbformat_minor": 5
}
