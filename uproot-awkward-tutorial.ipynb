{
 "cells": [
  {
   "cell_type": "code",
   "execution_count": 1,
   "id": "69584fef-686a-4292-b574-b83d04300043",
   "metadata": {},
   "outputs": [
    {
     "name": "stdout",
     "output_type": "stream",
     "text": [
      "Welcome to JupyROOT 6.24/00\n"
     ]
    }
   ],
   "source": [
    "import numpy as np\n",
    "import ROOT\n",
    "\n",
    "c1 = ROOT.TCanvas()"
   ]
  },
  {
   "cell_type": "code",
   "execution_count": 2,
   "id": "acad9539-a277-4b3f-93dd-082cda1a4096",
   "metadata": {},
   "outputs": [],
   "source": [
    "rootfile = ROOT.TFile.Open(\"data/HiggsZZ4mu.root\")\n",
    "roottree = rootfile.Get(\"Events\")"
   ]
  },
  {
   "cell_type": "code",
   "execution_count": 3,
   "id": "bd334750-4610-4529-927b-6060be350126",
   "metadata": {},
   "outputs": [],
   "source": [
    "h2 = ROOT.TH1D(\"h2\", \"mass\", 120, 0, 120)\n",
    "\n",
    "for index, event in enumerate(roottree):\n",
    "    # Applying cuts means if-statements.\n",
    "    if event.nMuon >= 2 and event.Muon_charge[0] + event.Muon_charge[1] == 0:\n",
    "        mu1_pt = event.Muon_pt[0]\n",
    "        mu2_pt = event.Muon_pt[1]\n",
    "        mu1_eta = event.Muon_eta[0]\n",
    "        mu2_eta = event.Muon_eta[1]\n",
    "        mu1_phi = event.Muon_phi[0]\n",
    "        mu2_phi = event.Muon_phi[1]\n",
    "        h2.Fill(np.sqrt(2*mu1_pt*mu2_pt*(np.cosh(mu1_eta - mu2_eta) - np.cos(mu1_phi - mu2_phi))))"
   ]
  },
  {
   "cell_type": "code",
   "execution_count": 4,
   "id": "70f7ff13-cc46-479b-9941-d92a7d6f17f8",
   "metadata": {},
   "outputs": [
    {
     "data": {
      "image/png": "[encoded data removed]",
      "text/plain": [
       "<IPython.core.display.Image object>"
      ]
     },
     "metadata": {},
     "output_type": "display_data"
    }
   ],
   "source": [
    "h2.Draw()\n",
    "c1.Draw()"
   ]
  },
  {
   "cell_type": "code",
   "execution_count": 5,
   "id": "ec394a10-cdf5-4cd7-81c1-d39841b267fb",
   "metadata": {},
   "outputs": [],
   "source": [
    "import awkward as ak\n",
    "import uproot\n",
    "import hist"
   ]
  },
  {
   "cell_type": "code",
   "execution_count": 6,
   "id": "1075396f-916b-45a7-9b88-4a453407b16f",
   "metadata": {},
   "outputs": [
    {
     "name": "stdout",
     "output_type": "stream",
     "text": [
      "name                 | typename                 | interpretation                \n",
      "---------------------+--------------------------+-------------------------------\n",
      "HLT_IsoMu24_eta2p1   | bool                     | AsDtype('bool')\n",
      "HLT_IsoMu24          | bool                     | AsDtype('bool')\n",
      "HLT_IsoMu17_eta2p... | bool                     | AsDtype('bool')\n",
      "nMuon                | uint32_t                 | AsDtype('>u4')\n",
      "Muon_pt              | float[]                  | AsJagged(AsDtype('>f4'))\n",
      "Muon_eta             | float[]                  | AsJagged(AsDtype('>f4'))\n",
      "Muon_phi             | float[]                  | AsJagged(AsDtype('>f4'))\n",
      "Muon_mass            | float[]                  | AsJagged(AsDtype('>f4'))\n",
      "Muon_charge          | int32_t[]                | AsJagged(AsDtype('>i4'))\n"
     ]
    }
   ],
   "source": [
    "events = uproot.open(\"data/HiggsZZ4mu.root:Events\")\n",
    "events.show()"
   ]
  },
  {
   "cell_type": "code",
   "execution_count": 7,
   "id": "8c643a83-5f16-4541-8894-ca85fa07d0e4",
   "metadata": {},
   "outputs": [],
   "source": [
    "muons = events.arrays(\n",
    "    [\"pt\", \"eta\", \"phi\", \"charge\"],\n",
    "    aliases={\"pt\": \"Muon_pt\", \"eta\": \"Muon_eta\", \"phi\": \"Muon_phi\", \"charge\": \"Muon_charge\"}\n",
    ")"
   ]
  },
  {
   "cell_type": "code",
   "execution_count": 8,
   "id": "4d6249f5-9814-4f38-9f74-6fb7b1b9f9c7",
   "metadata": {},
   "outputs": [],
   "source": [
    "cut = (ak.num(muons.charge) >= 2) & (ak.sum(muons.charge[:, :2], axis=1) == 0)"
   ]
  },
  {
   "cell_type": "code",
   "execution_count": 9,
   "id": "446bd12e-56ed-4e58-8c4a-fd349f6797d4",
   "metadata": {},
   "outputs": [],
   "source": [
    "mu1 = muons[cut, 0]\n",
    "mu2 = muons[cut, 1]"
   ]
  },
  {
   "cell_type": "code",
   "execution_count": 10,
   "id": "119f78f7-ccfb-49bf-a221-021b9ab88eb9",
   "metadata": {},
   "outputs": [],
   "source": [
    "h1 = hist.Hist.new.Reg(120, 0, 120, name=\"mass\").Double()"
   ]
  },
  {
   "cell_type": "code",
   "execution_count": 11,
   "id": "3ab6f7ab-7286-4f56-948f-44a2e8cfec8b",
   "metadata": {},
   "outputs": [
    {
     "data": {
      "text/html": [
       "<html>\n",
       "<div style=\"display:flex; align-items:center;\">\n",
       "<div style=\"width:290px;\">\n",
       "<svg xmlns=\"http://www.w3.org/2000/svg\" viewBox=\"-10 -105 270 120\">\n",
       "<line x1=\"-5\" y1=\"0\" x2=\"255\" y2=\"0\" style=\"fill:none;stroke-width:2;stroke:currentColor\"/>\n",
       "<text text-anchor=\"middle\" x=\"0\" y=\"15\" style=\"fill:currentColor;\">\n",
       "0\n",
       "</text>\n",
       "<text text-anchor=\"middle\" x=\"250\" y=\"15\" style=\"fill:currentColor;\">\n",
       "120\n",
       "</text>\n",
       "<text text-anchor=\"middle\" x=\"125.0\" y=\"15\" style=\"fill:currentColor;\">\n",
       "mass\n",
       "</text>\n",
       "<polyline points=\"  0,0   0,-1.98 2.08333,-1.98 2.08333,-3.43 4.16667,-3.43 4.16667,-5.82 6.25,-5.82 6.25,-7.17 8.33333,-7.17 8.33333,-9.58 10.4167,-9.58 10.4167,-11.5 12.5,-11.5 12.5,-12.5 14.5833,-12.5 14.5833,-13.6 16.6667,-13.6 16.6667,-14.8 18.75,-14.8 18.75,-16 20.8333,-16 20.8333,-18.5 22.9167,-18.5 22.9167,-19.1  25,-19.1  25,-21.9 27.0833,-21.9 27.0833,-22.3 29.1667,-22.3 29.1667,-24.5 31.25,-24.5 31.25,-25.9 33.3333,-25.9 33.3333,-28.2 35.4167,-28.2 35.4167,-29 37.5,-29 37.5,-30.3 39.5833,-30.3 39.5833,-33.4 41.6667,-33.4 41.6667,-34.3 43.75,-34.3 43.75,-35.8 45.8333,-35.8 45.8333,-37.7 47.9167,-37.7 47.9167,-39.2  50,-39.2  50,-41.5 52.0833,-41.5 52.0833,-41.7 54.1667,-41.7 54.1667,-42 56.25,-42 56.25,-40.7 58.3333,-40.7 58.3333,-41.7 60.4167,-41.7 60.4167,-40.6 62.5,-40.6 62.5,-39.1 64.5833,-39.1 64.5833,-34.8 66.6667,-34.8 66.6667,-31.9 68.75,-31.9 68.75,-25.4 70.8333,-25.4 70.8333,-20.9 72.9167,-20.9 72.9167,-17.8  75,-17.8  75,-16.6 77.0833,-16.6 77.0833,-15.1 79.1667,-15.1 79.1667,-13.2 81.25,-13.2 81.25,-13.2 83.3333,-13.2 83.3333,-13.1 85.4167,-13.1 85.4167,-11.7 87.5,-11.7 87.5,-11.5 89.5833,-11.5 89.5833,-12.6 91.6667,-12.6 91.6667,-11.2 93.75,-11.2 93.75,-11.3 95.8333,-11.3 95.8333,-11.1 97.9167,-11.1 97.9167,-10.3 100,-10.3 100,-9.34 102.083,-9.34 102.083,-9.71 104.167,-9.71 104.167,-9.88 106.25,-9.88 106.25,-9.45 108.333,-9.45 108.333,-9.09 110.417,-9.09 110.417,-9.55 112.5,-9.55 112.5,-9.15 114.583,-9.15 114.583,-8.42 116.667,-8.42 116.667,-8.82 118.75,-8.82 118.75,-8.66 120.833,-8.66 120.833,-8.87 122.917,-8.87 122.917,-8.64 125,-8.64 125,-7.95 127.083,-7.95 127.083,-7.61 129.167,-7.61 129.167,-7.84 131.25,-7.84 131.25,-7.42 133.333,-7.42 133.333,-7.58 135.417,-7.58 135.417,-7.14 137.5,-7.14 137.5,-6.9 139.583,-6.9 139.583,-7.42 141.667,-7.42 141.667,-7.33 143.75,-7.33 143.75,-7.25 145.833,-7.25 145.833,-8.06 147.917,-8.06 147.917,-7.63 150,-7.63 150,-7.33 152.083,-7.33 152.083,-8.14 154.167,-8.14 154.167,-8.06 156.25,-8.06 156.25,-8.28 158.333,-8.28 158.333,-8.23 160.417,-8.23 160.417,-8.88 162.5,-8.88 162.5,-10.1 164.583,-10.1 164.583,-9.18 166.667,-9.18 166.667,-11.4 168.75,-11.4 168.75,-12 170.833,-12 170.833,-13 172.917,-13 172.917,-15.6 175,-15.6 175,-18.4 177.083,-18.4 177.083,-22.5 179.167,-22.5 179.167,-27.1 181.25,-27.1 181.25,-39.3 183.333,-39.3 183.333,-57.6 185.417,-57.6 185.417,-80.8 187.5,-80.8 187.5,-100 189.583,-100 189.583,-92.4 191.667,-92.4 191.667,-62.6 193.75,-62.6 193.75,-33.5 195.833,-33.5 195.833,-17.8 197.917,-17.8 197.917,-9.1 200,-9.1 200,-5.68 202.083,-5.68 202.083,-3.39 204.167,-3.39 204.167,-2.32 206.25,-2.32 206.25,-1.44 208.333,-1.44 208.333,-0.952 210.417,-0.952 210.417,-0.682 212.5,-0.682 212.5,-0.397 214.583,-0.397 214.583,-0.381 216.667,-0.381 216.667,-0.206 218.75,-0.206 218.75,-0.159 220.833,-0.159 220.833,-0.159 222.917,-0.159 222.917,-0.0952 225,-0.0952 225,-0.0476 227.083,-0.0476 227.083,-0.0634 229.167,-0.0634 229.167,-0.127 231.25,-0.127 231.25,-0.0317 233.333,-0.0317 233.333,-0.0634 235.417,-0.0634 235.417,-0.0476 237.5,-0.0476 237.5,-0.0317 239.583,-0.0317 239.583,-0.0159 241.667,-0.0159 241.667,-0.0159 243.75,-0.0159 243.75,-0 245.833,-0 245.833,-0.0159 247.917,-0.0159 247.917,-0.0159 250,-0.0159 250,0\" style=\"fill:none; stroke:currentColor;\"/>\n",
       "</svg>\n",
       "</div>\n",
       "<div style=\"flex=grow:1;\">\n",
       "Regular(120, 0, 120, name='mass', label='mass')<br/>\n",
       "<hr style=\"margin-top:.2em; margin-bottom:.2em;\"/>\n",
       "Double() Σ=123753.0 <em>(123800.0 with flow)</em>\n",
       "\n",
       "</div>\n",
       "</div>\n",
       "</html>"
      ],
      "text/plain": [
       "Hist(Regular(120, 0, 120, name='mass', label='mass'), storage=Double()) # Sum: 123753.0 (123800.0 with flow)"
      ]
     },
     "execution_count": 11,
     "metadata": {},
     "output_type": "execute_result"
    }
   ],
   "source": [
    "h1.fill(np.sqrt(2*mu1.pt*mu2.pt*(np.cosh(mu1.eta - mu2.eta) - np.cos(mu1.phi - mu2.phi))))"
   ]
  },
  {
   "cell_type": "code",
   "execution_count": 12,
   "id": "681a6edd-1e69-4a18-bb15-6de41cd12026",
   "metadata": {},
   "outputs": [
    {
     "data": {
      "image/png": "[encoded data removed]",
      "text/plain": [
       "<Figure size 432x288 with 1 Axes>"
      ]
     },
     "metadata": {
      "needs_background": "light"
     },
     "output_type": "display_data"
    }
   ],
   "source": [
    "import matplotlib.pyplot as plt\n",
    "\n",
    "h1.plot();"
   ]
  },
  {
   "cell_type": "code",
   "execution_count": null,
   "id": "2701fca4-602b-4a97-9f74-2dcd7ecc9f24",
   "metadata": {},
   "outputs": [],
   "source": []
  }
 ],
 "metadata": {
  "kernelspec": {
   "display_name": "Python 3",
   "language": "python",
   "name": "python3"
  },
  "language_info": {
   "codemirror_mode": {
    "name": "ipython",
    "version": 3
   },
   "file_extension": ".py",
   "mimetype": "text/x-python",
   "name": "python",
   "nbconvert_exporter": "python",
   "pygments_lexer": "ipython3",
   "version": "3.8.10"
  }
 },
 "nbformat": 4,
 "nbformat_minor": 5
}
