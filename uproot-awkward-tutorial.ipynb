{
 "cells": [
  {
   "cell_type": "code",
   "execution_count": 1,
   "id": "69584fef-686a-4292-b574-b83d04300043",
   "metadata": {},
   "outputs": [
    {
     "name": "stdout",
     "output_type": "stream",
     "text": [
      "Welcome to JupyROOT 6.24/00\n"
     ]
    }
   ],
   "source": [
    "import time\n",
    "import numpy as np\n",
    "import ROOT\n",
    "\n",
    "canvas = ROOT.TCanvas()"
   ]
  },
  {
   "cell_type": "code",
   "execution_count": 2,
   "id": "fcc5a088-2488-4dc0-a505-94a58e5c50ab",
   "metadata": {},
   "outputs": [],
   "source": [
    "rootfile = ROOT.TFile.Open(\"data/HiggsZZ4mu.root\")\n",
    "roottree = rootfile.Get(\"Events\")"
   ]
  },
  {
   "cell_type": "code",
   "execution_count": 3,
   "id": "bf54100c-9299-4055-a3e9-f904dad177bd",
   "metadata": {},
   "outputs": [
    {
     "name": "stdout",
     "output_type": "stream",
     "text": [
      "total time: 19.430471420288086 sec\n"
     ]
    }
   ],
   "source": [
    "starttime = time.time()\n",
    "\n",
    "roothist = ROOT.TH1D(\"roothist\", \"mass\", 120, 0, 120)\n",
    "\n",
    "for index, event in enumerate(roottree):\n",
    "    # Applying cuts means if-statements.\n",
    "    if event.nMuon >= 2 and event.Muon_charge[0] + event.Muon_charge[1] == 0:\n",
    "        mu1_pt = event.Muon_pt[0]\n",
    "        mu2_pt = event.Muon_pt[1]\n",
    "        mu1_eta = event.Muon_eta[0]\n",
    "        mu2_eta = event.Muon_eta[1]\n",
    "        mu1_phi = event.Muon_phi[0]\n",
    "        mu2_phi = event.Muon_phi[1]\n",
    "        roothist.Fill(\n",
    "            np.sqrt(2*mu1_pt*mu2_pt*(np.cosh(mu1_eta - mu2_eta) - np.cos(mu1_phi - mu2_phi)))\n",
    "        )\n",
    "\n",
    "pyroot_time = time.time() - starttime\n",
    "print(f\"total time: {pyroot_time} sec\")"
   ]
  },
  {
   "cell_type": "code",
   "execution_count": 4,
   "id": "70f7ff13-cc46-479b-9941-d92a7d6f17f8",
   "metadata": {},
   "outputs": [
    {
     "data": {
      "image/png": "[encoded data removed]",
      "text/plain": [
       "<IPython.core.display.Image object>"
      ]
     },
     "metadata": {},
     "output_type": "display_data"
    }
   ],
   "source": [
    "roothist.Draw()\n",
    "canvas.Draw()"
   ]
  },
  {
   "cell_type": "code",
   "execution_count": 5,
   "id": "db10d15c-3040-46d7-b364-a1d29de01829",
   "metadata": {},
   "outputs": [
    {
     "data": {
      "text/plain": [
       "True"
      ]
     },
     "execution_count": 5,
     "metadata": {},
     "output_type": "execute_result"
    }
   ],
   "source": [
    "ROOT.gInterpreter.Declare('''\n",
    "void compute(TH1D& roothist, TTree& roottree) {\n",
    "    UInt_t nMuon;\n",
    "    float Muon_pt[50];\n",
    "    float Muon_eta[50];\n",
    "    float Muon_phi[50];\n",
    "    int32_t Muon_charge[50];\n",
    "\n",
    "    roottree.SetBranchStatus(\"*\", 0);\n",
    "    roottree.SetBranchStatus(\"nMuon\", 1);\n",
    "    roottree.SetBranchStatus(\"Muon_pt\", 1);\n",
    "    roottree.SetBranchStatus(\"Muon_eta\", 1);\n",
    "    roottree.SetBranchStatus(\"Muon_phi\", 1);\n",
    "    roottree.SetBranchStatus(\"Muon_charge\", 1);\n",
    "\n",
    "    roottree.SetBranchAddress(\"nMuon\", &nMuon);\n",
    "    roottree.SetBranchAddress(\"Muon_pt\", Muon_pt);\n",
    "    roottree.SetBranchAddress(\"Muon_eta\", Muon_eta);\n",
    "    roottree.SetBranchAddress(\"Muon_phi\", Muon_phi);\n",
    "    roottree.SetBranchAddress(\"Muon_charge\", Muon_charge);\n",
    "\n",
    "    for (int index = 0; index < 100000; index++) {\n",
    "        roottree.GetEntry(index);\n",
    "        if (nMuon >= 2 && Muon_charge[0] + Muon_charge[1] == 0) {\n",
    "            float mu1_pt = Muon_pt[0];\n",
    "            float mu2_pt = Muon_pt[1];\n",
    "            float mu1_eta = Muon_eta[0];\n",
    "            float mu2_eta = Muon_eta[1];\n",
    "            float mu1_phi = Muon_phi[0];\n",
    "            float mu2_phi = Muon_phi[1];\n",
    "            roothist.Fill(\n",
    "                sqrt(2*mu1_pt*mu2_pt*(cosh(mu1_eta - mu2_eta) - cos(mu1_phi - mu2_phi)))\n",
    "            );\n",
    "        }\n",
    "    }\n",
    "}\n",
    "''')"
   ]
  },
  {
   "cell_type": "code",
   "execution_count": 6,
   "id": "43265ef2-14c4-4979-81d1-563ab6d7d8f4",
   "metadata": {},
   "outputs": [
    {
     "name": "stdout",
     "output_type": "stream",
     "text": [
      "total time: 0.035958290100097656 sec\n"
     ]
    }
   ],
   "source": [
    "starttime = time.time()\n",
    "\n",
    "roothist2 = ROOT.TH1D(\"roothist2\", \"mass\", 120, 0, 120)\n",
    "\n",
    "ROOT.compute(roothist2, roottree)\n",
    "\n",
    "cpproot_time = time.time() - starttime\n",
    "print(f\"total time: {cpproot_time} sec\")"
   ]
  },
  {
   "cell_type": "code",
   "execution_count": 7,
   "id": "d5a20bdf-3a3c-4767-85b6-26bc37ebcdea",
   "metadata": {},
   "outputs": [
    {
     "data": {
      "text/plain": [
       "540.361384431773"
      ]
     },
     "execution_count": 7,
     "metadata": {},
     "output_type": "execute_result"
    }
   ],
   "source": [
    "pyroot_time / cpproot_time"
   ]
  },
  {
   "cell_type": "code",
   "execution_count": 8,
   "id": "2de975f3-9e2c-4f82-adfb-d2b530ae8e4a",
   "metadata": {},
   "outputs": [
    {
     "data": {
      "image/png": "[encoded data removed]",
      "text/plain": [
       "<IPython.core.display.Image object>"
      ]
     },
     "metadata": {},
     "output_type": "display_data"
    }
   ],
   "source": [
    "roothist2.Draw()\n",
    "canvas.Draw()"
   ]
  },
  {
   "cell_type": "markdown",
   "id": "da2f4e44-9061-49c8-9fac-70a7722cf5dd",
   "metadata": {},
   "source": [
    "<img src=\"img/rdataframe-flow.svg\" style=\"width: 800px\">"
   ]
  },
  {
   "cell_type": "code",
   "execution_count": 9,
   "id": "c66bd859-ce83-43c3-b05a-551e1d3836c3",
   "metadata": {},
   "outputs": [],
   "source": [
    "df = ROOT.RDataFrame(\"Events\", \"data/HiggsZZ4mu.root\")\n",
    "\n",
    "# Each node is connected to the previous, in a chain (which can split and recombine).\n",
    "df_2mu = df.Filter(\"nMuon >= 2\")\n",
    "df_os = df_2mu.Filter(\"Muon_charge[0] + Muon_charge[1] == 0\")\n",
    "\n",
    "# This node is a big C++ block.\n",
    "df_mass = df_os.Define(\"Dimuon_mass\", '''\n",
    "float mu1_pt = Muon_pt[0];\n",
    "float mu2_pt = Muon_pt[1];\n",
    "float mu1_eta = Muon_eta[0];\n",
    "float mu2_eta = Muon_eta[1];\n",
    "float mu1_phi = Muon_phi[0];\n",
    "float mu2_phi = Muon_phi[1];\n",
    "return sqrt(2*mu1_pt*mu2_pt*(cosh(mu1_eta - mu2_eta) - cos(mu1_phi - mu2_phi)));\n",
    "''')"
   ]
  },
  {
   "cell_type": "code",
   "execution_count": 10,
   "id": "ce89cea2-50c7-425c-ab60-75a94e027404",
   "metadata": {},
   "outputs": [
    {
     "name": "stdout",
     "output_type": "stream",
     "text": [
      "total time: 0.09838652610778809 sec\n"
     ]
    }
   ],
   "source": [
    "starttime = time.time()\n",
    "\n",
    "# This one is an endpoint (action).\n",
    "roothist3 = df_mass.Histo1D((\"h3\", \"mass\", 120, 0, 120), \"Dimuon_mass\")\n",
    "\n",
    "rdfroot_time = time.time() - starttime\n",
    "print(f\"total time: {rdfroot_time} sec\")"
   ]
  },
  {
   "cell_type": "code",
   "execution_count": 11,
   "id": "2fe35303-5881-44c8-8b5e-77b1816e38e3",
   "metadata": {},
   "outputs": [
    {
     "data": {
      "text/plain": [
       "197.4911828780385"
      ]
     },
     "execution_count": 11,
     "metadata": {},
     "output_type": "execute_result"
    }
   ],
   "source": [
    "pyroot_time / rdfroot_time"
   ]
  },
  {
   "cell_type": "code",
   "execution_count": 12,
   "id": "8791d881-bcb0-4282-aae2-1155decc07eb",
   "metadata": {},
   "outputs": [
    {
     "data": {
      "image/png": "[encoded data removed]",
      "text/plain": [
       "<IPython.core.display.Image object>"
      ]
     },
     "metadata": {},
     "output_type": "display_data"
    }
   ],
   "source": [
    "roothist3.Draw()\n",
    "canvas.Draw()"
   ]
  },
  {
   "cell_type": "code",
   "execution_count": 13,
   "id": "ec394a10-cdf5-4cd7-81c1-d39841b267fb",
   "metadata": {},
   "outputs": [],
   "source": [
    "import awkward as ak\n",
    "import uproot\n",
    "import hist"
   ]
  },
  {
   "cell_type": "code",
   "execution_count": 14,
   "id": "1075396f-916b-45a7-9b88-4a453407b16f",
   "metadata": {},
   "outputs": [
    {
     "name": "stdout",
     "output_type": "stream",
     "text": [
      "name                 | typename                 | interpretation                \n",
      "---------------------+--------------------------+-------------------------------\n",
      "run                  | int32_t                  | AsDtype('>i4')\n",
      "luminosityBlock      | uint32_t                 | AsDtype('>u4')\n",
      "event                | uint64_t                 | AsDtype('>u8')\n",
      "nMuon                | uint32_t                 | AsDtype('>u4')\n",
      "Muon_pt              | float[]                  | AsJagged(AsDtype('>f4'))\n",
      "Muon_eta             | float[]                  | AsJagged(AsDtype('>f4'))\n",
      "Muon_phi             | float[]                  | AsJagged(AsDtype('>f4'))\n",
      "Muon_mass            | float[]                  | AsJagged(AsDtype('>f4'))\n",
      "Muon_charge          | int32_t[]                | AsJagged(AsDtype('>i4'))\n",
      "MET_pt               | float                    | AsDtype('>f4')\n",
      "MET_phi              | float                    | AsDtype('>f4')\n",
      "nGenPart             | uint32_t                 | AsDtype('>u4')\n",
      "GenPart_pt           | float[]                  | AsJagged(AsDtype('>f4'))\n",
      "GenPart_eta          | float[]                  | AsJagged(AsDtype('>f4'))\n",
      "GenPart_phi          | float[]                  | AsJagged(AsDtype('>f4'))\n",
      "GenPart_pdgId        | int32_t[]                | AsJagged(AsDtype('>i4'))\n"
     ]
    }
   ],
   "source": [
    "events = uproot.open(\"data/HiggsZZ4mu.root:Events\")\n",
    "events.show()"
   ]
  },
  {
   "cell_type": "code",
   "execution_count": 15,
   "id": "8c643a83-5f16-4541-8894-ca85fa07d0e4",
   "metadata": {},
   "outputs": [
    {
     "data": {
      "text/plain": [
       "<Array [{pt: [], eta: [], ... -1, 1, -1]}] type='299683 * {\"pt\": var * float32, ...'>"
      ]
     },
     "execution_count": 15,
     "metadata": {},
     "output_type": "execute_result"
    }
   ],
   "source": [
    "muons = events.arrays(\n",
    "    [\"pt\", \"eta\", \"phi\", \"charge\"],\n",
    "    aliases={\"pt\": \"Muon_pt\", \"eta\": \"Muon_eta\", \"phi\": \"Muon_phi\", \"charge\": \"Muon_charge\"}\n",
    ")\n",
    "muons"
   ]
  },
  {
   "cell_type": "code",
   "execution_count": 16,
   "id": "4d6249f5-9814-4f38-9f74-6fb7b1b9f9c7",
   "metadata": {},
   "outputs": [
    {
     "data": {
      "text/plain": [
       "<Array [False, True, False, ... True, True] type='299683 * bool'>"
      ]
     },
     "execution_count": 16,
     "metadata": {},
     "output_type": "execute_result"
    }
   ],
   "source": [
    "cut = (ak.num(muons.charge) >= 2) & (ak.sum(muons.charge[:, :2], axis=1) == 0)\n",
    "cut"
   ]
  },
  {
   "cell_type": "code",
   "execution_count": 17,
   "id": "446bd12e-56ed-4e58-8c4a-fd349f6797d4",
   "metadata": {},
   "outputs": [
    {
     "data": {
      "text/plain": [
       "(<Array [{pt: 18.6, eta: -0.179, ... charge: 1}] type='123800 * {\"pt\": float32, \"...'>,\n",
       " <Array [{pt: 23.6, eta: 0.224, ... charge: -1}] type='123800 * {\"pt\": float32, \"...'>)"
      ]
     },
     "execution_count": 17,
     "metadata": {},
     "output_type": "execute_result"
    }
   ],
   "source": [
    "mu1 = muons[cut, 0]\n",
    "mu2 = muons[cut, 1]\n",
    "mu1, mu2"
   ]
  },
  {
   "cell_type": "code",
   "execution_count": 18,
   "id": "119f78f7-ccfb-49bf-a221-021b9ab88eb9",
   "metadata": {},
   "outputs": [
    {
     "data": {
      "text/html": [
       "<html>\n",
       "<div style=\"display:flex; align-items:center;\">\n",
       "<div style=\"width:290px;\">\n",
       "<svg xmlns=\"http://www.w3.org/2000/svg\" viewBox=\"-10 -105 270 120\">\n",
       "<line x1=\"-5\" y1=\"0\" x2=\"255\" y2=\"0\" style=\"fill:none;stroke-width:2;stroke:currentColor\"/>\n",
       "<text text-anchor=\"middle\" x=\"0\" y=\"15\" style=\"fill:currentColor;\">\n",
       "0\n",
       "</text>\n",
       "<text text-anchor=\"middle\" x=\"250\" y=\"15\" style=\"fill:currentColor;\">\n",
       "120\n",
       "</text>\n",
       "<text text-anchor=\"middle\" x=\"125.0\" y=\"15\" style=\"fill:currentColor;\">\n",
       "mass\n",
       "</text>\n",
       "<polyline points=\"  0,0   0,-0 2.08333,-0 2.08333,-0 4.16667,-0 4.16667,-0 6.25,-0 6.25,-0 8.33333,-0 8.33333,-0 10.4167,-0 10.4167,-0 12.5,-0 12.5,-0 14.5833,-0 14.5833,-0 16.6667,-0 16.6667,-0 18.75,-0 18.75,-0 20.8333,-0 20.8333,-0 22.9167,-0 22.9167,-0  25,-0  25,-0 27.0833,-0 27.0833,-0 29.1667,-0 29.1667,-0 31.25,-0 31.25,-0 33.3333,-0 33.3333,-0 35.4167,-0 35.4167,-0 37.5,-0 37.5,-0 39.5833,-0 39.5833,-0 41.6667,-0 41.6667,-0 43.75,-0 43.75,-0 45.8333,-0 45.8333,-0 47.9167,-0 47.9167,-0  50,-0  50,-0 52.0833,-0 52.0833,-0 54.1667,-0 54.1667,-0 56.25,-0 56.25,-0 58.3333,-0 58.3333,-0 60.4167,-0 60.4167,-0 62.5,-0 62.5,-0 64.5833,-0 64.5833,-0 66.6667,-0 66.6667,-0 68.75,-0 68.75,-0 70.8333,-0 70.8333,-0 72.9167,-0 72.9167,-0  75,-0  75,-0 77.0833,-0 77.0833,-0 79.1667,-0 79.1667,-0 81.25,-0 81.25,-0 83.3333,-0 83.3333,-0 85.4167,-0 85.4167,-0 87.5,-0 87.5,-0 89.5833,-0 89.5833,-0 91.6667,-0 91.6667,-0 93.75,-0 93.75,-0 95.8333,-0 95.8333,-0 97.9167,-0 97.9167,-0 100,-0 100,-0 102.083,-0 102.083,-0 104.167,-0 104.167,-0 106.25,-0 106.25,-0 108.333,-0 108.333,-0 110.417,-0 110.417,-0 112.5,-0 112.5,-0 114.583,-0 114.583,-0 116.667,-0 116.667,-0 118.75,-0 118.75,-0 120.833,-0 120.833,-0 122.917,-0 122.917,-0 125,-0 125,-0 127.083,-0 127.083,-0 129.167,-0 129.167,-0 131.25,-0 131.25,-0 133.333,-0 133.333,-0 135.417,-0 135.417,-0 137.5,-0 137.5,-0 139.583,-0 139.583,-0 141.667,-0 141.667,-0 143.75,-0 143.75,-0 145.833,-0 145.833,-0 147.917,-0 147.917,-0 150,-0 150,-0 152.083,-0 152.083,-0 154.167,-0 154.167,-0 156.25,-0 156.25,-0 158.333,-0 158.333,-0 160.417,-0 160.417,-0 162.5,-0 162.5,-0 164.583,-0 164.583,-0 166.667,-0 166.667,-0 168.75,-0 168.75,-0 170.833,-0 170.833,-0 172.917,-0 172.917,-0 175,-0 175,-0 177.083,-0 177.083,-0 179.167,-0 179.167,-0 181.25,-0 181.25,-0 183.333,-0 183.333,-0 185.417,-0 185.417,-0 187.5,-0 187.5,-0 189.583,-0 189.583,-0 191.667,-0 191.667,-0 193.75,-0 193.75,-0 195.833,-0 195.833,-0 197.917,-0 197.917,-0 200,-0 200,-0 202.083,-0 202.083,-0 204.167,-0 204.167,-0 206.25,-0 206.25,-0 208.333,-0 208.333,-0 210.417,-0 210.417,-0 212.5,-0 212.5,-0 214.583,-0 214.583,-0 216.667,-0 216.667,-0 218.75,-0 218.75,-0 220.833,-0 220.833,-0 222.917,-0 222.917,-0 225,-0 225,-0 227.083,-0 227.083,-0 229.167,-0 229.167,-0 231.25,-0 231.25,-0 233.333,-0 233.333,-0 235.417,-0 235.417,-0 237.5,-0 237.5,-0 239.583,-0 239.583,-0 241.667,-0 241.667,-0 243.75,-0 243.75,-0 245.833,-0 245.833,-0 247.917,-0 247.917,-0 250,-0 250,0\" style=\"fill:none; stroke:currentColor;\"/>\n",
       "</svg>\n",
       "</div>\n",
       "<div style=\"flex=grow:1;\">\n",
       "Regular(120, 0, 120, name='mass', label='mass')<br/>\n",
       "<hr style=\"margin-top:.2em; margin-bottom:.2em;\"/>\n",
       "Double() Σ=0.0\n",
       "\n",
       "</div>\n",
       "</div>\n",
       "</html>"
      ],
      "text/plain": [
       "Hist(Regular(120, 0, 120, name='mass', label='mass'), storage=Double())"
      ]
     },
     "execution_count": 18,
     "metadata": {},
     "output_type": "execute_result"
    }
   ],
   "source": [
    "h = hist.Hist.new.Reg(120, 0, 120, name=\"mass\").Double()\n",
    "h"
   ]
  },
  {
   "cell_type": "code",
   "execution_count": 19,
   "id": "3ab6f7ab-7286-4f56-948f-44a2e8cfec8b",
   "metadata": {},
   "outputs": [
    {
     "data": {
      "text/html": [
       "<html>\n",
       "<div style=\"display:flex; align-items:center;\">\n",
       "<div style=\"width:290px;\">\n",
       "<svg xmlns=\"http://www.w3.org/2000/svg\" viewBox=\"-10 -105 270 120\">\n",
       "<line x1=\"-5\" y1=\"0\" x2=\"255\" y2=\"0\" style=\"fill:none;stroke-width:2;stroke:currentColor\"/>\n",
       "<text text-anchor=\"middle\" x=\"0\" y=\"15\" style=\"fill:currentColor;\">\n",
       "0\n",
       "</text>\n",
       "<text text-anchor=\"middle\" x=\"250\" y=\"15\" style=\"fill:currentColor;\">\n",
       "120\n",
       "</text>\n",
       "<text text-anchor=\"middle\" x=\"125.0\" y=\"15\" style=\"fill:currentColor;\">\n",
       "mass\n",
       "</text>\n",
       "<polyline points=\"  0,0   0,-1.98 2.08333,-1.98 2.08333,-3.43 4.16667,-3.43 4.16667,-5.82 6.25,-5.82 6.25,-7.17 8.33333,-7.17 8.33333,-9.58 10.4167,-9.58 10.4167,-11.5 12.5,-11.5 12.5,-12.5 14.5833,-12.5 14.5833,-13.6 16.6667,-13.6 16.6667,-14.8 18.75,-14.8 18.75,-16 20.8333,-16 20.8333,-18.5 22.9167,-18.5 22.9167,-19.1  25,-19.1  25,-21.9 27.0833,-21.9 27.0833,-22.3 29.1667,-22.3 29.1667,-24.5 31.25,-24.5 31.25,-25.9 33.3333,-25.9 33.3333,-28.2 35.4167,-28.2 35.4167,-29 37.5,-29 37.5,-30.3 39.5833,-30.3 39.5833,-33.4 41.6667,-33.4 41.6667,-34.3 43.75,-34.3 43.75,-35.8 45.8333,-35.8 45.8333,-37.7 47.9167,-37.7 47.9167,-39.2  50,-39.2  50,-41.5 52.0833,-41.5 52.0833,-41.7 54.1667,-41.7 54.1667,-42 56.25,-42 56.25,-40.7 58.3333,-40.7 58.3333,-41.7 60.4167,-41.7 60.4167,-40.6 62.5,-40.6 62.5,-39.1 64.5833,-39.1 64.5833,-34.8 66.6667,-34.8 66.6667,-31.9 68.75,-31.9 68.75,-25.4 70.8333,-25.4 70.8333,-20.9 72.9167,-20.9 72.9167,-17.8  75,-17.8  75,-16.6 77.0833,-16.6 77.0833,-15.1 79.1667,-15.1 79.1667,-13.2 81.25,-13.2 81.25,-13.2 83.3333,-13.2 83.3333,-13.1 85.4167,-13.1 85.4167,-11.7 87.5,-11.7 87.5,-11.5 89.5833,-11.5 89.5833,-12.6 91.6667,-12.6 91.6667,-11.2 93.75,-11.2 93.75,-11.3 95.8333,-11.3 95.8333,-11.1 97.9167,-11.1 97.9167,-10.3 100,-10.3 100,-9.34 102.083,-9.34 102.083,-9.71 104.167,-9.71 104.167,-9.88 106.25,-9.88 106.25,-9.45 108.333,-9.45 108.333,-9.09 110.417,-9.09 110.417,-9.55 112.5,-9.55 112.5,-9.15 114.583,-9.15 114.583,-8.42 116.667,-8.42 116.667,-8.82 118.75,-8.82 118.75,-8.66 120.833,-8.66 120.833,-8.87 122.917,-8.87 122.917,-8.64 125,-8.64 125,-7.95 127.083,-7.95 127.083,-7.61 129.167,-7.61 129.167,-7.84 131.25,-7.84 131.25,-7.42 133.333,-7.42 133.333,-7.58 135.417,-7.58 135.417,-7.14 137.5,-7.14 137.5,-6.9 139.583,-6.9 139.583,-7.42 141.667,-7.42 141.667,-7.33 143.75,-7.33 143.75,-7.25 145.833,-7.25 145.833,-8.06 147.917,-8.06 147.917,-7.63 150,-7.63 150,-7.33 152.083,-7.33 152.083,-8.14 154.167,-8.14 154.167,-8.06 156.25,-8.06 156.25,-8.28 158.333,-8.28 158.333,-8.23 160.417,-8.23 160.417,-8.88 162.5,-8.88 162.5,-10.1 164.583,-10.1 164.583,-9.18 166.667,-9.18 166.667,-11.4 168.75,-11.4 168.75,-12 170.833,-12 170.833,-13 172.917,-13 172.917,-15.6 175,-15.6 175,-18.4 177.083,-18.4 177.083,-22.5 179.167,-22.5 179.167,-27.1 181.25,-27.1 181.25,-39.3 183.333,-39.3 183.333,-57.6 185.417,-57.6 185.417,-80.8 187.5,-80.8 187.5,-100 189.583,-100 189.583,-92.4 191.667,-92.4 191.667,-62.6 193.75,-62.6 193.75,-33.5 195.833,-33.5 195.833,-17.8 197.917,-17.8 197.917,-9.1 200,-9.1 200,-5.68 202.083,-5.68 202.083,-3.39 204.167,-3.39 204.167,-2.32 206.25,-2.32 206.25,-1.44 208.333,-1.44 208.333,-0.952 210.417,-0.952 210.417,-0.682 212.5,-0.682 212.5,-0.397 214.583,-0.397 214.583,-0.381 216.667,-0.381 216.667,-0.206 218.75,-0.206 218.75,-0.159 220.833,-0.159 220.833,-0.159 222.917,-0.159 222.917,-0.0952 225,-0.0952 225,-0.0476 227.083,-0.0476 227.083,-0.0634 229.167,-0.0634 229.167,-0.127 231.25,-0.127 231.25,-0.0317 233.333,-0.0317 233.333,-0.0634 235.417,-0.0634 235.417,-0.0476 237.5,-0.0476 237.5,-0.0317 239.583,-0.0317 239.583,-0.0159 241.667,-0.0159 241.667,-0.0159 243.75,-0.0159 243.75,-0 245.833,-0 245.833,-0.0159 247.917,-0.0159 247.917,-0.0159 250,-0.0159 250,0\" style=\"fill:none; stroke:currentColor;\"/>\n",
       "</svg>\n",
       "</div>\n",
       "<div style=\"flex=grow:1;\">\n",
       "Regular(120, 0, 120, name='mass', label='mass')<br/>\n",
       "<hr style=\"margin-top:.2em; margin-bottom:.2em;\"/>\n",
       "Double() Σ=123753.0 <em>(123800.0 with flow)</em>\n",
       "\n",
       "</div>\n",
       "</div>\n",
       "</html>"
      ],
      "text/plain": [
       "Hist(Regular(120, 0, 120, name='mass', label='mass'), storage=Double()) # Sum: 123753.0 (123800.0 with flow)"
      ]
     },
     "execution_count": 19,
     "metadata": {},
     "output_type": "execute_result"
    }
   ],
   "source": [
    "h.fill(np.sqrt(2*mu1.pt*mu2.pt*(np.cosh(mu1.eta - mu2.eta) - np.cos(mu1.phi - mu2.phi))))"
   ]
  },
  {
   "cell_type": "code",
   "execution_count": 20,
   "id": "681a6edd-1e69-4a18-bb15-6de41cd12026",
   "metadata": {},
   "outputs": [
    {
     "data": {
      "image/png": "[encoded data removed]",
      "text/plain": [
       "<Figure size 432x288 with 1 Axes>"
      ]
     },
     "metadata": {
      "needs_background": "light"
     },
     "output_type": "display_data"
    }
   ],
   "source": [
    "import matplotlib.pyplot as plt\n",
    "\n",
    "h.plot();"
   ]
  },
  {
   "cell_type": "code",
   "execution_count": 21,
   "id": "2701fca4-602b-4a97-9f74-2dcd7ecc9f24",
   "metadata": {},
   "outputs": [
    {
     "name": "stdout",
     "output_type": "stream",
     "text": [
      "total time: 0.07655501365661621 sec\n"
     ]
    }
   ],
   "source": [
    "starttime = time.time()\n",
    "\n",
    "# read data\n",
    "muons = events.arrays(\n",
    "    [\"pt\", \"eta\", \"phi\", \"charge\"],\n",
    "    aliases={\"pt\": \"Muon_pt\", \"eta\": \"Muon_eta\", \"phi\": \"Muon_phi\", \"charge\": \"Muon_charge\"},\n",
    "    array_cache=None,   # no cheating!\n",
    ")\n",
    "\n",
    "# compute\n",
    "cut = (ak.num(muons.charge) >= 2) & (ak.sum(muons.charge[:, :2], axis=1) == 0)\n",
    "mu1 = muons[cut, 0]\n",
    "mu2 = muons[cut, 1]\n",
    "h = hist.Hist.new.Reg(120, 0, 120, name=\"mass\").Double()\n",
    "h.fill(np.sqrt(2*mu1.pt*mu2.pt*(np.cosh(mu1.eta - mu2.eta) - np.cos(mu1.phi - mu2.phi))))\n",
    "\n",
    "uproot_time = time.time() - starttime\n",
    "print(f\"total time: {uproot_time} sec\")"
   ]
  },
  {
   "cell_type": "code",
   "execution_count": 22,
   "id": "dbd4249f-637e-4f91-80d4-6f5696ea7964",
   "metadata": {},
   "outputs": [
    {
     "data": {
      "text/plain": [
       "253.81056696616267"
      ]
     },
     "execution_count": 22,
     "metadata": {},
     "output_type": "execute_result"
    }
   ],
   "source": [
    "pyroot_time / uproot_time"
   ]
  },
  {
   "cell_type": "markdown",
   "id": "55dc1c65-a3cf-4e8d-8f4c-eef4eb6c37d6",
   "metadata": {},
   "source": [
    "<img src=\"img/terminology.svg\" style=\"width: 800px\">"
   ]
  },
  {
   "cell_type": "code",
   "execution_count": 23,
   "id": "3896e3fd-62e4-46f2-92e3-e74936fff83a",
   "metadata": {},
   "outputs": [],
   "source": [
    "histograms = uproot.open(\"data/HiggsZZ4mu_histograms.root\")"
   ]
  },
  {
   "cell_type": "code",
   "execution_count": null,
   "id": "9d8138f3-283a-43cb-9353-a11991d1ef9e",
   "metadata": {},
   "outputs": [],
   "source": [
    "histograms.keys()"
   ]
  },
  {
   "cell_type": "code",
   "execution_count": 24,
   "id": "431706f9-61dc-4bb6-ae1e-9a12c6c3f609",
   "metadata": {},
   "outputs": [
    {
     "data": {
      "text/plain": [
       "[StairsArtists(stairs=<matplotlib.patches.StepPatch object at 0x7fe4e1a73a60>, errorbar=<ErrorbarContainer object of 3 artists>, legend_artist=<ErrorbarContainer object of 3 artists>)]"
      ]
     },
     "execution_count": 24,
     "metadata": {},
     "output_type": "execute_result"
    },
    {
     "data": {
      "image/png": "[encoded data removed]",
      "text/plain": [
       "<Figure size 432x288 with 1 Axes>"
      ]
     },
     "metadata": {
      "needs_background": "light"
     },
     "output_type": "display_data"
    }
   ],
   "source": [
    "histograms[\"Z/all/massZto2muon\"].to_hist().plot()"
   ]
  },
  {
   "cell_type": "code",
   "execution_count": null,
   "id": "15ff6879-8241-4d37-b2c6-14849b31d069",
   "metadata": {},
   "outputs": [],
   "source": [
    "# find the 2D histogram and plot it"
   ]
  },
  {
   "cell_type": "code",
   "execution_count": null,
   "id": "61cf7763-2915-49b3-bd6d-c01fa1d68b25",
   "metadata": {},
   "outputs": [],
   "source": [
    "icecube = uproot.open(\"data/icecube-supernovae.root\")\n",
    "icecube.keys()"
   ]
  },
  {
   "cell_type": "code",
   "execution_count": null,
   "id": "1be6bf8d-c4e5-4cee-ad97-467589775a91",
   "metadata": {},
   "outputs": [],
   "source": [
    "icecube.classname_of(\"config/detector\")"
   ]
  },
  {
   "cell_type": "code",
   "execution_count": null,
   "id": "fe251213-5296-4823-bbc4-ed32bfa7cc2b",
   "metadata": {},
   "outputs": [],
   "source": [
    "icecube.file.show_streamers(\"I3Eval_t\")"
   ]
  },
  {
   "cell_type": "code",
   "execution_count": null,
   "id": "59081442-001a-4661-b995-d338709c792c",
   "metadata": {},
   "outputs": [],
   "source": [
    "icecube[\"config/detector\"]"
   ]
  },
  {
   "cell_type": "code",
   "execution_count": null,
   "id": "3304566b-4f6f-4564-ab72-d9d90487545f",
   "metadata": {},
   "outputs": [],
   "source": [
    "icecube[\"config/detector\"].all_members"
   ]
  },
  {
   "cell_type": "code",
   "execution_count": null,
   "id": "53b7327b-7d84-461d-9e4d-07df009f9b5e",
   "metadata": {},
   "outputs": [],
   "source": [
    "icecube[\"config/detector\"].member(\"ChannelIDMap\")"
   ]
  },
  {
   "cell_type": "code",
   "execution_count": null,
   "id": "c5fee4df-e1e5-4c6e-9db5-13973f071762",
   "metadata": {},
   "outputs": [],
   "source": [
    "zmumu_file = uproot.open(\"data/Zmumu.root\")\n",
    "zmumu_file.keys()"
   ]
  },
  {
   "cell_type": "code",
   "execution_count": null,
   "id": "a8d0d736-f63d-4ef0-957b-c1d950ea7424",
   "metadata": {},
   "outputs": [],
   "source": [
    "zmumu = zmumu_file[\"events\"]\n",
    "zmumu.show()"
   ]
  },
  {
   "cell_type": "code",
   "execution_count": null,
   "id": "6cd887be-e622-425f-96f6-43e60c32a893",
   "metadata": {},
   "outputs": [],
   "source": [
    "zmumu.keys()"
   ]
  },
  {
   "cell_type": "code",
   "execution_count": null,
   "id": "7522b7ec-2bcb-46f3-ad8e-98b3ca430537",
   "metadata": {},
   "outputs": [],
   "source": [
    "zmumu.keys(filter_typename=\"/int.*/\")"
   ]
  },
  {
   "cell_type": "code",
   "execution_count": null,
   "id": "8be42444-d5fb-41ba-a128-fe336343424c",
   "metadata": {},
   "outputs": [],
   "source": [
    "zmumu.typenames()"
   ]
  },
  {
   "cell_type": "code",
   "execution_count": null,
   "id": "a4bfcef4-94f0-433c-aea6-d405f94636b6",
   "metadata": {},
   "outputs": [],
   "source": [
    "{name: branch.interpretation for name, branch in zmumu.items()}"
   ]
  },
  {
   "cell_type": "code",
   "execution_count": null,
   "id": "d7d915ad-6a25-4585-87a5-7afe9a49a100",
   "metadata": {},
   "outputs": [],
   "source": [
    "zmumu[\"M\"].array()"
   ]
  },
  {
   "cell_type": "markdown",
   "id": "325cbb3e-c108-4d8e-b2c6-0211160e68d3",
   "metadata": {},
   "source": [
    "Some important parameters:\n",
    "\n",
    "   * `entry_start`, `entry_stop` to limit how much you read (if it's big)\n",
    "   * `library=\"np\"` for NumPy arrays, `library=\"ak\"` for Awkward Arrays, and `library=\"pd\"` for Pandas (Series or DataFrame)"
   ]
  },
  {
   "cell_type": "code",
   "execution_count": null,
   "id": "ccd6ef30-d431-4a45-be43-2b3698a7a86e",
   "metadata": {},
   "outputs": [],
   "source": [
    "zmumu[\"M\"].array(entry_stop=5)"
   ]
  },
  {
   "cell_type": "code",
   "execution_count": null,
   "id": "59f56180-6477-43d6-8216-69fa396d2312",
   "metadata": {},
   "outputs": [],
   "source": [
    "zmumu[\"M\"].array(library=\"np\")"
   ]
  },
  {
   "cell_type": "code",
   "execution_count": null,
   "id": "a2c5533b-f9df-491b-abe6-2a538bd5611e",
   "metadata": {},
   "outputs": [],
   "source": [
    "zmumu[\"M\"].array(library=\"ak\")   # default"
   ]
  },
  {
   "cell_type": "code",
   "execution_count": null,
   "id": "31c8a24c-e187-4ef9-836e-714afa3c457d",
   "metadata": {},
   "outputs": [],
   "source": [
    "zmumu[\"M\"].array(library=\"pd\")"
   ]
  },
  {
   "cell_type": "code",
   "execution_count": null,
   "id": "e4a46344-1940-4ab9-8fcc-ad2c5120a319",
   "metadata": {},
   "outputs": [],
   "source": [
    "zmumu.arrays()"
   ]
  },
  {
   "cell_type": "code",
   "execution_count": null,
   "id": "0fc308b4-ba85-47e3-acb3-eadbf0e76892",
   "metadata": {},
   "outputs": [],
   "source": [
    "zmumu.arrays(library=\"np\")"
   ]
  },
  {
   "cell_type": "code",
   "execution_count": null,
   "id": "c482b7a0-0de4-48b5-9e29-7a3667020df8",
   "metadata": {},
   "outputs": [],
   "source": [
    "zmumu.arrays(library=\"pd\")"
   ]
  },
  {
   "cell_type": "code",
   "execution_count": null,
   "id": "b7e404bb-2b24-4981-9935-9af2d7c2fc5d",
   "metadata": {},
   "outputs": [],
   "source": [
    "zmumu.arrays([\"px1\", \"py1\", \"px2\", \"py2\"], library=\"pd\")"
   ]
  },
  {
   "cell_type": "markdown",
   "id": "1f9fa768-c6a2-46e0-b942-dc07f1434e23",
   "metadata": {},
   "source": [
    "Or it can be computed expressions."
   ]
  },
  {
   "cell_type": "code",
   "execution_count": null,
   "id": "2cb82ff5-8321-4419-8045-0e4dd373818c",
   "metadata": {},
   "outputs": [],
   "source": [
    "zmumu.arrays([\"sqrt(px1**2 + py1**2)\", \"sqrt(px2**2 + py2**2)\"], library=\"pd\")"
   ]
  },
  {
   "cell_type": "markdown",
   "id": "1a0a7926-e289-4c3e-b930-653513745411",
   "metadata": {},
   "source": [
    "This is to support any [aliases](https://uproot.readthedocs.io/en/latest/uproot.behaviors.TTree.TTree.html#aliases) that might be in the [TTree](https://uproot.readthedocs.io/en/latest/uproot.behaviors.TTree.TTree.html), but you can make up your own `aliases` on the spot."
   ]
  },
  {
   "cell_type": "code",
   "execution_count": null,
   "id": "db41b97d-4e2c-4c06-9466-6002a4dec852",
   "metadata": {},
   "outputs": [],
   "source": [
    "zmumu.arrays([\"pt1\", \"pt2\"], {\"pt1\": \"sqrt(px1**2 + py1**2)\", \"pt2\": \"sqrt(px2**2 + py2**2)\"}, library=\"pd\")"
   ]
  },
  {
   "cell_type": "markdown",
   "id": "d7991201-316c-42ea-a8ca-a2f402b35cf4",
   "metadata": {},
   "source": [
    "The `expressions` parameter is not a good way to select branches by name.\n",
    "\n",
    "   * nested branches, paths with \"`/`\", _would be interpreted as division!_\n",
    "   * wildcards, paths with \"`*`\", _would be interpreted as multiplication!_\n",
    "\n",
    "To select branches by name, use `filter_name`, `filter_typename`, `filter_branch` (all in the [arrays](https://uproot.readthedocs.io/en/latest/uproot.behaviors.TBranch.HasBranches.html#arrays) documentation)."
   ]
  },
  {
   "cell_type": "code",
   "execution_count": null,
   "id": "d7b358b3-e145-4f2d-b2af-469dc99fcaf4",
   "metadata": {},
   "outputs": [],
   "source": [
    "zmumu.arrays(filter_name=\"p[xyz]*\", library=\"pd\")"
   ]
  },
  {
   "cell_type": "markdown",
   "id": "fc07273c-d8ee-4623-86b5-79a8413353ec",
   "metadata": {},
   "source": [
    "(These filters have the same meaning as in [keys](https://uproot.readthedocs.io/en/latest/uproot.behaviors.TBranch.HasBranches.html#keys) and [typenames](https://uproot.readthedocs.io/en/latest/uproot.behaviors.TBranch.HasBranches.html#typenames), but those methods do not read potentially large datasets.)"
   ]
  },
  {
   "cell_type": "code",
   "execution_count": null,
   "id": "f2f451f2-0820-4271-a4d4-46ce8ada0f47",
   "metadata": {},
   "outputs": [],
   "source": [
    "zmumu.keys(filter_name=\"p[xyz]*\")"
   ]
  },
  {
   "cell_type": "code",
   "execution_count": null,
   "id": "95c299dc-9b50-4547-9d17-c1b5151c1393",
   "metadata": {},
   "outputs": [],
   "source": [
    "zmumu.typenames(filter_name=\"p[xyz]*\")"
   ]
  },
  {
   "cell_type": "markdown",
   "id": "da6e82bc-bc61-4382-8e0f-7131166545f4",
   "metadata": {},
   "source": [
    "<br><br><br>\n",
    "\n",
    "### Get arrays in manageable chunks\n",
    "\n",
    "The [iterate](https://uproot.readthedocs.io/en/latest/uproot.behaviors.TBranch.HasBranches.html#iterate) method is like [arrays](https://uproot.readthedocs.io/en/latest/uproot.behaviors.TBranch.HasBranches.html#arrays), but it can be used in a loop over chunks of the array.\n",
    "\n",
    "How large are the chunks? You should set that with `step_size`."
   ]
  },
  {
   "cell_type": "code",
   "execution_count": null,
   "id": "e7d1a3e3-f486-484b-a9ea-70864367228a",
   "metadata": {},
   "outputs": [],
   "source": [
    "for arrays in zmumu.iterate(step_size=300):\n",
    "    print(repr(arrays))"
   ]
  },
  {
   "cell_type": "code",
   "execution_count": null,
   "id": "0cf2e7a6-f49f-4b5c-ae1f-b69d80cdc1d7",
   "metadata": {},
   "outputs": [],
   "source": [
    "for arrays in zmumu.iterate(step_size=\"50 kB\"):   # 50 kB is very small! for illustrative purposes only!\n",
    "    print(repr(arrays))"
   ]
  },
  {
   "cell_type": "markdown",
   "id": "a6c0a371-8862-40f2-9e99-3e2630681f86",
   "metadata": {},
   "source": [
    "<br><br><br>\n",
    "\n",
    "### Collections of files (like TChain)\n",
    "\n",
    "If you want to read a bunch of files in one call, it has to be a function, rather than a method of [TTree](https://uproot.readthedocs.io/en/latest/uproot.behaviors.TTree.TTree.html).\n",
    "\n",
    "   * The equivalent of [TTree](https://uproot.readthedocs.io/en/latest/uproot.behaviors.TTree.TTree.html) [arrays](https://uproot.readthedocs.io/en/latest/uproot.behaviors.TTree.TTree.html#arrays) is [uproot.concatenate](https://uproot.readthedocs.io/en/latest/uproot.behaviors.TBranch.concatenate.html). _(Reads everything at once: use this as a convenience on datasets you know are small!)_\n",
    "   * The equivalent of [TTree](https://uproot.readthedocs.io/en/latest/uproot.behaviors.TTree.TTree.html) [iterate](https://uproot.readthedocs.io/en/latest/uproot.behaviors.TTree.TTree.html#iterate) is [uproot.iterate](https://uproot.readthedocs.io/en/latest/uproot.behaviors.TBranch.iterate.html). _(This is the most useful one.)_\n",
    "   * There's also an [uproot.lazy](https://uproot.readthedocs.io/en/latest/uproot.behaviors.TBranch.lazy.html) _(More on this below.)_"
   ]
  },
  {
   "cell_type": "code",
   "execution_count": null,
   "id": "dc4d9b14-fc1b-4128-869b-a3ccfd58e03f",
   "metadata": {},
   "outputs": [],
   "source": [
    "import IPython\n",
    "import matplotlib.pyplot as plt\n",
    "import matplotlib.pylab"
   ]
  },
  {
   "cell_type": "code",
   "execution_count": null,
   "id": "59daf877-4522-4eb3-aae3-d44d99bb1982",
   "metadata": {},
   "outputs": [],
   "source": [
    "h = hist.Hist.new.Reg(100, 0, 500, name=\"mass\").Double()\n",
    "\n",
    "for muons in uproot.iterate(\n",
    "    # filename(s)\n",
    "    [\"root://eospublic.cern.ch//eos/opendata/cms/derived-data/AOD2NanoAODOutreachTool/Run2012BC_DoubleMuParked_Muons.root:Events\"],\n",
    "\n",
    "    # expressions\n",
    "    [\"pt\", \"eta\", \"phi\", \"charge\"],\n",
    "    aliases={\"pt\": \"Muon_pt\", \"eta\": \"Muon_eta\", \"phi\": \"Muon_phi\", \"charge\": \"Muon_charge\"},    \n",
    "\n",
    "    # the all-important step_size!\n",
    "    step_size=\"1 MB\",\n",
    "):\n",
    "    # do everything you're going to do to this array\n",
    "    cut = (ak.num(muons.charge) >= 2) & (ak.sum(muons.charge[:, :2], axis=1) == 0)\n",
    "    mu1 = muons[cut, 0]\n",
    "    mu2 = muons[cut, 1]\n",
    "\n",
    "    # such as filling a histogram\n",
    "    h.fill(np.sqrt(2*mu1.pt*mu2.pt*(np.cosh(mu1.eta - mu2.eta) - np.cos(mu1.phi - mu2.phi))))\n",
    "\n",
    "    h.plot()\n",
    "    plt.yscale(\"log\")\n",
    "    IPython.display.display(matplotlib.pylab.gcf())\n",
    "    IPython.display.clear_output(wait=True)\n",
    "\n",
    "    if h.counts().sum() > 300000:\n",
    "        break"
   ]
  },
  {
   "cell_type": "code",
   "execution_count": null,
   "id": "02204f0c-ca82-4ae9-b1a1-3bb3f10ddaf2",
   "metadata": {},
   "outputs": [],
   "source": [
    "lazy = uproot.lazy(\n",
    "    # filename(s)\n",
    "    [\"root://eospublic.cern.ch//eos/opendata/cms/derived-data/AOD2NanoAODOutreachTool/Run2012BC_DoubleMuParked_Muons.root:Events\"],\n",
    "    # step_size is still important\n",
    "    step_size=\"1 MB\",\n",
    ")\n",
    "lazy"
   ]
  },
  {
   "cell_type": "code",
   "execution_count": null,
   "id": "73727a59-ae09-4295-97d8-dd7c45b1a57a",
   "metadata": {},
   "outputs": [],
   "source": [
    "lazy.Muon_pt"
   ]
  },
  {
   "cell_type": "code",
   "execution_count": null,
   "id": "3d0feb4a-cd24-43f1-ab42-b76d1c4b585a",
   "metadata": {},
   "outputs": [],
   "source": [
    "lazy.Muon_eta"
   ]
  },
  {
   "cell_type": "code",
   "execution_count": 25,
   "id": "6b59920c-aa73-4cdb-9136-d2d4db31fa5f",
   "metadata": {},
   "outputs": [],
   "source": [
    "events = uproot.open(\"data/HiggsZZ4mu.root:Events\")"
   ]
  },
  {
   "cell_type": "code",
   "execution_count": 34,
   "id": "d10fad35-704b-4600-818e-e87a3ccf3f27",
   "metadata": {},
   "outputs": [
    {
     "data": {
      "text/plain": [
       "array([19.49629  , 20.397919 , 28.817572 ,  4.415469 ,  5.8566523,\n",
       "       19.178032 ,  5.859101 , 45.975037 , 26.793552 , 23.152561 ,\n",
       "        8.993562 , 11.69979  , 22.774422 , 56.671833 ,  9.606522 ,\n",
       "       13.729865 , 26.599598 , 21.974018 , 16.044271 ,  8.862462 ],\n",
       "      dtype=float32)"
      ]
     },
     "execution_count": 34,
     "metadata": {},
     "output_type": "execute_result"
    }
   ],
   "source": [
    "nonjagged = events[\"MET_pt\"].array(entry_stop=20, library=\"np\")\n",
    "nonjagged"
   ]
  },
  {
   "cell_type": "code",
   "execution_count": 35,
   "id": "16c5b01a-11b1-405a-89e9-259982271cab",
   "metadata": {},
   "outputs": [
    {
     "data": {
      "text/plain": [
       "array([19.49629  , 20.397919 , 28.817572 ,  4.415469 ,  5.8566523],\n",
       "      dtype=float32)"
      ]
     },
     "execution_count": 35,
     "metadata": {},
     "output_type": "execute_result"
    }
   ],
   "source": [
    "nonjagged[:5]"
   ]
  },
  {
   "cell_type": "code",
   "execution_count": 26,
   "id": "440f27b4-5e69-426b-8ea7-8971bdf05eec",
   "metadata": {},
   "outputs": [
    {
     "data": {
      "text/plain": [
       "<Array [[], [18.6, 23.6], ... [13.6, 5.43]] type='20 * var * float32'>"
      ]
     },
     "execution_count": 26,
     "metadata": {},
     "output_type": "execute_result"
    }
   ],
   "source": [
    "jagged_awkward = events[\"Muon_pt\"].array(entry_stop=20)\n",
    "jagged_awkward"
   ]
  },
  {
   "cell_type": "code",
   "execution_count": 27,
   "id": "63f973de-01f6-4913-9c5e-2ff20d513a60",
   "metadata": {},
   "outputs": [
    {
     "data": {
      "text/plain": [
       "[[],\n",
       " [18.583789825439453, 23.630338668823242],\n",
       " [],\n",
       " [26.678863525390625, 21.356121063232422, 5.6486287117004395],\n",
       " [7.621268272399902],\n",
       " [6.581045150756836],\n",
       " [],\n",
       " [],\n",
       " [8.512704849243164],\n",
       " [8.245718955993652, 23.482236862182617],\n",
       " [40.31018829345703, 21.819368362426758],\n",
       " [41.209922790527344, 10.689908981323242, 43.4166145324707],\n",
       " [],\n",
       " [],\n",
       " [15.671303749084473, 82.08026123046875, 19.20456314086914, 8.81103515625],\n",
       " [28.460538864135742, 25.13064956665039],\n",
       " [42.40679931640625, 109.85435485839844],\n",
       " [102.75817108154297,\n",
       "  87.80870819091797,\n",
       "  13.76916790008545,\n",
       "  33.045799255371094,\n",
       "  27.982389450073242,\n",
       "  27.750789642333984],\n",
       " [9.967660903930664, 13.108595848083496],\n",
       " [13.59410285949707, 5.430370330810547]]"
      ]
     },
     "execution_count": 27,
     "metadata": {},
     "output_type": "execute_result"
    }
   ],
   "source": [
    "jagged_awkward.tolist()"
   ]
  },
  {
   "cell_type": "code",
   "execution_count": 28,
   "id": "e435a3f0-3a0a-4d60-9080-e8e6fe53a8cf",
   "metadata": {},
   "outputs": [
    {
     "data": {
      "text/plain": [
       "array([array([], dtype=float32),\n",
       "       array([18.58379 , 23.630339], dtype=float32),\n",
       "       array([], dtype=float32),\n",
       "       array([26.678864 , 21.356121 ,  5.6486287], dtype=float32),\n",
       "       array([7.6212683], dtype=float32),\n",
       "       array([6.581045], dtype=float32), array([], dtype=float32),\n",
       "       array([], dtype=float32), array([8.512705], dtype=float32),\n",
       "       array([ 8.245719, 23.482237], dtype=float32),\n",
       "       array([40.31019 , 21.819368], dtype=float32),\n",
       "       array([41.209923, 10.689909, 43.416615], dtype=float32),\n",
       "       array([], dtype=float32), array([], dtype=float32),\n",
       "       array([15.671304, 82.08026 , 19.204563,  8.811035], dtype=float32),\n",
       "       array([28.460539, 25.13065 ], dtype=float32),\n",
       "       array([ 42.4068  , 109.854355], dtype=float32),\n",
       "       array([102.75817 ,  87.80871 ,  13.769168,  33.0458  ,  27.98239 ,\n",
       "               27.75079 ], dtype=float32)                                ,\n",
       "       array([ 9.967661, 13.108596], dtype=float32),\n",
       "       array([13.594103 ,  5.4303703], dtype=float32)], dtype=object)"
      ]
     },
     "execution_count": 28,
     "metadata": {},
     "output_type": "execute_result"
    }
   ],
   "source": [
    "jagged_numpy = events[\"Muon_pt\"].array(entry_stop=20, library=\"np\")\n",
    "jagged_numpy"
   ]
  },
  {
   "cell_type": "code",
   "execution_count": 29,
   "id": "f04f28e2-f987-489f-bbc8-071167ec88e6",
   "metadata": {},
   "outputs": [
    {
     "data": {
      "text/plain": [
       "<Array [[], [18.6], [], ... [9.97], [13.6]] type='20 * var * float32'>"
      ]
     },
     "execution_count": 29,
     "metadata": {},
     "output_type": "execute_result"
    }
   ],
   "source": [
    "jagged_awkward[:, :1]"
   ]
  },
  {
   "cell_type": "code",
   "execution_count": 30,
   "id": "daeac4b6-a189-4e2c-b809-3e7249c2b1c7",
   "metadata": {},
   "outputs": [
    {
     "ename": "IndexError",
     "evalue": "too many indices for array: array is 1-dimensional, but 2 were indexed",
     "output_type": "error",
     "traceback": [
      "\u001b[0;31m---------------------------------------------------------------------------\u001b[0m",
      "\u001b[0;31mIndexError\u001b[0m                                Traceback (most recent call last)",
      "\u001b[0;32m<ipython-input-30-ab67f922275e>\u001b[0m in \u001b[0;36m<module>\u001b[0;34m\u001b[0m\n\u001b[0;32m----> 1\u001b[0;31m \u001b[0mjagged_numpy\u001b[0m\u001b[0;34m[\u001b[0m\u001b[0;34m:\u001b[0m\u001b[0;34m,\u001b[0m \u001b[0;34m:\u001b[0m\u001b[0;36m1\u001b[0m\u001b[0;34m]\u001b[0m\u001b[0;34m\u001b[0m\u001b[0;34m\u001b[0m\u001b[0m\n\u001b[0m",
      "\u001b[0;31mIndexError\u001b[0m: too many indices for array: array is 1-dimensional, but 2 were indexed"
     ]
    }
   ],
   "source": [
    "jagged_numpy[:, :1]"
   ]
  },
  {
   "cell_type": "code",
   "execution_count": 31,
   "id": "49163b25-4bf9-4a90-a15b-617a76e7e1db",
   "metadata": {},
   "outputs": [
    {
     "name": "stderr",
     "output_type": "stream",
     "text": [
      "<ipython-input-31-d148b00ddeec>:1: VisibleDeprecationWarning: Creating an ndarray from ragged nested sequences (which is a list-or-tuple of lists-or-tuples-or ndarrays with different lengths or shapes) is deprecated. If you meant to do this, you must specify 'dtype=object' when creating the ndarray.\n",
      "  np.array([x[:1] for x in jagged_numpy])\n"
     ]
    },
    {
     "data": {
      "text/plain": [
       "array([array([], dtype=float32), array([18.58379], dtype=float32),\n",
       "       array([], dtype=float32), array([26.678864], dtype=float32),\n",
       "       array([7.6212683], dtype=float32),\n",
       "       array([6.581045], dtype=float32), array([], dtype=float32),\n",
       "       array([], dtype=float32), array([8.512705], dtype=float32),\n",
       "       array([8.245719], dtype=float32), array([40.31019], dtype=float32),\n",
       "       array([41.209923], dtype=float32), array([], dtype=float32),\n",
       "       array([], dtype=float32), array([15.671304], dtype=float32),\n",
       "       array([28.460539], dtype=float32), array([42.4068], dtype=float32),\n",
       "       array([102.75817], dtype=float32),\n",
       "       array([9.967661], dtype=float32),\n",
       "       array([13.594103], dtype=float32)], dtype=object)"
      ]
     },
     "execution_count": 31,
     "metadata": {},
     "output_type": "execute_result"
    }
   ],
   "source": [
    "np.array([x[:1] for x in jagged_numpy])"
   ]
  },
  {
   "cell_type": "code",
   "execution_count": null,
   "id": "fe6ce5de-bf56-4f36-b352-1be4bd15e3c4",
   "metadata": {},
   "outputs": [],
   "source": []
  }
 ],
 "metadata": {
  "kernelspec": {
   "display_name": "Python 3",
   "language": "python",
   "name": "python3"
  },
  "language_info": {
   "codemirror_mode": {
    "name": "ipython",
    "version": 3
   },
   "file_extension": ".py",
   "mimetype": "text/x-python",
   "name": "python",
   "nbconvert_exporter": "python",
   "pygments_lexer": "ipython3",
   "version": "3.8.10"
  }
 },
 "nbformat": 4,
 "nbformat_minor": 5
}
