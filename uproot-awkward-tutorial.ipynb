{
 "cells": [
  {
   "cell_type": "markdown",
   "id": "4bcae8d3-559c-438d-bffe-75f7e9ce5a58",
   "metadata": {},
   "source": [
    "# Uproot and Awkward Array tutorial\n",
    "\n",
    "**July 6, 2021 at PyHEP**"
   ]
  },
  {
   "cell_type": "markdown",
   "id": "2d043e3b-6cfc-407c-ad20-c887928270f7",
   "metadata": {},
   "source": [
    "<br><br><br><br><br>\n",
    "\n",
    "## Z peak in PyROOT\n",
    "\n",
    "Let's start with the most straightforward way to analyze HEP data in Python: \"for\" loops in PyROOT."
   ]
  },
  {
   "cell_type": "code",
   "execution_count": 1,
   "id": "69584fef-686a-4292-b574-b83d04300043",
   "metadata": {},
   "outputs": [
    {
     "name": "stdout",
     "output_type": "stream",
     "text": [
      "Welcome to JupyROOT 6.24/00\n"
     ]
    }
   ],
   "source": [
    "import time\n",
    "import numpy as np\n",
    "import ROOT\n",
    "\n",
    "canvas = ROOT.TCanvas()"
   ]
  },
  {
   "cell_type": "code",
   "execution_count": 2,
   "id": "fcc5a088-2488-4dc0-a505-94a58e5c50ab",
   "metadata": {},
   "outputs": [],
   "source": [
    "rootfile = ROOT.TFile.Open(\"data/HiggsZZ4mu.root\")\n",
    "roottree = rootfile.Get(\"Events\")"
   ]
  },
  {
   "cell_type": "code",
   "execution_count": 3,
   "id": "bf54100c-9299-4055-a3e9-f904dad177bd",
   "metadata": {},
   "outputs": [
    {
     "name": "stdout",
     "output_type": "stream",
     "text": [
      "total time: 20.115983724594116 sec\n"
     ]
    }
   ],
   "source": [
    "starttime = time.time()\n",
    "\n",
    "roothist = ROOT.TH1D(\"roothist\", \"mass\", 120, 0, 120)\n",
    "\n",
    "for index, event in enumerate(roottree):\n",
    "    # cuts are \"if\" statements\n",
    "    if event.nMuon >= 2 and event.Muon_charge[0] + event.Muon_charge[1] == 0:\n",
    "        mu1_pt = event.Muon_pt[0]\n",
    "        mu2_pt = event.Muon_pt[1]\n",
    "        mu1_eta = event.Muon_eta[0]\n",
    "        mu2_eta = event.Muon_eta[1]\n",
    "        mu1_phi = event.Muon_phi[0]\n",
    "        mu2_phi = event.Muon_phi[1]\n",
    "\n",
    "        # histograms are filled in the loop\n",
    "        roothist.Fill(\n",
    "            np.sqrt(2*mu1_pt*mu2_pt*(np.cosh(mu1_eta - mu2_eta) - np.cos(mu1_phi - mu2_phi)))\n",
    "        )\n",
    "\n",
    "pyroot_time = time.time() - starttime\n",
    "print(f\"total time: {pyroot_time} sec\")"
   ]
  },
  {
   "cell_type": "code",
   "execution_count": 4,
   "id": "70f7ff13-cc46-479b-9941-d92a7d6f17f8",
   "metadata": {},
   "outputs": [
    {
     "data": {
      "image/png": "[encoded data removed]",
      "text/plain": [
       "<IPython.core.display.Image object>"
      ]
     },
     "metadata": {},
     "output_type": "display_data"
    }
   ],
   "source": [
    "roothist.Draw()\n",
    "canvas.Draw()"
   ]
  },
  {
   "cell_type": "markdown",
   "id": "899e5555-3bc5-411b-bef7-53d71fff74e7",
   "metadata": {},
   "source": [
    "<br><br><br><br><br>\n",
    "\n",
    "## Z peak in C++ ROOT\n",
    "\n",
    "It works, but 20 seconds is a long time to wait for 1/8 million dimuons.\n",
    "\n",
    "The traditional way to speed things up is to translate it into C++."
   ]
  },
  {
   "cell_type": "code",
   "execution_count": 5,
   "id": "db10d15c-3040-46d7-b364-a1d29de01829",
   "metadata": {},
   "outputs": [
    {
     "data": {
      "text/plain": [
       "True"
      ]
     },
     "execution_count": 5,
     "metadata": {},
     "output_type": "execute_result"
    }
   ],
   "source": [
    "ROOT.gInterpreter.Declare('''\n",
    "void compute(TH1D& roothist, TTree& roottree) {\n",
    "    UInt_t nMuon;\n",
    "    float Muon_pt[50];\n",
    "    float Muon_eta[50];\n",
    "    float Muon_phi[50];\n",
    "    int32_t Muon_charge[50];\n",
    "\n",
    "    roottree.SetBranchStatus(\"*\", 0);\n",
    "    roottree.SetBranchStatus(\"nMuon\", 1);\n",
    "    roottree.SetBranchStatus(\"Muon_pt\", 1);\n",
    "    roottree.SetBranchStatus(\"Muon_eta\", 1);\n",
    "    roottree.SetBranchStatus(\"Muon_phi\", 1);\n",
    "    roottree.SetBranchStatus(\"Muon_charge\", 1);\n",
    "\n",
    "    roottree.SetBranchAddress(\"nMuon\", &nMuon);\n",
    "    roottree.SetBranchAddress(\"Muon_pt\", Muon_pt);\n",
    "    roottree.SetBranchAddress(\"Muon_eta\", Muon_eta);\n",
    "    roottree.SetBranchAddress(\"Muon_phi\", Muon_phi);\n",
    "    roottree.SetBranchAddress(\"Muon_charge\", Muon_charge);\n",
    "\n",
    "    for (int index = 0; index < 100000; index++) {\n",
    "        roottree.GetEntry(index);\n",
    "        if (nMuon >= 2 && Muon_charge[0] + Muon_charge[1] == 0) {\n",
    "            float mu1_pt = Muon_pt[0];\n",
    "            float mu2_pt = Muon_pt[1];\n",
    "            float mu1_eta = Muon_eta[0];\n",
    "            float mu2_eta = Muon_eta[1];\n",
    "            float mu1_phi = Muon_phi[0];\n",
    "            float mu2_phi = Muon_phi[1];\n",
    "            roothist.Fill(\n",
    "                sqrt(2*mu1_pt*mu2_pt*(cosh(mu1_eta - mu2_eta) - cos(mu1_phi - mu2_phi)))\n",
    "            );\n",
    "        }\n",
    "    }\n",
    "}\n",
    "''')"
   ]
  },
  {
   "cell_type": "markdown",
   "id": "39ff14c0-aabc-4b9b-908b-bfb09b2e1a65",
   "metadata": {},
   "source": [
    "ROOT lets you compile a C++ function and run it through PyROOT.\n",
    "\n",
    "The important thing here is that the _loop over events_ is in the compiled code."
   ]
  },
  {
   "cell_type": "code",
   "execution_count": 6,
   "id": "43265ef2-14c4-4979-81d1-563ab6d7d8f4",
   "metadata": {},
   "outputs": [
    {
     "name": "stdout",
     "output_type": "stream",
     "text": [
      "total time: 0.035388946533203125 sec\n"
     ]
    }
   ],
   "source": [
    "starttime = time.time()\n",
    "\n",
    "roothist2 = ROOT.TH1D(\"roothist2\", \"mass\", 120, 0, 120)\n",
    "\n",
    "ROOT.compute(roothist2, roottree)\n",
    "\n",
    "cpproot_time = time.time() - starttime\n",
    "print(f\"total time: {cpproot_time} sec\")"
   ]
  },
  {
   "cell_type": "code",
   "execution_count": 7,
   "id": "d5a20bdf-3a3c-4767-85b6-26bc37ebcdea",
   "metadata": {},
   "outputs": [
    {
     "data": {
      "text/plain": [
       "568.4256157701843"
      ]
     },
     "execution_count": 7,
     "metadata": {},
     "output_type": "execute_result"
    }
   ],
   "source": [
    "pyroot_time / cpproot_time"
   ]
  },
  {
   "cell_type": "code",
   "execution_count": 8,
   "id": "2de975f3-9e2c-4f82-adfb-d2b530ae8e4a",
   "metadata": {},
   "outputs": [
    {
     "data": {
      "image/png": "[encoded data removed]",
      "text/plain": [
       "<IPython.core.display.Image object>"
      ]
     },
     "metadata": {},
     "output_type": "display_data"
    }
   ],
   "source": [
    "roothist2.Draw()\n",
    "canvas.Draw()"
   ]
  },
  {
   "cell_type": "markdown",
   "id": "da2f4e44-9061-49c8-9fac-70a7722cf5dd",
   "metadata": {},
   "source": [
    "<br><br><br><br><br>\n",
    "\n",
    "## Z peak in RDataFrame\n",
    "\n",
    "RDataFrame is the modern way to build workflows over HEP data in ROOT.\n",
    "\n",
    "Each node in this pipeline is compiled in C++. The pipeline itself can be built in Python.\n",
    "\n",
    "<img src=\"img/rdataframe-flow.svg\" style=\"width: 800px\">"
   ]
  },
  {
   "cell_type": "code",
   "execution_count": 9,
   "id": "c66bd859-ce83-43c3-b05a-551e1d3836c3",
   "metadata": {},
   "outputs": [],
   "source": [
    "df = ROOT.RDataFrame(\"Events\", \"data/HiggsZZ4mu.root\")\n",
    "\n",
    "# Each node is connected to the previous, in a chain (which can split and recombine).\n",
    "df_2mu = df.Filter(\"nMuon >= 2\")\n",
    "df_os = df_2mu.Filter(\"Muon_charge[0] + Muon_charge[1] == 0\")\n",
    "\n",
    "# This node is a big C++ block.\n",
    "df_mass = df_os.Define(\"Dimuon_mass\", '''\n",
    "float mu1_pt = Muon_pt[0];\n",
    "float mu2_pt = Muon_pt[1];\n",
    "float mu1_eta = Muon_eta[0];\n",
    "float mu2_eta = Muon_eta[1];\n",
    "float mu1_phi = Muon_phi[0];\n",
    "float mu2_phi = Muon_phi[1];\n",
    "return sqrt(2*mu1_pt*mu2_pt*(cosh(mu1_eta - mu2_eta) - cos(mu1_phi - mu2_phi)));\n",
    "''')\n",
    "\n",
    "roothist3 = df_mass.Histo1D((\"h3\", \"mass\", 120, 0, 120), \"Dimuon_mass\")"
   ]
  },
  {
   "cell_type": "markdown",
   "id": "55a5d8e8-499b-4c06-b06b-2baddec502a5",
   "metadata": {},
   "source": [
    "The calculation doesn't actually start until you attempt to look at a result (convert to NumPy or draw a plot)."
   ]
  },
  {
   "cell_type": "code",
   "execution_count": 10,
   "id": "ce89cea2-50c7-425c-ab60-75a94e027404",
   "metadata": {},
   "outputs": [
    {
     "name": "stdout",
     "output_type": "stream",
     "text": [
      "total time: 1.9240071773529053 sec\n"
     ]
    }
   ],
   "source": [
    "starttime = time.time()\n",
    "\n",
    "# This one is an endpoint (action).\n",
    "array = df_mass.AsNumpy([\"Dimuon_mass\"])\n",
    "\n",
    "rdfroot_time = time.time() - starttime\n",
    "print(f\"total time: {rdfroot_time} sec\")"
   ]
  },
  {
   "cell_type": "code",
   "execution_count": 11,
   "id": "2fe35303-5881-44c8-8b5e-77b1816e38e3",
   "metadata": {},
   "outputs": [
    {
     "data": {
      "text/plain": [
       "10.455253993527283"
      ]
     },
     "execution_count": 11,
     "metadata": {},
     "output_type": "execute_result"
    }
   ],
   "source": [
    "pyroot_time / rdfroot_time"
   ]
  },
  {
   "cell_type": "code",
   "execution_count": 12,
   "id": "8791d881-bcb0-4282-aae2-1155decc07eb",
   "metadata": {},
   "outputs": [
    {
     "data": {
      "text/plain": [
       "{'Dimuon_mass': ndarray([36.91503 , 88.4434  , 22.870972, ..., 26.973433, 68.36317 ,\n",
       "          68.305984], dtype=float32)}"
      ]
     },
     "execution_count": 12,
     "metadata": {},
     "output_type": "execute_result"
    }
   ],
   "source": [
    "array"
   ]
  },
  {
   "cell_type": "code",
   "execution_count": 13,
   "id": "cec12ccb-f2c6-4c5a-b0b3-56158ce140f0",
   "metadata": {},
   "outputs": [
    {
     "data": {
      "image/png": "[encoded data removed]",
      "text/plain": [
       "<IPython.core.display.Image object>"
      ]
     },
     "metadata": {},
     "output_type": "display_data"
    }
   ],
   "source": [
    "roothist3.Draw()\n",
    "canvas.Draw()"
   ]
  },
  {
   "cell_type": "markdown",
   "id": "eb39a093-8878-44ca-b3ef-442ac3b7294f",
   "metadata": {},
   "source": [
    "<br><br><br><br><br>\n",
    "\n",
    "## Uproot and Awkward Array\n",
    "\n",
    "Uproot's approach is different: each Python command operates on a whole array at a time (like NumPy).\n",
    "\n",
    "Loops over all events happen in compiled code, but you don't write that code—you combine primitives to build a workflow."
   ]
  },
  {
   "cell_type": "code",
   "execution_count": 14,
   "id": "ec394a10-cdf5-4cd7-81c1-d39841b267fb",
   "metadata": {},
   "outputs": [],
   "source": [
    "import awkward as ak\n",
    "import uproot\n",
    "import hist"
   ]
  },
  {
   "cell_type": "markdown",
   "id": "457128a9-8817-42fb-ab08-02571707a6ba",
   "metadata": {},
   "source": [
    "Open a file and look at its contents."
   ]
  },
  {
   "cell_type": "code",
   "execution_count": 15,
   "id": "1075396f-916b-45a7-9b88-4a453407b16f",
   "metadata": {},
   "outputs": [
    {
     "name": "stdout",
     "output_type": "stream",
     "text": [
      "name                 | typename                 | interpretation                \n",
      "---------------------+--------------------------+-------------------------------\n",
      "run                  | int32_t                  | AsDtype('>i4')\n",
      "luminosityBlock      | uint32_t                 | AsDtype('>u4')\n",
      "event                | uint64_t                 | AsDtype('>u8')\n",
      "nMuon                | uint32_t                 | AsDtype('>u4')\n",
      "Muon_pt              | float[]                  | AsJagged(AsDtype('>f4'))\n",
      "Muon_eta             | float[]                  | AsJagged(AsDtype('>f4'))\n",
      "Muon_phi             | float[]                  | AsJagged(AsDtype('>f4'))\n",
      "Muon_mass            | float[]                  | AsJagged(AsDtype('>f4'))\n",
      "Muon_charge          | int32_t[]                | AsJagged(AsDtype('>i4'))\n",
      "MET_pt               | float                    | AsDtype('>f4')\n",
      "MET_phi              | float                    | AsDtype('>f4')\n",
      "nGenPart             | uint32_t                 | AsDtype('>u4')\n",
      "GenPart_pt           | float[]                  | AsJagged(AsDtype('>f4'))\n",
      "GenPart_eta          | float[]                  | AsJagged(AsDtype('>f4'))\n",
      "GenPart_phi          | float[]                  | AsJagged(AsDtype('>f4'))\n",
      "GenPart_pdgId        | int32_t[]                | AsJagged(AsDtype('>i4'))\n"
     ]
    }
   ],
   "source": [
    "events = uproot.open(\"data/HiggsZZ4mu.root:Events\")\n",
    "events.show()"
   ]
  },
  {
   "cell_type": "markdown",
   "id": "c8fdfbd6-f635-4f94-826b-96ddcf0767d2",
   "metadata": {},
   "source": [
    "Extract some branches as an \"array of records\" (renaming the fields)."
   ]
  },
  {
   "cell_type": "code",
   "execution_count": 16,
   "id": "8c643a83-5f16-4541-8894-ca85fa07d0e4",
   "metadata": {},
   "outputs": [
    {
     "data": {
      "text/plain": [
       "<Array [{pt: [], eta: [], ... -1, 1, -1]}] type='299683 * {\"pt\": var * float32, ...'>"
      ]
     },
     "execution_count": 16,
     "metadata": {},
     "output_type": "execute_result"
    }
   ],
   "source": [
    "muons = events.arrays(\n",
    "    [\"pt\", \"eta\", \"phi\", \"charge\"],\n",
    "    aliases={\"pt\": \"Muon_pt\", \"eta\": \"Muon_eta\", \"phi\": \"Muon_phi\", \"charge\": \"Muon_charge\"}\n",
    ")\n",
    "muons"
   ]
  },
  {
   "cell_type": "code",
   "execution_count": 17,
   "id": "c4291101-d745-4668-98dd-47c931891516",
   "metadata": {},
   "outputs": [
    {
     "data": {
      "text/plain": [
       "['pt', 'eta', 'phi', 'charge']"
      ]
     },
     "execution_count": 17,
     "metadata": {},
     "output_type": "execute_result"
    }
   ],
   "source": [
    "muons.fields"
   ]
  },
  {
   "cell_type": "markdown",
   "id": "f6691e77-00c9-4462-9787-7ac8ad8ea8b4",
   "metadata": {},
   "source": [
    "A cut is an array of booleans, which we can construct as a formula."
   ]
  },
  {
   "cell_type": "code",
   "execution_count": 18,
   "id": "4d6249f5-9814-4f38-9f74-6fb7b1b9f9c7",
   "metadata": {},
   "outputs": [
    {
     "data": {
      "text/plain": [
       "<Array [False, True, False, ... True, True] type='299683 * bool'>"
      ]
     },
     "execution_count": 18,
     "metadata": {},
     "output_type": "execute_result"
    }
   ],
   "source": [
    "cut = (ak.num(muons.charge) >= 2) & (ak.sum(muons.charge[:, :2], axis=1) == 0)\n",
    "cut"
   ]
  },
  {
   "cell_type": "markdown",
   "id": "d6c9a03c-7541-4cf0-bc10-885e24158048",
   "metadata": {},
   "source": [
    "Applying a cut is a slice. In the same slice, we can pick the first (`0`) and second (`1`) muon in each event."
   ]
  },
  {
   "cell_type": "code",
   "execution_count": 19,
   "id": "446bd12e-56ed-4e58-8c4a-fd349f6797d4",
   "metadata": {},
   "outputs": [
    {
     "data": {
      "text/plain": [
       "(<Array [{pt: 18.6, eta: -0.179, ... charge: 1}] type='123800 * {\"pt\": float32, \"...'>,\n",
       " <Array [{pt: 23.6, eta: 0.224, ... charge: -1}] type='123800 * {\"pt\": float32, \"...'>)"
      ]
     },
     "execution_count": 19,
     "metadata": {},
     "output_type": "execute_result"
    }
   ],
   "source": [
    "mu1 = muons[cut, 0]\n",
    "mu2 = muons[cut, 1]\n",
    "mu1, mu2"
   ]
  },
  {
   "cell_type": "markdown",
   "id": "5332e882-64bb-4570-92ab-8a8fb035d52f",
   "metadata": {},
   "source": [
    "Let's use the [hist](https://github.com/scikit-hep/hist#readme) library for histograms."
   ]
  },
  {
   "cell_type": "code",
   "execution_count": 20,
   "id": "119f78f7-ccfb-49bf-a221-021b9ab88eb9",
   "metadata": {},
   "outputs": [
    {
     "data": {
      "text/html": [
       "<html>\n",
       "<div style=\"display:flex; align-items:center;\">\n",
       "<div style=\"width:290px;\">\n",
       "<svg xmlns=\"http://www.w3.org/2000/svg\" viewBox=\"-10 -105 270 120\">\n",
       "<line x1=\"-5\" y1=\"0\" x2=\"255\" y2=\"0\" style=\"fill:none;stroke-width:2;stroke:currentColor\"/>\n",
       "<text text-anchor=\"middle\" x=\"0\" y=\"15\" style=\"fill:currentColor;\">\n",
       "0\n",
       "</text>\n",
       "<text text-anchor=\"middle\" x=\"250\" y=\"15\" style=\"fill:currentColor;\">\n",
       "120\n",
       "</text>\n",
       "<text text-anchor=\"middle\" x=\"125.0\" y=\"15\" style=\"fill:currentColor;\">\n",
       "mass\n",
       "</text>\n",
       "<polyline points=\"  0,0   0,-0 2.08333,-0 2.08333,-0 4.16667,-0 4.16667,-0 6.25,-0 6.25,-0 8.33333,-0 8.33333,-0 10.4167,-0 10.4167,-0 12.5,-0 12.5,-0 14.5833,-0 14.5833,-0 16.6667,-0 16.6667,-0 18.75,-0 18.75,-0 20.8333,-0 20.8333,-0 22.9167,-0 22.9167,-0  25,-0  25,-0 27.0833,-0 27.0833,-0 29.1667,-0 29.1667,-0 31.25,-0 31.25,-0 33.3333,-0 33.3333,-0 35.4167,-0 35.4167,-0 37.5,-0 37.5,-0 39.5833,-0 39.5833,-0 41.6667,-0 41.6667,-0 43.75,-0 43.75,-0 45.8333,-0 45.8333,-0 47.9167,-0 47.9167,-0  50,-0  50,-0 52.0833,-0 52.0833,-0 54.1667,-0 54.1667,-0 56.25,-0 56.25,-0 58.3333,-0 58.3333,-0 60.4167,-0 60.4167,-0 62.5,-0 62.5,-0 64.5833,-0 64.5833,-0 66.6667,-0 66.6667,-0 68.75,-0 68.75,-0 70.8333,-0 70.8333,-0 72.9167,-0 72.9167,-0  75,-0  75,-0 77.0833,-0 77.0833,-0 79.1667,-0 79.1667,-0 81.25,-0 81.25,-0 83.3333,-0 83.3333,-0 85.4167,-0 85.4167,-0 87.5,-0 87.5,-0 89.5833,-0 89.5833,-0 91.6667,-0 91.6667,-0 93.75,-0 93.75,-0 95.8333,-0 95.8333,-0 97.9167,-0 97.9167,-0 100,-0 100,-0 102.083,-0 102.083,-0 104.167,-0 104.167,-0 106.25,-0 106.25,-0 108.333,-0 108.333,-0 110.417,-0 110.417,-0 112.5,-0 112.5,-0 114.583,-0 114.583,-0 116.667,-0 116.667,-0 118.75,-0 118.75,-0 120.833,-0 120.833,-0 122.917,-0 122.917,-0 125,-0 125,-0 127.083,-0 127.083,-0 129.167,-0 129.167,-0 131.25,-0 131.25,-0 133.333,-0 133.333,-0 135.417,-0 135.417,-0 137.5,-0 137.5,-0 139.583,-0 139.583,-0 141.667,-0 141.667,-0 143.75,-0 143.75,-0 145.833,-0 145.833,-0 147.917,-0 147.917,-0 150,-0 150,-0 152.083,-0 152.083,-0 154.167,-0 154.167,-0 156.25,-0 156.25,-0 158.333,-0 158.333,-0 160.417,-0 160.417,-0 162.5,-0 162.5,-0 164.583,-0 164.583,-0 166.667,-0 166.667,-0 168.75,-0 168.75,-0 170.833,-0 170.833,-0 172.917,-0 172.917,-0 175,-0 175,-0 177.083,-0 177.083,-0 179.167,-0 179.167,-0 181.25,-0 181.25,-0 183.333,-0 183.333,-0 185.417,-0 185.417,-0 187.5,-0 187.5,-0 189.583,-0 189.583,-0 191.667,-0 191.667,-0 193.75,-0 193.75,-0 195.833,-0 195.833,-0 197.917,-0 197.917,-0 200,-0 200,-0 202.083,-0 202.083,-0 204.167,-0 204.167,-0 206.25,-0 206.25,-0 208.333,-0 208.333,-0 210.417,-0 210.417,-0 212.5,-0 212.5,-0 214.583,-0 214.583,-0 216.667,-0 216.667,-0 218.75,-0 218.75,-0 220.833,-0 220.833,-0 222.917,-0 222.917,-0 225,-0 225,-0 227.083,-0 227.083,-0 229.167,-0 229.167,-0 231.25,-0 231.25,-0 233.333,-0 233.333,-0 235.417,-0 235.417,-0 237.5,-0 237.5,-0 239.583,-0 239.583,-0 241.667,-0 241.667,-0 243.75,-0 243.75,-0 245.833,-0 245.833,-0 247.917,-0 247.917,-0 250,-0 250,0\" style=\"fill:none; stroke:currentColor;\"/>\n",
       "</svg>\n",
       "</div>\n",
       "<div style=\"flex=grow:1;\">\n",
       "Regular(120, 0, 120, name='mass', label='mass')<br/>\n",
       "<hr style=\"margin-top:.2em; margin-bottom:.2em;\"/>\n",
       "Double() Σ=0.0\n",
       "\n",
       "</div>\n",
       "</div>\n",
       "</html>"
      ],
      "text/plain": [
       "Hist(Regular(120, 0, 120, name='mass', label='mass'), storage=Double())"
      ]
     },
     "execution_count": 20,
     "metadata": {},
     "output_type": "execute_result"
    }
   ],
   "source": [
    "h = hist.Hist.new.Reg(120, 0, 120, name=\"mass\").Double()\n",
    "h"
   ]
  },
  {
   "cell_type": "code",
   "execution_count": 21,
   "id": "3ab6f7ab-7286-4f56-948f-44a2e8cfec8b",
   "metadata": {},
   "outputs": [
    {
     "data": {
      "text/html": [
       "<html>\n",
       "<div style=\"display:flex; align-items:center;\">\n",
       "<div style=\"width:290px;\">\n",
       "<svg xmlns=\"http://www.w3.org/2000/svg\" viewBox=\"-10 -105 270 120\">\n",
       "<line x1=\"-5\" y1=\"0\" x2=\"255\" y2=\"0\" style=\"fill:none;stroke-width:2;stroke:currentColor\"/>\n",
       "<text text-anchor=\"middle\" x=\"0\" y=\"15\" style=\"fill:currentColor;\">\n",
       "0\n",
       "</text>\n",
       "<text text-anchor=\"middle\" x=\"250\" y=\"15\" style=\"fill:currentColor;\">\n",
       "120\n",
       "</text>\n",
       "<text text-anchor=\"middle\" x=\"125.0\" y=\"15\" style=\"fill:currentColor;\">\n",
       "mass\n",
       "</text>\n",
       "<polyline points=\"  0,0   0,-1.98 2.08333,-1.98 2.08333,-3.43 4.16667,-3.43 4.16667,-5.82 6.25,-5.82 6.25,-7.17 8.33333,-7.17 8.33333,-9.58 10.4167,-9.58 10.4167,-11.5 12.5,-11.5 12.5,-12.5 14.5833,-12.5 14.5833,-13.6 16.6667,-13.6 16.6667,-14.8 18.75,-14.8 18.75,-16 20.8333,-16 20.8333,-18.5 22.9167,-18.5 22.9167,-19.1  25,-19.1  25,-21.9 27.0833,-21.9 27.0833,-22.3 29.1667,-22.3 29.1667,-24.5 31.25,-24.5 31.25,-25.9 33.3333,-25.9 33.3333,-28.2 35.4167,-28.2 35.4167,-29 37.5,-29 37.5,-30.3 39.5833,-30.3 39.5833,-33.4 41.6667,-33.4 41.6667,-34.3 43.75,-34.3 43.75,-35.8 45.8333,-35.8 45.8333,-37.7 47.9167,-37.7 47.9167,-39.2  50,-39.2  50,-41.5 52.0833,-41.5 52.0833,-41.7 54.1667,-41.7 54.1667,-42 56.25,-42 56.25,-40.7 58.3333,-40.7 58.3333,-41.7 60.4167,-41.7 60.4167,-40.6 62.5,-40.6 62.5,-39.1 64.5833,-39.1 64.5833,-34.8 66.6667,-34.8 66.6667,-31.9 68.75,-31.9 68.75,-25.4 70.8333,-25.4 70.8333,-20.9 72.9167,-20.9 72.9167,-17.8  75,-17.8  75,-16.6 77.0833,-16.6 77.0833,-15.1 79.1667,-15.1 79.1667,-13.2 81.25,-13.2 81.25,-13.2 83.3333,-13.2 83.3333,-13.1 85.4167,-13.1 85.4167,-11.7 87.5,-11.7 87.5,-11.5 89.5833,-11.5 89.5833,-12.6 91.6667,-12.6 91.6667,-11.2 93.75,-11.2 93.75,-11.3 95.8333,-11.3 95.8333,-11.1 97.9167,-11.1 97.9167,-10.3 100,-10.3 100,-9.34 102.083,-9.34 102.083,-9.71 104.167,-9.71 104.167,-9.88 106.25,-9.88 106.25,-9.45 108.333,-9.45 108.333,-9.09 110.417,-9.09 110.417,-9.55 112.5,-9.55 112.5,-9.15 114.583,-9.15 114.583,-8.42 116.667,-8.42 116.667,-8.82 118.75,-8.82 118.75,-8.66 120.833,-8.66 120.833,-8.87 122.917,-8.87 122.917,-8.64 125,-8.64 125,-7.95 127.083,-7.95 127.083,-7.61 129.167,-7.61 129.167,-7.84 131.25,-7.84 131.25,-7.42 133.333,-7.42 133.333,-7.58 135.417,-7.58 135.417,-7.14 137.5,-7.14 137.5,-6.9 139.583,-6.9 139.583,-7.42 141.667,-7.42 141.667,-7.33 143.75,-7.33 143.75,-7.25 145.833,-7.25 145.833,-8.06 147.917,-8.06 147.917,-7.63 150,-7.63 150,-7.33 152.083,-7.33 152.083,-8.14 154.167,-8.14 154.167,-8.06 156.25,-8.06 156.25,-8.28 158.333,-8.28 158.333,-8.23 160.417,-8.23 160.417,-8.88 162.5,-8.88 162.5,-10.1 164.583,-10.1 164.583,-9.18 166.667,-9.18 166.667,-11.4 168.75,-11.4 168.75,-12 170.833,-12 170.833,-13 172.917,-13 172.917,-15.6 175,-15.6 175,-18.4 177.083,-18.4 177.083,-22.5 179.167,-22.5 179.167,-27.1 181.25,-27.1 181.25,-39.3 183.333,-39.3 183.333,-57.6 185.417,-57.6 185.417,-80.8 187.5,-80.8 187.5,-100 189.583,-100 189.583,-92.4 191.667,-92.4 191.667,-62.6 193.75,-62.6 193.75,-33.5 195.833,-33.5 195.833,-17.8 197.917,-17.8 197.917,-9.1 200,-9.1 200,-5.68 202.083,-5.68 202.083,-3.39 204.167,-3.39 204.167,-2.32 206.25,-2.32 206.25,-1.44 208.333,-1.44 208.333,-0.952 210.417,-0.952 210.417,-0.682 212.5,-0.682 212.5,-0.397 214.583,-0.397 214.583,-0.381 216.667,-0.381 216.667,-0.206 218.75,-0.206 218.75,-0.159 220.833,-0.159 220.833,-0.159 222.917,-0.159 222.917,-0.0952 225,-0.0952 225,-0.0476 227.083,-0.0476 227.083,-0.0634 229.167,-0.0634 229.167,-0.127 231.25,-0.127 231.25,-0.0317 233.333,-0.0317 233.333,-0.0634 235.417,-0.0634 235.417,-0.0476 237.5,-0.0476 237.5,-0.0317 239.583,-0.0317 239.583,-0.0159 241.667,-0.0159 241.667,-0.0159 243.75,-0.0159 243.75,-0 245.833,-0 245.833,-0.0159 247.917,-0.0159 247.917,-0.0159 250,-0.0159 250,0\" style=\"fill:none; stroke:currentColor;\"/>\n",
       "</svg>\n",
       "</div>\n",
       "<div style=\"flex=grow:1;\">\n",
       "Regular(120, 0, 120, name='mass', label='mass')<br/>\n",
       "<hr style=\"margin-top:.2em; margin-bottom:.2em;\"/>\n",
       "Double() Σ=123753.0 <em>(123800.0 with flow)</em>\n",
       "\n",
       "</div>\n",
       "</div>\n",
       "</html>"
      ],
      "text/plain": [
       "Hist(Regular(120, 0, 120, name='mass', label='mass'), storage=Double()) # Sum: 123753.0 (123800.0 with flow)"
      ]
     },
     "execution_count": 21,
     "metadata": {},
     "output_type": "execute_result"
    }
   ],
   "source": [
    "h.fill(np.sqrt(2*mu1.pt*mu2.pt*(np.cosh(mu1.eta - mu2.eta) - np.cos(mu1.phi - mu2.phi))))"
   ]
  },
  {
   "cell_type": "markdown",
   "id": "6e76b5d8-46a0-4aa8-b3be-80b2a3d655f1",
   "metadata": {},
   "source": [
    "And Matplotlib for plots."
   ]
  },
  {
   "cell_type": "code",
   "execution_count": 22,
   "id": "b6844c2f-8fc0-4e51-bf42-842b49be43b5",
   "metadata": {},
   "outputs": [],
   "source": [
    "import matplotlib.pyplot as plt"
   ]
  },
  {
   "cell_type": "code",
   "execution_count": 23,
   "id": "03238db7-e4ba-4494-961d-f072b71507ca",
   "metadata": {},
   "outputs": [
    {
     "data": {
      "image/png": "[encoded data removed]",
      "text/plain": [
       "<Figure size 432x288 with 1 Axes>"
      ]
     },
     "metadata": {
      "needs_background": "light"
     },
     "output_type": "display_data"
    }
   ],
   "source": [
    "h.plot();"
   ]
  },
  {
   "cell_type": "markdown",
   "id": "0c38143b-b3df-4476-922e-d4e5304d46fa",
   "metadata": {},
   "source": [
    "<br><br><br><br><br>\n",
    "\n",
    "Now let's do the whole thing in one cell and time it."
   ]
  },
  {
   "cell_type": "code",
   "execution_count": 24,
   "id": "2701fca4-602b-4a97-9f74-2dcd7ecc9f24",
   "metadata": {},
   "outputs": [
    {
     "name": "stdout",
     "output_type": "stream",
     "text": [
      "total time: 0.07280492782592773 sec\n"
     ]
    }
   ],
   "source": [
    "starttime = time.time()\n",
    "\n",
    "# read data\n",
    "muons = events.arrays(\n",
    "    [\"pt\", \"eta\", \"phi\", \"charge\"],\n",
    "    aliases={\"pt\": \"Muon_pt\", \"eta\": \"Muon_eta\", \"phi\": \"Muon_phi\", \"charge\": \"Muon_charge\"},\n",
    "    array_cache=None,   # no cheating!\n",
    ")\n",
    "\n",
    "# compute\n",
    "cut = (ak.num(muons.charge) >= 2) & (ak.sum(muons.charge[:, :2], axis=1) == 0)\n",
    "mu1 = muons[cut, 0]\n",
    "mu2 = muons[cut, 1]\n",
    "h = hist.Hist.new.Reg(120, 0, 120, name=\"mass\").Double()\n",
    "h.fill(np.sqrt(2*mu1.pt*mu2.pt*(np.cosh(mu1.eta - mu2.eta) - np.cos(mu1.phi - mu2.phi))))\n",
    "\n",
    "uproot_time = time.time() - starttime\n",
    "print(f\"total time: {uproot_time} sec\")"
   ]
  },
  {
   "cell_type": "code",
   "execution_count": 25,
   "id": "dbd4249f-637e-4f91-80d4-6f5696ea7964",
   "metadata": {},
   "outputs": [
    {
     "data": {
      "text/plain": [
       "276.2997550480407"
      ]
     },
     "execution_count": 25,
     "metadata": {},
     "output_type": "execute_result"
    }
   ],
   "source": [
    "pyroot_time / uproot_time"
   ]
  },
  {
   "cell_type": "markdown",
   "id": "4bae101b-3e8e-43df-8c0d-fe3c4b796b7a",
   "metadata": {},
   "source": [
    "It's in the same ballpark as C++. It can be 1.5× to 2× slower, but it's much closer to C++ on a log plot than it is to Python \"for\" loops."
   ]
  },
  {
   "cell_type": "markdown",
   "id": "816289f5-b975-42cf-8bbf-02c0f226e6d9",
   "metadata": {},
   "source": [
    "<br><br><br><br><br>\n",
    "\n",
    "## The Pythonic HEP ecosystem\n",
    "\n",
    "Uproot is not a framework, it _only_ does ROOT I/O. Awkward Array handles array manipulation, hist does histograms, etc.\n",
    "\n",
    "It is part of this complete breakfast:\n",
    "\n",
    "<img src=\"img/logo-parade.svg\" width=\"800px\">"
   ]
  },
  {
   "cell_type": "markdown",
   "id": "bbc147a6-04ac-4eaa-848b-c8d59cac46e0",
   "metadata": {},
   "source": [
    "<br><br><br><br><br>\n",
    "\n",
    "## Uproot\n",
    "\n",
    "Uproot is an independent implementation of ROOT I/O that leverages standard Python libraries.\n",
    "\n",
    "<img src=\"img/abstraction-layers.svg\" width=\"800px\">"
   ]
  },
  {
   "cell_type": "markdown",
   "id": "62e90fb9-b612-4ba7-8a79-f747b8682024",
   "metadata": {},
   "source": [
    "<br><br><br><br><br>\n",
    "\n",
    "The documentation is at [https://uproot.readthedocs.io/](https://uproot.readthedocs.io/).\n",
    "\n",
    "<img src=\"img/uproot-documentation.png\" width=\"800px\"/>"
   ]
  },
  {
   "cell_type": "markdown",
   "id": "55dc1c65-a3cf-4e8d-8f4c-eef4eb6c37d6",
   "metadata": {},
   "source": [
    "<br><br><br><br><br>\n",
    "\n",
    "## Navigating a ROOT file\n",
    "\n",
    "<img src=\"img/terminology.svg\" style=\"width: 800px\">"
   ]
  },
  {
   "cell_type": "code",
   "execution_count": 26,
   "id": "3896e3fd-62e4-46f2-92e3-e74936fff83a",
   "metadata": {},
   "outputs": [
    {
     "data": {
      "text/plain": [
       "<ReadOnlyDirectory '/' at 0x7f1414f70c70>"
      ]
     },
     "execution_count": 26,
     "metadata": {},
     "output_type": "execute_result"
    }
   ],
   "source": [
    "histograms = uproot.open(\"data/HiggsZZ4mu_histograms.root\")\n",
    "histograms"
   ]
  },
  {
   "cell_type": "code",
   "execution_count": 27,
   "id": "505a5c1f-971a-454a-b7fd-05a87cec494f",
   "metadata": {},
   "outputs": [
    {
     "data": {
      "text/plain": [
       "<ReadOnlyFile 'data/HiggsZZ4mu_histograms.root' at 0x7f1414f6c5b0>"
      ]
     },
     "execution_count": 27,
     "metadata": {},
     "output_type": "execute_result"
    }
   ],
   "source": [
    "histograms.file"
   ]
  },
  {
   "cell_type": "markdown",
   "id": "27871d30-483d-478b-a541-9b0422e3b7f2",
   "metadata": {},
   "source": [
    "In Uproot, a directory is a dict-like object with subscripting (square brackets), [keys](https://uproot.readthedocs.io/en/latest/uproot.reading.ReadOnlyDirectory.html#keys), [values](https://uproot.readthedocs.io/en/latest/uproot.reading.ReadOnlyDirectory.html#values), [items](https://uproot.readthedocs.io/en/latest/uproot.reading.ReadOnlyDirectory.html#items), and [classnames](https://uproot.readthedocs.io/en/latest/uproot.reading.ReadOnlyDirectory.html#classnames) methods."
   ]
  },
  {
   "cell_type": "code",
   "execution_count": 28,
   "id": "78630af0-ce2d-401b-99d9-143c5c574860",
   "metadata": {},
   "outputs": [
    {
     "data": {
      "text/plain": [
       "<ReadOnlyDirectory '/Z' at 0x7f1414f6c3d0>"
      ]
     },
     "execution_count": 28,
     "metadata": {},
     "output_type": "execute_result"
    }
   ],
   "source": [
    "histograms[\"Z\"]"
   ]
  },
  {
   "cell_type": "code",
   "execution_count": 29,
   "id": "e7f95796-13c2-4248-949b-91479359eabb",
   "metadata": {},
   "outputs": [
    {
     "data": {
      "text/plain": [
       "<ReadOnlyDirectory '/Z/4mu' at 0x7f1414f6cbb0>"
      ]
     },
     "execution_count": 29,
     "metadata": {},
     "output_type": "execute_result"
    }
   ],
   "source": [
    "histograms[\"Z\"][\"4mu\"]"
   ]
  },
  {
   "cell_type": "markdown",
   "id": "e1a8a9d4-1c79-49cf-88ce-e8d9a35f26a6",
   "metadata": {},
   "source": [
    "Try `recursive`, `filter_name`, and `filter_classname` arguments."
   ]
  },
  {
   "cell_type": "code",
   "execution_count": 30,
   "id": "9d8138f3-283a-43cb-9353-a11991d1ef9e",
   "metadata": {},
   "outputs": [
    {
     "data": {
      "text/plain": [
       "['num;1',\n",
       " 'num/NGMuons;1',\n",
       " 'num/NMuons;1',\n",
       " 'num/Nelectrons;1',\n",
       " 'num/NGoodGMuons;1',\n",
       " 'num/NGoodRecMuons;1',\n",
       " 'num/NGoodElectron;1',\n",
       " 'Z;1',\n",
       " 'Z/all;1',\n",
       " 'Z/all/GMmass;1',\n",
       " 'Z/all/GMmass_extended;1',\n",
       " 'Z/all/GMmass_extended_600;1',\n",
       " 'Z/all/massZto2muon;1',\n",
       " 'Z/all/massZto2e;1',\n",
       " 'Z/4mu;1',\n",
       " 'Z/4mu/by_pt;1',\n",
       " 'Z/4mu/by_pt/mZ12_4mu;1',\n",
       " 'Z/4mu/by_pt/mZ34_4mu;1',\n",
       " 'Z/4mu/by_pt/mZ13_4mu;1',\n",
       " 'Z/4mu/by_pt/mZ24_4mu;1',\n",
       " 'Z/4mu/by_pt/mZ14_4mu;1',\n",
       " 'Z/4mu/by_pt/mZ23_4mu;1',\n",
       " 'Z/4mu/by_mass;1',\n",
       " 'Z/4mu/by_mass/mZa_4mu;1',\n",
       " 'Z/4mu/by_mass/mZb_4mu;1',\n",
       " 'Z/4e;1',\n",
       " 'Z/4e/by_pt;1',\n",
       " 'Z/4e/by_pt/mZ12_4e;1',\n",
       " 'Z/4e/by_pt/mZ34_4e;1',\n",
       " 'Z/4e/by_pt/mZ13_4e;1',\n",
       " 'Z/4e/by_pt/mZ24_4e;1',\n",
       " 'Z/4e/by_pt/mZ14_4e;1',\n",
       " 'Z/4e/by_pt/mZ23_4e;1',\n",
       " 'Z/4e/by_mass;1',\n",
       " 'Z/4e/by_mass/mZa_4e;1',\n",
       " 'Z/4e/by_mass/mZb_4e;1',\n",
       " 'Z/2mu2e;1',\n",
       " 'Z/2mu2e/massZmu_2mu2e;1',\n",
       " 'Z/2mu2e/massZe_2mu2e;1',\n",
       " 'H;1',\n",
       " 'H/4mu;1',\n",
       " 'H/4mu/mass4mu_7TeV;1',\n",
       " 'H/4mu/mass4mu_8TeV;1',\n",
       " 'H/4mu/mass4mu_8TeV_low;1',\n",
       " 'H/4mu/mass4mu_full;1',\n",
       " 'H/4e;1',\n",
       " 'H/4e/mass4e_7TeV;1',\n",
       " 'H/4e/mass4e_8TeV;1',\n",
       " 'H/4e/mass4e_8TeV_low;1',\n",
       " 'H/4e/mass4e_full;1',\n",
       " 'H/2mu2e;1',\n",
       " 'H/2mu2e/mZa_2mu2e;1',\n",
       " 'H/2mu2e/mZb_2mu2e;1',\n",
       " 'H/2mu2e/mass2mu2e_7TeV;1',\n",
       " 'H/2mu2e/mass2mu2e_8TeV;1',\n",
       " 'H/2mu2e/mass2mu2e_8TeV_low;1',\n",
       " 'H/2mu2e/mass2mu2e_full;1',\n",
       " 'muon;1',\n",
       " 'muon/GM_momentum;1',\n",
       " 'muon/b4_GM_pT;1',\n",
       " 'muon/b4_GM_eta;1',\n",
       " 'muon/GM_phi;1',\n",
       " 'muon/GM_chi2;1',\n",
       " 'muon/GM_ndof;1',\n",
       " 'muon/GM_normchi2;1',\n",
       " 'muon/GM_validhits;1',\n",
       " 'muon/GM_pixelhits;1',\n",
       " 'muon/after_GM_pT;1',\n",
       " 'muon/after_GM_eta;1',\n",
       " 'muon/RM_momentum;1',\n",
       " 'muon/b4_RM_pt;1',\n",
       " 'muon/b4_RM_eta;1',\n",
       " 'muon/RM_phi;1',\n",
       " 'muon/RM_chi2;1',\n",
       " 'muon/RM_Ndof;1',\n",
       " 'muon/RM_NormChi2;1',\n",
       " 'muon/RM_goodMuonChamberHit;1',\n",
       " 'muon/RM_dxy;1',\n",
       " 'muon/RM_RelPFIso;1',\n",
       " 'muon/after_RM_RelPFIso;1',\n",
       " 'muon/RM_validhits;1',\n",
       " 'muon/RM_pixelhits;1',\n",
       " 'muon/after_RM_pt_Z2mu;1',\n",
       " 'muon/after_RM_eta_Z2mu;1',\n",
       " 'muon/after_RM_pt;1',\n",
       " 'muon/after_RM_eta;1',\n",
       " 'muon/after_relPFIso_2mu;1',\n",
       " 'muon/after_relPFIso_2e;1',\n",
       " 'muon/after_pt_2mu2e;1',\n",
       " 'muon/after_eta_2mu2e;1',\n",
       " 'electron;1',\n",
       " 'electron/e_momentum;1',\n",
       " 'electron/e_eT;1',\n",
       " 'electron/b4_e_pT;1',\n",
       " 'electron/b4_e_eta;1',\n",
       " 'electron/e_phi;1',\n",
       " 'electron/e_SC_eta;1',\n",
       " 'electron/e_SC_rawE;1',\n",
       " 'electron/e_RelPFIso;1',\n",
       " 'electron/after_e_RelPFIso;1',\n",
       " 'electron/e_RelPFIso_pT;1',\n",
       " 'electron/e_dxy;1',\n",
       " 'electron/after_e_pT_Zto2e;1',\n",
       " 'electron/after_e_eta_Zto2e;1',\n",
       " 'electron/after_e_pT;1',\n",
       " 'electron/after_e_eta;1',\n",
       " 'electron/after_e_pT_2mu2e;1',\n",
       " 'electron/after_e_eta_2mu2e;1',\n",
       " 'electron/SIP3d_mu;1',\n",
       " 'electron/SIP3d_e;1',\n",
       " 'electron/e_misshit;1']"
      ]
     },
     "execution_count": 30,
     "metadata": {},
     "output_type": "execute_result"
    }
   ],
   "source": [
    "histograms.keys()"
   ]
  },
  {
   "cell_type": "markdown",
   "id": "0b83c8f5-9e9f-4678-a1a0-90687794e4b2",
   "metadata": {},
   "source": [
    "Most histograms and graphs can be converted to types in other Python libraries.\n",
    "\n",
    "Try the `to_hist()` method on this one."
   ]
  },
  {
   "cell_type": "code",
   "execution_count": 31,
   "id": "431706f9-61dc-4bb6-ae1e-9a12c6c3f609",
   "metadata": {},
   "outputs": [
    {
     "data": {
      "text/plain": [
       "<TH1D (version 3) at 0x7f1414f66a60>"
      ]
     },
     "execution_count": 31,
     "metadata": {},
     "output_type": "execute_result"
    }
   ],
   "source": [
    "histograms[\"Z/all/massZto2muon\"]"
   ]
  },
  {
   "cell_type": "markdown",
   "id": "87876faa-7998-4395-b4d1-65192bac08cd",
   "metadata": {},
   "source": [
    "<br><br><br>\n",
    "\n",
    "**Three-minute exercise:** find the 2D histogram and plot it."
   ]
  },
  {
   "cell_type": "code",
   "execution_count": 32,
   "id": "7d94135d-c1d4-47e6-9206-89c7300d17fb",
   "metadata": {},
   "outputs": [
    {
     "data": {
      "text/plain": [
       "<ReadOnlyDirectory '/' at 0x7f1414f70c70>"
      ]
     },
     "execution_count": 32,
     "metadata": {},
     "output_type": "execute_result"
    }
   ],
   "source": [
    "histograms"
   ]
  },
  {
   "cell_type": "markdown",
   "id": "743d3385-58e7-4f41-a7f7-5618ac027ea3",
   "metadata": {},
   "source": [
    "<br><br><br><br><br>\n",
    "\n",
    "## Can Uproot read my data?\n",
    "\n",
    "<img src=\"img/can-uproot-read-it.svg\" width=\"500px\"/>"
   ]
  },
  {
   "cell_type": "markdown",
   "id": "e22903b5-c5b3-4b48-b4f1-dfd0dbaa8d00",
   "metadata": {},
   "source": [
    "Here is a file with analysis-specific classes; Uproot _cannot_ have prior knowledge of these classes."
   ]
  },
  {
   "cell_type": "code",
   "execution_count": 33,
   "id": "61cf7763-2915-49b3-bd6d-c01fa1d68b25",
   "metadata": {},
   "outputs": [
    {
     "data": {
      "text/plain": [
       "['config;1',\n",
       " 'config/analysis;1',\n",
       " 'config/detector;1',\n",
       " 'config/run;1',\n",
       " 'sn_all;1',\n",
       " 'sn_gps;1',\n",
       " 'sn_range;1',\n",
       " 'sn_o2rout;1',\n",
       " 'sn_o2cand;1',\n",
       " 'sn_omwatch;1',\n",
       " 'sn_sigsim;1']"
      ]
     },
     "execution_count": 33,
     "metadata": {},
     "output_type": "execute_result"
    }
   ],
   "source": [
    "icecube = uproot.open(\"data/icecube-supernovae.root\")\n",
    "icecube.keys()"
   ]
  },
  {
   "cell_type": "code",
   "execution_count": 34,
   "id": "1be6bf8d-c4e5-4cee-ad97-467589775a91",
   "metadata": {},
   "outputs": [
    {
     "data": {
      "text/plain": [
       "'I3Eval_t'"
      ]
     },
     "execution_count": 34,
     "metadata": {},
     "output_type": "execute_result"
    }
   ],
   "source": [
    "icecube.classname_of(\"config/detector\")"
   ]
  },
  {
   "cell_type": "markdown",
   "id": "b841e06b-d16d-4546-bc1f-4b1bab0cb6b5",
   "metadata": {},
   "source": [
    "It is possible to read an `I3Eval_t` object because ROOT stores the \"how to read\" instructions in the file (called \"streamers\")."
   ]
  },
  {
   "cell_type": "code",
   "execution_count": 35,
   "id": "fe251213-5296-4823-bbc4-ed32bfa7cc2b",
   "metadata": {},
   "outputs": [
    {
     "name": "stdout",
     "output_type": "stream",
     "text": [
      "I3Eval_t::ChannelContainer_t (v1)\n",
      "\n",
      "Sni3DataArray (v1)\n",
      "\n",
      "TObject (v1)\n",
      "    fUniqueID: unsigned int (TStreamerBasicType)\n",
      "    fBits: unsigned int (TStreamerBasicType)\n",
      "\n",
      "I3Eval_t (v7): TObject (v1)\n",
      "    theDataArray: Sni3DataArray* (TStreamerObjectAnyPointer)\n",
      "    NumberOfChannels: int (TStreamerBasicType)\n",
      "    NoAvailableSlices: int (TStreamerBasicType)\n",
      "    AvailableDataSize: int (TStreamerBasicType)\n",
      "    mGPSCardId: int (TStreamerBasicType)\n",
      "    mGPSPrescale: int (TStreamerBasicType)\n",
      "    mGPSEventNo: int (TStreamerBasicType)\n",
      "    mScalerCardId: int (TStreamerBasicType)\n",
      "    mScalerStartChannel: int (TStreamerBasicType)\n",
      "    StartUTC: long (TStreamerBasicType)\n",
      "    MaxChannels: int (TStreamerBasicType)\n",
      "    mMaxJitterLogs: int (TStreamerBasicType)\n",
      "    Channel: I3Eval_t::ChannelContainer_t* (TStreamerObjectAnyPointer)\n",
      "    ChannelIDMap: map<long,int> (TStreamerSTL)\n",
      "    BadChannelIDSet: set<long> (TStreamerSTL)\n",
      "    ChannelID: long* (TStreamerBasicPointer)\n",
      "    Deadtime: double* (TStreamerBasicPointer)\n",
      "    Efficiency: double* (TStreamerBasicPointer)\n"
     ]
    }
   ],
   "source": [
    "icecube.file.show_streamers(\"I3Eval_t\")"
   ]
  },
  {
   "cell_type": "code",
   "execution_count": 36,
   "id": "59081442-001a-4661-b995-d338709c792c",
   "metadata": {},
   "outputs": [
    {
     "data": {
      "text/plain": [
       "<I3Eval_t (version 7) at 0x7f1414f0c100>"
      ]
     },
     "execution_count": 36,
     "metadata": {},
     "output_type": "execute_result"
    }
   ],
   "source": [
    "icecube[\"config/detector\"]"
   ]
  },
  {
   "cell_type": "code",
   "execution_count": 37,
   "id": "3304566b-4f6f-4564-ab72-d9d90487545f",
   "metadata": {},
   "outputs": [
    {
     "data": {
      "text/plain": [
       "{'@fUniqueID': 0,\n",
       " '@fBits': 50331648,\n",
       " 'theDataArray': <Sni3DataArray (version 1) at 0x7f1414bfac40>,\n",
       " 'NumberOfChannels': 5160,\n",
       " 'NoAvailableSlices': -1,\n",
       " 'AvailableDataSize': 0,\n",
       " 'mGPSCardId': 0,\n",
       " 'mGPSPrescale': 20000000,\n",
       " 'mGPSEventNo': 92824,\n",
       " 'mScalerCardId': 0,\n",
       " 'mScalerStartChannel': 0,\n",
       " 'StartUTC': 272924620173109013,\n",
       " 'MaxChannels': 5160,\n",
       " 'mMaxJitterLogs': 20,\n",
       " 'Channel': <I3Eval_t::ChannelContainer_t (version 1) at 0x7f1414bfae50>,\n",
       " 'ChannelIDMap': <STLMap {46612627560: 896, ..., 281410180683757: 2689} at 0x7f1414ae50d0>,\n",
       " 'BadChannelIDSet': <STLSet {58348614635591, 60068372029697, ..., 258905191174588} at 0x7f1414ae5130>,\n",
       " 'ChannelID': array([ 47303335284587,  20579555797555, 106634453247646, ...,\n",
       "        255380957221937, 107432791511293, 280205879548048]),\n",
       " 'Deadtime': array([250., 250., 250., ..., 250., 250., 250.]),\n",
       " 'Efficiency': array([1.  , 1.  , 1.  , ..., 1.35, 1.35, 1.35])}"
      ]
     },
     "execution_count": 37,
     "metadata": {},
     "output_type": "execute_result"
    }
   ],
   "source": [
    "icecube[\"config/detector\"].all_members"
   ]
  },
  {
   "cell_type": "code",
   "execution_count": 38,
   "id": "53b7327b-7d84-461d-9e4d-07df009f9b5e",
   "metadata": {},
   "outputs": [
    {
     "data": {
      "text/plain": [
       "<STLMap {46612627560: 896, ..., 281410180683757: 2689} at 0x7f1414ae50d0>"
      ]
     },
     "execution_count": 38,
     "metadata": {},
     "output_type": "execute_result"
    }
   ],
   "source": [
    "icecube[\"config/detector\"].member(\"ChannelIDMap\")"
   ]
  },
  {
   "cell_type": "markdown",
   "id": "22919f2a-6287-4698-9635-e5a342683a20",
   "metadata": {},
   "source": [
    "Unlike histograms, these objects have no methods to help you unpack the data; it's all in [members](https://uproot.readthedocs.io/en/latest/uproot.model.Model.html#members), [all_members](https://uproot.readthedocs.io/en/latest/uproot.model.Model.html#all-members), [has_member](https://uproot.readthedocs.io/en/latest/uproot.model.Model.html#has-member), and [member](https://uproot.readthedocs.io/en/latest/uproot.model.Model.html#member)."
   ]
  },
  {
   "cell_type": "markdown",
   "id": "f859f59c-9d13-4db2-b65c-cb56b0b649da",
   "metadata": {},
   "source": [
    "<br><br><br><br><br>\n",
    "\n",
    "## Navigating TTrees"
   ]
  },
  {
   "cell_type": "code",
   "execution_count": 39,
   "id": "c5fee4df-e1e5-4c6e-9db5-13973f071762",
   "metadata": {},
   "outputs": [
    {
     "data": {
      "text/plain": [
       "{'events;1': 'TTree'}"
      ]
     },
     "execution_count": 39,
     "metadata": {},
     "output_type": "execute_result"
    }
   ],
   "source": [
    "zmumu_file = uproot.open(\"data/Zmumu.root\")\n",
    "zmumu_file.classnames()"
   ]
  },
  {
   "cell_type": "markdown",
   "id": "43448510-9169-4b72-aaf9-9a8ed48e9b8b",
   "metadata": {},
   "source": [
    "Often, the best thing to do first with an unfamiliar TTree is [show](https://uproot.readthedocs.io/en/latest/uproot.behaviors.TTree.TTree.html#show)."
   ]
  },
  {
   "cell_type": "code",
   "execution_count": 40,
   "id": "a8d0d736-f63d-4ef0-957b-c1d950ea7424",
   "metadata": {},
   "outputs": [
    {
     "name": "stdout",
     "output_type": "stream",
     "text": [
      "name                 | typename                 | interpretation                \n",
      "---------------------+--------------------------+-------------------------------\n",
      "Type                 | char*                    | AsStrings()\n",
      "Run                  | int32_t                  | AsDtype('>i4')\n",
      "Event                | int32_t                  | AsDtype('>i4')\n",
      "E1                   | double                   | AsDtype('>f8')\n",
      "px1                  | double                   | AsDtype('>f8')\n",
      "py1                  | double                   | AsDtype('>f8')\n",
      "pz1                  | double                   | AsDtype('>f8')\n",
      "pt1                  | double                   | AsDtype('>f8')\n",
      "eta1                 | double                   | AsDtype('>f8')\n",
      "phi1                 | double                   | AsDtype('>f8')\n",
      "Q1                   | int32_t                  | AsDtype('>i4')\n",
      "E2                   | double                   | AsDtype('>f8')\n",
      "px2                  | double                   | AsDtype('>f8')\n",
      "py2                  | double                   | AsDtype('>f8')\n",
      "pz2                  | double                   | AsDtype('>f8')\n",
      "pt2                  | double                   | AsDtype('>f8')\n",
      "eta2                 | double                   | AsDtype('>f8')\n",
      "phi2                 | double                   | AsDtype('>f8')\n",
      "Q2                   | int32_t                  | AsDtype('>i4')\n",
      "M                    | double                   | AsDtype('>f8')\n"
     ]
    }
   ],
   "source": [
    "zmumu = zmumu_file[\"events\"]\n",
    "zmumu.show()"
   ]
  },
  {
   "cell_type": "markdown",
   "id": "2a3df634-56a1-4804-986f-f6032ce7a995",
   "metadata": {},
   "source": [
    "Keep in mind that\n",
    "\n",
    "   * TTrees are dict-like objects with subscripting (square brackets), [keys](https://uproot.readthedocs.io/en/latest/uproot.behaviors.TTree.TTree.html#keys), [values](https://uproot.readthedocs.io/en/latest/uproot.behaviors.TTree.TTree.html#values), [items](https://uproot.readthedocs.io/en/latest/uproot.behaviors.TTree.TTree.html#items), and [typenames](https://uproot.readthedocs.io/en/latest/uproot.behaviors.TTree.TTree.html#typenames) methods (like directories)\n",
    "   * you can access all of the above data with methods: you don't have to parse the [show](https://uproot.readthedocs.io/en/latest/uproot.behaviors.TTree.TTree.html#show) string!"
   ]
  },
  {
   "cell_type": "code",
   "execution_count": 41,
   "id": "6cd887be-e622-425f-96f6-43e60c32a893",
   "metadata": {},
   "outputs": [
    {
     "data": {
      "text/plain": [
       "['Type',\n",
       " 'Run',\n",
       " 'Event',\n",
       " 'E1',\n",
       " 'px1',\n",
       " 'py1',\n",
       " 'pz1',\n",
       " 'pt1',\n",
       " 'eta1',\n",
       " 'phi1',\n",
       " 'Q1',\n",
       " 'E2',\n",
       " 'px2',\n",
       " 'py2',\n",
       " 'pz2',\n",
       " 'pt2',\n",
       " 'eta2',\n",
       " 'phi2',\n",
       " 'Q2',\n",
       " 'M']"
      ]
     },
     "execution_count": 41,
     "metadata": {},
     "output_type": "execute_result"
    }
   ],
   "source": [
    "zmumu.keys()"
   ]
  },
  {
   "cell_type": "code",
   "execution_count": 42,
   "id": "8be42444-d5fb-41ba-a128-fe336343424c",
   "metadata": {},
   "outputs": [
    {
     "data": {
      "text/plain": [
       "{'Type': 'char*',\n",
       " 'Run': 'int32_t',\n",
       " 'Event': 'int32_t',\n",
       " 'E1': 'double',\n",
       " 'px1': 'double',\n",
       " 'py1': 'double',\n",
       " 'pz1': 'double',\n",
       " 'pt1': 'double',\n",
       " 'eta1': 'double',\n",
       " 'phi1': 'double',\n",
       " 'Q1': 'int32_t',\n",
       " 'E2': 'double',\n",
       " 'px2': 'double',\n",
       " 'py2': 'double',\n",
       " 'pz2': 'double',\n",
       " 'pt2': 'double',\n",
       " 'eta2': 'double',\n",
       " 'phi2': 'double',\n",
       " 'Q2': 'int32_t',\n",
       " 'M': 'double'}"
      ]
     },
     "execution_count": 42,
     "metadata": {},
     "output_type": "execute_result"
    }
   ],
   "source": [
    "zmumu.typenames()"
   ]
  },
  {
   "cell_type": "code",
   "execution_count": 43,
   "id": "a4bfcef4-94f0-433c-aea6-d405f94636b6",
   "metadata": {},
   "outputs": [
    {
     "data": {
      "text/plain": [
       "{'Type': AsStrings(),\n",
       " 'Run': AsDtype('>i4'),\n",
       " 'Event': AsDtype('>i4'),\n",
       " 'E1': AsDtype('>f8'),\n",
       " 'px1': AsDtype('>f8'),\n",
       " 'py1': AsDtype('>f8'),\n",
       " 'pz1': AsDtype('>f8'),\n",
       " 'pt1': AsDtype('>f8'),\n",
       " 'eta1': AsDtype('>f8'),\n",
       " 'phi1': AsDtype('>f8'),\n",
       " 'Q1': AsDtype('>i4'),\n",
       " 'E2': AsDtype('>f8'),\n",
       " 'px2': AsDtype('>f8'),\n",
       " 'py2': AsDtype('>f8'),\n",
       " 'pz2': AsDtype('>f8'),\n",
       " 'pt2': AsDtype('>f8'),\n",
       " 'eta2': AsDtype('>f8'),\n",
       " 'phi2': AsDtype('>f8'),\n",
       " 'Q2': AsDtype('>i4'),\n",
       " 'M': AsDtype('>f8')}"
      ]
     },
     "execution_count": 43,
     "metadata": {},
     "output_type": "execute_result"
    }
   ],
   "source": [
    "{name: branch.interpretation for name, branch in zmumu.items()}"
   ]
  },
  {
   "cell_type": "markdown",
   "id": "ce32e54b-f7aa-4ddf-9be8-5a75aabe60f4",
   "metadata": {},
   "source": [
    "<br><br><br><br><br>\n",
    "\n",
    "## Reading TBranches into arrays\n",
    "\n",
    "The basic method is to get a TBranch (with square brackets) and call [array](https://uproot.readthedocs.io/en/latest/uproot.behaviors.TBranch.TBranch.html#array)."
   ]
  },
  {
   "cell_type": "code",
   "execution_count": 44,
   "id": "d7d915ad-6a25-4585-87a5-7afe9a49a100",
   "metadata": {},
   "outputs": [
    {
     "data": {
      "text/plain": [
       "<Array [82.5, 83.6, 83.3, ... 96, 96.5, 96.7] type='2304 * float64'>"
      ]
     },
     "execution_count": 44,
     "metadata": {},
     "output_type": "execute_result"
    }
   ],
   "source": [
    "zmumu[\"M\"].array()"
   ]
  },
  {
   "cell_type": "markdown",
   "id": "325cbb3e-c108-4d8e-b2c6-0211160e68d3",
   "metadata": {},
   "source": [
    "Some important parameters:\n",
    "\n",
    "   * `entry_start`, `entry_stop` to limit how much you read (if it's big)\n",
    "   * `library=\"np\"` for NumPy arrays, `library=\"ak\"` for Awkward Arrays, and `library=\"pd\"` for Pandas (Series or DataFrame)"
   ]
  },
  {
   "cell_type": "code",
   "execution_count": 45,
   "id": "ccd6ef30-d431-4a45-be43-2b3698a7a86e",
   "metadata": {},
   "outputs": [
    {
     "data": {
      "text/plain": [
       "<Array [82.5, 83.6, 83.3, 82.1, 90.5] type='5 * float64'>"
      ]
     },
     "execution_count": 45,
     "metadata": {},
     "output_type": "execute_result"
    }
   ],
   "source": [
    "zmumu[\"M\"].array(entry_stop=5)"
   ]
  },
  {
   "cell_type": "markdown",
   "id": "09acbd28-a5ba-4d71-93cb-40122a337310",
   "metadata": {},
   "source": [
    "Get a NumPy (not Awkward) array:"
   ]
  },
  {
   "cell_type": "code",
   "execution_count": 46,
   "id": "59f56180-6477-43d6-8216-69fa396d2312",
   "metadata": {},
   "outputs": [
    {
     "data": {
      "text/plain": [
       "array([82.46269156, 83.62620401, 83.30846467, ..., 95.96547966,\n",
       "       96.49594381, 96.65672765])"
      ]
     },
     "execution_count": 46,
     "metadata": {},
     "output_type": "execute_result"
    }
   ],
   "source": [
    "zmumu[\"M\"].array(library=\"np\")"
   ]
  },
  {
   "cell_type": "markdown",
   "id": "793ad29e-dd8a-4ca8-9656-858494e980de",
   "metadata": {},
   "source": [
    "Get a Pandas Series:"
   ]
  },
  {
   "cell_type": "code",
   "execution_count": 47,
   "id": "31c8a24c-e187-4ef9-836e-714afa3c457d",
   "metadata": {},
   "outputs": [
    {
     "data": {
      "text/plain": [
       "0       82.462692\n",
       "1       83.626204\n",
       "2       83.308465\n",
       "3       82.149373\n",
       "4       90.469123\n",
       "          ...    \n",
       "2299    60.047138\n",
       "2300    96.125376\n",
       "2301    95.965480\n",
       "2302    96.495944\n",
       "2303    96.656728\n",
       "Length: 2304, dtype: float64"
      ]
     },
     "execution_count": 47,
     "metadata": {},
     "output_type": "execute_result"
    }
   ],
   "source": [
    "zmumu[\"M\"].array(library=\"pd\")"
   ]
  },
  {
   "cell_type": "markdown",
   "id": "78273259-8179-4256-baa0-6cee05237864",
   "metadata": {},
   "source": [
    "<br><br><br><br><br>\n",
    "\n",
    "## Reading many arrays at once\n",
    "\n",
    "The [arrays](https://uproot.readthedocs.io/en/latest/uproot.behaviors.TBranch.HasBranches.html#arrays) method retrieves many TBranches into a \"group\" of arrays.\n",
    "\n",
    "What a \"group\" means depends on the library.\n",
    "\n",
    "Awkward Arrays group data in records (substructure within the array)."
   ]
  },
  {
   "cell_type": "code",
   "execution_count": 48,
   "id": "e4a46344-1940-4ab9-8fcc-ad2c5120a319",
   "metadata": {},
   "outputs": [
    {
     "data": {
      "text/plain": [
       "<Array [{Type: 'GT', Run: 148031, ... M: 96.7}] type='2304 * {\"Type\": string, \"R...'>"
      ]
     },
     "execution_count": 48,
     "metadata": {},
     "output_type": "execute_result"
    }
   ],
   "source": [
    "zmumu.arrays()"
   ]
  },
  {
   "cell_type": "markdown",
   "id": "ee9ffc84-dfe3-4246-aefb-6c6c4f0438ea",
   "metadata": {},
   "source": [
    "A \"group\" of NumPy arrays is a dict (unless you specify `how`):"
   ]
  },
  {
   "cell_type": "code",
   "execution_count": 49,
   "id": "0fc308b4-ba85-47e3-acb3-eadbf0e76892",
   "metadata": {},
   "outputs": [
    {
     "data": {
      "text/plain": [
       "{'Type': array(['GT', 'TT', 'GT', ..., 'TT', 'GT', 'GG'], dtype=object),\n",
       " 'Run': array([148031, 148031, 148031, ..., 148029, 148029, 148029], dtype=int32),\n",
       " 'Event': array([10507008, 10507008, 10507008, ..., 99991333, 99991333, 99991333],\n",
       "       dtype=int32),\n",
       " 'E1': array([82.20186639, 62.34492895, 62.34492895, ..., 81.27013558,\n",
       "        81.27013558, 81.56621735]),\n",
       " 'px1': array([-41.19528764,  35.11804977,  35.11804977, ...,  32.37749196,\n",
       "         32.37749196,  32.48539387]),\n",
       " 'py1': array([ 17.4332439 , -16.57036233, -16.57036233, ...,   1.19940578,\n",
       "          1.19940578,   1.2013503 ]),\n",
       " 'pz1': array([-68.96496181, -48.77524654, -48.77524654, ..., -74.53243061,\n",
       "        -74.53243061, -74.80837247]),\n",
       " 'pt1': array([44.7322, 38.8311, 38.8311, ..., 32.3997, 32.3997, 32.3997]),\n",
       " 'eta1': array([-1.21769, -1.05139, -1.05139, ..., -1.57044, -1.57044, -1.57044]),\n",
       " 'phi1': array([ 2.74126  , -0.440873 , -0.440873 , ...,  0.0370275,  0.0370275,\n",
       "         0.0370275]),\n",
       " 'Q1': array([ 1, -1, -1, ...,  1,  1,  1], dtype=int32),\n",
       " 'E2': array([ 60.62187459,  82.20186639,  81.58277833, ..., 168.78012134,\n",
       "        170.58313243, 170.58313243]),\n",
       " 'px2': array([ 34.14443725, -41.19528764, -40.88332344, ..., -68.04191497,\n",
       "        -68.79413604, -68.79413604]),\n",
       " 'py2': array([-16.11952457,  17.4332439 ,  17.29929704, ..., -26.10584737,\n",
       "        -26.39840043, -26.39840043]),\n",
       " 'pz2': array([ -47.42698439,  -68.96496181,  -68.44725519, ..., -152.2350181 ,\n",
       "        -153.84760383, -153.84760383]),\n",
       " 'pt2': array([38.8311, 44.7322, 44.7322, ..., 72.8781, 72.8781, 72.8781]),\n",
       " 'eta2': array([-1.05139, -1.21769, -1.21769, ..., -1.4827 , -1.4827 , -1.4827 ]),\n",
       " 'phi2': array([-0.440873,  2.74126 ,  2.74126 , ..., -2.77524 , -2.77524 ,\n",
       "        -2.77524 ]),\n",
       " 'Q2': array([-1,  1,  1, ..., -1, -1, -1], dtype=int32),\n",
       " 'M': array([82.46269156, 83.62620401, 83.30846467, ..., 95.96547966,\n",
       "        96.49594381, 96.65672765])}"
      ]
     },
     "execution_count": 49,
     "metadata": {},
     "output_type": "execute_result"
    }
   ],
   "source": [
    "zmumu.arrays(library=\"np\")"
   ]
  },
  {
   "cell_type": "markdown",
   "id": "fb3553d4-012c-43e4-bfb8-52deabbfdf2f",
   "metadata": {},
   "source": [
    "A \"group\" of Pandas Series is a DataFrame:"
   ]
  },
  {
   "cell_type": "code",
   "execution_count": 50,
   "id": "c482b7a0-0de4-48b5-9e29-7a3667020df8",
   "metadata": {},
   "outputs": [
    {
     "data": {
      "text/html": [
       "<div>\n",
       "<style scoped>\n",
       "    .dataframe tbody tr th:only-of-type {\n",
       "        vertical-align: middle;\n",
       "    }\n",
       "\n",
       "    .dataframe tbody tr th {\n",
       "        vertical-align: top;\n",
       "    }\n",
       "\n",
       "    .dataframe thead th {\n",
       "        text-align: right;\n",
       "    }\n",
       "</style>\n",
       "<table border=\"1\" class=\"dataframe\">\n",
       "  <thead>\n",
       "    <tr style=\"text-align: right;\">\n",
       "      <th></th>\n",
       "      <th>Type</th>\n",
       "      <th>Run</th>\n",
       "      <th>Event</th>\n",
       "      <th>E1</th>\n",
       "      <th>px1</th>\n",
       "      <th>py1</th>\n",
       "      <th>pz1</th>\n",
       "      <th>pt1</th>\n",
       "      <th>eta1</th>\n",
       "      <th>phi1</th>\n",
       "      <th>Q1</th>\n",
       "      <th>E2</th>\n",
       "      <th>px2</th>\n",
       "      <th>py2</th>\n",
       "      <th>pz2</th>\n",
       "      <th>pt2</th>\n",
       "      <th>eta2</th>\n",
       "      <th>phi2</th>\n",
       "      <th>Q2</th>\n",
       "      <th>M</th>\n",
       "    </tr>\n",
       "  </thead>\n",
       "  <tbody>\n",
       "    <tr>\n",
       "      <th>0</th>\n",
       "      <td>GT</td>\n",
       "      <td>148031</td>\n",
       "      <td>10507008</td>\n",
       "      <td>82.201866</td>\n",
       "      <td>-41.195288</td>\n",
       "      <td>17.433244</td>\n",
       "      <td>-68.964962</td>\n",
       "      <td>44.7322</td>\n",
       "      <td>-1.217690</td>\n",
       "      <td>2.741260</td>\n",
       "      <td>1</td>\n",
       "      <td>60.621875</td>\n",
       "      <td>34.144437</td>\n",
       "      <td>-16.119525</td>\n",
       "      <td>-47.426984</td>\n",
       "      <td>38.8311</td>\n",
       "      <td>-1.051390</td>\n",
       "      <td>-0.440873</td>\n",
       "      <td>-1</td>\n",
       "      <td>82.462692</td>\n",
       "    </tr>\n",
       "    <tr>\n",
       "      <th>1</th>\n",
       "      <td>TT</td>\n",
       "      <td>148031</td>\n",
       "      <td>10507008</td>\n",
       "      <td>62.344929</td>\n",
       "      <td>35.118050</td>\n",
       "      <td>-16.570362</td>\n",
       "      <td>-48.775247</td>\n",
       "      <td>38.8311</td>\n",
       "      <td>-1.051390</td>\n",
       "      <td>-0.440873</td>\n",
       "      <td>-1</td>\n",
       "      <td>82.201866</td>\n",
       "      <td>-41.195288</td>\n",
       "      <td>17.433244</td>\n",
       "      <td>-68.964962</td>\n",
       "      <td>44.7322</td>\n",
       "      <td>-1.217690</td>\n",
       "      <td>2.741260</td>\n",
       "      <td>1</td>\n",
       "      <td>83.626204</td>\n",
       "    </tr>\n",
       "    <tr>\n",
       "      <th>2</th>\n",
       "      <td>GT</td>\n",
       "      <td>148031</td>\n",
       "      <td>10507008</td>\n",
       "      <td>62.344929</td>\n",
       "      <td>35.118050</td>\n",
       "      <td>-16.570362</td>\n",
       "      <td>-48.775247</td>\n",
       "      <td>38.8311</td>\n",
       "      <td>-1.051390</td>\n",
       "      <td>-0.440873</td>\n",
       "      <td>-1</td>\n",
       "      <td>81.582778</td>\n",
       "      <td>-40.883323</td>\n",
       "      <td>17.299297</td>\n",
       "      <td>-68.447255</td>\n",
       "      <td>44.7322</td>\n",
       "      <td>-1.217690</td>\n",
       "      <td>2.741260</td>\n",
       "      <td>1</td>\n",
       "      <td>83.308465</td>\n",
       "    </tr>\n",
       "    <tr>\n",
       "      <th>3</th>\n",
       "      <td>GG</td>\n",
       "      <td>148031</td>\n",
       "      <td>10507008</td>\n",
       "      <td>60.621875</td>\n",
       "      <td>34.144437</td>\n",
       "      <td>-16.119525</td>\n",
       "      <td>-47.426984</td>\n",
       "      <td>38.8311</td>\n",
       "      <td>-1.051390</td>\n",
       "      <td>-0.440873</td>\n",
       "      <td>-1</td>\n",
       "      <td>81.582778</td>\n",
       "      <td>-40.883323</td>\n",
       "      <td>17.299297</td>\n",
       "      <td>-68.447255</td>\n",
       "      <td>44.7322</td>\n",
       "      <td>-1.217690</td>\n",
       "      <td>2.741260</td>\n",
       "      <td>1</td>\n",
       "      <td>82.149373</td>\n",
       "    </tr>\n",
       "    <tr>\n",
       "      <th>4</th>\n",
       "      <td>GT</td>\n",
       "      <td>148031</td>\n",
       "      <td>105238546</td>\n",
       "      <td>41.826389</td>\n",
       "      <td>22.783582</td>\n",
       "      <td>15.036444</td>\n",
       "      <td>-31.689894</td>\n",
       "      <td>27.2981</td>\n",
       "      <td>-0.990688</td>\n",
       "      <td>0.583351</td>\n",
       "      <td>1</td>\n",
       "      <td>49.760726</td>\n",
       "      <td>-20.177373</td>\n",
       "      <td>-9.354149</td>\n",
       "      <td>44.513955</td>\n",
       "      <td>21.8913</td>\n",
       "      <td>1.444340</td>\n",
       "      <td>-2.707650</td>\n",
       "      <td>-1</td>\n",
       "      <td>90.469123</td>\n",
       "    </tr>\n",
       "    <tr>\n",
       "      <th>...</th>\n",
       "      <td>...</td>\n",
       "      <td>...</td>\n",
       "      <td>...</td>\n",
       "      <td>...</td>\n",
       "      <td>...</td>\n",
       "      <td>...</td>\n",
       "      <td>...</td>\n",
       "      <td>...</td>\n",
       "      <td>...</td>\n",
       "      <td>...</td>\n",
       "      <td>...</td>\n",
       "      <td>...</td>\n",
       "      <td>...</td>\n",
       "      <td>...</td>\n",
       "      <td>...</td>\n",
       "      <td>...</td>\n",
       "      <td>...</td>\n",
       "      <td>...</td>\n",
       "      <td>...</td>\n",
       "      <td>...</td>\n",
       "    </tr>\n",
       "    <tr>\n",
       "      <th>2299</th>\n",
       "      <td>GG</td>\n",
       "      <td>148029</td>\n",
       "      <td>99768888</td>\n",
       "      <td>32.701650</td>\n",
       "      <td>19.054651</td>\n",
       "      <td>14.833954</td>\n",
       "      <td>22.051323</td>\n",
       "      <td>24.1264</td>\n",
       "      <td>0.818806</td>\n",
       "      <td>0.661492</td>\n",
       "      <td>1</td>\n",
       "      <td>27.714554</td>\n",
       "      <td>-16.874052</td>\n",
       "      <td>-15.319644</td>\n",
       "      <td>-15.768964</td>\n",
       "      <td>22.8145</td>\n",
       "      <td>-0.645971</td>\n",
       "      <td>-2.404430</td>\n",
       "      <td>-1</td>\n",
       "      <td>60.047138</td>\n",
       "    </tr>\n",
       "    <tr>\n",
       "      <th>2300</th>\n",
       "      <td>GT</td>\n",
       "      <td>148029</td>\n",
       "      <td>99991333</td>\n",
       "      <td>168.780121</td>\n",
       "      <td>-68.041915</td>\n",
       "      <td>-26.105847</td>\n",
       "      <td>-152.235018</td>\n",
       "      <td>72.8781</td>\n",
       "      <td>-1.482700</td>\n",
       "      <td>-2.775240</td>\n",
       "      <td>-1</td>\n",
       "      <td>81.566217</td>\n",
       "      <td>32.485394</td>\n",
       "      <td>1.201350</td>\n",
       "      <td>-74.808372</td>\n",
       "      <td>32.3997</td>\n",
       "      <td>-1.570440</td>\n",
       "      <td>0.037027</td>\n",
       "      <td>1</td>\n",
       "      <td>96.125376</td>\n",
       "    </tr>\n",
       "    <tr>\n",
       "      <th>2301</th>\n",
       "      <td>TT</td>\n",
       "      <td>148029</td>\n",
       "      <td>99991333</td>\n",
       "      <td>81.270136</td>\n",
       "      <td>32.377492</td>\n",
       "      <td>1.199406</td>\n",
       "      <td>-74.532431</td>\n",
       "      <td>32.3997</td>\n",
       "      <td>-1.570440</td>\n",
       "      <td>0.037027</td>\n",
       "      <td>1</td>\n",
       "      <td>168.780121</td>\n",
       "      <td>-68.041915</td>\n",
       "      <td>-26.105847</td>\n",
       "      <td>-152.235018</td>\n",
       "      <td>72.8781</td>\n",
       "      <td>-1.482700</td>\n",
       "      <td>-2.775240</td>\n",
       "      <td>-1</td>\n",
       "      <td>95.965480</td>\n",
       "    </tr>\n",
       "    <tr>\n",
       "      <th>2302</th>\n",
       "      <td>GT</td>\n",
       "      <td>148029</td>\n",
       "      <td>99991333</td>\n",
       "      <td>81.270136</td>\n",
       "      <td>32.377492</td>\n",
       "      <td>1.199406</td>\n",
       "      <td>-74.532431</td>\n",
       "      <td>32.3997</td>\n",
       "      <td>-1.570440</td>\n",
       "      <td>0.037027</td>\n",
       "      <td>1</td>\n",
       "      <td>170.583132</td>\n",
       "      <td>-68.794136</td>\n",
       "      <td>-26.398400</td>\n",
       "      <td>-153.847604</td>\n",
       "      <td>72.8781</td>\n",
       "      <td>-1.482700</td>\n",
       "      <td>-2.775240</td>\n",
       "      <td>-1</td>\n",
       "      <td>96.495944</td>\n",
       "    </tr>\n",
       "    <tr>\n",
       "      <th>2303</th>\n",
       "      <td>GG</td>\n",
       "      <td>148029</td>\n",
       "      <td>99991333</td>\n",
       "      <td>81.566217</td>\n",
       "      <td>32.485394</td>\n",
       "      <td>1.201350</td>\n",
       "      <td>-74.808372</td>\n",
       "      <td>32.3997</td>\n",
       "      <td>-1.570440</td>\n",
       "      <td>0.037027</td>\n",
       "      <td>1</td>\n",
       "      <td>170.583132</td>\n",
       "      <td>-68.794136</td>\n",
       "      <td>-26.398400</td>\n",
       "      <td>-153.847604</td>\n",
       "      <td>72.8781</td>\n",
       "      <td>-1.482700</td>\n",
       "      <td>-2.775240</td>\n",
       "      <td>-1</td>\n",
       "      <td>96.656728</td>\n",
       "    </tr>\n",
       "  </tbody>\n",
       "</table>\n",
       "<p>2304 rows × 20 columns</p>\n",
       "</div>"
      ],
      "text/plain": [
       "     Type     Run      Event          E1        px1        py1         pz1  \\\n",
       "0      GT  148031   10507008   82.201866 -41.195288  17.433244  -68.964962   \n",
       "1      TT  148031   10507008   62.344929  35.118050 -16.570362  -48.775247   \n",
       "2      GT  148031   10507008   62.344929  35.118050 -16.570362  -48.775247   \n",
       "3      GG  148031   10507008   60.621875  34.144437 -16.119525  -47.426984   \n",
       "4      GT  148031  105238546   41.826389  22.783582  15.036444  -31.689894   \n",
       "...   ...     ...        ...         ...        ...        ...         ...   \n",
       "2299   GG  148029   99768888   32.701650  19.054651  14.833954   22.051323   \n",
       "2300   GT  148029   99991333  168.780121 -68.041915 -26.105847 -152.235018   \n",
       "2301   TT  148029   99991333   81.270136  32.377492   1.199406  -74.532431   \n",
       "2302   GT  148029   99991333   81.270136  32.377492   1.199406  -74.532431   \n",
       "2303   GG  148029   99991333   81.566217  32.485394   1.201350  -74.808372   \n",
       "\n",
       "          pt1      eta1      phi1  Q1          E2        px2        py2  \\\n",
       "0     44.7322 -1.217690  2.741260   1   60.621875  34.144437 -16.119525   \n",
       "1     38.8311 -1.051390 -0.440873  -1   82.201866 -41.195288  17.433244   \n",
       "2     38.8311 -1.051390 -0.440873  -1   81.582778 -40.883323  17.299297   \n",
       "3     38.8311 -1.051390 -0.440873  -1   81.582778 -40.883323  17.299297   \n",
       "4     27.2981 -0.990688  0.583351   1   49.760726 -20.177373  -9.354149   \n",
       "...       ...       ...       ...  ..         ...        ...        ...   \n",
       "2299  24.1264  0.818806  0.661492   1   27.714554 -16.874052 -15.319644   \n",
       "2300  72.8781 -1.482700 -2.775240  -1   81.566217  32.485394   1.201350   \n",
       "2301  32.3997 -1.570440  0.037027   1  168.780121 -68.041915 -26.105847   \n",
       "2302  32.3997 -1.570440  0.037027   1  170.583132 -68.794136 -26.398400   \n",
       "2303  32.3997 -1.570440  0.037027   1  170.583132 -68.794136 -26.398400   \n",
       "\n",
       "             pz2      pt2      eta2      phi2  Q2          M  \n",
       "0     -47.426984  38.8311 -1.051390 -0.440873  -1  82.462692  \n",
       "1     -68.964962  44.7322 -1.217690  2.741260   1  83.626204  \n",
       "2     -68.447255  44.7322 -1.217690  2.741260   1  83.308465  \n",
       "3     -68.447255  44.7322 -1.217690  2.741260   1  82.149373  \n",
       "4      44.513955  21.8913  1.444340 -2.707650  -1  90.469123  \n",
       "...          ...      ...       ...       ...  ..        ...  \n",
       "2299  -15.768964  22.8145 -0.645971 -2.404430  -1  60.047138  \n",
       "2300  -74.808372  32.3997 -1.570440  0.037027   1  96.125376  \n",
       "2301 -152.235018  72.8781 -1.482700 -2.775240  -1  95.965480  \n",
       "2302 -153.847604  72.8781 -1.482700 -2.775240  -1  96.495944  \n",
       "2303 -153.847604  72.8781 -1.482700 -2.775240  -1  96.656728  \n",
       "\n",
       "[2304 rows x 20 columns]"
      ]
     },
     "execution_count": 50,
     "metadata": {},
     "output_type": "execute_result"
    }
   ],
   "source": [
    "zmumu.arrays(library=\"pd\")"
   ]
  },
  {
   "cell_type": "markdown",
   "id": "ce281f06-ecd1-4a34-bf20-e22923af42f4",
   "metadata": {},
   "source": [
    "The first argument can be used to extract TBranches by name:"
   ]
  },
  {
   "cell_type": "code",
   "execution_count": 51,
   "id": "b7e404bb-2b24-4981-9935-9af2d7c2fc5d",
   "metadata": {},
   "outputs": [
    {
     "data": {
      "text/html": [
       "<div>\n",
       "<style scoped>\n",
       "    .dataframe tbody tr th:only-of-type {\n",
       "        vertical-align: middle;\n",
       "    }\n",
       "\n",
       "    .dataframe tbody tr th {\n",
       "        vertical-align: top;\n",
       "    }\n",
       "\n",
       "    .dataframe thead th {\n",
       "        text-align: right;\n",
       "    }\n",
       "</style>\n",
       "<table border=\"1\" class=\"dataframe\">\n",
       "  <thead>\n",
       "    <tr style=\"text-align: right;\">\n",
       "      <th></th>\n",
       "      <th>px1</th>\n",
       "      <th>py1</th>\n",
       "      <th>px2</th>\n",
       "      <th>py2</th>\n",
       "    </tr>\n",
       "  </thead>\n",
       "  <tbody>\n",
       "    <tr>\n",
       "      <th>0</th>\n",
       "      <td>-41.195288</td>\n",
       "      <td>17.433244</td>\n",
       "      <td>34.144437</td>\n",
       "      <td>-16.119525</td>\n",
       "    </tr>\n",
       "    <tr>\n",
       "      <th>1</th>\n",
       "      <td>35.118050</td>\n",
       "      <td>-16.570362</td>\n",
       "      <td>-41.195288</td>\n",
       "      <td>17.433244</td>\n",
       "    </tr>\n",
       "    <tr>\n",
       "      <th>2</th>\n",
       "      <td>35.118050</td>\n",
       "      <td>-16.570362</td>\n",
       "      <td>-40.883323</td>\n",
       "      <td>17.299297</td>\n",
       "    </tr>\n",
       "    <tr>\n",
       "      <th>3</th>\n",
       "      <td>34.144437</td>\n",
       "      <td>-16.119525</td>\n",
       "      <td>-40.883323</td>\n",
       "      <td>17.299297</td>\n",
       "    </tr>\n",
       "    <tr>\n",
       "      <th>4</th>\n",
       "      <td>22.783582</td>\n",
       "      <td>15.036444</td>\n",
       "      <td>-20.177373</td>\n",
       "      <td>-9.354149</td>\n",
       "    </tr>\n",
       "    <tr>\n",
       "      <th>...</th>\n",
       "      <td>...</td>\n",
       "      <td>...</td>\n",
       "      <td>...</td>\n",
       "      <td>...</td>\n",
       "    </tr>\n",
       "    <tr>\n",
       "      <th>2299</th>\n",
       "      <td>19.054651</td>\n",
       "      <td>14.833954</td>\n",
       "      <td>-16.874052</td>\n",
       "      <td>-15.319644</td>\n",
       "    </tr>\n",
       "    <tr>\n",
       "      <th>2300</th>\n",
       "      <td>-68.041915</td>\n",
       "      <td>-26.105847</td>\n",
       "      <td>32.485394</td>\n",
       "      <td>1.201350</td>\n",
       "    </tr>\n",
       "    <tr>\n",
       "      <th>2301</th>\n",
       "      <td>32.377492</td>\n",
       "      <td>1.199406</td>\n",
       "      <td>-68.041915</td>\n",
       "      <td>-26.105847</td>\n",
       "    </tr>\n",
       "    <tr>\n",
       "      <th>2302</th>\n",
       "      <td>32.377492</td>\n",
       "      <td>1.199406</td>\n",
       "      <td>-68.794136</td>\n",
       "      <td>-26.398400</td>\n",
       "    </tr>\n",
       "    <tr>\n",
       "      <th>2303</th>\n",
       "      <td>32.485394</td>\n",
       "      <td>1.201350</td>\n",
       "      <td>-68.794136</td>\n",
       "      <td>-26.398400</td>\n",
       "    </tr>\n",
       "  </tbody>\n",
       "</table>\n",
       "<p>2304 rows × 4 columns</p>\n",
       "</div>"
      ],
      "text/plain": [
       "            px1        py1        px2        py2\n",
       "0    -41.195288  17.433244  34.144437 -16.119525\n",
       "1     35.118050 -16.570362 -41.195288  17.433244\n",
       "2     35.118050 -16.570362 -40.883323  17.299297\n",
       "3     34.144437 -16.119525 -40.883323  17.299297\n",
       "4     22.783582  15.036444 -20.177373  -9.354149\n",
       "...         ...        ...        ...        ...\n",
       "2299  19.054651  14.833954 -16.874052 -15.319644\n",
       "2300 -68.041915 -26.105847  32.485394   1.201350\n",
       "2301  32.377492   1.199406 -68.041915 -26.105847\n",
       "2302  32.377492   1.199406 -68.794136 -26.398400\n",
       "2303  32.485394   1.201350 -68.794136 -26.398400\n",
       "\n",
       "[2304 rows x 4 columns]"
      ]
     },
     "execution_count": 51,
     "metadata": {},
     "output_type": "execute_result"
    }
   ],
   "source": [
    "zmumu.arrays([\"px1\", \"py1\", \"px2\", \"py2\"], library=\"pd\")"
   ]
  },
  {
   "cell_type": "markdown",
   "id": "1f9fa768-c6a2-46e0-b942-dc07f1434e23",
   "metadata": {},
   "source": [
    "But this argument actually takes arbitrary (Python) expressions."
   ]
  },
  {
   "cell_type": "code",
   "execution_count": 52,
   "id": "2cb82ff5-8321-4419-8045-0e4dd373818c",
   "metadata": {},
   "outputs": [
    {
     "data": {
      "text/html": [
       "<div>\n",
       "<style scoped>\n",
       "    .dataframe tbody tr th:only-of-type {\n",
       "        vertical-align: middle;\n",
       "    }\n",
       "\n",
       "    .dataframe tbody tr th {\n",
       "        vertical-align: top;\n",
       "    }\n",
       "\n",
       "    .dataframe thead th {\n",
       "        text-align: right;\n",
       "    }\n",
       "</style>\n",
       "<table border=\"1\" class=\"dataframe\">\n",
       "  <thead>\n",
       "    <tr style=\"text-align: right;\">\n",
       "      <th></th>\n",
       "      <th>sqrt(px1**2 + py1**2)</th>\n",
       "      <th>sqrt(px2**2 + py2**2)</th>\n",
       "    </tr>\n",
       "  </thead>\n",
       "  <tbody>\n",
       "    <tr>\n",
       "      <th>0</th>\n",
       "      <td>44.7322</td>\n",
       "      <td>37.7582</td>\n",
       "    </tr>\n",
       "    <tr>\n",
       "      <th>1</th>\n",
       "      <td>38.8311</td>\n",
       "      <td>44.7322</td>\n",
       "    </tr>\n",
       "    <tr>\n",
       "      <th>2</th>\n",
       "      <td>38.8311</td>\n",
       "      <td>44.3927</td>\n",
       "    </tr>\n",
       "    <tr>\n",
       "      <th>3</th>\n",
       "      <td>37.7582</td>\n",
       "      <td>44.3927</td>\n",
       "    </tr>\n",
       "    <tr>\n",
       "      <th>4</th>\n",
       "      <td>27.2981</td>\n",
       "      <td>22.2402</td>\n",
       "    </tr>\n",
       "    <tr>\n",
       "      <th>...</th>\n",
       "      <td>...</td>\n",
       "      <td>...</td>\n",
       "    </tr>\n",
       "    <tr>\n",
       "      <th>2299</th>\n",
       "      <td>24.1480</td>\n",
       "      <td>22.7909</td>\n",
       "    </tr>\n",
       "    <tr>\n",
       "      <th>2300</th>\n",
       "      <td>72.8781</td>\n",
       "      <td>32.5076</td>\n",
       "    </tr>\n",
       "    <tr>\n",
       "      <th>2301</th>\n",
       "      <td>32.3997</td>\n",
       "      <td>72.8781</td>\n",
       "    </tr>\n",
       "    <tr>\n",
       "      <th>2302</th>\n",
       "      <td>32.3997</td>\n",
       "      <td>73.6852</td>\n",
       "    </tr>\n",
       "    <tr>\n",
       "      <th>2303</th>\n",
       "      <td>32.5076</td>\n",
       "      <td>73.6852</td>\n",
       "    </tr>\n",
       "  </tbody>\n",
       "</table>\n",
       "<p>2304 rows × 2 columns</p>\n",
       "</div>"
      ],
      "text/plain": [
       "      sqrt(px1**2 + py1**2)  sqrt(px2**2 + py2**2)\n",
       "0                   44.7322                37.7582\n",
       "1                   38.8311                44.7322\n",
       "2                   38.8311                44.3927\n",
       "3                   37.7582                44.3927\n",
       "4                   27.2981                22.2402\n",
       "...                     ...                    ...\n",
       "2299                24.1480                22.7909\n",
       "2300                72.8781                32.5076\n",
       "2301                32.3997                72.8781\n",
       "2302                32.3997                73.6852\n",
       "2303                32.5076                73.6852\n",
       "\n",
       "[2304 rows x 2 columns]"
      ]
     },
     "execution_count": 52,
     "metadata": {},
     "output_type": "execute_result"
    }
   ],
   "source": [
    "zmumu.arrays([\"sqrt(px1**2 + py1**2)\", \"sqrt(px2**2 + py2**2)\"], library=\"pd\")"
   ]
  },
  {
   "cell_type": "markdown",
   "id": "1a0a7926-e289-4c3e-b930-653513745411",
   "metadata": {},
   "source": [
    "This is to support any [aliases](https://uproot.readthedocs.io/en/latest/uproot.behaviors.TTree.TTree.html#aliases) that might be in the [TTree](https://uproot.readthedocs.io/en/latest/uproot.behaviors.TTree.TTree.html), but you can make up your own `aliases` on the spot."
   ]
  },
  {
   "cell_type": "code",
   "execution_count": 53,
   "id": "db41b97d-4e2c-4c06-9466-6002a4dec852",
   "metadata": {},
   "outputs": [
    {
     "data": {
      "text/html": [
       "<div>\n",
       "<style scoped>\n",
       "    .dataframe tbody tr th:only-of-type {\n",
       "        vertical-align: middle;\n",
       "    }\n",
       "\n",
       "    .dataframe tbody tr th {\n",
       "        vertical-align: top;\n",
       "    }\n",
       "\n",
       "    .dataframe thead th {\n",
       "        text-align: right;\n",
       "    }\n",
       "</style>\n",
       "<table border=\"1\" class=\"dataframe\">\n",
       "  <thead>\n",
       "    <tr style=\"text-align: right;\">\n",
       "      <th></th>\n",
       "      <th>pt1</th>\n",
       "      <th>pt2</th>\n",
       "    </tr>\n",
       "  </thead>\n",
       "  <tbody>\n",
       "    <tr>\n",
       "      <th>0</th>\n",
       "      <td>44.7322</td>\n",
       "      <td>38.8311</td>\n",
       "    </tr>\n",
       "    <tr>\n",
       "      <th>1</th>\n",
       "      <td>38.8311</td>\n",
       "      <td>44.7322</td>\n",
       "    </tr>\n",
       "    <tr>\n",
       "      <th>2</th>\n",
       "      <td>38.8311</td>\n",
       "      <td>44.7322</td>\n",
       "    </tr>\n",
       "    <tr>\n",
       "      <th>3</th>\n",
       "      <td>38.8311</td>\n",
       "      <td>44.7322</td>\n",
       "    </tr>\n",
       "    <tr>\n",
       "      <th>4</th>\n",
       "      <td>27.2981</td>\n",
       "      <td>21.8913</td>\n",
       "    </tr>\n",
       "    <tr>\n",
       "      <th>...</th>\n",
       "      <td>...</td>\n",
       "      <td>...</td>\n",
       "    </tr>\n",
       "    <tr>\n",
       "      <th>2299</th>\n",
       "      <td>24.1264</td>\n",
       "      <td>22.8145</td>\n",
       "    </tr>\n",
       "    <tr>\n",
       "      <th>2300</th>\n",
       "      <td>72.8781</td>\n",
       "      <td>32.3997</td>\n",
       "    </tr>\n",
       "    <tr>\n",
       "      <th>2301</th>\n",
       "      <td>32.3997</td>\n",
       "      <td>72.8781</td>\n",
       "    </tr>\n",
       "    <tr>\n",
       "      <th>2302</th>\n",
       "      <td>32.3997</td>\n",
       "      <td>72.8781</td>\n",
       "    </tr>\n",
       "    <tr>\n",
       "      <th>2303</th>\n",
       "      <td>32.3997</td>\n",
       "      <td>72.8781</td>\n",
       "    </tr>\n",
       "  </tbody>\n",
       "</table>\n",
       "<p>2304 rows × 2 columns</p>\n",
       "</div>"
      ],
      "text/plain": [
       "          pt1      pt2\n",
       "0     44.7322  38.8311\n",
       "1     38.8311  44.7322\n",
       "2     38.8311  44.7322\n",
       "3     38.8311  44.7322\n",
       "4     27.2981  21.8913\n",
       "...       ...      ...\n",
       "2299  24.1264  22.8145\n",
       "2300  72.8781  32.3997\n",
       "2301  32.3997  72.8781\n",
       "2302  32.3997  72.8781\n",
       "2303  32.3997  72.8781\n",
       "\n",
       "[2304 rows x 2 columns]"
      ]
     },
     "execution_count": 53,
     "metadata": {},
     "output_type": "execute_result"
    }
   ],
   "source": [
    "zmumu.arrays(\n",
    "    [\"pt1\", \"pt2\"],\n",
    "    {\"pt1\": \"sqrt(px1**2 + py1**2)\", \"pt2\": \"sqrt(px2**2 + py2**2)\"},\n",
    "    library=\"pd\",\n",
    ")"
   ]
  },
  {
   "cell_type": "markdown",
   "id": "d7991201-316c-42ea-a8ca-a2f402b35cf4",
   "metadata": {},
   "source": [
    "The fact that these are interpreted as expressions has some \"gotchas\":\n",
    "\n",
    "   * nested branches, paths with \"`/`\", _would be interpreted as division!_\n",
    "   * wildcards, paths with \"`*`\", _would be interpreted as multiplication!_\n",
    "\n",
    "For pattern-matching on TBranches, use the `filter_name`, `filter_typename`, and `filter_branch` arguments of [arrays](https://uproot.readthedocs.io/en/latest/uproot.behaviors.TBranch.HasBranches.html#arrays)."
   ]
  },
  {
   "cell_type": "code",
   "execution_count": 54,
   "id": "d7b358b3-e145-4f2d-b2af-469dc99fcaf4",
   "metadata": {},
   "outputs": [
    {
     "data": {
      "text/html": [
       "<div>\n",
       "<style scoped>\n",
       "    .dataframe tbody tr th:only-of-type {\n",
       "        vertical-align: middle;\n",
       "    }\n",
       "\n",
       "    .dataframe tbody tr th {\n",
       "        vertical-align: top;\n",
       "    }\n",
       "\n",
       "    .dataframe thead th {\n",
       "        text-align: right;\n",
       "    }\n",
       "</style>\n",
       "<table border=\"1\" class=\"dataframe\">\n",
       "  <thead>\n",
       "    <tr style=\"text-align: right;\">\n",
       "      <th></th>\n",
       "      <th>px1</th>\n",
       "      <th>py1</th>\n",
       "      <th>pz1</th>\n",
       "      <th>px2</th>\n",
       "      <th>py2</th>\n",
       "      <th>pz2</th>\n",
       "    </tr>\n",
       "  </thead>\n",
       "  <tbody>\n",
       "    <tr>\n",
       "      <th>0</th>\n",
       "      <td>-41.195288</td>\n",
       "      <td>17.433244</td>\n",
       "      <td>-68.964962</td>\n",
       "      <td>34.144437</td>\n",
       "      <td>-16.119525</td>\n",
       "      <td>-47.426984</td>\n",
       "    </tr>\n",
       "    <tr>\n",
       "      <th>1</th>\n",
       "      <td>35.118050</td>\n",
       "      <td>-16.570362</td>\n",
       "      <td>-48.775247</td>\n",
       "      <td>-41.195288</td>\n",
       "      <td>17.433244</td>\n",
       "      <td>-68.964962</td>\n",
       "    </tr>\n",
       "    <tr>\n",
       "      <th>2</th>\n",
       "      <td>35.118050</td>\n",
       "      <td>-16.570362</td>\n",
       "      <td>-48.775247</td>\n",
       "      <td>-40.883323</td>\n",
       "      <td>17.299297</td>\n",
       "      <td>-68.447255</td>\n",
       "    </tr>\n",
       "    <tr>\n",
       "      <th>3</th>\n",
       "      <td>34.144437</td>\n",
       "      <td>-16.119525</td>\n",
       "      <td>-47.426984</td>\n",
       "      <td>-40.883323</td>\n",
       "      <td>17.299297</td>\n",
       "      <td>-68.447255</td>\n",
       "    </tr>\n",
       "    <tr>\n",
       "      <th>4</th>\n",
       "      <td>22.783582</td>\n",
       "      <td>15.036444</td>\n",
       "      <td>-31.689894</td>\n",
       "      <td>-20.177373</td>\n",
       "      <td>-9.354149</td>\n",
       "      <td>44.513955</td>\n",
       "    </tr>\n",
       "    <tr>\n",
       "      <th>...</th>\n",
       "      <td>...</td>\n",
       "      <td>...</td>\n",
       "      <td>...</td>\n",
       "      <td>...</td>\n",
       "      <td>...</td>\n",
       "      <td>...</td>\n",
       "    </tr>\n",
       "    <tr>\n",
       "      <th>2299</th>\n",
       "      <td>19.054651</td>\n",
       "      <td>14.833954</td>\n",
       "      <td>22.051323</td>\n",
       "      <td>-16.874052</td>\n",
       "      <td>-15.319644</td>\n",
       "      <td>-15.768964</td>\n",
       "    </tr>\n",
       "    <tr>\n",
       "      <th>2300</th>\n",
       "      <td>-68.041915</td>\n",
       "      <td>-26.105847</td>\n",
       "      <td>-152.235018</td>\n",
       "      <td>32.485394</td>\n",
       "      <td>1.201350</td>\n",
       "      <td>-74.808372</td>\n",
       "    </tr>\n",
       "    <tr>\n",
       "      <th>2301</th>\n",
       "      <td>32.377492</td>\n",
       "      <td>1.199406</td>\n",
       "      <td>-74.532431</td>\n",
       "      <td>-68.041915</td>\n",
       "      <td>-26.105847</td>\n",
       "      <td>-152.235018</td>\n",
       "    </tr>\n",
       "    <tr>\n",
       "      <th>2302</th>\n",
       "      <td>32.377492</td>\n",
       "      <td>1.199406</td>\n",
       "      <td>-74.532431</td>\n",
       "      <td>-68.794136</td>\n",
       "      <td>-26.398400</td>\n",
       "      <td>-153.847604</td>\n",
       "    </tr>\n",
       "    <tr>\n",
       "      <th>2303</th>\n",
       "      <td>32.485394</td>\n",
       "      <td>1.201350</td>\n",
       "      <td>-74.808372</td>\n",
       "      <td>-68.794136</td>\n",
       "      <td>-26.398400</td>\n",
       "      <td>-153.847604</td>\n",
       "    </tr>\n",
       "  </tbody>\n",
       "</table>\n",
       "<p>2304 rows × 6 columns</p>\n",
       "</div>"
      ],
      "text/plain": [
       "            px1        py1         pz1        px2        py2         pz2\n",
       "0    -41.195288  17.433244  -68.964962  34.144437 -16.119525  -47.426984\n",
       "1     35.118050 -16.570362  -48.775247 -41.195288  17.433244  -68.964962\n",
       "2     35.118050 -16.570362  -48.775247 -40.883323  17.299297  -68.447255\n",
       "3     34.144437 -16.119525  -47.426984 -40.883323  17.299297  -68.447255\n",
       "4     22.783582  15.036444  -31.689894 -20.177373  -9.354149   44.513955\n",
       "...         ...        ...         ...        ...        ...         ...\n",
       "2299  19.054651  14.833954   22.051323 -16.874052 -15.319644  -15.768964\n",
       "2300 -68.041915 -26.105847 -152.235018  32.485394   1.201350  -74.808372\n",
       "2301  32.377492   1.199406  -74.532431 -68.041915 -26.105847 -152.235018\n",
       "2302  32.377492   1.199406  -74.532431 -68.794136 -26.398400 -153.847604\n",
       "2303  32.485394   1.201350  -74.808372 -68.794136 -26.398400 -153.847604\n",
       "\n",
       "[2304 rows x 6 columns]"
      ]
     },
     "execution_count": 54,
     "metadata": {},
     "output_type": "execute_result"
    }
   ],
   "source": [
    "zmumu.arrays(filter_name=\"p[xyz]*\", library=\"pd\")"
   ]
  },
  {
   "cell_type": "markdown",
   "id": "fc07273c-d8ee-4623-86b5-79a8413353ec",
   "metadata": {},
   "source": [
    "These filters have the same meaning as in [keys](https://uproot.readthedocs.io/en/latest/uproot.behaviors.TBranch.HasBranches.html#keys) and [typenames](https://uproot.readthedocs.io/en/latest/uproot.behaviors.TBranch.HasBranches.html#typenames), so you can test your filters without reading data."
   ]
  },
  {
   "cell_type": "code",
   "execution_count": 55,
   "id": "f2f451f2-0820-4271-a4d4-46ce8ada0f47",
   "metadata": {},
   "outputs": [
    {
     "data": {
      "text/plain": [
       "['px1', 'py1', 'pz1', 'px2', 'py2', 'pz2']"
      ]
     },
     "execution_count": 55,
     "metadata": {},
     "output_type": "execute_result"
    }
   ],
   "source": [
    "zmumu.keys(filter_name=\"p[xyz]*\")"
   ]
  },
  {
   "cell_type": "code",
   "execution_count": 56,
   "id": "95c299dc-9b50-4547-9d17-c1b5151c1393",
   "metadata": {},
   "outputs": [
    {
     "data": {
      "text/plain": [
       "{'px1': 'double',\n",
       " 'py1': 'double',\n",
       " 'pz1': 'double',\n",
       " 'px2': 'double',\n",
       " 'py2': 'double',\n",
       " 'pz2': 'double'}"
      ]
     },
     "execution_count": 56,
     "metadata": {},
     "output_type": "execute_result"
    }
   ],
   "source": [
    "zmumu.typenames(filter_name=\"p[xyz]*\")"
   ]
  },
  {
   "cell_type": "markdown",
   "id": "da6e82bc-bc61-4382-8e0f-7131166545f4",
   "metadata": {},
   "source": [
    "<br><br><br>\n",
    "\n",
    "### Get arrays in manageable chunks\n",
    "\n",
    "The [iterate](https://uproot.readthedocs.io/en/latest/uproot.behaviors.TBranch.HasBranches.html#iterate) method is like [arrays](https://uproot.readthedocs.io/en/latest/uproot.behaviors.TBranch.HasBranches.html#arrays), but it can be used in a loop over chunks of the array.\n",
    "\n",
    "How large are the chunks? You should set that with `step_size`."
   ]
  },
  {
   "cell_type": "code",
   "execution_count": 57,
   "id": "e7d1a3e3-f486-484b-a9ea-70864367228a",
   "metadata": {},
   "outputs": [
    {
     "name": "stdout",
     "output_type": "stream",
     "text": [
      "<Array [{Type: 'GT', Run: 148031, ... M: 91.2}] type='300 * {\"Type\": string, \"Ru...'>\n",
      "<Array [{Type: 'GT', Run: 148031, ... M: 93.6}] type='300 * {\"Type\": string, \"Ru...'>\n",
      "<Array [{Type: 'GT', Run: 148031, ... M: 91.8}] type='300 * {\"Type\": string, \"Ru...'>\n",
      "<Array [{Type: 'TT', Run: 148031, ... M: 94.2}] type='300 * {\"Type\": string, \"Ru...'>\n",
      "<Array [{Type: 'TT', Run: 148031, ... M: 92.9}] type='300 * {\"Type\": string, \"Ru...'>\n",
      "<Array [{Type: 'GT', Run: 148031, ... M: 87.7}] type='300 * {\"Type\": string, \"Ru...'>\n",
      "<Array [{Type: 'TT', Run: 148029, ... M: 81.1}] type='300 * {\"Type\": string, \"Ru...'>\n",
      "<Array [{Type: 'TT', Run: 148029, ... M: 96.7}] type='204 * {\"Type\": string, \"Ru...'>\n"
     ]
    }
   ],
   "source": [
    "for arrays in zmumu.iterate(step_size=300):\n",
    "    print(repr(arrays))"
   ]
  },
  {
   "cell_type": "code",
   "execution_count": 58,
   "id": "0cf2e7a6-f49f-4b5c-ae1f-b69d80cdc1d7",
   "metadata": {},
   "outputs": [
    {
     "name": "stdout",
     "output_type": "stream",
     "text": [
      "<Array [{Type: 'GT', Run: 148031, ... M: 89.6}] type='667 * {\"Type\": string, \"Ru...'>\n",
      "<Array [{Type: 'TT', Run: 148031, ... M: 18.1}] type='667 * {\"Type\": string, \"Ru...'>\n",
      "<Array [{Type: 'GT', Run: 148031, ... M: 94.7}] type='667 * {\"Type\": string, \"Ru...'>\n",
      "<Array [{Type: 'GT', Run: 148029, ... M: 96.7}] type='303 * {\"Type\": string, \"Ru...'>\n"
     ]
    }
   ],
   "source": [
    "for arrays in zmumu.iterate(step_size=\"50 kB\"):   # 50 kB is very small! for illustrative purposes only!\n",
    "    print(repr(arrays))"
   ]
  },
  {
   "cell_type": "markdown",
   "id": "a6c0a371-8862-40f2-9e99-3e2630681f86",
   "metadata": {},
   "source": [
    "<br><br><br>\n",
    "\n",
    "### Collections of files (like TChain)\n",
    "\n",
    "Each of the single-TTree array-reading methods has a corresponding multi-file function.\n",
    "\n",
    "   * The equivalent of TTree [arrays](https://uproot.readthedocs.io/en/latest/uproot.behaviors.TTree.TTree.html#arrays) is [uproot.concatenate](https://uproot.readthedocs.io/en/latest/uproot.behaviors.TBranch.concatenate.html). _(Reads everything at once: use this as a convenience on datasets you know are small!)_\n",
    "   * The equivalent of TTree [iterate](https://uproot.readthedocs.io/en/latest/uproot.behaviors.TTree.TTree.html#iterate) is [uproot.iterate](https://uproot.readthedocs.io/en/latest/uproot.behaviors.TBranch.iterate.html). _(This is the most useful one.)_\n",
    "   * There's also an [uproot.lazy](https://uproot.readthedocs.io/en/latest/uproot.behaviors.TBranch.lazy.html) _(More on this below.)_\n",
    "\n",
    "Demo of scanning through a large (remote) file:"
   ]
  },
  {
   "cell_type": "code",
   "execution_count": 59,
   "id": "dc4d9b14-fc1b-4128-869b-a3ccfd58e03f",
   "metadata": {},
   "outputs": [],
   "source": [
    "import IPython\n",
    "import matplotlib.pyplot as plt\n",
    "import matplotlib.pylab"
   ]
  },
  {
   "cell_type": "code",
   "execution_count": 60,
   "id": "59daf877-4522-4eb3-aae3-d44d99bb1982",
   "metadata": {},
   "outputs": [
    {
     "data": {
      "image/png": "[encoded data removed]",
      "text/plain": [
       "<Figure size 432x288 with 1 Axes>"
      ]
     },
     "metadata": {
      "needs_background": "light"
     },
     "output_type": "display_data"
    }
   ],
   "source": [
    "h = hist.Hist.new.Reg(100, 0, 500, name=\"mass\").Double()\n",
    "\n",
    "for muons in uproot.iterate(\n",
    "    # filename(s)\n",
    "    [\"root://eospublic.cern.ch//eos/opendata/cms/derived-data/AOD2NanoAODOutreachTool/Run2012BC_DoubleMuParked_Muons.root:Events\"],\n",
    "\n",
    "    # expressions\n",
    "    [\"pt\", \"eta\", \"phi\", \"charge\"],\n",
    "    aliases={\"pt\": \"Muon_pt\", \"eta\": \"Muon_eta\", \"phi\": \"Muon_phi\", \"charge\": \"Muon_charge\"},    \n",
    "\n",
    "    # the all-important step_size!\n",
    "    step_size=\"1 MB\",\n",
    "):\n",
    "    # do everything you're going to do to this array\n",
    "    cut = (ak.num(muons.charge) >= 2) & (ak.sum(muons.charge[:, :2], axis=1) == 0)\n",
    "    mu1 = muons[cut, 0]\n",
    "    mu2 = muons[cut, 1]\n",
    "\n",
    "    # such as filling a histogram\n",
    "    h.fill(np.sqrt(2*mu1.pt*mu2.pt*(np.cosh(mu1.eta - mu2.eta) - np.cos(mu1.phi - mu2.phi))))\n",
    "\n",
    "    h.plot()\n",
    "    plt.yscale(\"log\")\n",
    "    IPython.display.display(matplotlib.pylab.gcf())\n",
    "    IPython.display.clear_output(wait=True)\n",
    "\n",
    "    if h.counts().sum() > 300000:\n",
    "        break"
   ]
  },
  {
   "cell_type": "markdown",
   "id": "5b8718ec-b4bd-44c5-b669-c251fa859315",
   "metadata": {},
   "source": [
    "<br><br><br><br><br>\n",
    "\n",
    "Lazy reading is like iterative reading, but it fetches the data only when needed."
   ]
  },
  {
   "cell_type": "code",
   "execution_count": 61,
   "id": "02204f0c-ca82-4ae9-b1a1-3bb3f10ddaf2",
   "metadata": {},
   "outputs": [
    {
     "data": {
      "text/plain": [
       "<Array [{nMuon: 2, Muon_pt: [10.8, ... -1, 1]}] type='61540413 * {\"nMuon\": uint3...'>"
      ]
     },
     "execution_count": 61,
     "metadata": {},
     "output_type": "execute_result"
    }
   ],
   "source": [
    "lazy = uproot.lazy(\n",
    "    # filename(s)\n",
    "    [\"root://eospublic.cern.ch//eos/opendata/cms/derived-data/AOD2NanoAODOutreachTool/Run2012BC_DoubleMuParked_Muons.root:Events\"],\n",
    "    # step_size is still important\n",
    "    step_size=\"1 MB\",\n",
    ")\n",
    "lazy"
   ]
  },
  {
   "cell_type": "code",
   "execution_count": 62,
   "id": "73727a59-ae09-4295-97d8-dd7c45b1a57a",
   "metadata": {},
   "outputs": [
    {
     "data": {
      "text/plain": [
       "<Array [[10.8, 15.7], [10.5, ... [27.7, 20]] type='61540413 * var * float32'>"
      ]
     },
     "execution_count": 62,
     "metadata": {},
     "output_type": "execute_result"
    }
   ],
   "source": [
    "lazy.Muon_pt"
   ]
  },
  {
   "cell_type": "code",
   "execution_count": 63,
   "id": "3d0feb4a-cd24-43f1-ab42-b76d1c4b585a",
   "metadata": {},
   "outputs": [
    {
     "data": {
      "text/plain": [
       "<Array [[1.07, -0.564], ... [-2.15, 0.291]] type='61540413 * var * float32'>"
      ]
     },
     "execution_count": 63,
     "metadata": {},
     "output_type": "execute_result"
    }
   ],
   "source": [
    "lazy.Muon_eta"
   ]
  },
  {
   "cell_type": "markdown",
   "id": "50d9d90a-347c-4d72-b2d5-6754e4fa0523",
   "metadata": {},
   "source": [
    "**Important:** this is not the most efficient way to iterate through a file when you _know_ which TBranches you want to read.\n",
    "\n",
    "It exists for interactive exploration."
   ]
  },
  {
   "cell_type": "markdown",
   "id": "74f5b9f9-2ee7-41b0-aeda-63db9a45347f",
   "metadata": {},
   "source": [
    "<br><br><br><br><br>\n",
    "\n",
    "## What if the data are not one-dimensional or rectilinear arrays?"
   ]
  },
  {
   "cell_type": "markdown",
   "id": "858929f4-b922-4b79-b0e2-0c890b7d0108",
   "metadata": {},
   "source": [
    "Consider this ROOT file (simulation used in the Higgs discovery, converted to NanoAOD)."
   ]
  },
  {
   "cell_type": "code",
   "execution_count": 64,
   "id": "6b59920c-aa73-4cdb-9136-d2d4db31fa5f",
   "metadata": {},
   "outputs": [],
   "source": [
    "events = uproot.open(\"data/HiggsZZ4mu.root:Events\")"
   ]
  },
  {
   "cell_type": "markdown",
   "id": "803ee7d9-a8fe-450e-ab09-375bf819b398",
   "metadata": {},
   "source": [
    "Some data, such as missing energy (MET), consist of a single value per collision event and can be represented by normal NumPy arrays."
   ]
  },
  {
   "cell_type": "code",
   "execution_count": 65,
   "id": "d10fad35-704b-4600-818e-e87a3ccf3f27",
   "metadata": {},
   "outputs": [
    {
     "data": {
      "text/plain": [
       "array([19.49629  , 20.397919 , 28.817572 ,  4.415469 ,  5.8566523,\n",
       "       19.178032 ,  5.859101 , 45.975037 , 26.793552 , 23.152561 ,\n",
       "        8.993562 , 11.69979  , 22.774422 , 56.671833 ,  9.606522 ,\n",
       "       13.729865 , 26.599598 , 21.974018 , 16.044271 ,  8.862462 ],\n",
       "      dtype=float32)"
      ]
     },
     "execution_count": 65,
     "metadata": {},
     "output_type": "execute_result"
    }
   ],
   "source": [
    "nonjagged = events[\"MET_pt\"].array(entry_stop=20, library=\"np\")\n",
    "nonjagged"
   ]
  },
  {
   "cell_type": "markdown",
   "id": "b1862589-aea9-4cb6-8fb2-e1ad0f24d4f0",
   "metadata": {},
   "source": [
    "Normal NumPy slicing rules apply."
   ]
  },
  {
   "cell_type": "code",
   "execution_count": 66,
   "id": "16c5b01a-11b1-405a-89e9-259982271cab",
   "metadata": {},
   "outputs": [
    {
     "data": {
      "text/plain": [
       "array([19.49629  , 20.397919 , 28.817572 ,  4.415469 ,  5.8566523],\n",
       "      dtype=float32)"
      ]
     },
     "execution_count": 66,
     "metadata": {},
     "output_type": "execute_result"
    }
   ],
   "source": [
    "nonjagged[:5]"
   ]
  },
  {
   "cell_type": "markdown",
   "id": "05ce9838-3980-4a97-ab57-4324bba07231",
   "metadata": {},
   "source": [
    "<br><br><br><br><br>\n",
    "\n",
    "Some data cannot. There's a different number of muons in each event, so we need variable-length nested lists to represent their transverse momenta ($p_T$)."
   ]
  },
  {
   "cell_type": "code",
   "execution_count": 67,
   "id": "440f27b4-5e69-426b-8ea7-8971bdf05eec",
   "metadata": {},
   "outputs": [
    {
     "data": {
      "text/plain": [
       "<Array [[], [18.6, 23.6], ... [13.6, 5.43]] type='20 * var * float32'>"
      ]
     },
     "execution_count": 67,
     "metadata": {},
     "output_type": "execute_result"
    }
   ],
   "source": [
    "jagged_awkward = events[\"Muon_pt\"].array(entry_stop=20)\n",
    "jagged_awkward"
   ]
  },
  {
   "cell_type": "code",
   "execution_count": 68,
   "id": "63f973de-01f6-4913-9c5e-2ff20d513a60",
   "metadata": {},
   "outputs": [
    {
     "data": {
      "text/plain": [
       "[[],\n",
       " [18.583789825439453, 23.630338668823242],\n",
       " [],\n",
       " [26.678863525390625, 21.356121063232422, 5.6486287117004395],\n",
       " [7.621268272399902],\n",
       " [6.581045150756836],\n",
       " [],\n",
       " [],\n",
       " [8.512704849243164],\n",
       " [8.245718955993652, 23.482236862182617],\n",
       " [40.31018829345703, 21.819368362426758],\n",
       " [41.209922790527344, 10.689908981323242, 43.4166145324707],\n",
       " [],\n",
       " [],\n",
       " [15.671303749084473, 82.08026123046875, 19.20456314086914, 8.81103515625],\n",
       " [28.460538864135742, 25.13064956665039],\n",
       " [42.40679931640625, 109.85435485839844],\n",
       " [102.75817108154297,\n",
       "  87.80870819091797,\n",
       "  13.76916790008545,\n",
       "  33.045799255371094,\n",
       "  27.982389450073242,\n",
       "  27.750789642333984],\n",
       " [9.967660903930664, 13.108595848083496],\n",
       " [13.59410285949707, 5.430370330810547]]"
      ]
     },
     "execution_count": 68,
     "metadata": {},
     "output_type": "execute_result"
    }
   ],
   "source": [
    "jagged_awkward.tolist()"
   ]
  },
  {
   "cell_type": "markdown",
   "id": "0e963d0a-523a-46e3-bac4-dbf2c151a0f9",
   "metadata": {},
   "source": [
    "It is _possible_ to read these data into NumPy, but with a considerable cost."
   ]
  },
  {
   "cell_type": "code",
   "execution_count": 69,
   "id": "e435a3f0-3a0a-4d60-9080-e8e6fe53a8cf",
   "metadata": {},
   "outputs": [
    {
     "data": {
      "text/plain": [
       "array([array([], dtype=float32),\n",
       "       array([18.58379 , 23.630339], dtype=float32),\n",
       "       array([], dtype=float32),\n",
       "       array([26.678864 , 21.356121 ,  5.6486287], dtype=float32),\n",
       "       array([7.6212683], dtype=float32),\n",
       "       array([6.581045], dtype=float32), array([], dtype=float32),\n",
       "       array([], dtype=float32), array([8.512705], dtype=float32),\n",
       "       array([ 8.245719, 23.482237], dtype=float32),\n",
       "       array([40.31019 , 21.819368], dtype=float32),\n",
       "       array([41.209923, 10.689909, 43.416615], dtype=float32),\n",
       "       array([], dtype=float32), array([], dtype=float32),\n",
       "       array([15.671304, 82.08026 , 19.204563,  8.811035], dtype=float32),\n",
       "       array([28.460539, 25.13065 ], dtype=float32),\n",
       "       array([ 42.4068  , 109.854355], dtype=float32),\n",
       "       array([102.75817 ,  87.80871 ,  13.769168,  33.0458  ,  27.98239 ,\n",
       "               27.75079 ], dtype=float32)                                ,\n",
       "       array([ 9.967661, 13.108596], dtype=float32),\n",
       "       array([13.594103 ,  5.4303703], dtype=float32)], dtype=object)"
      ]
     },
     "execution_count": 69,
     "metadata": {},
     "output_type": "execute_result"
    }
   ],
   "source": [
    "jagged_numpy = events[\"Muon_pt\"].array(entry_stop=20, library=\"np\")\n",
    "jagged_numpy"
   ]
  },
  {
   "cell_type": "markdown",
   "id": "a3853472-f5fa-469a-9130-ed54b2763464",
   "metadata": {},
   "source": [
    "This is an _array of NumPy arrays_ (because you can put Python objects in NumPy arrays—not recommended).\n",
    "\n",
    "You might want to consider the inner arrays to be a second dimension and use normal slicing rules:"
   ]
  },
  {
   "cell_type": "code",
   "execution_count": 70,
   "id": "f04f28e2-f987-489f-bbc8-071167ec88e6",
   "metadata": {},
   "outputs": [
    {
     "data": {
      "text/plain": [
       "<Array [[], [18.6], [], ... [9.97], [13.6]] type='20 * var * float32'>"
      ]
     },
     "execution_count": 70,
     "metadata": {},
     "output_type": "execute_result"
    }
   ],
   "source": [
    "jagged_awkward[:, :1]"
   ]
  },
  {
   "cell_type": "code",
   "execution_count": 71,
   "id": "daeac4b6-a189-4e2c-b809-3e7249c2b1c7",
   "metadata": {
    "tags": [
     "raises-exception"
    ]
   },
   "outputs": [
    {
     "ename": "IndexError",
     "evalue": "too many indices for array: array is 1-dimensional, but 2 were indexed",
     "output_type": "error",
     "traceback": [
      "\u001b[0;31m---------------------------------------------------------------------------\u001b[0m",
      "\u001b[0;31mIndexError\u001b[0m                                Traceback (most recent call last)",
      "\u001b[0;32m<ipython-input-71-ab67f922275e>\u001b[0m in \u001b[0;36m<module>\u001b[0;34m\u001b[0m\n\u001b[0;32m----> 1\u001b[0;31m \u001b[0mjagged_numpy\u001b[0m\u001b[0;34m[\u001b[0m\u001b[0;34m:\u001b[0m\u001b[0;34m,\u001b[0m \u001b[0;34m:\u001b[0m\u001b[0;36m1\u001b[0m\u001b[0;34m]\u001b[0m\u001b[0;34m\u001b[0m\u001b[0;34m\u001b[0m\u001b[0m\n\u001b[0m",
      "\u001b[0;31mIndexError\u001b[0m: too many indices for array: array is 1-dimensional, but 2 were indexed"
     ]
    }
   ],
   "source": [
    "jagged_numpy[:, :1]"
   ]
  },
  {
   "cell_type": "markdown",
   "id": "1e593a6e-43e8-4bd1-9435-e7f13889cd9a",
   "metadata": {},
   "source": [
    "In NumPy, you can't. NumPy doesn't know that all the contents of this array are arrays of the same type.\n",
    "\n",
    "You know this and can write a loop in Python:"
   ]
  },
  {
   "cell_type": "code",
   "execution_count": 72,
   "id": "49163b25-4bf9-4a90-a15b-617a76e7e1db",
   "metadata": {},
   "outputs": [
    {
     "name": "stderr",
     "output_type": "stream",
     "text": [
      "<ipython-input-72-d148b00ddeec>:1: VisibleDeprecationWarning: Creating an ndarray from ragged nested sequences (which is a list-or-tuple of lists-or-tuples-or ndarrays with different lengths or shapes) is deprecated. If you meant to do this, you must specify 'dtype=object' when creating the ndarray.\n",
      "  np.array([x[:1] for x in jagged_numpy])\n"
     ]
    },
    {
     "data": {
      "text/plain": [
       "array([array([], dtype=float32), array([18.58379], dtype=float32),\n",
       "       array([], dtype=float32), array([26.678864], dtype=float32),\n",
       "       array([7.6212683], dtype=float32),\n",
       "       array([6.581045], dtype=float32), array([], dtype=float32),\n",
       "       array([], dtype=float32), array([8.512705], dtype=float32),\n",
       "       array([8.245719], dtype=float32), array([40.31019], dtype=float32),\n",
       "       array([41.209923], dtype=float32), array([], dtype=float32),\n",
       "       array([], dtype=float32), array([15.671304], dtype=float32),\n",
       "       array([28.460539], dtype=float32), array([42.4068], dtype=float32),\n",
       "       array([102.75817], dtype=float32),\n",
       "       array([9.967661], dtype=float32),\n",
       "       array([13.594103], dtype=float32)], dtype=object)"
      ]
     },
     "execution_count": 72,
     "metadata": {},
     "output_type": "execute_result"
    }
   ],
   "source": [
    "np.array([x[:1] for x in jagged_numpy])"
   ]
  },
  {
   "cell_type": "markdown",
   "id": "403e7c69-8efa-4ede-8d64-0c9d9b13e268",
   "metadata": {},
   "source": [
    "But this isn't recommended. It's non-idiomatic and slow."
   ]
  },
  {
   "cell_type": "markdown",
   "id": "80b04acb-40b9-4998-86f0-5c168939c11f",
   "metadata": {},
   "source": [
    "<br><br><br><br><br>\n",
    "\n",
    "Pandas can work with this \"jagged\" data through indexing."
   ]
  },
  {
   "cell_type": "code",
   "execution_count": 73,
   "id": "79c9af08-fa93-4285-8ae5-db1a30537a7c",
   "metadata": {},
   "outputs": [
    {
     "data": {
      "text/html": [
       "<div>\n",
       "<style scoped>\n",
       "    .dataframe tbody tr th:only-of-type {\n",
       "        vertical-align: middle;\n",
       "    }\n",
       "\n",
       "    .dataframe tbody tr th {\n",
       "        vertical-align: top;\n",
       "    }\n",
       "\n",
       "    .dataframe thead th {\n",
       "        text-align: right;\n",
       "    }\n",
       "</style>\n",
       "<table border=\"1\" class=\"dataframe\">\n",
       "  <thead>\n",
       "    <tr style=\"text-align: right;\">\n",
       "      <th></th>\n",
       "      <th></th>\n",
       "      <th>Muon_pt</th>\n",
       "      <th>Muon_eta</th>\n",
       "      <th>Muon_phi</th>\n",
       "      <th>Muon_mass</th>\n",
       "      <th>Muon_charge</th>\n",
       "    </tr>\n",
       "    <tr>\n",
       "      <th>entry</th>\n",
       "      <th>subentry</th>\n",
       "      <th></th>\n",
       "      <th></th>\n",
       "      <th></th>\n",
       "      <th></th>\n",
       "      <th></th>\n",
       "    </tr>\n",
       "  </thead>\n",
       "  <tbody>\n",
       "    <tr>\n",
       "      <th rowspan=\"2\" valign=\"top\">1</th>\n",
       "      <th>0</th>\n",
       "      <td>18.583790</td>\n",
       "      <td>-0.178740</td>\n",
       "      <td>2.129222</td>\n",
       "      <td>0.105658</td>\n",
       "      <td>1</td>\n",
       "    </tr>\n",
       "    <tr>\n",
       "      <th>1</th>\n",
       "      <td>23.630339</td>\n",
       "      <td>0.224128</td>\n",
       "      <td>-2.094648</td>\n",
       "      <td>0.105658</td>\n",
       "      <td>-1</td>\n",
       "    </tr>\n",
       "    <tr>\n",
       "      <th rowspan=\"3\" valign=\"top\">3</th>\n",
       "      <th>0</th>\n",
       "      <td>26.678864</td>\n",
       "      <td>-1.230025</td>\n",
       "      <td>-1.394925</td>\n",
       "      <td>0.105658</td>\n",
       "      <td>-1</td>\n",
       "    </tr>\n",
       "    <tr>\n",
       "      <th>1</th>\n",
       "      <td>21.356121</td>\n",
       "      <td>1.266814</td>\n",
       "      <td>1.025966</td>\n",
       "      <td>0.105658</td>\n",
       "      <td>1</td>\n",
       "    </tr>\n",
       "    <tr>\n",
       "      <th>2</th>\n",
       "      <td>5.648629</td>\n",
       "      <td>0.879901</td>\n",
       "      <td>0.078487</td>\n",
       "      <td>0.105658</td>\n",
       "      <td>1</td>\n",
       "    </tr>\n",
       "    <tr>\n",
       "      <th>...</th>\n",
       "      <th>...</th>\n",
       "      <td>...</td>\n",
       "      <td>...</td>\n",
       "      <td>...</td>\n",
       "      <td>...</td>\n",
       "      <td>...</td>\n",
       "    </tr>\n",
       "    <tr>\n",
       "      <th>299681</th>\n",
       "      <th>2</th>\n",
       "      <td>16.299486</td>\n",
       "      <td>-0.852460</td>\n",
       "      <td>1.028339</td>\n",
       "      <td>0.105658</td>\n",
       "      <td>1</td>\n",
       "    </tr>\n",
       "    <tr>\n",
       "      <th rowspan=\"4\" valign=\"top\">299682</th>\n",
       "      <th>0</th>\n",
       "      <td>30.407604</td>\n",
       "      <td>1.319252</td>\n",
       "      <td>0.139041</td>\n",
       "      <td>0.105658</td>\n",
       "      <td>1</td>\n",
       "    </tr>\n",
       "    <tr>\n",
       "      <th>1</th>\n",
       "      <td>36.361153</td>\n",
       "      <td>0.763660</td>\n",
       "      <td>-2.690076</td>\n",
       "      <td>0.105658</td>\n",
       "      <td>-1</td>\n",
       "    </tr>\n",
       "    <tr>\n",
       "      <th>2</th>\n",
       "      <td>19.553925</td>\n",
       "      <td>0.728021</td>\n",
       "      <td>-0.375699</td>\n",
       "      <td>0.105658</td>\n",
       "      <td>1</td>\n",
       "    </tr>\n",
       "    <tr>\n",
       "      <th>3</th>\n",
       "      <td>22.570639</td>\n",
       "      <td>-0.233684</td>\n",
       "      <td>2.841248</td>\n",
       "      <td>0.105658</td>\n",
       "      <td>-1</td>\n",
       "    </tr>\n",
       "  </tbody>\n",
       "</table>\n",
       "<p>423743 rows × 5 columns</p>\n",
       "</div>"
      ],
      "text/plain": [
       "                   Muon_pt  Muon_eta  Muon_phi  Muon_mass  Muon_charge\n",
       "entry  subentry                                                       \n",
       "1      0         18.583790 -0.178740  2.129222   0.105658            1\n",
       "       1         23.630339  0.224128 -2.094648   0.105658           -1\n",
       "3      0         26.678864 -1.230025 -1.394925   0.105658           -1\n",
       "       1         21.356121  1.266814  1.025966   0.105658            1\n",
       "       2          5.648629  0.879901  0.078487   0.105658            1\n",
       "...                    ...       ...       ...        ...          ...\n",
       "299681 2         16.299486 -0.852460  1.028339   0.105658            1\n",
       "299682 0         30.407604  1.319252  0.139041   0.105658            1\n",
       "       1         36.361153  0.763660 -2.690076   0.105658           -1\n",
       "       2         19.553925  0.728021 -0.375699   0.105658            1\n",
       "       3         22.570639 -0.233684  2.841248   0.105658           -1\n",
       "\n",
       "[423743 rows x 5 columns]"
      ]
     },
     "execution_count": 73,
     "metadata": {},
     "output_type": "execute_result"
    }
   ],
   "source": [
    "events.arrays(filter_name=[\"Muon_*\"], library=\"pd\")"
   ]
  },
  {
   "cell_type": "markdown",
   "id": "ba9ccaa6-eb61-419f-8d05-b1ce08941b29",
   "metadata": {},
   "source": [
    "But there are limitations. Try loading non-muon branches in the same DataFrame."
   ]
  },
  {
   "cell_type": "markdown",
   "id": "87cf48ab-f5c1-40ac-9bff-f015a8a370c2",
   "metadata": {},
   "source": [
    "<br><br><br><br><br>\n",
    "\n",
    "## Awkward Array\n",
    "\n",
    "Awkward Array is a library for manipulating JSON-like data using NumPy-like idioms.\n",
    "\n",
    "<img src=\"img/cartoon-schematic.svg\" width=\"800px\"/>"
   ]
  },
  {
   "cell_type": "markdown",
   "id": "40df91e3-21ea-4885-85c3-37055c9b3fd8",
   "metadata": {},
   "source": [
    "<br><br><br><br><br>\n",
    "\n",
    "The documentation is at [https://awkward-array.org/](https://awkward-array.org/).\n",
    "\n",
    "<img src=\"img/awkward-documentation.png\" width=\"800px\"/>"
   ]
  },
  {
   "cell_type": "markdown",
   "id": "e6d6686a-6a1b-42d1-98d1-4dcbbcc1965e",
   "metadata": {},
   "source": [
    "<br><br><br><br><br>\n",
    "\n",
    "Consider this Parquet file of the same dataset. It can be read into an Awkward Array, just like the ROOT file."
   ]
  },
  {
   "cell_type": "code",
   "execution_count": 74,
   "id": "fe6ce5de-bf56-4f36-b352-1be4bd15e3c4",
   "metadata": {},
   "outputs": [
    {
     "data": {
      "text/plain": [
       "<Array [{run: 1, luminosityBlock: 13, ... ] type='299683 * {\"run\": int32, \"lumin...'>"
      ]
     },
     "execution_count": 74,
     "metadata": {},
     "output_type": "execute_result"
    }
   ],
   "source": [
    "array = ak.from_parquet(\"data/HiggsZZ4mu.parquet\")\n",
    "array"
   ]
  },
  {
   "cell_type": "code",
   "execution_count": 75,
   "id": "76798c8a-b854-4d81-a0a4-d699dffa3324",
   "metadata": {},
   "outputs": [
    {
     "data": {
      "text/plain": [
       "['run', 'luminosityBlock', 'event', 'MET', 'muons', 'gen']"
      ]
     },
     "execution_count": 75,
     "metadata": {},
     "output_type": "execute_result"
    }
   ],
   "source": [
    "array.fields"
   ]
  },
  {
   "cell_type": "code",
   "execution_count": 76,
   "id": "a9f75ce9-ec37-48a7-bbab-63ab4977e7ba",
   "metadata": {},
   "outputs": [
    {
     "data": {
      "text/plain": [
       "{'run': 1,\n",
       " 'luminosityBlock': 13,\n",
       " 'event': 1201,\n",
       " 'MET': {'pt': 19.49629020690918, 'phi': 3.096665859222412},\n",
       " 'muons': [],\n",
       " 'gen': [{'pt': 60.43461608886719,\n",
       "   'eta': -0.7820958495140076,\n",
       "   'phi': -2.21305251121521,\n",
       "   'pdgId': 11},\n",
       "  {'pt': 27.03217887878418,\n",
       "   'eta': -2.3512237071990967,\n",
       "   'phi': -0.6086280941963196,\n",
       "   'pdgId': -11},\n",
       "  {'pt': 60.43461608886719,\n",
       "   'eta': -0.7820958495140076,\n",
       "   'phi': -2.21305251121521,\n",
       "   'pdgId': 11},\n",
       "  {'pt': 8.345659255981445,\n",
       "   'eta': -2.0826632976531982,\n",
       "   'phi': 0.020737886428833008,\n",
       "   'pdgId': -15},\n",
       "  {'pt': 27.03217887878418,\n",
       "   'eta': -2.3512237071990967,\n",
       "   'phi': -0.6086280941963196,\n",
       "   'pdgId': -11},\n",
       "  {'pt': 8.345659255981445,\n",
       "   'eta': -2.0826632976531982,\n",
       "   'phi': 0.020737886428833008,\n",
       "   'pdgId': -15}]}"
      ]
     },
     "execution_count": 76,
     "metadata": {},
     "output_type": "execute_result"
    }
   ],
   "source": [
    "array[0].tolist()"
   ]
  },
  {
   "cell_type": "code",
   "execution_count": 77,
   "id": "d0ec043f-2c74-4aa3-8b62-2fcf9593c39e",
   "metadata": {},
   "outputs": [
    {
     "data": {
      "text/plain": [
       "<Array [[], [18.6, 23.6, ... 36.4, 19.6, 22.6]] type='299683 * var * float32'>"
      ]
     },
     "execution_count": 77,
     "metadata": {},
     "output_type": "execute_result"
    }
   ],
   "source": [
    "array.muons.pt"
   ]
  },
  {
   "cell_type": "markdown",
   "id": "4c3aef62-0871-465c-af65-473b63802f98",
   "metadata": {},
   "source": [
    "<br><br><br><br><br>\n",
    "\n",
    "I've restructured it a little (\"NanoEvents-style\" vs \"NanoAOD-style\"), but we can easily make the data from ROOT look just like the data from Parquet."
   ]
  },
  {
   "cell_type": "code",
   "execution_count": 78,
   "id": "2401365f-8144-447d-917c-7644685d8c8a",
   "metadata": {},
   "outputs": [
    {
     "data": {
      "text/plain": [
       "299683 * {\"Muon_pt\": var * float32, \"Muon_eta\": var * float32, \"Muon_phi\": var * float32, \"Muon_mass\": var * float32, \"Muon_charge\": var * int32}"
      ]
     },
     "execution_count": 78,
     "metadata": {},
     "output_type": "execute_result"
    }
   ],
   "source": [
    "nanoaod_style = events.arrays(filter_name=\"Muon_*\")\n",
    "nanoaod_style.type"
   ]
  },
  {
   "cell_type": "code",
   "execution_count": 79,
   "id": "76fbc056-82c0-4afc-b256-6ac1ec327f24",
   "metadata": {},
   "outputs": [
    {
     "data": {
      "text/plain": [
       "299683 * var * {\"pt\": float32, \"eta\": float32, \"phi\": float32, \"mass\": float32, \"charge\": int32}"
      ]
     },
     "execution_count": 79,
     "metadata": {},
     "output_type": "execute_result"
    }
   ],
   "source": [
    "array.muons.type"
   ]
  },
  {
   "cell_type": "code",
   "execution_count": 80,
   "id": "4fbc1b2d-92b6-4ef1-8e83-aa9d7e8be577",
   "metadata": {},
   "outputs": [
    {
     "data": {
      "text/plain": [
       "299683 * var * {\"pt\": float32, \"eta\": float32, \"phi\": float32, \"mass\": float32, \"charge\": int32}"
      ]
     },
     "execution_count": 80,
     "metadata": {},
     "output_type": "execute_result"
    }
   ],
   "source": [
    "nanoevents_style = ak.zip({\n",
    "    \"pt\": nanoaod_style.Muon_pt,\n",
    "    \"eta\": nanoaod_style.Muon_eta,\n",
    "    \"phi\": nanoaod_style.Muon_phi,\n",
    "    \"mass\": nanoaod_style.Muon_mass,\n",
    "    \"charge\": nanoaod_style.Muon_charge,\n",
    "})\n",
    "nanoevents_style.type"
   ]
  },
  {
   "cell_type": "markdown",
   "id": "b495fc51-d3ee-4213-ad83-1113a34a7586",
   "metadata": {},
   "source": [
    "<br><br><br><br><br>\n",
    "\n",
    "In general, Awkward Array data types \"`T`\" can be:\n",
    "\n",
    "   * numbers, booleans, date-times, etc.\n",
    "   * variable-length and fixed-length lists of `T`\n",
    "   * records with named or unnamed (tuple) fields of type `T1`, `T2`, ...\n",
    "   * missing values: `T` _or_ `None`\n",
    "   * heterogeneous types: `T1` _or_ `T2` _or_ ..."
   ]
  },
  {
   "cell_type": "markdown",
   "id": "973398e2-38c4-49a8-8360-8d26c635954a",
   "metadata": {},
   "source": [
    "<br><br><br><br><br>\n",
    "\n",
    "## Changing structure\n",
    "\n",
    "Although the `tolist()` form of the data looks like JSON objects, the data are actually in a very fluid \"columnar\" form.\n",
    "\n",
    "You can, for instance, turn an array from entry-per-event into entry-per-lumiblock by increasing the nesting by one.\n",
    "\n",
    "<img src=\"img/events-to-lumis.svg\" width=\"800px\"/>"
   ]
  },
  {
   "cell_type": "code",
   "execution_count": 81,
   "id": "56a4ff8c-5bfa-4da5-be0f-2538c3de79e7",
   "metadata": {},
   "outputs": [
    {
     "data": {
      "text/plain": [
       "<Array [13, 13, 13, 13, ... 2801, 2801, 2801] type='299683 * int64'>"
      ]
     },
     "execution_count": 81,
     "metadata": {},
     "output_type": "execute_result"
    }
   ],
   "source": [
    "array.luminosityBlock"
   ]
  },
  {
   "cell_type": "code",
   "execution_count": 82,
   "id": "ff3e9861-5b1d-4390-b46e-5181ffe8f64d",
   "metadata": {},
   "outputs": [
    {
     "data": {
      "text/plain": [
       "<Array [100, 100, 100, 100, ... 100, 100, 100] type='2997 * int64'>"
      ]
     },
     "execution_count": 82,
     "metadata": {},
     "output_type": "execute_result"
    }
   ],
   "source": [
    "lumilengths = ak.run_lengths(array.luminosityBlock)\n",
    "lumilengths"
   ]
  },
  {
   "cell_type": "code",
   "execution_count": 83,
   "id": "413b261a-564a-408f-a5e4-a6ec661c64f6",
   "metadata": {},
   "outputs": [
    {
     "data": {
      "text/plain": [
       "<Array [[{run: 1, luminosityBlock: 13, ... ] type='2997 * var * {\"run\": int32, \"...'>"
      ]
     },
     "execution_count": 83,
     "metadata": {},
     "output_type": "execute_result"
    }
   ],
   "source": [
    "array_by_lumi = ak.unflatten(array, lumilengths, axis=0)\n",
    "array_by_lumi"
   ]
  },
  {
   "cell_type": "markdown",
   "id": "2b8bfdd0-186b-4a0e-a965-4814c61ff340",
   "metadata": {},
   "source": [
    "This is an array of lists (luminosity blocks) of records (collision events) containing lists of records (muons, generator-level particles, etc.)."
   ]
  },
  {
   "cell_type": "code",
   "execution_count": 84,
   "id": "25b5a42e-dbdf-480e-a092-0818464193e7",
   "metadata": {},
   "outputs": [
    {
     "data": {
      "text/plain": [
       "<Array [13, 13, 13, 13, 13, ... 13, 13, 13, 13] type='100 * int64'>"
      ]
     },
     "execution_count": 84,
     "metadata": {},
     "output_type": "execute_result"
    }
   ],
   "source": [
    "array_by_lumi.luminosityBlock[0]"
   ]
  },
  {
   "cell_type": "code",
   "execution_count": 85,
   "id": "e60e1eb8-3477-4729-9138-80c1ce8e3f1f",
   "metadata": {},
   "outputs": [
    {
     "data": {
      "text/plain": [
       "299683 * {\"run\": int32, \"luminosityBlock\": int64, \"event\": uint64, \"MET\": {\"pt\": float32, \"phi\": float32}, \"muons\": var * {\"pt\": float32, \"eta\": float32, \"phi\": float32, \"mass\": float32, \"charge\": int32}, \"gen\": var * {\"pt\": float32, \"eta\": float32, \"phi\": float32, \"pdgId\": int32}}"
      ]
     },
     "execution_count": 85,
     "metadata": {},
     "output_type": "execute_result"
    }
   ],
   "source": [
    "array.type"
   ]
  },
  {
   "cell_type": "code",
   "execution_count": 86,
   "id": "3d1b5696-bb29-470c-8b56-d638ee3dfdb5",
   "metadata": {},
   "outputs": [
    {
     "data": {
      "text/plain": [
       "2997 * var * {\"run\": int32, \"luminosityBlock\": int64, \"event\": uint64, \"MET\": {\"pt\": float32, \"phi\": float32}, \"muons\": var * {\"pt\": float32, \"eta\": float32, \"phi\": float32, \"mass\": float32, \"charge\": int32}, \"gen\": var * {\"pt\": float32, \"eta\": float32, \"phi\": float32, \"pdgId\": int32}}"
      ]
     },
     "execution_count": 86,
     "metadata": {},
     "output_type": "execute_result"
    }
   ],
   "source": [
    "array_by_lumi.type"
   ]
  },
  {
   "cell_type": "markdown",
   "id": "3fd95230-8ad8-46c4-baac-b748d7814440",
   "metadata": {},
   "source": [
    "So, for example, you can add up $p_T$ values along any of three dimensions."
   ]
  },
  {
   "cell_type": "code",
   "execution_count": 87,
   "id": "b307152d-4180-4131-b823-54e1b8ec917a",
   "metadata": {},
   "outputs": [
    {
     "data": {
      "text/plain": [
       "<Array [[0, 42.2, 0, ... 26.5, 91.5, 109]] type='2997 * var * float32'>"
      ]
     },
     "execution_count": 87,
     "metadata": {},
     "output_type": "execute_result"
    }
   ],
   "source": [
    "ak.sum(array_by_lumi.muons.pt, axis=-1)"
   ]
  },
  {
   "cell_type": "markdown",
   "id": "3de6d30b-c76d-44ca-88b6-42a38308730b",
   "metadata": {},
   "source": [
    "Summing (or \"reducing\" in general) is well-defined for irregular data shapes, depending on a choice of alignment. We left-align.\n",
    "\n",
    "<img src=\"img/example-reduction.svg\" style=\"width: 800px\">"
   ]
  },
  {
   "cell_type": "markdown",
   "id": "39f193a6-bec6-4794-84f2-192a300b625e",
   "metadata": {},
   "source": [
    "<br><br><br><br><br>\n",
    "\n",
    "## Practical analysis\n",
    "\n",
    "To get beyond theory, let's do some realistic things with the data."
   ]
  },
  {
   "cell_type": "code",
   "execution_count": 88,
   "id": "271826a6-6715-47d1-ae38-b5e52e16c34f",
   "metadata": {},
   "outputs": [
    {
     "data": {
      "text/plain": [
       "<Array [[], [{pt: 18.6, ... charge: -1}]] type='299683 * var * {\"pt\": float32, \"...'>"
      ]
     },
     "execution_count": 88,
     "metadata": {},
     "output_type": "execute_result"
    }
   ],
   "source": [
    "array.muons"
   ]
  },
  {
   "cell_type": "markdown",
   "id": "17a082e6-44ab-44db-a513-bc82aa2153f7",
   "metadata": {},
   "source": [
    "A cut is an array of booleans."
   ]
  },
  {
   "cell_type": "code",
   "execution_count": 89,
   "id": "1de4c90a-963a-4780-8ab7-0fbaa5ed21e1",
   "metadata": {},
   "outputs": [
    {
     "data": {
      "text/plain": [
       "<Array [False, True, False, ... True, True] type='299683 * bool'>"
      ]
     },
     "execution_count": 89,
     "metadata": {},
     "output_type": "execute_result"
    }
   ],
   "source": [
    "cut = ak.num(array.muons) >= 2\n",
    "cut"
   ]
  },
  {
   "cell_type": "code",
   "execution_count": 90,
   "id": "fae3a41b-ddd3-4275-bba0-3ada12f439d0",
   "metadata": {},
   "outputs": [
    {
     "data": {
      "text/plain": [
       "<Array [[{pt: 18.6, ... charge: -1}]] type='144474 * var * {\"pt\": float32, \"eta\"...'>"
      ]
     },
     "execution_count": 90,
     "metadata": {},
     "output_type": "execute_result"
    }
   ],
   "source": [
    "array.muons[cut]"
   ]
  },
  {
   "cell_type": "markdown",
   "id": "7bcda0f9-cdce-43f5-9e94-6408e0553b2c",
   "metadata": {},
   "source": [
    "Notice that there are now fewer events than there had been before.\n",
    "\n",
    "Sometimes, that's a problem for composing cuts—having to know which cuts have been applied to which arrays of booleans.\n",
    "\n",
    "We can avoid that problem by masking: rejected events are replaced by \"`None`\", rather than removed."
   ]
  },
  {
   "cell_type": "code",
   "execution_count": 91,
   "id": "897d9ba9-b99d-41b3-b483-d78cc86ca359",
   "metadata": {},
   "outputs": [
    {
     "data": {
      "text/plain": [
       "<Array [None, [{pt: 18.6, ... charge: -1}]] type='299683 * option[var * {\"pt\": f...'>"
      ]
     },
     "execution_count": 91,
     "metadata": {},
     "output_type": "execute_result"
    }
   ],
   "source": [
    "array.muons.mask[cut]"
   ]
  },
  {
   "cell_type": "code",
   "execution_count": 92,
   "id": "ab9900a8-fe4f-4ad7-80f5-80ab5845f748",
   "metadata": {},
   "outputs": [
    {
     "data": {
      "text/plain": [
       "<Array [True, True, True, ... True, True, True] type='144474 * bool'>"
      ]
     },
     "execution_count": 92,
     "metadata": {},
     "output_type": "execute_result"
    }
   ],
   "source": [
    "selected_muons = array.muons[cut]\n",
    "\n",
    "selected_muons.charge[:, 0] + selected_muons.charge[:, 1] == 0"
   ]
  },
  {
   "cell_type": "markdown",
   "id": "2689c73a-a078-48c1-99d5-e3423c81ad5c",
   "metadata": {},
   "source": [
    "The `[:, 0]`, `[:, 1]` syntax assumes that a first and second muon exists (it does, because of the selection) and ignores all others.\n",
    "\n",
    "In you want to consider combinations of all good particles in each event, so there are functions for constructing that.\n",
    "\n",
    "<table style=\"margin-left: 0px\">\n",
    "    <tr style=\"background: white\"><td style=\"font-size: 1.75em; font-weight: bold; text-align: center\"><a href=\"https://awkward-array.readthedocs.io/en/latest/_auto/ak.cartesian.html\">ak.cartesian</a></td><td style=\"font-size: 1.75em; font-weight: bold; text-align: center\"><a href=\"https://awkward-array.readthedocs.io/en/latest/_auto/ak.combinations.html\">ak.combinations</a></td></tr>\n",
    "    <tr style=\"background: white\"><td><img src=\"img/cartoon-cartesian.svg\"></td><td><img src=\"img/cartoon-combinations.svg\"></td></tr>\n",
    "</table>"
   ]
  },
  {
   "cell_type": "code",
   "execution_count": 93,
   "id": "5a4fa1c7-03a5-46c2-89f4-e23d22049030",
   "metadata": {},
   "outputs": [
    {
     "data": {
      "text/plain": [
       "299683 * var * ({\"pt\": float32, \"eta\": float32, \"phi\": float32, \"mass\": float32, \"charge\": int32}, {\"pt\": float32, \"eta\": float32, \"phi\": float32, \"mass\": float32, \"charge\": int32})"
      ]
     },
     "execution_count": 93,
     "metadata": {},
     "output_type": "execute_result"
    }
   ],
   "source": [
    "ak.combinations(array.muons, 2).type"
   ]
  },
  {
   "cell_type": "code",
   "execution_count": 94,
   "id": "47f2e1b8-c4df-43f3-99f4-cc29302d6908",
   "metadata": {},
   "outputs": [
    {
     "data": {
      "text/plain": [
       "(<Array [[], [{pt: 18.6, ... charge: 1}]] type='299683 * var * {\"pt\": float32, \"e...'>,\n",
       " <Array [[], [{pt: 23.6, ... charge: -1}]] type='299683 * var * {\"pt\": float32, \"...'>)"
      ]
     },
     "execution_count": 94,
     "metadata": {},
     "output_type": "execute_result"
    }
   ],
   "source": [
    "mu1, mu2 = ak.unzip(ak.combinations(array.muons, 2))\n",
    "mu1, mu2"
   ]
  },
  {
   "cell_type": "markdown",
   "id": "6e9742a2-b29f-4cca-801b-74480d18ce1a",
   "metadata": {},
   "source": [
    "These are not just the first two muons in each event: they are all combinations of two (without duplication)."
   ]
  },
  {
   "cell_type": "code",
   "execution_count": 95,
   "id": "717459e9-bc1a-4e1e-9099-e0e8b42f3b65",
   "metadata": {},
   "outputs": [
    {
     "data": {
      "text/html": [
       "<html>\n",
       "<div style=\"display:flex; align-items:center;\">\n",
       "<div style=\"width:290px;\">\n",
       "<svg xmlns=\"http://www.w3.org/2000/svg\" viewBox=\"-10 -105 270 120\">\n",
       "<line x1=\"-5\" y1=\"0\" x2=\"255\" y2=\"0\" style=\"fill:none;stroke-width:2;stroke:currentColor\"/>\n",
       "<text text-anchor=\"middle\" x=\"0\" y=\"15\" style=\"fill:currentColor;\">\n",
       "0\n",
       "</text>\n",
       "<text text-anchor=\"middle\" x=\"250\" y=\"15\" style=\"fill:currentColor;\">\n",
       "120\n",
       "</text>\n",
       "<text text-anchor=\"middle\" x=\"125.0\" y=\"15\" style=\"fill:currentColor;\">\n",
       "mass\n",
       "</text>\n",
       "<polyline points=\"  0,0   0,-77.5 2.08333,-77.5 2.08333,-28.9 4.16667,-28.9 4.16667,-23.7 6.25,-23.7 6.25,-25.3 8.33333,-25.3 8.33333,-29.7 10.4167,-29.7 10.4167,-35.6 12.5,-35.6 12.5,-38.1 14.5833,-38.1 14.5833,-38.2 16.6667,-38.2 16.6667,-39.8 18.75,-39.8 18.75,-41.2 20.8333,-41.2 20.8333,-43.7 22.9167,-43.7 22.9167,-45.2  25,-45.2  25,-47.9 27.0833,-47.9 27.0833,-48.4 29.1667,-48.4 29.1667,-51.9 31.25,-51.9 31.25,-53.1 33.3333,-53.1 33.3333,-55.9 35.4167,-55.9 35.4167,-58.5 37.5,-58.5 37.5,-60 39.5833,-60 39.5833,-63.1 41.6667,-63.1 41.6667,-64.6 43.75,-64.6 43.75,-66.7 45.8333,-66.7 45.8333,-68.6 47.9167,-68.6 47.9167,-72.1  50,-72.1  50,-74.1 52.0833,-74.1 52.0833,-73.9 54.1667,-73.9 54.1667,-74.9 56.25,-74.9 56.25,-75.6 58.3333,-75.6 58.3333,-76 60.4167,-76 60.4167,-75.2 62.5,-75.2 62.5,-72.9 64.5833,-72.9 64.5833,-68.7 66.6667,-68.7 66.6667,-65 68.75,-65 68.75,-57 70.8333,-57 70.8333,-52.8 72.9167,-52.8 72.9167,-50.2  75,-50.2  75,-46.9 77.0833,-46.9 77.0833,-46.7 79.1667,-46.7 79.1667,-43 81.25,-43 81.25,-43.4 83.3333,-43.4 83.3333,-43.9 85.4167,-43.9 85.4167,-40.6 87.5,-40.6 87.5,-39.7 89.5833,-39.7 89.5833,-40.5 91.6667,-40.5 91.6667,-39.3 93.75,-39.3 93.75,-36.7 95.8333,-36.7 95.8333,-36.8 97.9167,-36.8 97.9167,-36.1 100,-36.1 100,-34 102.083,-34 102.083,-33.7 104.167,-33.7 104.167,-32.5 106.25,-32.5 106.25,-30.7 108.333,-30.7 108.333,-30.3 110.417,-30.3 110.417,-30.2 112.5,-30.2 112.5,-27.3 114.583,-27.3 114.583,-26.9 116.667,-26.9 116.667,-26 118.75,-26 118.75,-25.8 120.833,-25.8 120.833,-24.3 122.917,-24.3 122.917,-22.9 125,-22.9 125,-22.6 127.083,-22.6 127.083,-21.2 129.167,-21.2 129.167,-20 131.25,-20 131.25,-18.3 133.333,-18.3 133.333,-18.1 135.417,-18.1 135.417,-17.8 137.5,-17.8 137.5,-16.2 139.583,-16.2 139.583,-15.9 141.667,-15.9 141.667,-15.3 143.75,-15.3 143.75,-14.8 145.833,-14.8 145.833,-13.9 147.917,-13.9 147.917,-13.5 150,-13.5 150,-12.5 152.083,-12.5 152.083,-13 154.167,-13 154.167,-12.5 156.25,-12.5 156.25,-12.5 158.333,-12.5 158.333,-11.8 160.417,-11.8 160.417,-12 162.5,-12 162.5,-13 164.583,-13 164.583,-12.2 166.667,-12.2 166.667,-14.3 168.75,-14.3 168.75,-14.6 170.833,-14.6 170.833,-15.2 172.917,-15.2 172.917,-17.3 175,-17.3 175,-19.7 177.083,-19.7 177.083,-24.1 179.167,-24.1 179.167,-29 181.25,-29 181.25,-40.1 183.333,-40.1 183.333,-57.8 185.417,-57.8 185.417,-79.8 187.5,-79.8 187.5,-100 189.583,-100 189.583,-91 191.667,-91 191.667,-61.1 193.75,-61.1 193.75,-33.3 195.833,-33.3 195.833,-17.8 197.917,-17.8 197.917,-9.47 200,-9.47 200,-5.78 202.083,-5.78 202.083,-3.81 204.167,-3.81 204.167,-2.77 206.25,-2.77 206.25,-1.71 208.333,-1.71 208.333,-1.19 210.417,-1.19 210.417,-0.937 212.5,-0.937 212.5,-0.596 214.583,-0.596 214.583,-0.639 216.667,-0.639 216.667,-0.436 218.75,-0.436 218.75,-0.479 220.833,-0.479 220.833,-0.447 222.917,-0.447 222.917,-0.33 225,-0.33 225,-0.223 227.083,-0.223 227.083,-0.245 229.167,-0.245 229.167,-0.309 231.25,-0.309 231.25,-0.245 233.333,-0.245 233.333,-0.266 235.417,-0.266 235.417,-0.234 237.5,-0.234 237.5,-0.17 239.583,-0.17 239.583,-0.213 241.667,-0.213 241.667,-0.181 243.75,-0.181 243.75,-0.192 245.833,-0.192 245.833,-0.0745 247.917,-0.0745 247.917,-0.245 250,-0.245 250,0\" style=\"fill:none; stroke:currentColor;\"/>\n",
       "</svg>\n",
       "</div>\n",
       "<div style=\"flex=grow:1;\">\n",
       "Regular(120, 0, 120, name='mass', label='mass')<br/>\n",
       "<hr style=\"margin-top:.2em; margin-bottom:.2em;\"/>\n",
       "Double() Σ=355686.0 <em>(356468.0 with flow)</em>\n",
       "\n",
       "</div>\n",
       "</div>\n",
       "</html>"
      ],
      "text/plain": [
       "Hist(Regular(120, 0, 120, name='mass', label='mass'), storage=Double()) # Sum: 355686.0 (356468.0 with flow)"
      ]
     },
     "execution_count": 95,
     "metadata": {},
     "output_type": "execute_result"
    }
   ],
   "source": [
    "h = hist.Hist.new.Reg(120, 0, 120, name=\"mass\").Double()\n",
    "h.fill(ak.flatten(\n",
    "    np.sqrt(2*mu1.pt*mu2.pt*(np.cosh(mu1.eta - mu2.eta) - np.cos(mu1.phi - mu2.phi)))\n",
    "))"
   ]
  },
  {
   "cell_type": "markdown",
   "id": "e91f8ce6-0617-43b4-91a5-ba87cc014fc2",
   "metadata": {},
   "source": [
    "<br><br><br><br><br>\n",
    "\n",
    "## The Vector library\n",
    "\n",
    "Vector is a library for doing coordinate transformations and 2D, 3D, and 4D (Lorentz) calculations on _arrays_ of vectors.\n",
    "\n",
    "Awkward Array is one of its backends."
   ]
  },
  {
   "cell_type": "code",
   "execution_count": 96,
   "id": "8db256d6-5c28-4eaf-8214-d4ece3f33aea",
   "metadata": {},
   "outputs": [],
   "source": [
    "import vector\n",
    "vector.register_awkward()"
   ]
  },
  {
   "cell_type": "markdown",
   "id": "8cc7cf3e-6374-4257-90ef-4fdf87987c6c",
   "metadata": {},
   "source": [
    "The above registers a suite of \"[behaviors](https://awkward-array.readthedocs.io/en/latest/ak.behavior.html)\" for Awkward Array, so that any records named `\"Momentum4D\"` now have Lorentz vector methods, as though they were members of a Lorentz vector class."
   ]
  },
  {
   "cell_type": "code",
   "execution_count": 97,
   "id": "2cfd36ac-a40f-4eaa-97c7-3a48542a8538",
   "metadata": {},
   "outputs": [
    {
     "data": {
      "text/plain": [
       "<MomentumArray4D [[], [{pt: 18.6, ... charge: -1}]] type='299683 * var * Momentu...'>"
      ]
     },
     "execution_count": 97,
     "metadata": {},
     "output_type": "execute_result"
    }
   ],
   "source": [
    "muons = ak.with_name(array.muons, \"Momentum4D\")\n",
    "muons"
   ]
  },
  {
   "cell_type": "code",
   "execution_count": 98,
   "id": "b4320414-1c69-4495-86cf-5cf922aa8aad",
   "metadata": {},
   "outputs": [
    {
     "data": {
      "text/plain": [
       "(<MomentumRecord4D ... phi: 2.13, mass: 0.106, charge: 1} type='Momentum4D[\"pt\": ...'>,\n",
       " <MomentumRecord4D ... mass: 0.106, charge: -1} type='Momentum4D[\"pt\": float32, \"...'>)"
      ]
     },
     "execution_count": 98,
     "metadata": {},
     "output_type": "execute_result"
    }
   ],
   "source": [
    "muons[1, 0], muons[1, 1]"
   ]
  },
  {
   "cell_type": "code",
   "execution_count": 99,
   "id": "3d9c90f9-41b2-4b98-b43e-c2fa67a29b75",
   "metadata": {},
   "outputs": [
    {
     "data": {
      "text/plain": [
       "<MomentumRecord3D {x: 15.8, y: 92.1, z: 388} type='Momentum3D[\"x\": float64, \"y\":...'>"
      ]
     },
     "execution_count": 99,
     "metadata": {},
     "output_type": "execute_result"
    }
   ],
   "source": [
    "muons[1, 0].cross(muons[1, 1])"
   ]
  },
  {
   "cell_type": "markdown",
   "id": "b4079c49-a863-4e4c-8733-50dec16bc725",
   "metadata": {},
   "source": [
    "But _arrays of vectors_ also have these methods, and they apply an array at a time."
   ]
  },
  {
   "cell_type": "code",
   "execution_count": 100,
   "id": "ca8ae3e1-f16a-480d-97a7-5e7801611773",
   "metadata": {},
   "outputs": [
    {
     "data": {
      "text/plain": [
       "(<MomentumArray4D [[], [{pt: 18.6, ... charge: 1}]] type='299683 * var * Momentum...'>,\n",
       " <MomentumArray4D [[], [{pt: 23.6, ... charge: -1}]] type='299683 * var * Momentu...'>)"
      ]
     },
     "execution_count": 100,
     "metadata": {},
     "output_type": "execute_result"
    }
   ],
   "source": [
    "mu1, mu2 = ak.unzip(ak.combinations(muons, 2))\n",
    "mu1, mu2"
   ]
  },
  {
   "cell_type": "code",
   "execution_count": 101,
   "id": "415a05f5-fcbd-4946-b0df-37ca2b4b3845",
   "metadata": {},
   "outputs": [
    {
     "data": {
      "text/plain": [
       "<MomentumArray3D [[], [{x: 15.8, ... y: -238, z: -33.2}]] type='299683 * var * M...'>"
      ]
     },
     "execution_count": 101,
     "metadata": {},
     "output_type": "execute_result"
    }
   ],
   "source": [
    "mu1.cross(mu2)"
   ]
  },
  {
   "cell_type": "code",
   "execution_count": 102,
   "id": "26013028-1ba8-42e8-9a4d-602f8d5ce45c",
   "metadata": {},
   "outputs": [
    {
     "data": {
      "text/plain": [
       "<Array [[], [36.9], ... 68, 48.8, 36.5, 46.9]] type='299683 * var * float32'>"
      ]
     },
     "execution_count": 102,
     "metadata": {},
     "output_type": "execute_result"
    }
   ],
   "source": [
    "(mu1 + mu2).mass"
   ]
  },
  {
   "cell_type": "code",
   "execution_count": 103,
   "id": "88c5ebf1-f777-4228-b2bf-3bd67275f069",
   "metadata": {},
   "outputs": [
    {
     "data": {
      "text/html": [
       "<html>\n",
       "<div style=\"display:flex; align-items:center;\">\n",
       "<div style=\"width:290px;\">\n",
       "<svg xmlns=\"http://www.w3.org/2000/svg\" viewBox=\"-10 -105 270 120\">\n",
       "<line x1=\"-5\" y1=\"0\" x2=\"255\" y2=\"0\" style=\"fill:none;stroke-width:2;stroke:currentColor\"/>\n",
       "<text text-anchor=\"middle\" x=\"0\" y=\"15\" style=\"fill:currentColor;\">\n",
       "0\n",
       "</text>\n",
       "<text text-anchor=\"middle\" x=\"250\" y=\"15\" style=\"fill:currentColor;\">\n",
       "120\n",
       "</text>\n",
       "<text text-anchor=\"middle\" x=\"125.0\" y=\"15\" style=\"fill:currentColor;\">\n",
       "mass\n",
       "</text>\n",
       "<polyline points=\"  0,0   0,-76 2.08333,-76 2.08333,-29.7 4.16667,-29.7 4.16667,-23.8 6.25,-23.8 6.25,-25.4 8.33333,-25.4 8.33333,-29.8 10.4167,-29.8 10.4167,-35.6 12.5,-35.6 12.5,-38.1 14.5833,-38.1 14.5833,-38.2 16.6667,-38.2 16.6667,-40 18.75,-40 18.75,-41.2 20.8333,-41.2 20.8333,-43.7 22.9167,-43.7 22.9167,-45.3  25,-45.3  25,-47.9 27.0833,-47.9 27.0833,-48.4 29.1667,-48.4 29.1667,-51.9 31.25,-51.9 31.25,-53.2 33.3333,-53.2 33.3333,-55.9 35.4167,-55.9 35.4167,-58.5 37.5,-58.5 37.5,-60.1 39.5833,-60.1 39.5833,-63.1 41.6667,-63.1 41.6667,-64.6 43.75,-64.6 43.75,-66.8 45.8333,-66.8 45.8333,-68.5 47.9167,-68.5 47.9167,-72.2  50,-72.2  50,-74.1 52.0833,-74.1 52.0833,-74 54.1667,-74 54.1667,-75 56.25,-75 56.25,-75.7 58.3333,-75.7 58.3333,-76 60.4167,-76 60.4167,-75.2 62.5,-75.2 62.5,-72.8 64.5833,-72.8 64.5833,-68.7 66.6667,-68.7 66.6667,-65.1 68.75,-65.1 68.75,-56.9 70.8333,-56.9 70.8333,-52.8 72.9167,-52.8 72.9167,-50.2  75,-50.2  75,-46.9 77.0833,-46.9 77.0833,-46.7 79.1667,-46.7 79.1667,-43 81.25,-43 81.25,-43.4 83.3333,-43.4 83.3333,-44 85.4167,-44 85.4167,-40.7 87.5,-40.7 87.5,-39.7 89.5833,-39.7 89.5833,-40.5 91.6667,-40.5 91.6667,-39.3 93.75,-39.3 93.75,-36.7 95.8333,-36.7 95.8333,-36.8 97.9167,-36.8 97.9167,-36.1 100,-36.1 100,-34 102.083,-34 102.083,-33.7 104.167,-33.7 104.167,-32.5 106.25,-32.5 106.25,-30.7 108.333,-30.7 108.333,-30.3 110.417,-30.3 110.417,-30.2 112.5,-30.2 112.5,-27.3 114.583,-27.3 114.583,-27 116.667,-27 116.667,-26 118.75,-26 118.75,-25.7 120.833,-25.7 120.833,-24.4 122.917,-24.4 122.917,-22.9 125,-22.9 125,-22.5 127.083,-22.5 127.083,-21.2 129.167,-21.2 129.167,-20 131.25,-20 131.25,-18.3 133.333,-18.3 133.333,-18.1 135.417,-18.1 135.417,-17.8 137.5,-17.8 137.5,-16.2 139.583,-16.2 139.583,-15.9 141.667,-15.9 141.667,-15.3 143.75,-15.3 143.75,-14.8 145.833,-14.8 145.833,-13.9 147.917,-13.9 147.917,-13.5 150,-13.5 150,-12.5 152.083,-12.5 152.083,-13.1 154.167,-13.1 154.167,-12.5 156.25,-12.5 156.25,-12.4 158.333,-12.4 158.333,-11.8 160.417,-11.8 160.417,-12 162.5,-12 162.5,-13 164.583,-13 164.583,-12.3 166.667,-12.3 166.667,-14.3 168.75,-14.3 168.75,-14.6 170.833,-14.6 170.833,-15.2 172.917,-15.2 172.917,-17.3 175,-17.3 175,-19.7 177.083,-19.7 177.083,-24.1 179.167,-24.1 179.167,-29 181.25,-29 181.25,-40.1 183.333,-40.1 183.333,-57.8 185.417,-57.8 185.417,-79.8 187.5,-79.8 187.5,-100 189.583,-100 189.583,-91.1 191.667,-91.1 191.667,-61.1 193.75,-61.1 193.75,-33.4 195.833,-33.4 195.833,-17.8 197.917,-17.8 197.917,-9.51 200,-9.51 200,-5.77 202.083,-5.77 202.083,-3.82 204.167,-3.82 204.167,-2.76 206.25,-2.76 206.25,-1.71 208.333,-1.71 208.333,-1.19 210.417,-1.19 210.417,-0.937 212.5,-0.937 212.5,-0.596 214.583,-0.596 214.583,-0.639 216.667,-0.639 216.667,-0.437 218.75,-0.437 218.75,-0.479 220.833,-0.479 220.833,-0.447 222.917,-0.447 222.917,-0.33 225,-0.33 225,-0.224 227.083,-0.224 227.083,-0.245 229.167,-0.245 229.167,-0.309 231.25,-0.309 231.25,-0.245 233.333,-0.245 233.333,-0.277 235.417,-0.277 235.417,-0.224 237.5,-0.224 237.5,-0.17 239.583,-0.17 239.583,-0.213 241.667,-0.213 241.667,-0.181 243.75,-0.181 243.75,-0.192 245.833,-0.192 245.833,-0.0639 247.917,-0.0639 247.917,-0.256 250,-0.256 250,0\" style=\"fill:none; stroke:currentColor;\"/>\n",
       "</svg>\n",
       "</div>\n",
       "<div style=\"flex=grow:1;\">\n",
       "Regular(120, 0, 120, name='mass', label='mass')<br/>\n",
       "<hr style=\"margin-top:.2em; margin-bottom:.2em;\"/>\n",
       "Double() Σ=355651.0 <em>(356468.0 with flow)</em>\n",
       "\n",
       "</div>\n",
       "</div>\n",
       "</html>"
      ],
      "text/plain": [
       "Hist(Regular(120, 0, 120, name='mass', label='mass'), storage=Double()) # Sum: 355651.0 (356468.0 with flow)"
      ]
     },
     "execution_count": 103,
     "metadata": {},
     "output_type": "execute_result"
    }
   ],
   "source": [
    "h = hist.Hist.new.Reg(120, 0, 120, name=\"mass\").Double()\n",
    "h.fill(ak.flatten((mu1 + mu2).mass))"
   ]
  },
  {
   "cell_type": "markdown",
   "id": "c0e4084e-faec-462d-97dc-a418779236c9",
   "metadata": {},
   "source": [
    "<br><br><br><br><br>\n",
    "\n",
    "## Example: reconstructed/generator-level matching with ΔR"
   ]
  },
  {
   "cell_type": "code",
   "execution_count": 104,
   "id": "1bb1b131-8d47-4500-9167-351d3113ad47",
   "metadata": {},
   "outputs": [
    {
     "data": {
      "text/plain": [
       "<MomentumArray3D [[{pt: 60.4, ... pdgId: 13}]] type='299683 * var * Momentum3D[\"...'>"
      ]
     },
     "execution_count": 104,
     "metadata": {},
     "output_type": "execute_result"
    }
   ],
   "source": [
    "gen = ak.with_name(array.gen, \"Momentum3D\")\n",
    "gen"
   ]
  },
  {
   "cell_type": "code",
   "execution_count": 105,
   "id": "7f68806f-faa2-4c84-b082-11e71a7b23db",
   "metadata": {},
   "outputs": [
    {
     "data": {
      "text/plain": [
       "['pt', 'eta', 'phi', 'pdgId']"
      ]
     },
     "execution_count": 105,
     "metadata": {},
     "output_type": "execute_result"
    }
   ],
   "source": [
    "gen.fields"
   ]
  },
  {
   "cell_type": "markdown",
   "id": "eca32ff2-f794-49d7-a2bf-e5ab3cf9d57b",
   "metadata": {},
   "source": [
    "First, make all reco-gen pairs. (`nested=True` puts all pairs with a given reco muon in a new nested list.)"
   ]
  },
  {
   "cell_type": "code",
   "execution_count": 106,
   "id": "8b06cd25-143f-4a11-a507-67ed8d47ef07",
   "metadata": {},
   "outputs": [
    {
     "data": {
      "text/plain": [
       "<Array [[], [[{muon: {, ... pdgId: 13}}]]] type='299683 * var * var * {\"muon\": M...'>"
      ]
     },
     "execution_count": 106,
     "metadata": {},
     "output_type": "execute_result"
    }
   ],
   "source": [
    "reco_gen = ak.cartesian({\"muon\": muons, \"gen\": gen}, nested=True)\n",
    "reco_gen"
   ]
  },
  {
   "cell_type": "markdown",
   "id": "8cebe77b-2a19-42c3-b71d-36f06d720fd8",
   "metadata": {},
   "source": [
    "Break them into two arrays to make them easier to work with."
   ]
  },
  {
   "cell_type": "code",
   "execution_count": 107,
   "id": "9977f21d-c979-4733-9394-63c54f7fcefe",
   "metadata": {},
   "outputs": [
    {
     "data": {
      "text/plain": [
       "(<MomentumArray4D [[], [[{pt: 18.6, ... charge: -1}]]] type='299683 * var * var *...'>,\n",
       " <MomentumArray3D [[], [[{pt: 18.7, ... pdgId: 13}]]] type='299683 * var * var * ...'>)"
      ]
     },
     "execution_count": 107,
     "metadata": {},
     "output_type": "execute_result"
    }
   ],
   "source": [
    "mu, g = ak.unzip(reco_gen)\n",
    "mu, g"
   ]
  },
  {
   "cell_type": "markdown",
   "id": "3182bce8-f2ef-4237-bee9-259844dc142d",
   "metadata": {},
   "source": [
    "Now we can compute an array of ΔR values."
   ]
  },
  {
   "cell_type": "code",
   "execution_count": 108,
   "id": "f59738f5-6413-4ff4-8f51-b5cf8c17e7c0",
   "metadata": {},
   "outputs": [
    {
     "data": {
      "text/plain": [
       "<Array [[], [[0.000383, ... 3.21, 1.25]]] type='299683 * var * var * float32'>"
      ]
     },
     "execution_count": 108,
     "metadata": {},
     "output_type": "execute_result"
    }
   ],
   "source": [
    "mu.deltaR(g)"
   ]
  },
  {
   "cell_type": "code",
   "execution_count": 109,
   "id": "38be2a07-0bb8-42bc-8173-de0c91a8b699",
   "metadata": {},
   "outputs": [
    {
     "data": {
      "text/html": [
       "<html>\n",
       "<div style=\"display:flex; align-items:center;\">\n",
       "<div style=\"width:290px;\">\n",
       "<svg xmlns=\"http://www.w3.org/2000/svg\" viewBox=\"-10 -105 270 120\">\n",
       "<line x1=\"-5\" y1=\"0\" x2=\"255\" y2=\"0\" style=\"fill:none;stroke-width:2;stroke:currentColor\"/>\n",
       "<text text-anchor=\"middle\" x=\"0\" y=\"15\" style=\"fill:currentColor;\">\n",
       "0\n",
       "</text>\n",
       "<text text-anchor=\"middle\" x=\"250\" y=\"15\" style=\"fill:currentColor;\">\n",
       "5\n",
       "</text>\n",
       "<text text-anchor=\"middle\" x=\"125.0\" y=\"15\" style=\"fill:currentColor;\">\n",
       "Axis 0\n",
       "</text>\n",
       "<polyline points=\"  0,0   0,-100 2.5,-100 2.5,-2   5,-2   5,-1.2 7.5,-1.2 7.5,-0.983  10,-0.983  10,-1.06 12.5,-1.06 12.5,-1.15  15,-1.15  15,-1.37 17.5,-1.37 17.5,-1.47  20,-1.47  20,-1.6 22.5,-1.6 22.5,-1.82  25,-1.82  25,-2.12 27.5,-2.12 27.5,-2.21  30,-2.21  30,-2.4 32.5,-2.4 32.5,-2.48  35,-2.48  35,-2.59 37.5,-2.59 37.5,-2.72  40,-2.72  40,-2.8 42.5,-2.8 42.5,-2.93  45,-2.93  45,-2.97 47.5,-2.97 47.5,-3.12  50,-3.12  50,-3.16 52.5,-3.16 52.5,-3.23  55,-3.23  55,-3.36 57.5,-3.36 57.5,-3.36  60,-3.36  60,-3.42 62.5,-3.42 62.5,-3.59  65,-3.59  65,-3.62 67.5,-3.62 67.5,-3.75  70,-3.75  70,-3.7 72.5,-3.7 72.5,-3.81  75,-3.81  75,-3.84 77.5,-3.84 77.5,-3.9  80,-3.9  80,-4.07 82.5,-4.07 82.5,-4.06  85,-4.06  85,-4.16 87.5,-4.16 87.5,-4.24  90,-4.24  90,-4.31 92.5,-4.31 92.5,-4.3  95,-4.3  95,-4.35 97.5,-4.35 97.5,-4.52 100,-4.52 100,-4.59 102.5,-4.59 102.5,-4.63 105,-4.63 105,-4.68 107.5,-4.68 107.5,-4.8 110,-4.8 110,-4.84 112.5,-4.84 112.5,-5.02 115,-5.02 115,-5.04 117.5,-5.04 117.5,-5.23 120,-5.23 120,-5.29 122.5,-5.29 122.5,-5.47 125,-5.47 125,-5.66 127.5,-5.66 127.5,-5.76 130,-5.76 130,-5.98 132.5,-5.98 132.5,-6.11 135,-6.11 135,-6.32 137.5,-6.32 137.5,-6.42 140,-6.42 140,-6.69 142.5,-6.69 142.5,-6.77 145,-6.77 145,-6.86 147.5,-6.86 147.5,-6.98 150,-6.98 150,-7.25 152.5,-7.25 152.5,-7.22 155,-7.22 155,-7.19 157.5,-7.19 157.5,-5.23 160,-5.23 160,-4.05 162.5,-4.05 162.5,-3.26 165,-3.26 165,-2.78 167.5,-2.78 167.5,-2.38 170,-2.38 170,-2.03 172.5,-2.03 172.5,-1.78 175,-1.78 175,-1.53 177.5,-1.53 177.5,-1.36 180,-1.36 180,-1.2 182.5,-1.2 182.5,-1.08 185,-1.08 185,-0.954 187.5,-0.954 187.5,-0.85 190,-0.85 190,-0.76 192.5,-0.76 192.5,-0.665 195,-0.665 195,-0.621 197.5,-0.621 197.5,-0.552 200,-0.552 200,-0.492 202.5,-0.492 202.5,-0.469 205,-0.469 205,-0.427 207.5,-0.427 207.5,-0.399 210,-0.399 210,-0.327 212.5,-0.327 212.5,-0.316 215,-0.316 215,-0.291 217.5,-0.291 217.5,-0.276 220,-0.276 220,-0.25 222.5,-0.25 222.5,-0.225 225,-0.225 225,-0.198 227.5,-0.198 227.5,-0.209 230,-0.209 230,-0.188 232.5,-0.188 232.5,-0.167 235,-0.167 235,-0.163 237.5,-0.163 237.5,-0.155 240,-0.155 240,-0.145 242.5,-0.145 242.5,-0.14 245,-0.14 245,-0.126 247.5,-0.126 247.5,-0.119 250,-0.119 250,0\" style=\"fill:none; stroke:currentColor;\"/>\n",
       "</svg>\n",
       "</div>\n",
       "<div style=\"flex=grow:1;\">\n",
       "Regular(100, 0, 5, label='Axis 0')<br/>\n",
       "<hr style=\"margin-top:.2em; margin-bottom:.2em;\"/>\n",
       "Double() Σ=2962875.0 <em>(2981136.0 with flow)</em>\n",
       "\n",
       "</div>\n",
       "</div>\n",
       "</html>"
      ],
      "text/plain": [
       "Hist(Regular(100, 0, 5, label='Axis 0'), storage=Double()) # Sum: 2962875.0 (2981136.0 with flow)"
      ]
     },
     "execution_count": 109,
     "metadata": {},
     "output_type": "execute_result"
    }
   ],
   "source": [
    "hist.Hist.new.Reg(100, 0, 5).Double().fill(\n",
    "    ak.flatten(mu.deltaR(g), axis=None)\n",
    ")"
   ]
  },
  {
   "cell_type": "markdown",
   "id": "4ffa52e4-86fb-47d9-a110-489f88c55978",
   "metadata": {},
   "source": [
    "Some are very close to zero, some not.\n",
    "\n",
    "How about if we look only at generator-level muons? Only non-muons?"
   ]
  },
  {
   "cell_type": "code",
   "execution_count": 110,
   "id": "96b7ed87-1bfa-4846-a246-59c5c8e04b4e",
   "metadata": {},
   "outputs": [
    {
     "data": {
      "text/html": [
       "<html>\n",
       "<div style=\"display:flex; align-items:center;\">\n",
       "<div style=\"width:290px;\">\n",
       "<svg xmlns=\"http://www.w3.org/2000/svg\" viewBox=\"-10 -105 270 120\">\n",
       "<line x1=\"-5\" y1=\"0\" x2=\"255\" y2=\"0\" style=\"fill:none;stroke-width:2;stroke:currentColor\"/>\n",
       "<text text-anchor=\"middle\" x=\"0\" y=\"15\" style=\"fill:currentColor;\">\n",
       "0\n",
       "</text>\n",
       "<text text-anchor=\"middle\" x=\"250\" y=\"15\" style=\"fill:currentColor;\">\n",
       "5\n",
       "</text>\n",
       "<text text-anchor=\"middle\" x=\"125.0\" y=\"15\" style=\"fill:currentColor;\">\n",
       "Axis 0\n",
       "</text>\n",
       "<polyline points=\"  0,0   0,-100 2.5,-100 2.5,-0.305   5,-0.305   5,-0.356 7.5,-0.356 7.5,-0.472  10,-0.472  10,-0.601 12.5,-0.601 12.5,-0.68  15,-0.68  15,-0.824 17.5,-0.824 17.5,-0.883  20,-0.883  20,-0.921 22.5,-0.921 22.5,-1.07  25,-1.07  25,-1.26 27.5,-1.26 27.5,-1.31  30,-1.31  30,-1.37 32.5,-1.37 32.5,-1.43  35,-1.43  35,-1.49 37.5,-1.49 37.5,-1.54  40,-1.54  40,-1.62 42.5,-1.62 42.5,-1.68  45,-1.68  45,-1.68 47.5,-1.68 47.5,-1.79  50,-1.79  50,-1.81 52.5,-1.81 52.5,-1.82  55,-1.82  55,-1.9 57.5,-1.9 57.5,-1.86  60,-1.86  60,-1.92 62.5,-1.92 62.5,-2.04  65,-2.04  65,-2.03 67.5,-2.03 67.5,-2.11  70,-2.11  70,-2.08 72.5,-2.08 72.5,-2.18  75,-2.18  75,-2.2 77.5,-2.2 77.5,-2.19  80,-2.19  80,-2.34 82.5,-2.34 82.5,-2.34  85,-2.34  85,-2.35 87.5,-2.35 87.5,-2.45  90,-2.45  90,-2.49 92.5,-2.49 92.5,-2.5  95,-2.5  95,-2.55 97.5,-2.55 97.5,-2.69 100,-2.69 100,-2.73 102.5,-2.73 102.5,-2.72 105,-2.72 105,-2.76 107.5,-2.76 107.5,-2.87 110,-2.87 110,-2.93 112.5,-2.93 112.5,-3.07 115,-3.07 115,-3.07 117.5,-3.07 117.5,-3.25 120,-3.25 120,-3.34 122.5,-3.34 122.5,-3.44 125,-3.44 125,-3.59 127.5,-3.59 127.5,-3.72 130,-3.72 130,-3.86 132.5,-3.86 132.5,-3.99 135,-3.99 135,-4.17 137.5,-4.17 137.5,-4.31 140,-4.31 140,-4.46 142.5,-4.46 142.5,-4.6 145,-4.6 145,-4.66 147.5,-4.66 147.5,-4.75 150,-4.75 150,-5 152.5,-5 152.5,-5 155,-5 155,-4.99 157.5,-4.99 157.5,-3.6 160,-3.6 160,-2.77 162.5,-2.77 162.5,-2.15 165,-2.15 165,-1.81 167.5,-1.81 167.5,-1.54 170,-1.54 170,-1.29 172.5,-1.29 172.5,-1.14 175,-1.14 175,-0.949 177.5,-0.949 177.5,-0.829 180,-0.829 180,-0.709 182.5,-0.709 182.5,-0.647 185,-0.647 185,-0.535 187.5,-0.535 187.5,-0.487 190,-0.487 190,-0.425 192.5,-0.425 192.5,-0.336 195,-0.336 195,-0.316 197.5,-0.316 197.5,-0.276 200,-0.276 200,-0.224 202.5,-0.224 202.5,-0.22 205,-0.22 205,-0.204 207.5,-0.204 207.5,-0.173 210,-0.173 210,-0.132 212.5,-0.132 212.5,-0.121 215,-0.121 215,-0.112 217.5,-0.112 217.5,-0.107 220,-0.107 220,-0.0889 222.5,-0.0889 222.5,-0.066 225,-0.066 225,-0.0648 227.5,-0.0648 227.5,-0.0575 230,-0.0575 230,-0.0506 232.5,-0.0506 232.5,-0.0397 235,-0.0397 235,-0.0443 237.5,-0.0443 237.5,-0.0365 240,-0.0365 240,-0.0314 242.5,-0.0314 242.5,-0.0247 245,-0.0247 245,-0.0255 247.5,-0.0255 247.5,-0.0206 250,-0.0206 250,0\" style=\"fill:none; stroke:currentColor;\"/>\n",
       "</svg>\n",
       "</div>\n",
       "<div style=\"flex=grow:1;\">\n",
       "Regular(100, 0, 5, label='Axis 0')<br/>\n",
       "<hr style=\"margin-top:.2em; margin-bottom:.2em;\"/>\n",
       "Double() Σ=2021989.0 <em>(2023850.0 with flow)</em>\n",
       "\n",
       "</div>\n",
       "</div>\n",
       "</html>"
      ],
      "text/plain": [
       "Hist(Regular(100, 0, 5, label='Axis 0'), storage=Double()) # Sum: 2021989.0 (2023850.0 with flow)"
      ]
     },
     "execution_count": 110,
     "metadata": {},
     "output_type": "execute_result"
    }
   ],
   "source": [
    "hist.Hist.new.Reg(100, 0, 5).Double().fill(\n",
    "    ak.flatten(mu.deltaR(g)[abs(g.pdgId) == 13], axis=None)\n",
    ")"
   ]
  },
  {
   "cell_type": "markdown",
   "id": "4e2ea69c-3df6-4684-9d6a-d64876024fb6",
   "metadata": {},
   "source": [
    "What we want is not ΔR for _all_ reco-gen pairs, but the minimum ΔR for each reco muon.\n",
    "\n",
    "[ak.min](https://awkward-array.readthedocs.io/en/latest/_auto/ak.min.html) is a reducer, removing that extra layer of nested list we made with `nested=True`."
   ]
  },
  {
   "cell_type": "code",
   "execution_count": 151,
   "id": "c485aff7-212e-4241-b818-34114bdf1f65",
   "metadata": {},
   "outputs": [
    {
     "data": {
      "text/plain": [
       "<Array [[], [[0.000383, ... 3.21, 1.25]]] type='299683 * var * var * float32'>"
      ]
     },
     "execution_count": 151,
     "metadata": {},
     "output_type": "execute_result"
    }
   ],
   "source": [
    "mu.deltaR(g)"
   ]
  },
  {
   "cell_type": "code",
   "execution_count": 150,
   "id": "20b0abb4-b9b1-4710-ac92-163c164a6fcd",
   "metadata": {},
   "outputs": [
    {
     "data": {
      "text/plain": [
       "<Array [[], [0.000383, ... 0.000197, 0.000307]] type='299683 * var * ?float32'>"
      ]
     },
     "execution_count": 150,
     "metadata": {},
     "output_type": "execute_result"
    }
   ],
   "source": [
    "ak.min(mu.deltaR(g), axis=-1)"
   ]
  },
  {
   "cell_type": "markdown",
   "id": "a4bfe237-0bb2-4cf2-86ed-160b05f8170b",
   "metadata": {},
   "source": [
    "Zoom into small ranges of ΔR."
   ]
  },
  {
   "cell_type": "code",
   "execution_count": 111,
   "id": "f2a3b3b6-6f11-4164-9b95-78f513b70b83",
   "metadata": {},
   "outputs": [
    {
     "data": {
      "text/html": [
       "<html>\n",
       "<div style=\"display:flex; align-items:center;\">\n",
       "<div style=\"width:290px;\">\n",
       "<svg xmlns=\"http://www.w3.org/2000/svg\" viewBox=\"-10 -105 270 120\">\n",
       "<line x1=\"-5\" y1=\"0\" x2=\"255\" y2=\"0\" style=\"fill:none;stroke-width:2;stroke:currentColor\"/>\n",
       "<text text-anchor=\"middle\" x=\"0\" y=\"15\" style=\"fill:currentColor;\">\n",
       "0\n",
       "</text>\n",
       "<text text-anchor=\"middle\" x=\"250\" y=\"15\" style=\"fill:currentColor;\">\n",
       "5\n",
       "</text>\n",
       "<text text-anchor=\"middle\" x=\"125.0\" y=\"15\" style=\"fill:currentColor;\">\n",
       "Axis 0\n",
       "</text>\n",
       "<polyline points=\"  0,0   0,-100 2.5,-100 2.5,-1.97   5,-1.97   5,-0.841 7.5,-0.841 7.5,-0.377  10,-0.377  10,-0.2 12.5,-0.2 12.5,-0.157  15,-0.157  15,-0.157 17.5,-0.157 17.5,-0.172  20,-0.172  20,-0.167 22.5,-0.167 22.5,-0.169  25,-0.169  25,-0.181 27.5,-0.181 27.5,-0.171  30,-0.171  30,-0.179 32.5,-0.179 32.5,-0.161  35,-0.161  35,-0.159 37.5,-0.159 37.5,-0.154  40,-0.154  40,-0.148 42.5,-0.148 42.5,-0.133  45,-0.133  45,-0.139 47.5,-0.139 47.5,-0.125  50,-0.125  50,-0.12 52.5,-0.12 52.5,-0.115  55,-0.115  55,-0.0962 57.5,-0.0962 57.5,-0.106  60,-0.106  60,-0.0877 62.5,-0.0877 62.5,-0.0936  65,-0.0936  65,-0.0893 67.5,-0.0893 67.5,-0.0916  70,-0.0916  70,-0.0749 72.5,-0.0749 72.5,-0.0716  75,-0.0716  75,-0.0757 77.5,-0.0757 77.5,-0.0767  80,-0.0767  80,-0.0711 82.5,-0.0711 82.5,-0.0711  85,-0.0711  85,-0.0675 87.5,-0.0675 87.5,-0.0721  90,-0.0721  90,-0.0632 92.5,-0.0632 92.5,-0.0696  95,-0.0696  95,-0.0532 97.5,-0.0532 97.5,-0.055 100,-0.055 100,-0.0583 102.5,-0.0583 102.5,-0.0527 105,-0.0527 105,-0.0522 107.5,-0.0522 107.5,-0.0524 110,-0.0524 110,-0.0506 112.5,-0.0506 112.5,-0.0448 115,-0.0448 115,-0.0417 117.5,-0.0417 117.5,-0.0422 120,-0.0422 120,-0.0402 122.5,-0.0402 122.5,-0.0448 125,-0.0448 125,-0.0345 127.5,-0.0345 127.5,-0.034 130,-0.034 130,-0.0312 132.5,-0.0312 132.5,-0.0312 135,-0.0312 135,-0.0348 137.5,-0.0348 137.5,-0.033 140,-0.033 140,-0.0307 142.5,-0.0307 142.5,-0.0202 145,-0.0202 145,-0.0248 147.5,-0.0248 147.5,-0.0248 150,-0.0248 150,-0.0251 152.5,-0.0251 152.5,-0.021 155,-0.021 155,-0.0171 157.5,-0.0171 157.5,-0.0182 160,-0.0182 160,-0.0141 162.5,-0.0141 162.5,-0.0141 165,-0.0141 165,-0.0156 167.5,-0.0156 167.5,-0.011 170,-0.011 170,-0.00742 172.5,-0.00742 172.5,-0.00997 175,-0.00997 175,-0.00793 177.5,-0.00793 177.5,-0.0107 180,-0.0107 180,-0.00895 182.5,-0.00895 182.5,-0.00665 185,-0.00665 185,-0.00307 187.5,-0.00307 187.5,-0.00384 190,-0.00384 190,-0.00307 192.5,-0.00307 192.5,-0.00205 195,-0.00205 195,-0.00307 197.5,-0.00307 197.5,-0.00102 200,-0.00102 200,-0.00409 202.5,-0.00409 202.5,-0.00256 205,-0.00256 205,-0.00102 207.5,-0.00102 207.5,-0.00256 210,-0.00256 210,-0.000767 212.5,-0.000767 212.5,-0.00205 215,-0.00205 215,-0.00128 217.5,-0.00128 217.5,-0.00153 220,-0.00153 220,-0.000767 222.5,-0.000767 222.5,-0.000767 225,-0.000767 225,-0 227.5,-0 227.5,-0.000767 230,-0.000767 230,-0.000256 232.5,-0.000256 232.5,-0.000512 235,-0.000512 235,-0 237.5,-0 237.5,-0.000512 240,-0.000512 240,-0.000767 242.5,-0.000767 242.5,-0.000256 245,-0.000256 245,-0.000512 247.5,-0.000512 247.5,-0 250,-0 250,0\" style=\"fill:none; stroke:currentColor;\"/>\n",
       "</svg>\n",
       "</div>\n",
       "<div style=\"flex=grow:1;\">\n",
       "Regular(100, 0, 5, label='Axis 0')<br/>\n",
       "<hr style=\"margin-top:.2em; margin-bottom:.2em;\"/>\n",
       "Double() Σ=423736.0 <em>(423743.0 with flow)</em>\n",
       "\n",
       "</div>\n",
       "</div>\n",
       "</html>"
      ],
      "text/plain": [
       "Hist(Regular(100, 0, 5, label='Axis 0'), storage=Double()) # Sum: 423736.0 (423743.0 with flow)"
      ]
     },
     "execution_count": 111,
     "metadata": {},
     "output_type": "execute_result"
    }
   ],
   "source": [
    "hist.Hist.new.Reg(100, 0, 5).Double().fill(\n",
    "    ak.flatten(ak.min(mu.deltaR(g), axis=-1), axis=None)\n",
    ")"
   ]
  },
  {
   "cell_type": "markdown",
   "id": "207d1d36-56e0-4164-bea1-9afad132bd4b",
   "metadata": {},
   "source": [
    "Instead of just plotting the minimum, let's get the [ak.argmin](https://awkward-array.readthedocs.io/en/latest/_auto/ak.argmin.html), the index position of the best ΔR.\n",
    "\n",
    "(`keepdims=True` keeps the reducer from removing a dimension, which we'll need for the slice in the next step. The best indexes are in length-1 lists.)"
   ]
  },
  {
   "cell_type": "code",
   "execution_count": 112,
   "id": "7d472fd1-e69b-4b52-ac15-cb07deb615c1",
   "metadata": {},
   "outputs": [
    {
     "data": {
      "text/plain": [
       "<Array [[], [[0], [1]], ... [1], [2], [3]]] type='299683 * var * var * ?int64'>"
      ]
     },
     "execution_count": 112,
     "metadata": {},
     "output_type": "execute_result"
    }
   ],
   "source": [
    "best = ak.argmin(mu.deltaR(g), axis=-1, keepdims=True)\n",
    "best"
   ]
  },
  {
   "cell_type": "markdown",
   "id": "24beb3a3-729c-49e1-a522-29c87365690b",
   "metadata": {},
   "source": [
    "This slice picks out the reco-gen pairs with minimal ΔR."
   ]
  },
  {
   "cell_type": "code",
   "execution_count": 113,
   "id": "f644c1db-2e12-4228-a3f5-5729b8bdb2ca",
   "metadata": {},
   "outputs": [
    {
     "data": {
      "text/plain": [
       "<Array [[], [[{muon: {, ... pdgId: 13}}]]] type='299683 * var * var * ?{\"muon\": ...'>"
      ]
     },
     "execution_count": 113,
     "metadata": {},
     "output_type": "execute_result"
    }
   ],
   "source": [
    "reco_gen[best]"
   ]
  },
  {
   "cell_type": "markdown",
   "id": "49ef062d-7aca-4ff9-a8b6-3aaf28cc3249",
   "metadata": {},
   "source": [
    "And there you have it: an array of `{muon: ABC, gen: XYZ}` pairs representing the best match for each reco muon."
   ]
  },
  {
   "cell_type": "code",
   "execution_count": 114,
   "id": "caef1c5a-6f84-45cd-98e9-7a59f456eaf4",
   "metadata": {},
   "outputs": [
    {
     "data": {
      "text/plain": [
       "[[],\n",
       " [{'muon': {'pt': 18.583789825439453,\n",
       "    'eta': -0.17873963713645935,\n",
       "    'phi': 2.1292223930358887,\n",
       "    'mass': 0.10565836727619171,\n",
       "    'charge': 1},\n",
       "   'gen': {'pt': 18.733409881591797,\n",
       "    'eta': -0.17861033976078033,\n",
       "    'phi': 2.1295831203460693,\n",
       "    'pdgId': -13}},\n",
       "  {'muon': {'pt': 23.630338668823242,\n",
       "    'eta': 0.22412824630737305,\n",
       "    'phi': -2.0946476459503174,\n",
       "    'mass': 0.10565836727619171,\n",
       "    'charge': -1},\n",
       "   'gen': {'pt': 23.816869735717773,\n",
       "    'eta': 0.22458051145076752,\n",
       "    'phi': -2.0947155952453613,\n",
       "    'pdgId': 13}}],\n",
       " [],\n",
       " [{'muon': {'pt': 26.678863525390625,\n",
       "    'eta': -1.2300245761871338,\n",
       "    'phi': -1.3949246406555176,\n",
       "    'mass': 0.10565836727619171,\n",
       "    'charge': -1},\n",
       "   'gen': {'pt': 26.755929946899414,\n",
       "    'eta': -1.2301405668258667,\n",
       "    'phi': -1.3949953317642212,\n",
       "    'pdgId': 13}},\n",
       "  {'muon': {'pt': 21.356121063232422,\n",
       "    'eta': 1.2668139934539795,\n",
       "    'phi': 1.0259664058685303,\n",
       "    'mass': 0.10565836727619171,\n",
       "    'charge': 1},\n",
       "   'gen': {'pt': 22.26161003112793,\n",
       "    'eta': 1.266518235206604,\n",
       "    'phi': 1.0261328220367432,\n",
       "    'pdgId': -13}},\n",
       "  {'muon': {'pt': 5.6486287117004395,\n",
       "    'eta': 0.8799014091491699,\n",
       "    'phi': 0.07848669588565826,\n",
       "    'mass': 0.10565836727619171,\n",
       "    'charge': 1},\n",
       "   'gen': {'pt': 22.26161003112793,\n",
       "    'eta': 1.266518235206604,\n",
       "    'phi': 1.0261328220367432,\n",
       "    'pdgId': -13}}]]"
      ]
     },
     "execution_count": 114,
     "metadata": {},
     "output_type": "execute_result"
    }
   ],
   "source": [
    "ak.flatten(reco_gen[best], axis=-1)[:4].tolist()"
   ]
  },
  {
   "cell_type": "markdown",
   "id": "dd5601a5-a19c-4aaa-a7bc-71a6714d36ed",
   "metadata": {},
   "source": [
    "<br><br><br><br><br>\n",
    "\n",
    "## Numba: a just-in-time compiler for Python\n",
    "\n",
    "It's possible to do complex combinatorics with array-at-a-time functions, but nested \"for\" loops would often be easier.\n",
    "\n",
    "Nested \"for\" loops can be fast if they're compiled.\n",
    "\n",
    "[Numba](https://numba.pydata.org/) compiles Python."
   ]
  },
  {
   "cell_type": "code",
   "execution_count": 115,
   "id": "3d32daa1-416a-421a-8a14-b6aa6a5e4225",
   "metadata": {},
   "outputs": [],
   "source": [
    "import numba as nb"
   ]
  },
  {
   "cell_type": "markdown",
   "id": "9725e5a6-c862-43f3-b986-45248e3844b7",
   "metadata": {},
   "source": [
    "Remember how long it takes to run a loop in Python?"
   ]
  },
  {
   "cell_type": "code",
   "execution_count": 116,
   "id": "97e82859-8c1a-41f8-b3df-2bde39de6a0c",
   "metadata": {},
   "outputs": [
    {
     "name": "stdout",
     "output_type": "stream",
     "text": [
      "total time: 42.150798082351685 sec\n"
     ]
    }
   ],
   "source": [
    "starttime = time.time()\n",
    "\n",
    "sumpt = np.zeros(len(array), np.float64)\n",
    "for i, event in enumerate(array):\n",
    "    for muon in event.muons:\n",
    "        sumpt[i] += muon.pt\n",
    "\n",
    "python_time = time.time() - starttime\n",
    "print(f\"total time: {python_time} sec\")"
   ]
  },
  {
   "cell_type": "markdown",
   "id": "de091a4f-ce97-4fd4-9cf1-85ba298ab010",
   "metadata": {},
   "source": [
    "The same loop, in a function preceded by `@nb.jit`, is compiled by Numba when you first call it."
   ]
  },
  {
   "cell_type": "code",
   "execution_count": 117,
   "id": "c31b3d78-ac2e-4ad3-89af-7e0b7154039d",
   "metadata": {},
   "outputs": [],
   "source": [
    "@nb.jit\n",
    "def calculate_sumpt(array):\n",
    "    out = np.zeros(len(array), np.float64)\n",
    "    for i, event in enumerate(array):\n",
    "        for muon in event.muons:\n",
    "            out[i] += muon.pt\n",
    "    return out"
   ]
  },
  {
   "cell_type": "code",
   "execution_count": 118,
   "id": "7f881e35-6854-4156-ba34-828e420ac09d",
   "metadata": {},
   "outputs": [
    {
     "data": {
      "text/plain": [
       "array([  0.        ,  42.21412849,   0.        , ...,  26.54553461,\n",
       "        91.49959946, 108.89332008])"
      ]
     },
     "execution_count": 118,
     "metadata": {},
     "output_type": "execute_result"
    }
   ],
   "source": [
    "calculate_sumpt(array)"
   ]
  },
  {
   "cell_type": "code",
   "execution_count": 119,
   "id": "3298e66a-766f-4f62-b1d3-66150bead7fc",
   "metadata": {},
   "outputs": [
    {
     "name": "stdout",
     "output_type": "stream",
     "text": [
      "total time: 0.012266397476196289 sec\n"
     ]
    }
   ],
   "source": [
    "starttime = time.time()\n",
    "\n",
    "sumpt = calculate_sumpt(array)\n",
    "\n",
    "numba_time = time.time() - starttime\n",
    "print(f\"total time: {numba_time} sec\")"
   ]
  },
  {
   "cell_type": "code",
   "execution_count": 120,
   "id": "55c1719a-115e-4ffb-92ce-1418846aa374",
   "metadata": {},
   "outputs": [
    {
     "data": {
      "text/plain": [
       "3436.2817741841436"
      ]
     },
     "execution_count": 120,
     "metadata": {},
     "output_type": "execute_result"
    }
   ],
   "source": [
    "python_time / numba_time"
   ]
  },
  {
   "cell_type": "markdown",
   "id": "4bcb8398-8b3e-4b8d-ad50-018bd58f7b26",
   "metadata": {},
   "source": [
    "In many cases, Numba is _faster_ than the corresponding array-at-a-time function."
   ]
  },
  {
   "cell_type": "code",
   "execution_count": 121,
   "id": "320b94b1-612c-4eb3-8526-1abfb39160d3",
   "metadata": {},
   "outputs": [
    {
     "name": "stdout",
     "output_type": "stream",
     "text": [
      "total time: 0.05557370185852051 sec\n"
     ]
    }
   ],
   "source": [
    "starttime = time.time()\n",
    "\n",
    "sumpt = ak.sum(array, axis=-1)\n",
    "\n",
    "awkward_time = time.time() - starttime\n",
    "print(f\"total time: {awkward_time} sec\")"
   ]
  },
  {
   "cell_type": "code",
   "execution_count": 122,
   "id": "a5dd08ef-2ff9-494a-9c32-93e2af901225",
   "metadata": {},
   "outputs": [
    {
     "data": {
      "text/plain": [
       "758.4666249093709"
      ]
     },
     "execution_count": 122,
     "metadata": {},
     "output_type": "execute_result"
    }
   ],
   "source": [
    "python_time / awkward_time"
   ]
  },
  {
   "cell_type": "markdown",
   "id": "4ada4b0b-4cc2-4c5a-98d7-2c4a53744f01",
   "metadata": {},
   "source": [
    "**Conclusion:** use array-at-a-time functions when you're working interactively or it's the most concise/easy-to-understand way to write an expression.\n",
    "\n",
    "Use Numba when you need extreme speed or \"for\" loops are the most concise/easy-to-understand way to write it.\n",
    "\n",
    "Convoluted code, just for the sake of using array-at-a-time functions, is not helping anybody!"
   ]
  },
  {
   "cell_type": "markdown",
   "id": "5e79a8fd-e33b-4aac-adc9-cd30c0089327",
   "metadata": {},
   "source": [
    "<br><br><br><br><br>\n",
    "\n",
    "## Limitations of Numba\n",
    "\n",
    "Maybe this sounds too good to be true: \"Python is slow, but put `@nb.jit` on each function and it will be fast.\"\n",
    "\n",
    "The truth is that Numba only works on a _subset_ of Python. It replaces Python code with statically typed, compiled code, and Python is too dynamic of a language for that to always be possible. The Numba team keeps a list of [supported Python language features](https://numba.pydata.org/numba-doc/dev/reference/pysupported.html) and [supported NumPy functions](https://numba.pydata.org/numba-doc/dev/reference/numpysupported.html). Numba also only recognizes libraries that have been explicitly extended to work with it. Awkward Array and Vector have been extended; hist will be.\n",
    "\n",
    "When it fails, the error messages can be hard to understand. Hint: start with a small, do-nothing function and gradually fold in the features you want, to better know which part is causing the error. See also [my tutorial on Numba](https://youtu.be/X_BJrmofRWQ).\n",
    "\n",
    "If you're willing to learn a new language, [Julia](https://julialang.org/) is designed from the ground up as a just-in-time compilable language. See the session on Friday.\n",
    "\n",
    "<img src=\"img/indico-julia.png\" width=\"800px\"/>"
   ]
  },
  {
   "cell_type": "markdown",
   "id": "8d2f6699-cfde-44a2-be8d-09443e5dbd67",
   "metadata": {},
   "source": [
    "<br><br><br><br><br>\n",
    "\n",
    "## Reconstructed/generator-level matching in Numba\n",
    "\n",
    "Before we repeat the reco-gen matching exercise in Numba, let's build a simple Awkward Array output from a Numba-compiled function using [ak.ArrayBuilder](https://awkward-array.readthedocs.io/en/latest/_auto/ak.ArrayBuilder.html)."
   ]
  },
  {
   "cell_type": "code",
   "execution_count": 123,
   "id": "c1bcb528-adf2-4e39-8b8c-2d48ad4958e5",
   "metadata": {},
   "outputs": [
    {
     "data": {
      "text/plain": [
       "<Array [[], [18.6, 23.6, ... 36.4, 19.6, 22.6]] type='299683 * var * float64'>"
      ]
     },
     "execution_count": 123,
     "metadata": {},
     "output_type": "execute_result"
    }
   ],
   "source": [
    "@nb.jit\n",
    "def build_nested(array, builder):\n",
    "    for event in array:\n",
    "        builder.begin_list()\n",
    "        \n",
    "        for muon in event.muons:\n",
    "            builder.append(muon.pt)\n",
    "        \n",
    "        builder.end_list()\n",
    "    \n",
    "    return builder\n",
    "\n",
    "build_nested(array, ak.ArrayBuilder()).snapshot()"
   ]
  },
  {
   "cell_type": "markdown",
   "id": "e1d08f3f-b41b-4316-acba-436ed255f023",
   "metadata": {},
   "source": [
    "It's the same as `array.muons.pt`, so this is definitely an example where the array-at-a-time function is simpler."
   ]
  },
  {
   "cell_type": "code",
   "execution_count": 124,
   "id": "461934cb-d86d-4c2f-ae78-6b70c4e2999b",
   "metadata": {},
   "outputs": [
    {
     "data": {
      "text/plain": [
       "<Array [[], [18.6, 23.6, ... 36.4, 19.6, 22.6]] type='299683 * var * float32'>"
      ]
     },
     "execution_count": 124,
     "metadata": {},
     "output_type": "execute_result"
    }
   ],
   "source": [
    "array.muons.pt"
   ]
  },
  {
   "cell_type": "markdown",
   "id": "0c9396e5-31f3-4cc7-b05d-ba797b0b9f25",
   "metadata": {},
   "source": [
    "Reco-gen matching, however, is simpler as a nested \"for\" loop.\n",
    "\n",
    "Note that we don't have to output the fully formed array; it is enough to use Numba to make the index that we slice arrays with outside of the Numba-compiled function."
   ]
  },
  {
   "cell_type": "code",
   "execution_count": 125,
   "id": "939db3f2-105a-4c9f-b915-d4360189879f",
   "metadata": {},
   "outputs": [
    {
     "data": {
      "text/plain": [
       "<Array [[], [0, 1], [], ... 2], [0, 1, 2, 3]] type='299683 * var * int64'>"
      ]
     },
     "execution_count": 125,
     "metadata": {},
     "output_type": "execute_result"
    }
   ],
   "source": [
    "@nb.jit\n",
    "def matching(array_muons, array_gen, builder):\n",
    "    for muons_event, gen_event in zip(array_muons, array_gen):\n",
    "        builder.begin_list()\n",
    "\n",
    "        for muon in muons_event:\n",
    "            best_i = -1\n",
    "            best_dr = -1.0\n",
    "            for i, gen in enumerate(gen_event):\n",
    "                dr = muon.deltaR(gen)\n",
    "                if best_i < 0 or dr < best_dr:\n",
    "                    best_i = i\n",
    "                    best_dr = dr\n",
    "\n",
    "            if best_i < 0:\n",
    "                builder.append(None)\n",
    "            else:\n",
    "                builder.append(best_i)\n",
    "\n",
    "        builder.end_list()\n",
    "\n",
    "    return builder\n",
    "\n",
    "index_of_best = matching(muons, gen, ak.ArrayBuilder()).snapshot()\n",
    "index_of_best"
   ]
  },
  {
   "cell_type": "markdown",
   "id": "cb480f69-9495-40c4-90cc-6d33b288a9dd",
   "metadata": {},
   "source": [
    "This index picks the best generator-level particle for each reconstructed muon."
   ]
  },
  {
   "cell_type": "code",
   "execution_count": 126,
   "id": "99772fba-3fa2-4029-acc5-869326199f6f",
   "metadata": {},
   "outputs": [
    {
     "data": {
      "text/plain": [
       "<MomentumArray3D [[], [{pt: 18.7, ... pdgId: 13}]] type='299683 * var * Momentum...'>"
      ]
     },
     "execution_count": 126,
     "metadata": {},
     "output_type": "execute_result"
    }
   ],
   "source": [
    "gen_match = gen[index_of_best]\n",
    "gen_match"
   ]
  },
  {
   "cell_type": "code",
   "execution_count": 127,
   "id": "770db62e-0b0c-44ed-affa-46d40fabeebd",
   "metadata": {},
   "outputs": [
    {
     "data": {
      "text/plain": [
       "(<Array [6, 6, 1, 5, 10, 2, ... 3, 7, 7, 6, 8] type='299683 * int64'>,\n",
       " <Array [0, 2, 0, 3, 1, 1, ... 5, 2, 0, 2, 3, 4] type='299683 * int64'>,\n",
       " <Array [0, 2, 0, 3, 1, 1, ... 5, 2, 0, 2, 3, 4] type='299683 * int64'>)"
      ]
     },
     "execution_count": 127,
     "metadata": {},
     "output_type": "execute_result"
    }
   ],
   "source": [
    "ak.num(gen), ak.num(muons), ak.num(gen_match)"
   ]
  },
  {
   "cell_type": "markdown",
   "id": "52540f41-0c5a-4da0-be0c-2616c86bf179",
   "metadata": {},
   "source": [
    "So building the reco-gen pairs is just an [ak.zip](https://awkward-array.readthedocs.io/en/latest/_auto/ak.zip.html).\n",
    "\n",
    "_This_ part would be harder in Numba. Use the best tool for each job."
   ]
  },
  {
   "cell_type": "code",
   "execution_count": 128,
   "id": "5728452e-9555-4f9a-9bc7-43715c5ba47a",
   "metadata": {},
   "outputs": [
    {
     "data": {
      "text/plain": [
       "<Array [[], [{muons: {, ... pdgId: 13}}]] type='299683 * var * {\"muons\": Momentu...'>"
      ]
     },
     "execution_count": 128,
     "metadata": {},
     "output_type": "execute_result"
    }
   ],
   "source": [
    "ak.zip({\"muons\": muons, \"gen\": gen_match})"
   ]
  },
  {
   "cell_type": "markdown",
   "id": "2f808df6-c72d-465f-95e3-318cb6e21033",
   "metadata": {},
   "source": [
    "<br><br><br><br><br>\n",
    "\n",
    "## Example: identifying Z bosons in H → ZZ → 4μ\n",
    "\n",
    "The Higgs boson decays to an \"on-shell\" Z boson (with a mass near 91 GeV) and an \"off-shell\" Z boson (much lower mass).\n",
    "\n",
    "In a real analysis, it is necessary to know which is which, because different quality cuts are applied. Given only the four muons, finding the right pair of pairs is a combinatorics problem.\n",
    "\n",
    "This example solves that problem using only array-at-a-time functions."
   ]
  },
  {
   "cell_type": "code",
   "execution_count": 129,
   "id": "86475e92-a4af-4de1-946a-453810b9e7f1",
   "metadata": {},
   "outputs": [
    {
     "data": {
      "text/plain": [
       "<MomentumArray4D [[{pt: 25.8, eta: 1.3, ... charge: -1}]] type='22138 * var * Mo...'>"
      ]
     },
     "execution_count": 129,
     "metadata": {},
     "output_type": "execute_result"
    }
   ],
   "source": [
    "four_muons = muons[(ak.num(muons) == 4) & (ak.sum(muons.charge, axis=-1) == 0)]\n",
    "four_muons"
   ]
  },
  {
   "cell_type": "markdown",
   "id": "2aa03072-67de-4a9b-8046-d62b098c5fd9",
   "metadata": {},
   "source": [
    "General strategy: identify qualitatively distinct collections as separate named arrays.\n",
    "\n",
    "The names will help you in thinking about the problem."
   ]
  },
  {
   "cell_type": "code",
   "execution_count": 130,
   "id": "17ad82aa-b12a-4fdd-b77a-cc5f761b3f81",
   "metadata": {},
   "outputs": [
    {
     "data": {
      "text/plain": [
       "(<MomentumArray4D [[{pt: 25.8, eta: 1.3, ... charge: 1}]] type='22138 * var * Mom...'>,\n",
       " <MomentumArray4D [[{pt: 27.5, ... charge: -1}]] type='22138 * var * Momentum4D[\"...'>)"
      ]
     },
     "execution_count": 130,
     "metadata": {},
     "output_type": "execute_result"
    }
   ],
   "source": [
    "mu_plus = four_muons[four_muons.charge > 0]\n",
    "mu_minus = four_muons[four_muons.charge < 0]\n",
    "mu_plus, mu_minus"
   ]
  },
  {
   "cell_type": "markdown",
   "id": "943ef36b-8f16-49b3-b5ad-43e7e5b2694a",
   "metadata": {},
   "source": [
    "By construction (the cut defining `four_muons`), all lists in `mu_plus` and `mu_minus` have exactly two items each."
   ]
  },
  {
   "cell_type": "code",
   "execution_count": 131,
   "id": "270dc924-b436-4e69-84e3-d14181dd5198",
   "metadata": {},
   "outputs": [
    {
     "data": {
      "text/plain": [
       "(<Array [2, 2, 2, 2, 2, 2, ... 2, 2, 2, 2, 2, 2] type='22138 * int64'>,\n",
       " <Array [2, 2, 2, 2, 2, 2, ... 2, 2, 2, 2, 2, 2] type='22138 * int64'>)"
      ]
     },
     "execution_count": 131,
     "metadata": {},
     "output_type": "execute_result"
    }
   ],
   "source": [
    "ak.num(mu_plus), ak.num(mu_minus)"
   ]
  },
  {
   "cell_type": "markdown",
   "id": "cca3cc8a-c707-459c-8054-0772309771ad",
   "metadata": {},
   "source": [
    "You can check that explicitly to increase confidence and (if necessary) debug."
   ]
  },
  {
   "cell_type": "code",
   "execution_count": 152,
   "id": "e1faa026-eb05-4c1f-9342-dc9861b9a7c0",
   "metadata": {},
   "outputs": [
    {
     "data": {
      "text/plain": [
       "(True, True)"
      ]
     },
     "execution_count": 152,
     "metadata": {},
     "output_type": "execute_result"
    }
   ],
   "source": [
    "ak.all(ak.num(mu_plus) == 2), ak.all(ak.num(mu_minus) == 2)"
   ]
  },
  {
   "cell_type": "markdown",
   "id": "ea20ef80-40d1-4961-95fc-86f0602ac4d7",
   "metadata": {},
   "source": [
    "Knowing this (and the fact that 2 is not a large number), we can name each of these to further simplify our structures."
   ]
  },
  {
   "cell_type": "code",
   "execution_count": 132,
   "id": "cc48c9f6-92a9-4265-8625-bce1a5f87b66",
   "metadata": {},
   "outputs": [
    {
     "data": {
      "text/plain": [
       "(<MomentumArray4D [{pt: 25.8, eta: 1.3, ... charge: 1}] type='22138 * Momentum4D[...'>,\n",
       " <MomentumArray4D [{pt: 15.4, eta: 0.885, ... charge: 1}] type='22138 * Momentum4...'>,\n",
       " <MomentumArray4D [{pt: 27.5, ... charge: -1}] type='22138 * Momentum4D[\"pt\": flo...'>,\n",
       " <MomentumArray4D [{pt: 10.9, ... charge: -1}] type='22138 * Momentum4D[\"pt\": flo...'>)"
      ]
     },
     "execution_count": 132,
     "metadata": {},
     "output_type": "execute_result"
    }
   ],
   "source": [
    "mu_plus_0 = mu_plus[:, 0]\n",
    "mu_plus_1 = mu_plus[:, 1]\n",
    "mu_minus_0 = mu_minus[:, 0]\n",
    "mu_minus_1 = mu_minus[:, 1]\n",
    "\n",
    "mu_plus_0, mu_plus_1, mu_minus_0, mu_minus_1"
   ]
  },
  {
   "cell_type": "markdown",
   "id": "17184808-6117-41e2-a9de-42d94a43a47a",
   "metadata": {},
   "source": [
    "Now, we _could_ do combinatorics using [ak.combinations](https://awkward-array.readthedocs.io/en/latest/_auto/ak.combinations.html), but with such a small number of known combinations, do it with explicitly named arrays. The structures will be simpler and the names will help you."
   ]
  },
  {
   "cell_type": "code",
   "execution_count": 133,
   "id": "f475b411-9799-452c-bedf-26bc5da7ad67",
   "metadata": {},
   "outputs": [],
   "source": [
    "z00 = mu_plus_0 + mu_minus_0\n",
    "z11 = mu_plus_1 + mu_minus_1\n",
    "\n",
    "z01 = mu_plus_0 + mu_minus_1\n",
    "z10 = mu_plus_1 + mu_minus_0"
   ]
  },
  {
   "cell_type": "markdown",
   "id": "f07eb93d-ea24-4ff0-a9c3-f1c53998ca40",
   "metadata": {},
   "source": [
    "As an aside, instead of hard-coding the Z mass, get it from the [particle](https://github.com/scikit-hep/particle#readme) package, which is like a Pythonic PDG."
   ]
  },
  {
   "cell_type": "code",
   "execution_count": 134,
   "id": "80eb37cd-3b2e-4ce4-8722-c6bb23e92fa9",
   "metadata": {},
   "outputs": [],
   "source": [
    "import particle"
   ]
  },
  {
   "cell_type": "code",
   "execution_count": 135,
   "id": "24960429-8269-4c7e-a555-86dcfc737271",
   "metadata": {},
   "outputs": [
    {
     "data": {
      "text/latex": [
       "$Z^{0}$"
      ],
      "text/plain": [
       "<Particle: name=\"Z0\", pdgid=23, mass=91187.6 ± 2.1 MeV>"
      ]
     },
     "execution_count": 135,
     "metadata": {},
     "output_type": "execute_result"
    }
   ],
   "source": [
    "particle.Particle.from_string(\"Z0\")"
   ]
  },
  {
   "cell_type": "code",
   "execution_count": 136,
   "id": "806012f6-a219-4981-8b69-375ac80f88d2",
   "metadata": {},
   "outputs": [
    {
     "data": {
      "text/plain": [
       "91187.6"
      ]
     },
     "execution_count": 136,
     "metadata": {},
     "output_type": "execute_result"
    }
   ],
   "source": [
    "particle.Particle.from_string(\"Z0\").mass"
   ]
  },
  {
   "cell_type": "code",
   "execution_count": 137,
   "id": "be0dd083-729c-4a28-9b25-047300c7899e",
   "metadata": {},
   "outputs": [],
   "source": [
    "zGeV = particle.Particle.from_string(\"Z0\").mass / 1000"
   ]
  },
  {
   "cell_type": "markdown",
   "id": "3bdd9f15-cf6f-4116-9650-a23d089e129e",
   "metadata": {},
   "source": [
    "Another aside, [np.minimum](https://numpy.org/doc/stable/reference/generated/numpy.minimum.html) is a vectorized (array-at-a-time) function"
   ]
  },
  {
   "cell_type": "code",
   "execution_count": 153,
   "id": "94ecb901-3826-4bf2-b668-7e53cfc0a104",
   "metadata": {},
   "outputs": [
    {
     "data": {
      "text/plain": [
       "array([1, 2, 3, 2, 1])"
      ]
     },
     "execution_count": 153,
     "metadata": {},
     "output_type": "execute_result"
    }
   ],
   "source": [
    "np.minimum(np.array([1, 2, 3, 4, 5]), np.array([5, 4, 3, 2, 1]))"
   ]
  },
  {
   "cell_type": "code",
   "execution_count": 139,
   "id": "8a22b15d-bae2-427c-9318-124206cfef00",
   "metadata": {},
   "outputs": [
    {
     "data": {
      "text/plain": [
       "(<Array [6.15, 46.6, 0.0506, ... 57.8, 22.9] type='22138 * float32'>,\n",
       " <Array [37.4, 9.46, 61.8, ... 5.12, 1.81, 23.1] type='22138 * float32'>)"
      ]
     },
     "execution_count": 139,
     "metadata": {},
     "output_type": "execute_result"
    }
   ],
   "source": [
    "zdist_0011 = np.minimum(abs(z00.mass - zGeV), abs(z11.mass - zGeV))\n",
    "zdist_0110 = np.minimum(abs(z01.mass - zGeV), abs(z10.mass - zGeV))\n",
    "zdist_0011, zdist_0110"
   ]
  },
  {
   "cell_type": "code",
   "execution_count": 140,
   "id": "09d64155-4cc5-49ff-b7e3-ff8669defcd4",
   "metadata": {},
   "outputs": [
    {
     "data": {
      "text/plain": [
       "<Array [True, False, True, ... False, True] type='22138 * bool'>"
      ]
     },
     "execution_count": 140,
     "metadata": {},
     "output_type": "execute_result"
    }
   ],
   "source": [
    "is_0011 = zdist_0011 < zdist_0110\n",
    "is_0011"
   ]
  },
  {
   "cell_type": "code",
   "execution_count": 141,
   "id": "518b06fb-a6a0-4b23-a7bf-efac255a9cea",
   "metadata": {},
   "outputs": [
    {
     "data": {
      "text/plain": [
       "(<MomentumArray4D [[{rho: 3.55, ... tau: 46.9}]] type='22138 * var * Momentum4D[\"...'>,\n",
       " <MomentumArray4D [[{rho: 15.3, ... tau: 48.8}]] type='22138 * var * Momentum4D[\"...'>)"
      ]
     },
     "execution_count": 141,
     "metadata": {},
     "output_type": "execute_result"
    }
   ],
   "source": [
    "z0011_pair = ak.concatenate((z00[:, np.newaxis], z11[:, np.newaxis]), axis=1)\n",
    "z0110_pair = ak.concatenate((z01[:, np.newaxis], z10[:, np.newaxis]), axis=1)\n",
    "z0011_pair, z0110_pair"
   ]
  },
  {
   "cell_type": "code",
   "execution_count": 142,
   "id": "a66cb985-d5bf-49ad-ac64-3fe89610ed75",
   "metadata": {},
   "outputs": [
    {
     "data": {
      "text/plain": [
       "(<Array [2, 2, 2, 2, 2, 2, ... 2, 2, 2, 2, 2, 2] type='22138 * int64'>,\n",
       " <Array [2, 2, 2, 2, 2, 2, ... 2, 2, 2, 2, 2, 2] type='22138 * int64'>)"
      ]
     },
     "execution_count": 142,
     "metadata": {},
     "output_type": "execute_result"
    }
   ],
   "source": [
    "ak.num(z0011_pair), ak.num(z0110_pair)"
   ]
  },
  {
   "cell_type": "code",
   "execution_count": 143,
   "id": "6bf808c4-4991-43c2-9661-bcfb13b93576",
   "metadata": {},
   "outputs": [
    {
     "data": {
      "text/plain": [
       "<MomentumArray4D [[{rho: 3.55, ... tau: 46.9}]] type='22138 * var * Momentum4D[\"...'>"
      ]
     },
     "execution_count": 143,
     "metadata": {},
     "output_type": "execute_result"
    }
   ],
   "source": [
    "correct_pair = ak.where(is_0011, z0011_pair, z0110_pair)\n",
    "correct_pair"
   ]
  },
  {
   "cell_type": "code",
   "execution_count": 144,
   "id": "83447231-d050-47c4-8cbf-584d2db61c91",
   "metadata": {},
   "outputs": [
    {
     "data": {
      "text/plain": [
       "<Array [2, 2, 2, 2, 2, 2, ... 2, 2, 2, 2, 2, 2] type='22138 * int64'>"
      ]
     },
     "execution_count": 144,
     "metadata": {},
     "output_type": "execute_result"
    }
   ],
   "source": [
    "ak.num(correct_pair)"
   ]
  },
  {
   "cell_type": "code",
   "execution_count": 145,
   "id": "7b686cb3-8bdf-4897-b2e2-1f4f9c2c2e09",
   "metadata": {},
   "outputs": [
    {
     "data": {
      "text/html": [
       "<html>\n",
       "<div style=\"display:flex; align-items:center;\">\n",
       "<div style=\"width:290px;\">\n",
       "<svg xmlns=\"http://www.w3.org/2000/svg\" viewBox=\"-10 -105 270 120\">\n",
       "<line x1=\"-5\" y1=\"0\" x2=\"255\" y2=\"0\" style=\"fill:none;stroke-width:2;stroke:currentColor\"/>\n",
       "<text text-anchor=\"middle\" x=\"0\" y=\"15\" style=\"fill:currentColor;\">\n",
       "0\n",
       "</text>\n",
       "<text text-anchor=\"middle\" x=\"250\" y=\"15\" style=\"fill:currentColor;\">\n",
       "120\n",
       "</text>\n",
       "<text text-anchor=\"middle\" x=\"125.0\" y=\"15\" style=\"fill:currentColor;\">\n",
       "mass\n",
       "</text>\n",
       "<polyline points=\"  0,0   0,-1 2.08333,-1 2.08333,-1.92 4.16667,-1.92 4.16667,-4 6.25,-4 6.25,-4.5 8.33333,-4.5 8.33333,-4.83 10.4167,-4.83 10.4167,-8.33 12.5,-8.33 12.5,-9.75 14.5833,-9.75 14.5833,-7.83 16.6667,-7.83 16.6667,-9.25 18.75,-9.25 18.75,-11.6 20.8333,-11.6 20.8333,-14.9 22.9167,-14.9 22.9167,-12.6  25,-12.6  25,-16.6 27.0833,-16.6 27.0833,-17.1 29.1667,-17.1 29.1667,-20.4 31.25,-20.4 31.25,-21.8 33.3333,-21.8 33.3333,-21.2 35.4167,-21.2 35.4167,-22.9 37.5,-22.9 37.5,-25.4 39.5833,-25.4 39.5833,-27.2 41.6667,-27.2 41.6667,-27.2 43.75,-27.2 43.75,-29.4 45.8333,-29.4 45.8333,-32.1 47.9167,-32.1 47.9167,-34.2  50,-34.2  50,-34.9 52.0833,-34.9 52.0833,-38.2 54.1667,-38.2 54.1667,-37 56.25,-37 56.25,-38.6 58.3333,-38.6 58.3333,-36.2 60.4167,-36.2 60.4167,-40.1 62.5,-40.1 62.5,-35 64.5833,-35 64.5833,-33.3 66.6667,-33.3 66.6667,-27.1 68.75,-27.1 68.75,-20.8 70.8333,-20.8 70.8333,-16.2 72.9167,-16.2 72.9167,-14.5  75,-14.5  75,-11.3 77.0833,-11.3 77.0833,-12.2 79.1667,-12.2 79.1667,-9.92 81.25,-9.92 81.25,-10.6 83.3333,-10.6 83.3333,-10.3 85.4167,-10.3 85.4167,-9.75 87.5,-9.75 87.5,-9.25 89.5833,-9.25 89.5833,-11.3 91.6667,-11.3 91.6667,-8.08 93.75,-8.08 93.75,-7.17 95.8333,-7.17 95.8333,-7.42 97.9167,-7.42 97.9167,-8.67 100,-8.67 100,-8 102.083,-8 102.083,-7.58 104.167,-7.58 104.167,-8.17 106.25,-8.17 106.25,-6.67 108.333,-6.67 108.333,-8.42 110.417,-8.42 110.417,-7.83 112.5,-7.83 112.5,-6 114.583,-6 114.583,-7.5 116.667,-7.5 116.667,-7.75 118.75,-7.75 118.75,-7.42 120.833,-7.42 120.833,-7 122.917,-7 122.917,-7.58 125,-7.58 125,-7.83 127.083,-7.83 127.083,-10.2 129.167,-10.2 129.167,-8 131.25,-8 131.25,-8.75 133.333,-8.75 133.333,-10 135.417,-10 135.417,-7.08 137.5,-7.08 137.5,-8 139.583,-8 139.583,-8.5 141.667,-8.5 141.667,-10.8 143.75,-10.8 143.75,-10.7 145.833,-10.7 145.833,-9.75 147.917,-9.75 147.917,-9.92 150,-9.92 150,-10.2 152.083,-10.2 152.083,-12.4 154.167,-12.4 154.167,-10.2 156.25,-10.2 156.25,-11.8 158.333,-11.8 158.333,-11.8 160.417,-11.8 160.417,-13.1 162.5,-13.1 162.5,-14.1 164.583,-14.1 164.583,-15.3 166.667,-15.3 166.667,-15.2 168.75,-15.2 168.75,-18.8 170.833,-18.8 170.833,-16.1 172.917,-16.1 172.917,-20.4 175,-20.4 175,-20.4 177.083,-20.4 177.083,-26.5 179.167,-26.5 179.167,-33.3 181.25,-33.3 181.25,-42.8 183.333,-42.8 183.333,-63.7 185.417,-63.7 185.417,-85.8 187.5,-85.8 187.5,-100 189.583,-100 189.583,-95.8 191.667,-95.8 191.667,-60.2 193.75,-60.2 193.75,-33.2 195.833,-33.2 195.833,-17.8 197.917,-17.8 197.917,-9.08 200,-9.08 200,-5 202.083,-5 202.083,-3.17 204.167,-3.17 204.167,-1.92 206.25,-1.92 206.25,-1.25 208.333,-1.25 208.333,-0.833 210.417,-0.833 210.417,-0.5 212.5,-0.5 212.5,-0.167 214.583,-0.167 214.583,-0.167 216.667,-0.167 216.667,-0.0833 218.75,-0.0833 218.75,-0 220.833,-0 220.833,-0.0833 222.917,-0.0833 222.917,-0.0833 225,-0.0833 225,-0 227.083,-0 227.083,-0 229.167,-0 229.167,-0 231.25,-0 231.25,-0.0833 233.333,-0.0833 233.333,-0 235.417,-0 235.417,-0 237.5,-0 237.5,-0 239.583,-0 239.583,-0.0833 241.667,-0.0833 241.667,-0 243.75,-0 243.75,-0 245.833,-0 245.833,-0 247.917,-0 247.917,-0 250,-0 250,0\" style=\"fill:none; stroke:currentColor;\"/>\n",
       "</svg>\n",
       "</div>\n",
       "<div style=\"flex=grow:1;\">\n",
       "Regular(120, 0, 120, name='mass', label='mass')<br/>\n",
       "<hr style=\"margin-top:.2em; margin-bottom:.2em;\"/>\n",
       "Double() Σ=22135.0 <em>(22138.0 with flow)</em>\n",
       "\n",
       "</div>\n",
       "</div>\n",
       "</html>"
      ],
      "text/plain": [
       "Hist(Regular(120, 0, 120, name='mass', label='mass'), storage=Double()) # Sum: 22135.0 (22138.0 with flow)"
      ]
     },
     "execution_count": 145,
     "metadata": {},
     "output_type": "execute_result"
    }
   ],
   "source": [
    "hist.Hist.new.Reg(120, 0, 120, name=\"mass\").Double().fill(\n",
    "    correct_pair[:, 0].mass\n",
    ")"
   ]
  },
  {
   "cell_type": "code",
   "execution_count": 146,
   "id": "6cac4c44-a0ff-41e4-be1c-f06487a2f413",
   "metadata": {},
   "outputs": [
    {
     "data": {
      "text/plain": [
       "<Array [[1, 0], [1, 0], ... [0, 1], [1, 0]] type='22138 * var * int64'>"
      ]
     },
     "execution_count": 146,
     "metadata": {},
     "output_type": "execute_result"
    }
   ],
   "source": [
    "sort_index = ak.argsort(correct_pair.mass)\n",
    "sort_index"
   ]
  },
  {
   "cell_type": "code",
   "execution_count": 147,
   "id": "203f65a1-a6ea-4b45-be91-e5e3270109d7",
   "metadata": {},
   "outputs": [
    {
     "data": {
      "text/plain": [
       "<MomentumArray4D [[{rho: 14.3, ... tau: 68.3}]] type='22138 * var * Momentum4D[\"...'>"
      ]
     },
     "execution_count": 147,
     "metadata": {},
     "output_type": "execute_result"
    }
   ],
   "source": [
    "sorted_pair = correct_pair[sort_index]\n",
    "sorted_pair"
   ]
  },
  {
   "cell_type": "code",
   "execution_count": 148,
   "id": "97e82e43-2d83-4f6a-a04a-2dc4d4b7b203",
   "metadata": {},
   "outputs": [
    {
     "data": {
      "text/html": [
       "<html>\n",
       "<div style=\"display:flex; align-items:center;\">\n",
       "<div style=\"width:290px;\">\n",
       "<svg xmlns=\"http://www.w3.org/2000/svg\" viewBox=\"-10 -105 270 120\">\n",
       "<line x1=\"-5\" y1=\"0\" x2=\"255\" y2=\"0\" style=\"fill:none;stroke-width:2;stroke:currentColor\"/>\n",
       "<text text-anchor=\"middle\" x=\"0\" y=\"15\" style=\"fill:currentColor;\">\n",
       "0\n",
       "</text>\n",
       "<text text-anchor=\"middle\" x=\"250\" y=\"15\" style=\"fill:currentColor;\">\n",
       "120\n",
       "</text>\n",
       "<text text-anchor=\"middle\" x=\"125.0\" y=\"15\" style=\"fill:currentColor;\">\n",
       "mass\n",
       "</text>\n",
       "<polyline points=\"  0,0   0,-4.59 2.08333,-4.59 2.08333,-7.72 4.16667,-7.72 4.16667,-12.5 6.25,-12.5 6.25,-12.6 8.33333,-12.6 8.33333,-17.9 10.4167,-17.9 10.4167,-25.2 12.5,-25.2 12.5,-29.9 14.5833,-29.9 14.5833,-25.5 16.6667,-25.5 16.6667,-28.1 18.75,-28.1 18.75,-36 20.8333,-36 20.8333,-41.9 22.9167,-41.9 22.9167,-41  25,-41  25,-46.9 27.0833,-46.9 27.0833,-50.1 29.1667,-50.1 29.1667,-51.3 31.25,-51.3 31.25,-55.5 33.3333,-55.5 33.3333,-60.1 35.4167,-60.1 35.4167,-58.5 37.5,-58.5 37.5,-64.4 39.5833,-64.4 39.5833,-68.4 41.6667,-68.4 41.6667,-71.7 43.75,-71.7 43.75,-76.6 45.8333,-76.6 45.8333,-79 47.9167,-79 47.9167,-87.7  50,-87.7  50,-86.9 52.0833,-86.9 52.0833,-89.4 54.1667,-89.4 54.1667,-92.6 56.25,-92.6 56.25,-95.1 58.3333,-95.1 58.3333,-92.7 60.4167,-92.7 60.4167,-100 62.5,-100 62.5,-87.3 64.5833,-87.3 64.5833,-80 66.6667,-80 66.6667,-67.3 68.75,-67.3 68.75,-50.5 70.8333,-50.5 70.8333,-38.4 72.9167,-38.4 72.9167,-34.8  75,-34.8  75,-28.5 77.0833,-28.5 77.0833,-25.9 79.1667,-25.9 79.1667,-23.4 81.25,-23.4 81.25,-21.4 83.3333,-21.4 83.3333,-22.4 85.4167,-22.4 85.4167,-20.6 87.5,-20.6 87.5,-17.7 89.5833,-17.7 89.5833,-19.8 91.6667,-19.8 91.6667,-17.4 93.75,-17.4 93.75,-14.1 95.8333,-14.1 95.8333,-13.7 97.9167,-13.7 97.9167,-14.1 100,-14.1 100,-14.6 102.083,-14.6 102.083,-11.5 104.167,-11.5 104.167,-12.2 106.25,-12.2 106.25,-8.34 108.333,-8.34 108.333,-10.1 110.417,-10.1 110.417,-10.2 112.5,-10.2 112.5,-7.61 114.583,-7.61 114.583,-5.94 116.667,-5.94 116.667,-4.59 118.75,-4.59 118.75,-5.32 120.833,-5.32 120.833,-3.55 122.917,-3.55 122.917,-2.4 125,-2.4 125,-2.4 127.083,-2.4 127.083,-0.521 129.167,-0.521 129.167,-0.209 131.25,-0.209 131.25,-0 133.333,-0 133.333,-0.104 135.417,-0.104 135.417,-0 137.5,-0 137.5,-0 139.583,-0 139.583,-0 141.667,-0 141.667,-0 143.75,-0 143.75,-0.104 145.833,-0.104 145.833,-0.209 147.917,-0.209 147.917,-0 150,-0 150,-0 152.083,-0 152.083,-0 154.167,-0 154.167,-0.104 156.25,-0.104 156.25,-0 158.333,-0 158.333,-0 160.417,-0 160.417,-0.104 162.5,-0.104 162.5,-0 164.583,-0 164.583,-0 166.667,-0 166.667,-0 168.75,-0 168.75,-0.104 170.833,-0.104 170.833,-0.209 172.917,-0.209 172.917,-0.104 175,-0.104 175,-0 177.083,-0 177.083,-0 179.167,-0 179.167,-0.104 181.25,-0.104 181.25,-0.104 183.333,-0.104 183.333,-0.209 185.417,-0.209 185.417,-0.104 187.5,-0.104 187.5,-0.104 189.583,-0.104 189.583,-0.104 191.667,-0.104 191.667,-0 193.75,-0 193.75,-0.104 195.833,-0.104 195.833,-0 197.917,-0 197.917,-0 200,-0 200,-0 202.083,-0 202.083,-0 204.167,-0 204.167,-0 206.25,-0 206.25,-0 208.333,-0 208.333,-0 210.417,-0 210.417,-0 212.5,-0 212.5,-0 214.583,-0 214.583,-0 216.667,-0 216.667,-0 218.75,-0 218.75,-0 220.833,-0 220.833,-0 222.917,-0 222.917,-0 225,-0 225,-0 227.083,-0 227.083,-0 229.167,-0 229.167,-0 231.25,-0 231.25,-0 233.333,-0 233.333,-0 235.417,-0 235.417,-0 237.5,-0 237.5,-0 239.583,-0 239.583,-0 241.667,-0 241.667,-0 243.75,-0 243.75,-0 245.833,-0 245.833,-0 247.917,-0 247.917,-0 250,-0 250,0\" style=\"fill:none; stroke:currentColor;\"/>\n",
       "</svg>\n",
       "</div>\n",
       "<div style=\"flex=grow:1;\">\n",
       "Regular(120, 0, 120, name='mass', label='mass')<br/>\n",
       "<hr style=\"margin-top:.2em; margin-bottom:.2em;\"/>\n",
       "Double() Σ=22137.0 <em>(22138.0 with flow)</em>\n",
       "\n",
       "</div>\n",
       "</div>\n",
       "</html>"
      ],
      "text/plain": [
       "Hist(Regular(120, 0, 120, name='mass', label='mass'), storage=Double()) # Sum: 22137.0 (22138.0 with flow)"
      ]
     },
     "execution_count": 148,
     "metadata": {},
     "output_type": "execute_result"
    }
   ],
   "source": [
    "hist.Hist.new.Reg(120, 0, 120, name=\"mass\").Double().fill(\n",
    "    sorted_pair[:, 0].mass\n",
    ")"
   ]
  },
  {
   "cell_type": "code",
   "execution_count": 149,
   "id": "82a5bb9e-642e-4baa-9a75-9629bd272838",
   "metadata": {},
   "outputs": [
    {
     "data": {
      "text/html": [
       "<html>\n",
       "<div style=\"display:flex; align-items:center;\">\n",
       "<div style=\"width:290px;\">\n",
       "<svg xmlns=\"http://www.w3.org/2000/svg\" viewBox=\"-10 -105 270 120\">\n",
       "<line x1=\"-5\" y1=\"0\" x2=\"255\" y2=\"0\" style=\"fill:none;stroke-width:2;stroke:currentColor\"/>\n",
       "<text text-anchor=\"middle\" x=\"0\" y=\"15\" style=\"fill:currentColor;\">\n",
       "0\n",
       "</text>\n",
       "<text text-anchor=\"middle\" x=\"250\" y=\"15\" style=\"fill:currentColor;\">\n",
       "150\n",
       "</text>\n",
       "<text text-anchor=\"middle\" x=\"125.0\" y=\"15\" style=\"fill:currentColor;\">\n",
       "mass\n",
       "</text>\n",
       "<polyline points=\"  0,0   0,-0 1.66667,-0 1.66667,-0 3.33333,-0 3.33333,-0.0192   5,-0.0192   5,-0.0384 6.66667,-0.0384 6.66667,-0.0192 8.33333,-0.0192 8.33333,-0.0192  10,-0.0192  10,-0.0192 11.6667,-0.0192 11.6667,-0 13.3333,-0 13.3333,-0.0192  15,-0.0192  15,-0 16.6667,-0 16.6667,-0.0192 18.3333,-0.0192 18.3333,-0.0192  20,-0.0192  20,-0.0192 21.6667,-0.0192 21.6667,-0.0192 23.3333,-0.0192 23.3333,-0.0192  25,-0.0192  25,-0 26.6667,-0 26.6667,-0.0192 28.3333,-0.0192 28.3333,-0.0192  30,-0.0192  30,-0.0192 31.6667,-0.0192 31.6667,-0.0959 33.3333,-0.0959 33.3333,-0  35,-0  35,-0.0576 36.6667,-0.0576 36.6667,-0.0959 38.3333,-0.0959 38.3333,-0.0767  40,-0.0767  40,-0.0192 41.6667,-0.0192 41.6667,-0.0576 43.3333,-0.0576 43.3333,-0.0767  45,-0.0767  45,-0.115 46.6667,-0.115 46.6667,-0.0576 48.3333,-0.0576 48.3333,-0.134  50,-0.134  50,-0.211 51.6667,-0.211 51.6667,-0.134 53.3333,-0.134 53.3333,-0.249  55,-0.249  55,-0.173 56.6667,-0.173 56.6667,-0.211 58.3333,-0.211 58.3333,-0.0576  60,-0.0576  60,-0.134 61.6667,-0.134 61.6667,-0.269 63.3333,-0.269 63.3333,-0.288  65,-0.288  65,-0.134 66.6667,-0.134 66.6667,-0.269 68.3333,-0.269 68.3333,-0.288  70,-0.288  70,-0.441 71.6667,-0.441 71.6667,-0.249 73.3333,-0.249 73.3333,-0.441  75,-0.441  75,-0.422 76.6667,-0.422 76.6667,-0.384 78.3333,-0.384 78.3333,-0.326  80,-0.326  80,-0.365 81.6667,-0.365 81.6667,-0.365 83.3333,-0.365 83.3333,-0.365  85,-0.365  85,-0.345 86.6667,-0.345 86.6667,-0.46 88.3333,-0.46 88.3333,-0.499  90,-0.499  90,-0.326 91.6667,-0.326 91.6667,-0.365 93.3333,-0.365 93.3333,-0.46  95,-0.46  95,-0.48 96.6667,-0.48 96.6667,-0.422 98.3333,-0.422 98.3333,-0.249 100,-0.249 100,-0.441 101.667,-0.441 101.667,-0.365 103.333,-0.365 103.333,-0.345 105,-0.345 105,-0.46 106.667,-0.46 106.667,-0.537 108.333,-0.537 108.333,-0.365 110,-0.365 110,-0.384 111.667,-0.384 111.667,-0.365 113.333,-0.365 113.333,-0.441 115,-0.441 115,-0.441 116.667,-0.441 116.667,-0.556 118.333,-0.556 118.333,-0.422 120,-0.422 120,-0.365 121.667,-0.365 121.667,-0.48 123.333,-0.48 123.333,-0.384 125,-0.384 125,-0.595 126.667,-0.595 126.667,-0.499 128.333,-0.499 128.333,-0.422 130,-0.422 130,-0.403 131.667,-0.403 131.667,-0.614 133.333,-0.614 133.333,-0.576 135,-0.576 135,-0.269 136.667,-0.269 136.667,-0.422 138.333,-0.422 138.333,-0.499 140,-0.499 140,-0.537 141.667,-0.537 141.667,-0.499 143.333,-0.499 143.333,-0.46 145,-0.46 145,-0.556 146.667,-0.556 146.667,-0.537 148.333,-0.537 148.333,-0.518 150,-0.518 150,-0.556 151.667,-0.556 151.667,-0.595 153.333,-0.595 153.333,-0.633 155,-0.633 155,-0.672 156.667,-0.672 156.667,-0.691 158.333,-0.691 158.333,-0.537 160,-0.537 160,-0.556 161.667,-0.556 161.667,-0.71 163.333,-0.71 163.333,-0.863 165,-0.863 165,-0.883 166.667,-0.883 166.667,-0.921 168.333,-0.921 168.333,-1.04 170,-1.04 170,-1.07 171.667,-1.07 171.667,-1.4 173.333,-1.4 173.333,-1.3 175,-1.3 175,-1.57 176.667,-1.57 176.667,-1.52 178.333,-1.52 178.333,-1.23 180,-1.23 180,-1.88 181.667,-1.88 181.667,-1.34 183.333,-1.34 183.333,-1.94 185,-1.94 185,-2.07 186.667,-2.07 186.667,-1.98 188.333,-1.98 188.333,-2.26 190,-2.26 190,-2.92 191.667,-2.92 191.667,-3.01 193.333,-3.01 193.333,-3.3 195,-3.3 195,-3.99 196.667,-3.99 196.667,-5.03 198.333,-5.03 198.333,-5.93 200,-5.93 200,-8.1 201.667,-8.1 201.667,-13.4 203.333,-13.4 203.333,-25.2 205,-25.2 205,-58.2 206.667,-58.2 206.667,-100 208.333,-100 208.333,-88.3 210,-88.3 210,-35.9 211.667,-35.9 211.667,-10.3 213.333,-10.3 213.333,-2.82 215,-2.82 215,-1.21 216.667,-1.21 216.667,-0.46 218.333,-0.46 218.333,-0.499 220,-0.499 220,-0.345 221.667,-0.345 221.667,-0.307 223.333,-0.307 223.333,-0.249 225,-0.249 225,-0.192 226.667,-0.192 226.667,-0.23 228.333,-0.23 228.333,-0.134 230,-0.134 230,-0.134 231.667,-0.134 231.667,-0.0384 233.333,-0.0384 233.333,-0.153 235,-0.153 235,-0.153 236.667,-0.153 236.667,-0.0767 238.333,-0.0767 238.333,-0.0576 240,-0.0576 240,-0.0384 241.667,-0.0384 241.667,-0.0959 243.333,-0.0959 243.333,-0.0959 245,-0.0959 245,-0.0192 246.667,-0.0192 246.667,-0.0384 248.333,-0.0384 248.333,-0.0384 250,-0.0384 250,0\" style=\"fill:none; stroke:currentColor;\"/>\n",
       "</svg>\n",
       "</div>\n",
       "<div style=\"flex=grow:1;\">\n",
       "Regular(150, 0, 150, name='mass', label='mass')<br/>\n",
       "<hr style=\"margin-top:.2em; margin-bottom:.2em;\"/>\n",
       "Double() Σ=22064.0 <em>(22138.0 with flow)</em>\n",
       "\n",
       "</div>\n",
       "</div>\n",
       "</html>"
      ],
      "text/plain": [
       "Hist(Regular(150, 0, 150, name='mass', label='mass'), storage=Double()) # Sum: 22064.0 (22138.0 with flow)"
      ]
     },
     "execution_count": 149,
     "metadata": {},
     "output_type": "execute_result"
    }
   ],
   "source": [
    "hist.Hist.new.Reg(150, 0, 150, name=\"mass\").Double().fill(\n",
    "    (sorted_pair[:, 0] + sorted_pair[:, 1]).mass\n",
    ")"
   ]
  }
 ],
 "metadata": {
  "kernelspec": {
   "display_name": "Python 3",
   "language": "python",
   "name": "python3"
  },
  "language_info": {
   "codemirror_mode": {
    "name": "ipython",
    "version": 3
   },
   "file_extension": ".py",
   "mimetype": "text/x-python",
   "name": "python",
   "nbconvert_exporter": "python",
   "pygments_lexer": "ipython3",
   "version": "3.8.10"
  }
 },
 "nbformat": 4,
 "nbformat_minor": 5
}
